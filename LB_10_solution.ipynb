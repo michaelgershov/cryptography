{
 "cells": [
  {
   "cell_type": "markdown",
   "id": "e4b7f733",
   "metadata": {
    "slideshow": {
     "slide_type": "slide"
    }
   },
   "source": [
    "<H6 align=\"center\">Белорусский государственный университет </H6>\n",
    "<H6 align=\"center\">Механико-математический факультет </H6>\n",
    "<H6 align=\"center\">Кафедра дифференциальных уравнений  и системного анализа </H6>\n",
    "\n",
    "<H2 align=\"center\">  Математические основы защиты информации</H2>\n",
    "\n",
    "\n",
    "<H1 align=\"center\"> Лекция 12.  Эллиптические кривые</H1>\n",
    "\n",
    "$ $\n",
    "\n",
    "<H4 align=\"center\">Чергинец Дмитрий Николаевич </H4>\n"
   ]
  },
  {
   "cell_type": "markdown",
   "id": "308a52e5",
   "metadata": {
    "slideshow": {
     "slide_type": "slide"
    }
   },
   "source": [
    "# 1. Эллиптические кривые\n",
    "- Первая классификация плоских алгебраических кривых третьего порядка  дана Ньютоном в 1704 году. \n",
    "\n",
    "-  Одним из представителей данных кривых является эллиптическая кривая\n",
    "$$\n",
    "y^2+a_1xy+a_3y=x^3+a_2x^2+a_4x+a_6.\n",
    "$$\n",
    "  \n",
    "- Если характеристика поля $\\;F\\;$ не равна 2 или 3, то  уравнение эллиптической кривой с помощью замены приводится к канонической форме Вейерштрасса\n",
    "$$\n",
    "y^2=x^3+ax+b.\\qquad(1)\n",
    "$$\n",
    "\n",
    "- Мы будем рассматривать эллиптические кривые над полями: \n",
    "$$\\mathbb{R}, \\qquad  \\mathbb{Z}_p, \n",
    "$$\n",
    "$p>3,\\; p - \\text{простое.}$"
   ]
  },
  {
   "cell_type": "markdown",
   "id": "5efb0f29",
   "metadata": {
    "slideshow": {
     "slide_type": "subslide"
    }
   },
   "source": [
    "## Определение эллиптической кривой\n",
    "- \tПусть $\\;a,b\\in F.$ \n",
    "\n",
    "-  Эллиптической кривой $\\;\\mathcal{E}_{a,b}(F)\\;$ над полем $\\;F\\;$  называется множество точек $\\;(x,y)\\in F^2,\\;$ удовлетворяющих равенству\n",
    "\t$$\n",
    "\ty^2=x^3+ax+b.\n",
    "\t$$\n",
    "\t\n",
    "- Также к эллиптической кривой добавляют бесконечно удаленную точку $\\;O.$\n",
    "\n",
    "- Будем считать, что бесконечно удаленная точка принадлежит всем вертикальным прямым и не принадлежит невертикальным."
   ]
  },
  {
   "cell_type": "markdown",
   "id": "18111f40",
   "metadata": {
    "slideshow": {
     "slide_type": "subslide"
    }
   },
   "source": [
    "## Теорема о неявной функции\n",
    "Сначала для наглядности будем рассматривать эллиптические кривые над полем действительных чисел\n",
    "$\\;F=\\mathbb{R}.$\n",
    "\n",
    "Пусть \n",
    "$$\n",
    "\\Phi(x,y):=x^3+ax+b-y^2,\\qquad \\Phi(x_0,y_0)=0.\n",
    "$$\n",
    "Как узнать, что в окрестности точки $\\;(x_0,y_0)\\;$ эллиптическая кривая ведет себя как гладкая кривая $\\;y=y(x)?$ \n",
    "\n",
    "**Теорема о неявной функции.**  \n",
    "Если\n",
    "$$\n",
    "\\left\\{\\begin{array}{l}\n",
    "\t\\Phi(x_0,y_0)=0;\\\\\n",
    "\t\\frac{\\partial\\Phi}{\\partial y}(x_0,y_0)\\neq 0;\\\\\n",
    "\\end{array}\n",
    "\t\\right.\t\n",
    "$$\n",
    "\n",
    "Тогда в окрестности точки $(x_0,y_0)$ множество точек, удовлетворяющих уравнению $\\;\\Phi(x,y)=0,\\;$ является гладкой кривой $y=y(x).$\n"
   ]
  },
  {
   "cell_type": "markdown",
   "id": "c3c8da63",
   "metadata": {
    "slideshow": {
     "slide_type": "subslide"
    }
   },
   "source": [
    "## Дискриминант эллиптической кривой\n",
    "\n",
    "\n",
    "Найдем точки эллиптической кривой, в  которых не выполняются условия теоремы о неявной функции, \n",
    "$$\n",
    "\\left\\{\\begin{array}{l}\n",
    "\t\\Phi(x,y)=0;\\\\\n",
    "\t\\frac{\\partial\\Phi}{\\partial x}(x,y)=0;\\\\\n",
    "\t\\frac{\\partial\\Phi}{\\partial y}(x,y)=0;\n",
    "\t\t\\end{array}\n",
    "\t\\right.\\qquad\n",
    "\t\\;\\;\\Leftrightarrow\\qquad\n",
    "\t\\left\\{\\begin{array}{l}\n",
    "x^3+ax+b-y^2=0;\\\\\n",
    "3x^2+a=0;\\\\\n",
    "2y=0;\n",
    "\\end{array}\n",
    "\\right.\\Leftrightarrow\n",
    "\t$$\n",
    "\n",
    "$$\n",
    "\t\\left\\{\\begin{array}{l}\n",
    "y=0;\\\\\n",
    "x=\\pm\\sqrt\\frac{-a}{3};\\\\\n",
    "b=\\mp \\frac{2a}{3}\\sqrt{\\frac{-a}{3}}.\n",
    "\\end{array}\n",
    "\\right.\\quad\n",
    "\\Leftrightarrow\\quad \n",
    "\\left[\\begin{array}{lll}\n",
    "\t(x,y)=(\\sqrt\\frac{-a}{3},0),& \\text{при}&\n",
    "\tb=-\\frac{2a}{3}\\sqrt{\\frac{-a}{3}};\\\\\n",
    "\t(x,y)=(-\\sqrt\\frac{-a}{3},0),&\\text{при}&\tb=\\frac{2a}{3}\\sqrt{\\frac{-a}{3}}.\n",
    "\\end{array}\\right.\n",
    "$$\n",
    "\n",
    "$$\n",
    "\tb=\\pm\\frac{2a}{3}\\sqrt{\\frac{-a}{3}}\\qquad\\Leftrightarrow\\qquad\tb^2=-\\frac{4a^3}{27}.\n",
    "\t$$\n",
    "\t\n",
    "<font color=\"blue\">Дискриминантом эллиптической кривой</font> $\\;\\mathcal{E}_{a,b}(F)\\;$ называется величина\n",
    "$$\n",
    "  D := 27b^2+4a^3.\n",
    "  $$"
   ]
  },
  {
   "cell_type": "markdown",
   "id": "f80d30f1",
   "metadata": {},
   "source": [
    "То есть если дискриминант эллиптической кривой $<= 0$, то она в некоторых точках не будет гладкой. "
   ]
  },
  {
   "cell_type": "markdown",
   "id": "dcd5e8e2",
   "metadata": {
    "slideshow": {
     "slide_type": "subslide"
    }
   },
   "source": [
    "## Кратные корни многочлена\n",
    "Многочлен \n",
    " $$f(x):=x^3+ax+b$$\n",
    "имеет кратные корни, если\n",
    "$$\n",
    "\\left\\{\\begin{array}{l}\n",
    "f(x)=0;\\\\\n",
    "\\frac{\\partial f}{\\partial x}(x)=0;\n",
    "\\end{array}\n",
    "\\right.\n",
    "\\;\\;\\Leftrightarrow\\;\n",
    "\\left\\{\\begin{array}{l}\n",
    "x^3+ax+b=0;\\\\\n",
    "3x^2+a=0;\n",
    "\\end{array}\n",
    "\\right.\\Leftrightarrow\n",
    "$$\t\n",
    "\n",
    "\n",
    "\n",
    "\n",
    "$$\n",
    "\\Leftrightarrow \n",
    "\\left[\\begin{array}{lll}\n",
    "(x,y)=(\\sqrt\\frac{-a}{3},0),& \\text{при}&\n",
    "b=-\\frac{2a}{3}\\sqrt{\\frac{-a}{3}};\\\\\n",
    "(x,y)=(-\\sqrt\\frac{-a}{3},0),&\\text{при}&\tb=\\frac{2a}{3}\\sqrt{\\frac{-a}{3}}.\n",
    "\\end{array}\\right.\n",
    "$$"
   ]
  },
  {
   "cell_type": "markdown",
   "id": "e91a12d5",
   "metadata": {},
   "source": [
    "То есть, если хотя бы одно из условий не выполняется, то многочлен не имеет кратных корней, а значит, что и кривая не будет иметь точек, где производная отсутствует."
   ]
  },
  {
   "cell_type": "markdown",
   "id": "630f65f6",
   "metadata": {
    "slideshow": {
     "slide_type": "subslide"
    }
   },
   "source": [
    "## График эллиптической кривой\n",
    "Построим график эллиптической кривой над полем $\\;\\mathbb{R}\\;$ для различных значений дискриминанта"
   ]
  },
  {
   "cell_type": "code",
   "execution_count": 1,
   "id": "a10d9b3c",
   "metadata": {
    "slideshow": {
     "slide_type": "-"
    }
   },
   "outputs": [
    {
     "ename": "NameError",
     "evalue": "name 'Plot' is not defined",
     "output_type": "error",
     "traceback": [
      "\u001b[1;31m---------------------------------------------------------------------------\u001b[0m",
      "\u001b[1;31mNameError\u001b[0m                                 Traceback (most recent call last)",
      "\u001b[1;32m~\\AppData\\Local\\Temp/ipykernel_26708/4164045339.py\u001b[0m in \u001b[0;36m<module>\u001b[1;34m\u001b[0m\n\u001b[1;32m----> 1\u001b[1;33m \u001b[0mPlot\u001b[0m\u001b[1;33m(\u001b[0m\u001b[1;33m)\u001b[0m\u001b[1;33m\u001b[0m\u001b[1;33m\u001b[0m\u001b[0m\n\u001b[0m",
      "\u001b[1;31mNameError\u001b[0m: name 'Plot' is not defined"
     ]
    }
   ],
   "source": [
    "Plot()"
   ]
  },
  {
   "cell_type": "markdown",
   "id": "18efda10",
   "metadata": {
    "slideshow": {
     "slide_type": "skip"
    }
   },
   "source": [
    "## <font color='red'>Задание 1.</font>\n",
    "Изобразить эллиптические кривые:\n",
    "- с $\\;D>0$;  \n",
    "\n",
    "- с $\\;D<0$;\n",
    "\n",
    "- с самопересечением;\n",
    "\n",
    "- с каспом.  "
   ]
  },
  {
   "cell_type": "code",
   "execution_count": 2,
   "id": "72c62b7f",
   "metadata": {},
   "outputs": [],
   "source": [
    "from matplotlib import pyplot as plt\n",
    "import numpy as np\n",
    "import math\n",
    "\n",
    "%matplotlib inline"
   ]
  },
  {
   "cell_type": "code",
   "execution_count": 3,
   "id": "e1e5f5ee",
   "metadata": {},
   "outputs": [
    {
     "data": {
      "image/png": "[encoded data removed]",
      "text/plain": [
       "<Figure size 432x288 with 1 Axes>"
      ]
     },
     "metadata": {
      "needs_background": "light"
     },
     "output_type": "display_data"
    }
   ],
   "source": [
    "a = -1\n",
    "b = 1\n",
    "\n",
    "x = np.array([])\n",
    "y = np.array([])\n",
    "\n",
    "for elem in np.arange(-3, 5, 0.001):\n",
    "    value = pow(elem, 3) + a*elem + b\n",
    "    if -1.0e-2 < value < 0:\n",
    "        x = np.append(x, elem)\n",
    "        y = np.append(y, 0)\n",
    "    if value > 0:\n",
    "        x = np.append(x, elem)\n",
    "        y = np.append(y, math.sqrt(value))\n",
    "\n",
    "plt.plot(x, y, 'r', x, -y, 'r')\n",
    "plt.title(f'D = {27*b*b + 4*a**3}', fontsize=20)\n",
    "plt.text(-2.5, 2.5, f'a = {a}\\nb = {b}', fontsize=20)\n",
    "plt.xlim([-3,5]);\n",
    "plt.ylim([-5,5]);"
   ]
  },
  {
   "cell_type": "code",
   "execution_count": 4,
   "id": "8e7aba99",
   "metadata": {},
   "outputs": [
    {
     "data": {
      "image/png": "[encoded data removed]",
      "text/plain": [
       "<Figure size 432x288 with 1 Axes>"
      ]
     },
     "metadata": {
      "needs_background": "light"
     },
     "output_type": "display_data"
    }
   ],
   "source": [
    "a = -2\n",
    "b = 1\n",
    "\n",
    "x = np.array([])\n",
    "y = np.array([])\n",
    "\n",
    "x1 = np.array([])\n",
    "y1 = np.array([])\n",
    "\n",
    "for elem in np.arange(-3, 1, 0.001):\n",
    "    value = pow(elem, 3) + a*elem + b\n",
    "    if value > 0:\n",
    "        x = np.append(x, elem)\n",
    "        y = np.append(y, math.sqrt(value))\n",
    "        \n",
    "for elem in np.arange(1, 5, 0.001):\n",
    "    value = pow(elem, 3) + a*elem + b\n",
    "    if value > 0:\n",
    "        x1 = np.append(x1, elem)\n",
    "        y1 = np.append(y1, math.sqrt(value))\n",
    "    \n",
    "plt.plot(x, y,'r',x,-y,'r', x1, y1, 'r', x1, -y1, 'r')\n",
    "plt.title(f'D = {27*b*b + 4*a**3}', fontsize=20)\n",
    "plt.text(-2.5, 2.5, f'a = {a}\\nb = {b}', fontsize=20)\n",
    "plt.xlim([-3,5]);\n",
    "plt.ylim([-5,5]);"
   ]
  },
  {
   "cell_type": "code",
   "execution_count": 5,
   "id": "0bc39769",
   "metadata": {},
   "outputs": [
    {
     "data": {
      "image/png": "[encoded data removed]",
      "text/plain": [
       "<Figure size 432x288 with 1 Axes>"
      ]
     },
     "metadata": {
      "needs_background": "light"
     },
     "output_type": "display_data"
    }
   ],
   "source": [
    "a = -3\n",
    "b = 2\n",
    "\n",
    "x = np.array([])\n",
    "y = np.array([])\n",
    "\n",
    "for elem in np.arange(-3, 5, 0.001):\n",
    "    value = pow(elem, 3) + a*elem + b\n",
    "    if -1.0e-2 < value < 0:\n",
    "        x = np.append(x, elem)\n",
    "        y = np.append(y, 0)\n",
    "    if value > 0:\n",
    "        x = np.append(x, elem)\n",
    "        y = np.append(y, math.sqrt(value))\n",
    "\n",
    "plt.plot(x, y,'r', x, -y, 'r')\n",
    "plt.title(f'D = {27*b*b + 4*a**3}', fontsize=20)\n",
    "plt.text(-2.5, 2.5, f'a = {a}\\nb = {b}', fontsize=20)\n",
    "plt.xlim([-3,5]);\n",
    "plt.ylim([-5,5]);"
   ]
  },
  {
   "cell_type": "code",
   "execution_count": 6,
   "id": "81378ec6",
   "metadata": {},
   "outputs": [
    {
     "data": {
      "image/png": "[encoded data removed]",
      "text/plain": [
       "<Figure size 432x288 with 1 Axes>"
      ]
     },
     "metadata": {
      "needs_background": "light"
     },
     "output_type": "display_data"
    }
   ],
   "source": [
    "a = 0\n",
    "b = 0\n",
    "\n",
    "x = np.array([])\n",
    "y = np.array([])\n",
    "\n",
    "for elem in np.arange(-3, 5, 0.001):\n",
    "    value = pow(elem, 3) + a*elem + b\n",
    "    if value > 0:\n",
    "        x = np.append(x, elem)\n",
    "        y = np.append(y, math.sqrt(value))\n",
    "\n",
    "plt.plot(x, y,'r', x, -y, 'r')\n",
    "plt.title(f'D = {27*b*b + 4*a**3}', fontsize=20)\n",
    "plt.text(-2.5, 2.5, f'a = {a}\\nb = {b}', fontsize=20)\n",
    "plt.xlim([-3,5]);\n",
    "plt.ylim([-5,5]);"
   ]
  },
  {
   "cell_type": "markdown",
   "id": "0f73de7a",
   "metadata": {
    "slideshow": {
     "slide_type": "slide"
    }
   },
   "source": [
    "# 2. Взаимное расположение  прямой с эллиптической кривой\n",
    "\n",
    "\n",
    "Пусть $\\;F=\\mathbb{R}.\\;$ Докажем следующие теоремы.\n",
    "\n",
    "**Теорема 1.**   \n",
    "Любая прямая, пересекающая эллиптическую кривую $\\;\\mathcal{E}\\;$ в двух точках,\n",
    "\tпересекает $\\;\\mathcal{E}\\;$ в третьей точке с учетом кратности точек. \t\n",
    "\n",
    "**Теорема 2.**  \n",
    "При $\\;D\\neq0\\;$ для каждой точки $\\;P\\in\\mathcal{E}\\;$ существует касательная. \n",
    "\n",
    "**Следствие.**  \n",
    "Таким образом, при $\\;D\\neq0\\;$ любые две точки $\\;P,Q\\in\\mathcal{E}\\;$ задают единственную прямую $\\;\\mathcal{L},\\;$ проходящую через данные точки, и данная прямая пересекает кривую $\\;\\mathcal{E}\\;$ в третьей точке $\\;R.$"
   ]
  },
  {
   "cell_type": "markdown",
   "id": "d74bee33",
   "metadata": {
    "slideshow": {
     "slide_type": "subslide"
    }
   },
   "source": [
    "### Взаимное расположение вертикальной прямой и эллиптической кривой\n",
    "Узнаем, сколько общих точек имеет вертикальная прямая \n",
    "$$\n",
    "  \\mathcal{L}:\\; x = x_0\n",
    "$$\n",
    "и эллиптическая кривая\n",
    "$$\n",
    "  \\mathcal{E}:\\; y^2 = x^3+ax+b.\n",
    "$$\n",
    "Для этого необходимо решить систему над полем $\\;F$\n",
    "$$\n",
    "  \\left\\{\\begin{array}{l}\n",
    "  x = x_0,\\\\\n",
    "  y^2 = x^3+ax+b.\n",
    "  \\end{array}\\right.\\qquad\\Rightarrow\\qquad\n",
    "  \\left\\{\\begin{array}{l}\n",
    "  x = x_0,\\\\\n",
    "  y^2 = x_0^3+ax_0+b.\n",
    "  \\end{array}\\right.\n",
    "$$"
   ]
  },
  {
   "cell_type": "markdown",
   "id": "90b3470e",
   "metadata": {
    "slideshow": {
     "slide_type": "subslide"
    }
   },
   "source": [
    "Задача свелась к решению квадратного уравнения\n",
    "$$\n",
    "  \\;y^2 = x_0^3+ax_0+b.\n",
    "$$  \n",
    "Данное уравнение может иметь:  \n",
    "- 2 корня: $\\;\\;\\pm y_0;$\n",
    "\n",
    "- 1 корень кратности 2:  $\\;\\;y_0=-y_0=0;$\n",
    "\n",
    "- 0 корней.\n",
    "\n",
    "Не забываем, что на эллиптической кривой есть бесконечно удаленная точка, которая принадлежит всем вертикальным прямым, поэтому  \n",
    "\n",
    "**Теорема 3.**  \n",
    "Вертикальная прямая и эллиптическая кривая могут иметь 1 или 3 общих точки с учетом кратности точек."
   ]
  },
  {
   "cell_type": "markdown",
   "id": "e7e1a364",
   "metadata": {
    "slideshow": {
     "slide_type": "subslide"
    }
   },
   "source": [
    "## График вертикальной прямой и эллиптической кривой\n",
    "Вертикальная прямая пересекает эллиптическую кривую в одной точке или в трёх."
   ]
  },
  {
   "cell_type": "code",
   "execution_count": 4,
   "id": "ce1a02f2",
   "metadata": {
    "slideshow": {
     "slide_type": "-"
    }
   },
   "outputs": [
    {
     "data": {
      "image/png": "[encoded data removed]",
      "text/plain": [
       "<Figure size 936x288 with 3 Axes>"
      ]
     },
     "metadata": {
      "needs_background": "light"
     },
     "output_type": "display_data"
    }
   ],
   "source": [
    "Plot()"
   ]
  },
  {
   "cell_type": "markdown",
   "id": "96845091",
   "metadata": {
    "slideshow": {
     "slide_type": "subslide"
    }
   },
   "source": [
    "## Пересечение в особой точке эллиптической кривой"
   ]
  },
  {
   "cell_type": "code",
   "execution_count": 6,
   "id": "b7f9d34a",
   "metadata": {
    "slideshow": {
     "slide_type": "-"
    }
   },
   "outputs": [
    {
     "data": {
      "image/png": "[encoded data removed]",
      "text/plain": [
       "<Figure size 864x360 with 2 Axes>"
      ]
     },
     "metadata": {
      "needs_background": "light"
     },
     "output_type": "display_data"
    }
   ],
   "source": [
    "Plot()"
   ]
  },
  {
   "cell_type": "markdown",
   "id": "f46e5373",
   "metadata": {
    "slideshow": {
     "slide_type": "subslide"
    }
   },
   "source": [
    "## Пересечение эллиптической кривой с невертикальной прямой\n",
    "\n",
    "Найдем, сколько общих точек имеет невертикальная прямая \n",
    "$$\n",
    "  \\mathcal{L}:\\; y = k(x-x_1)+y_1\n",
    "$$\n",
    "и эллиптическая кривая\n",
    "$$\n",
    "  \\mathcal{E}:\\; y^2 = x^3+ax+b.\n",
    "$$\n",
    "Для этого необходимо решить систему над полем $\\;F$\n",
    "$$\n",
    "  \\left\\{\\begin{array}{l}\n",
    "  y = k(x-x_1)+y_1,\\\\\n",
    "  y^2 = x^3+ax+b.\n",
    "  \\end{array}\\right.\\qquad\\Rightarrow\\qquad\n",
    "  \\left\\{\\begin{array}{l}\n",
    "  y = k(x-x_1)+y_1,\\\\\n",
    "  x^3+ax+b-(k(x-x_1)+y_1)^2=0.\n",
    "  \\end{array}\\right.\n",
    "$$\n",
    "Задача свелась к решению кубического уравнения\n",
    "$$\n",
    "   x^3+ax+b-(k(x-x_1)+y_1)^2=0.\n",
    "$$   "
   ]
  },
  {
   "cell_type": "markdown",
   "id": "c8f327ba",
   "metadata": {
    "slideshow": {
     "slide_type": "subslide"
    }
   },
   "source": [
    "## Пусть $\\;\\mathcal{L}\\;$ и $\\;\\mathcal{E}\\;$ имеют хотя бы 2 общих точки\n",
    "\n",
    "Предположим, что прямая $\\;\\mathcal{L}\\;$ и кривая $\\;\\mathcal{E}\\;$ имеют хотя бы 2 общих точки\n",
    "$$\n",
    "  P=(x_1,y_1),\\qquad Q=(x_2,y_2).\n",
    "$$\n",
    "Это эквивалентно тому, что кубическое уравнение \n",
    "$$\n",
    "x^3+ax+b-(\\lambda(x-x_1)+y_1)^2=0\n",
    "$$\n",
    "имеет 2 корня $\\;x_1,x_2\\in F.$ \n",
    "\t\n",
    "Поэтому существует и третий корень $\\;x_3\\in F,\\;$ причем\n",
    "$$\n",
    "  x^3+ax+b-(k(x-x_1)+y_1)^2=(x-x_1)(x-x_2)(x-x_3).\n",
    "$$"
   ]
  },
  {
   "cell_type": "markdown",
   "id": "662e488e",
   "metadata": {
    "slideshow": {
     "slide_type": "subslide"
    }
   },
   "source": [
    "## Формулы для $\\;x_3\\;$ и $\\;k$\n",
    "Уравнение $\\qquad\n",
    " x^3+ax+b-(k(x-x_1)+y_1)^2=(x-x_1)(x-x_2)(x-x_3)=0\n",
    "$  \n",
    "эквивалентно системе\n",
    "$$\n",
    "\\left\\{\n",
    "\\begin{array}{ll}\n",
    "x_1 + x_2 + x_3 - k^2=0; &  (a) \\\\\n",
    "a - x_1 x_2 - x_1 x_3 - x_2 x_3 - 2 y_1 k + 2 x_1 k^2=0; & (b) \\\\\n",
    "b + x_1 x_2 x_3 - y_1^2 + 2 x_1 y_1 k - x_1^2 k^2=0; & (c)\n",
    "\\end{array}\n",
    "\\right.\n",
    "$$\n",
    "\n",
    "Из уравнения $\\;(a)\\;$ системы получаем формулу $\\;x_3 := k^2-x_1 - x_2.$  \n",
    "\n",
    "**Случай $\\;x_1=x_2.$**  \n",
    "При $\\;x_1=x_2\\;$ уравнения $\\;(b),\\;$ $\\;(c)\\;$ примут вид:\n",
    "$$\n",
    "  \\left\\{\n",
    "  \\begin{array}{ll}\n",
    "     a + 3 x_1^2 - 2 y_1 k=0; \\\\\n",
    "  b - 2 x_1^3 - y_1^2 + 2 x_1 y_1 k=0.\n",
    "  \\end{array}\n",
    "  \\right.\n",
    "$$  \n",
    "При $\\;y_1=0\\;$ получим $\\;x_1=\\pm\\sqrt\\frac{-a}{3}=\\sqrt[3]{\\frac{b}2},\\;$ то есть $\\;D=0\\;$ и $\\;k\\;$ найти не удалось. \n",
    "\n",
    "При $\\;y_1\\neq\\;0$ получаем $k:=\\frac{3x_1^2+a}{2y_1}.$\n"
   ]
  },
  {
   "cell_type": "markdown",
   "id": "ba686982",
   "metadata": {
    "slideshow": {
     "slide_type": "subslide"
    }
   },
   "source": [
    "## Касательная\n",
    "Случай $\\;x_1=x_2\\;$ означает, что прямая $\\;\\mathcal{L}\\;$ является касательной к  $\\;\\mathcal{E}\\;$ в точке $\\;(x_1,y_1)\\;$ или проходит через особую точку эллиптической кривой при $\\;D=0.$\t\n",
    "\n",
    "Уравнение касательной имеет вид\n",
    "$$\n",
    "  y=y'(x_1)(x-x_1)+y_1,\n",
    "$$ \n",
    "То есть $\\;k=y'(x_1).$ \n",
    "\n",
    "При $\\;y_1\\neq 0\\;$ находим\n",
    "$$\n",
    "  2yy'=3x^2+a;\n",
    "$$\n",
    "$$\n",
    "  k = y'(x_1)=   \\frac{3x_1^2+a}{2y_1}.\n",
    "$$"
   ]
  },
  {
   "cell_type": "markdown",
   "id": "44e68edf",
   "metadata": {
    "slideshow": {
     "slide_type": "subslide"
    }
   },
   "source": [
    "##  Координаты третьей точки\n",
    "При наличии двух общих точек $\\;P=(x_1,y_1),\\;$ $\\;Q=(x_2,y_2),\\;$ у невертикальной прямой $\\;\\mathcal{L}\\;$ и $\\;\\mathcal{E}\\;$ данные кривые имеют и третью общую точку \n",
    "$\\;R=(x_3,y_3),\\;$ координаты которой находятся по формулам \n",
    "$$\n",
    "\tx_3 := k^2-x_1 - x_2,\\qquad y_3:=k(x_3-x_1)+y_1.\n",
    "$$ "
   ]
  },
  {
   "cell_type": "code",
   "execution_count": 8,
   "id": "94e071fd",
   "metadata": {
    "slideshow": {
     "slide_type": "-"
    }
   },
   "outputs": [
    {
     "data": {
      "image/png": "[encoded data removed]",
      "text/plain": [
       "<Figure size 864x360 with 2 Axes>"
      ]
     },
     "metadata": {
      "needs_background": "light"
     },
     "output_type": "display_data"
    }
   ],
   "source": [
    "Plot()"
   ]
  },
  {
   "cell_type": "markdown",
   "id": "250068e0",
   "metadata": {
    "slideshow": {
     "slide_type": "subslide"
    }
   },
   "source": [
    "##  Особая точка\n",
    "\n",
    "\n",
    "В случае $\\;D=0,\\qquad P=Q=(x,0)$\n",
    "\n",
    "параметр  $\\;k\\;$ можно выбирать произвольным, поэтому третья точка $\\;R=(x_3,y_3)\\;$ не задается однозначно при помощи точек $\\;P,\\;$ $\\;Q.$\n",
    "\t\n"
   ]
  },
  {
   "cell_type": "code",
   "execution_count": 10,
   "id": "88723147",
   "metadata": {},
   "outputs": [
    {
     "data": {
      "image/png": "[encoded data removed]",
      "text/plain": [
       "<Figure size 864x360 with 2 Axes>"
      ]
     },
     "metadata": {
      "needs_background": "light"
     },
     "output_type": "display_data"
    }
   ],
   "source": [
    "Plot()"
   ]
  },
  {
   "cell_type": "markdown",
   "id": "222fd31a",
   "metadata": {
    "slideshow": {
     "slide_type": "slide"
    }
   },
   "source": [
    "# 3. Группа точек эллиптической кривой\n",
    "На множестве точек зададим операцию сложения и покажем, что $\\;(\\mathcal{E},+)\\;$ является группой.\n",
    "\n",
    "**Вычисление противоположного элемента.**  \n",
    "Операцию вычисления противоположного элемента \n",
    "$$\n",
    "-:\\mathcal{E}\\rightarrow\\mathcal{E}\n",
    "$$\n",
    "определим следующими правилами: \n",
    "\t \n",
    " если $\\;P=O,\\;$    то $\\;-O:=O,$ \n",
    "\t \n",
    " $\\qquad$ иначе $\\;-(x,y):=(x,-y).$\n",
    " \n",
    " Таким образом, бесконечно удаленная точка $\\;O\\;$ будет нейтральным элементом относительно операции сложения."
   ]
  },
  {
   "cell_type": "code",
   "execution_count": 12,
   "id": "864e26ca",
   "metadata": {
    "slideshow": {
     "slide_type": "subslide"
    }
   },
   "outputs": [
    {
     "data": {
      "image/png": "[encoded data removed]",
      "text/plain": [
       "<Figure size 576x288 with 1 Axes>"
      ]
     },
     "metadata": {
      "needs_background": "light"
     },
     "output_type": "display_data"
    }
   ],
   "source": [
    "Plot()"
   ]
  },
  {
   "cell_type": "markdown",
   "id": "434f1c9f",
   "metadata": {
    "slideshow": {
     "slide_type": "subslide"
    }
   },
   "source": [
    "##  Сложение точек\n",
    "Определим операцию сложения \n",
    "$$\n",
    "+:\\mathcal{E}^2\\rightarrow\\mathcal{E}.$$ \n",
    "\n",
    "\n",
    " Пусть $\\;P,Q\\in\\mathcal E,\\;$ тогда\n",
    "$$\n",
    "P+Q:=-R,\n",
    "$$\n",
    "где $\\;R\\;$ &ndash; точка пересечения кривой $\\;\\mathcal E\\;$ с прямой, проходящей через точки $\\;P, Q.$ \n",
    "\n",
    " Мы считаем, что $\\;D\\neq0,\\;$ поэтому точка $\\;R\\;$ определена однозначно. \n",
    "\n",
    "В случае $\\;P=Q=O\\;$ будем считать, что $$O+O=O.$$"
   ]
  },
  {
   "cell_type": "code",
   "execution_count": 14,
   "id": "b7ae54fe",
   "metadata": {
    "slideshow": {
     "slide_type": "subslide"
    }
   },
   "outputs": [
    {
     "data": {
      "image/png": "[encoded data removed]",
      "text/plain": [
       "<Figure size 576x288 with 1 Axes>"
      ]
     },
     "metadata": {
      "needs_background": "light"
     },
     "output_type": "display_data"
    }
   ],
   "source": [
    "Plot()"
   ]
  },
  {
   "cell_type": "markdown",
   "id": "55909b33",
   "metadata": {
    "slideshow": {
     "slide_type": "subslide"
    }
   },
   "source": [
    "## Формулы вычисления координат суммы точек\n",
    "Если $\\;P=O\\;$ или $\\;Q=O,\\;$ то\n",
    "$$\n",
    "P+O=O+P=-(-P)=P.\n",
    "$$\n",
    " Пусть далее точки конечны \n",
    " $$\n",
    "P=(x_1,y_1),\\; Q=(x_2,y_2).\n",
    "$$\n",
    "\n",
    "Если $\\;x_1\\neq x_2,\\;$ то\n",
    "$$\n",
    "x_3:=k^2-x_1-x_2,\\quad y_3:=k(x_1-x_3)-y_1,\\qquad k:=\\frac{y_2-y_1}{x_2-x_1}.\n",
    "$$\n",
    "\n",
    "Если $\\;x_1=x_2,\\;$ $y_1=y_2\\neq0,\\;$ то\n",
    "$$\n",
    "x_3:=k^2-2x_1,\\quad   y_3:=k(x_1-x_3)-y_1,\\qquad k:=\\frac{3x_1^2+a}{2y_1}.\n",
    "$$\n",
    "\n",
    "Если $\\;x_1=x_2,\\;$ $y_1=y_2=0,\\;$ то \n",
    "$$\n",
    "P+Q:=O.\n",
    "$$\n",
    "\n",
    "Если $\\;x_1 = x_2,\\;$ $y_1\\neq y_2,\\;$ то\n",
    "$$\n",
    "P+Q:=O.\n",
    "$$\t"
   ]
  },
  {
   "cell_type": "markdown",
   "id": "e2e9ae0e",
   "metadata": {
    "slideshow": {
     "slide_type": "subslide"
    }
   },
   "source": [
    "## Группа\n",
    "**Теорема 4.**  \n",
    "Эллиптическая кривая над полем $\\;F\\;$ c отличным от нуля дискриминантом и операцией сложения является аддитивной абелевой группой.\n",
    "\n",
    "\n",
    "**Свойства группы:**\n",
    "\n",
    "1$.$ Существование нейтрального элемента:  \n",
    "$\\;O\\;$ &ndash; нейтральный элемент;\n",
    "\n",
    "2$.$ Существование противоположного элемента:  \n",
    "$-P$ &ndash; противоположный к $\\;P;$\n",
    "\n",
    "\n",
    "3$.$ Ассоциативность   \n",
    "$$(P+Q)+R=P+(Q+R).$$\n",
    "Не очевидна, трудно доказывается.\n",
    "\n",
    "4$.$ Группа является коммутативной:  \n",
    "$$\n",
    "  P+Q = Q+P.\n",
    "$$  \n",
    "  \n",
    "\n",
    "\n",
    "\n",
    "\n"
   ]
  },
  {
   "cell_type": "markdown",
   "id": "f3c41c27",
   "metadata": {
    "slideshow": {
     "slide_type": "subslide"
    }
   },
   "source": [
    "## Порядок $\\mathcal{E}(\\mathbb{Z}_p)$\n",
    "- Количество элементов $\\;\\mathcal{E}(\\mathbb{Z}_p)\\;$ называется её порядком и обозначается $\\;|\\mathcal{E}(\\mathbb{Z}_p)|.$\n",
    "\t      \n",
    "\t      \t\n",
    "- Порядок $\\;\\mathcal{E}(\\mathbb{Z}_p)\\;$ вычисляется при помощи алгоритма Шуфа. \n",
    "\t\n",
    "- Алгоритм Шуфа, 1985 год, полиномиальный, но на персональных компьютерах для эллиптических кривых, используемых в криптографии, \"не работает\".\n",
    "\t\n",
    "-\tПорядок $\\;\\mathbb{Z}_p^*\\;$ равен $\\;p-1.$"
   ]
  },
  {
   "cell_type": "markdown",
   "id": "c11c4307",
   "metadata": {
    "slideshow": {
     "slide_type": "skip"
    }
   },
   "source": [
    "# 4. Моделирование $\\;\\mathcal{E}(\\mathbb{Z}_p)\\;$ в Python"
   ]
  },
  {
   "cell_type": "markdown",
   "id": "a4b23cc4",
   "metadata": {
    "slideshow": {
     "slide_type": "skip"
    }
   },
   "source": [
    "## <font color='red'>Задание 2.</font>\n",
    "Реализовать класс `Curve`, который хранит $\\;a, b, p\\;$ эллиптической кривой\n",
    "$$\n",
    "  y^2=x^3+ax+b\\mod p.\n",
    "$$  "
   ]
  },
  {
   "cell_type": "code",
   "execution_count": 7,
   "id": "0cd24865",
   "metadata": {},
   "outputs": [],
   "source": [
    "class Curve:\n",
    "    def __init__(self, a, b, p):\n",
    "        a %= p\n",
    "        b %= p\n",
    "        if (27*b*b + 4*pow(a, 3, p)) % p != 0:\n",
    "            self.a = a\n",
    "            self.b = b \n",
    "            self.p = p\n",
    "        else:\n",
    "            print('Дискриминант < 0')\n",
    "    def __repr__(self):\n",
    "        return f'y^2 = x^3 + {self.a}x + {self.b}'"
   ]
  },
  {
   "cell_type": "markdown",
   "id": "7be8cb1e",
   "metadata": {
    "slideshow": {
     "slide_type": "skip"
    }
   },
   "source": [
    "## <font color='red'>Задание 3.</font>\n",
    "Реализовать класс `Point`, объектом которого является точка с координатами $\\;(x,y)\\;$ кривой `Curve`."
   ]
  },
  {
   "cell_type": "markdown",
   "id": "8024aefe",
   "metadata": {
    "slideshow": {
     "slide_type": "subslide"
    }
   },
   "source": [
    "## Определение эллиптической кривой\n",
    "- \tПусть $\\;a,b\\in F.$ \n",
    "\n",
    "-  Эллиптической кривой $\\;\\mathcal{E}_{a,b}(F)\\;$ над полем $\\;F\\;$  называется множество точек $\\;(x,y)\\in F^2,\\;$ удовлетворяющих равенству\n",
    "\t$$\n",
    "\ty^2=x^3+ax+b.\n",
    "\t$$\n",
    "\t\n",
    "- Также к эллиптической кривой добавляют бесконечно удаленную точку $\\;O.$\n",
    "\n",
    "- Будем считать, что бесконечно удаленная точка принадлежит всем вертикальным прямым и не принадлежит невертикальным."
   ]
  },
  {
   "cell_type": "code",
   "execution_count": 8,
   "id": "1dccece6",
   "metadata": {},
   "outputs": [],
   "source": [
    "class Point:\n",
    "    def __init__(self, Curve, x, y):\n",
    "        self.parameters = [Curve.a, Curve.b, Curve.p]\n",
    "        if x == y == None:\n",
    "            self.x = x\n",
    "            self.y = x\n",
    "        elif pow(y, 2, Curve.p) == (pow(x, 3, Curve.p) + Curve.a*x + Curve.b) % Curve.p:\n",
    "            self.x = x\n",
    "            self.y = y\n",
    "        else:\n",
    "            print('Точка не принадлежит кривой')\n",
    "    \n",
    "    def __str__(self):\n",
    "        return f'[{self.x}, {self.y}]'\n",
    "    \n",
    "    def __repr__(self):\n",
    "        return f'[{self.x}, {self.y}]'"
   ]
  },
  {
   "cell_type": "markdown",
   "id": "3cc32046",
   "metadata": {
    "slideshow": {
     "slide_type": "skip"
    }
   },
   "source": [
    "## <font color='red'>Задание 4.</font>\n",
    "Для класса `Curve` реализовать методы нахождения всех точек кривой при помощи полного перебора и при помощи алгоритма Тонелли-Шенкса. Реализовать метод, который находит порядок кривой. Реализовать метод, который находит случайную точку кривой."
   ]
  },
  {
   "cell_type": "code",
   "execution_count": 9,
   "id": "ab79c848",
   "metadata": {},
   "outputs": [],
   "source": [
    "import random\n",
    "\n",
    "def st(n):\n",
    "    s = 0\n",
    "    t = n\n",
    "    while t % 2 == 0:\n",
    "        s += 1\n",
    "        t = t // 2\n",
    "    return s, t\n",
    "\n",
    "def Jacobi(a,n):\n",
    "    if n < 0 or not n % 2:\n",
    "        raise ValueError(\"n should be an odd positive integer\") \n",
    "    j = 1\n",
    "    if n == 1:\n",
    "        return j\n",
    "    if a<0:\n",
    "        a = -a\n",
    "        if n%4 == 3:\n",
    "            j = -j\n",
    "    while n>1:\n",
    "        if a == 0:\n",
    "            return 0\n",
    "        s,t = st(a)\n",
    "        if (s%2 == 1) & (n%8 in [3, 5]):\n",
    "            j = -j\n",
    "        if 3 == n%4 == t%4:\n",
    "            j = -j\n",
    "        a = n%t\n",
    "        n = t\n",
    "    return j\n",
    "\n",
    "def Shanks(a, p):\n",
    "    if not Jacobi(a, p) == 1:\n",
    "        raise ValueError(\"a should be a quadratic residue\")\n",
    "    s,t = st(p-1)\n",
    "    n = random.randint(2,p-2)\n",
    "    while Jacobi(n,p) == 1:\n",
    "        n = random.randint(2,p-2)\n",
    "    b = pow(n,t,p)\n",
    "    r = pow(a,(t+1)//2,p)\n",
    "    d = 0\n",
    "    f = pow(a,t,p)\n",
    "    b2 = b\n",
    "    for i in range(1,s):\n",
    "        b2 = b2*b2 % p\n",
    "        if not pow(f,2**(s-1-i),p) == 1:\n",
    "            d += 2**i\n",
    "            f = f*b2 % p \n",
    "    return r*pow(b,d//2,p) % p"
   ]
  },
  {
   "cell_type": "code",
   "execution_count": 10,
   "id": "d957429d",
   "metadata": {},
   "outputs": [],
   "source": [
    "def all_points(self) -> list:\n",
    "    points = [Point(self, None, None)]\n",
    "    for y in range(self.p):\n",
    "        for x in range(self.p):\n",
    "            if pow(y, 2, self.p) == (pow(x, 3, self.p) + self.a*x + self.b) % self.p:\n",
    "                points.append(Point(self, x, y))\n",
    "\n",
    "    return points\n",
    "\n",
    "def all_points_shanks(self) -> list:\n",
    "    points = [Point(self, None, None)]\n",
    "    for x in range(self.p):\n",
    "        value = (pow(x, 3, self.p) + self.a*x + self.b) % self.p\n",
    "        try:\n",
    "            y = Shanks(value, self.p)\n",
    "            points.append(Point(self, x, y))\n",
    "            points.append(Point(self, x, -y % self.p))\n",
    "        except:\n",
    "            pass\n",
    "\n",
    "    return points\n",
    "\n",
    "def curve_order(self) -> int:\n",
    "    return len(self.all_points())\n",
    "\n",
    "def random_point(self) -> Point:\n",
    "    return random.choice(self.all_points_shanks())\n",
    "\n",
    "Curve.all_points = all_points\n",
    "Curve.all_points_shanks = all_points_shanks\n",
    "Curve.curve_order = curve_order\n",
    "Curve.random_point = random_point"
   ]
  },
  {
   "cell_type": "code",
   "execution_count": 84,
   "id": "1499560b",
   "metadata": {},
   "outputs": [
    {
     "name": "stdout",
     "output_type": "stream",
     "text": [
      "y^2 = x^3 + 1x + 1\n",
      "[[None, None], [0, 1], [2, 2], [2, 5], [0, 6]]\n",
      "[[None, None], [0, 1], [0, 6], [2, 2], [2, 5]]\n",
      "5\n",
      "[0, 1]\n"
     ]
    }
   ],
   "source": [
    "curve = Curve(1, 1, 7)\n",
    "print(curve)\n",
    "print(curve.all_points())\n",
    "print(curve.all_points_shanks())\n",
    "print(curve.curve_order())\n",
    "print(curve.random_point())"
   ]
  },
  {
   "cell_type": "markdown",
   "id": "7425aa6c",
   "metadata": {
    "slideshow": {
     "slide_type": "skip"
    }
   },
   "source": [
    "## <font color='red'>Задание 5.</font>\n",
    "Для класса `Point` реализовать нахождение противоположного элемента, вычитание и сложение точек. Проверить выполнение ассоциативности."
   ]
  },
  {
   "cell_type": "markdown",
   "id": "17844b29",
   "metadata": {
    "slideshow": {
     "slide_type": "subslide"
    }
   },
   "source": [
    "##  Сложение точек\n",
    "Определим операцию сложения \n",
    "$$\n",
    "+:\\mathcal{E}^2\\rightarrow\\mathcal{E}.$$ \n",
    "\n",
    "\n",
    " Пусть $\\;P,Q\\in\\mathcal E,\\;$ тогда\n",
    "$$\n",
    "P+Q:=-R,\n",
    "$$\n",
    "где $\\;R\\;$ &ndash; точка пересечения кривой $\\;\\mathcal E\\;$ с прямой, проходящей через точки $\\;P, Q.$ \n",
    "\n",
    " Мы считаем, что $\\;D\\neq0,\\;$ поэтому точка $\\;R\\;$ определена однозначно. \n",
    "\n",
    "В случае $\\;P=Q=O\\;$ будем считать, что $$O+O=O.$$"
   ]
  },
  {
   "cell_type": "markdown",
   "id": "bfc91912",
   "metadata": {
    "slideshow": {
     "slide_type": "subslide"
    }
   },
   "source": [
    "## Формулы вычисления координат суммы точек\n",
    "Если $\\;P=O\\;$ или $\\;Q=O,\\;$ то\n",
    "$$\n",
    "P+O=O+P=-(-P)=P.\n",
    "$$\n",
    " Пусть далее точки конечны \n",
    " $$\n",
    "P=(x_1,y_1),\\; Q=(x_2,y_2).\n",
    "$$\n",
    "\n",
    "Если $\\;x_1\\neq x_2,\\;$ то\n",
    "$$\n",
    "x_3:=k^2-x_1-x_2,\\quad y_3:=k(x_1-x_3)-y_1,\\qquad k:=\\frac{y_2-y_1}{x_2-x_1}.\n",
    "$$\n",
    "\n",
    "Если $\\;x_1=x_2,\\;$ $y_1=y_2\\neq0,\\;$ то\n",
    "$$\n",
    "x_3:=k^2-2x_1,\\quad   y_3:=k(x_1-x_3)-y_1,\\qquad k:=\\frac{3x_1^2+a}{2y_1}.\n",
    "$$\n",
    "\n",
    "Если $\\;x_1=x_2,\\;$ $y_1=y_2=0,\\;$ то \n",
    "$$\n",
    "P+Q:=O.\n",
    "$$\n",
    "\n",
    "Если $\\;x_1 = x_2,\\;$ $y_1\\neq y_2,\\;$ то\n",
    "$$\n",
    "P+Q:=O.\n",
    "$$\t"
   ]
  },
  {
   "cell_type": "code",
   "execution_count": 15,
   "id": "73c68249",
   "metadata": {},
   "outputs": [],
   "source": [
    "def ExtendedGCD(a, b):  # расширенный алгоритм Евклида\n",
    "    m11, m12 = 1, 0\n",
    "    m21, m22 = 0, 1\n",
    "    while b:\n",
    "        q = a // b\n",
    "        r = a % b\n",
    "        a, b = b, r\n",
    "        m11, m12 = m12, m11 - m12*q\n",
    "        m21, m22 = m22, m21 - m22*q \n",
    "    return (m11,m21)\n",
    "\n",
    "def inverse_element(self) -> Point:\n",
    "    if self.x == self.y == None:\n",
    "        return Point(Curve(self.parameters[0], self.parameters[1], self.parameters[2]), None, None)\n",
    "    else:\n",
    "        return Point(Curve(self.parameters[0], self.parameters[1], self.parameters[2]), self.x, -self.y % self.parameters[2])\n",
    "    \n",
    "def addition(self, point) -> Point:\n",
    "    if self.x == self.y == point.x == point.y == None:\n",
    "        return Point(Curve(self.parameters[0], self.parameters[1], self.parameters[2]), None, None)\n",
    "    elif self.x == self.y == None:\n",
    "        return point\n",
    "    elif point.x == point.y == None:\n",
    "        return Point(Curve(self.parameters[0], self.parameters[1], self.parameters[2]), self.x, self.y)\n",
    "    else:\n",
    "        if self.x != point.x:\n",
    "            a, _ = ExtendedGCD(point.x - self.x, self.parameters[2])\n",
    "            k = (point.y - self.y)*a % self.parameters[2]\n",
    "            x = (k*k - self.x - point.x) % self.parameters[2]\n",
    "            y = (k*(self.x - x) - self.y) % self.parameters[2]\n",
    "        elif self.x == point.x and self.y == point.y and self.y != 0:\n",
    "            a, _ = ExtendedGCD(2*self.y, self.parameters[2])\n",
    "            k = (3*self.x*self.x + self.parameters[0])*a % self.parameters[2]\n",
    "            x = (k*k - 2*self.x) % self.parameters[2]\n",
    "            y = (k*(self.x - x) - self.y) % self.parameters[2]\n",
    "        elif self.x == point.x and self.y == point.y == 0:\n",
    "            x = None\n",
    "            y = None\n",
    "        elif self.x == point.x and self.y != point.y:\n",
    "            x = None\n",
    "            y = None \n",
    "        \n",
    "        return Point(Curve(self.parameters[0], self.parameters[1], self.parameters[2]), x, y)\n",
    "    \n",
    "def subtraction(self, point) -> Point:\n",
    "    return self.addition(point.inverse_element())\n",
    "      \n",
    "Point.inverse_element = inverse_element\n",
    "Point.addition = addition\n",
    "Point.subtraction = subtraction"
   ]
  },
  {
   "cell_type": "code",
   "execution_count": 16,
   "id": "6e6661a1",
   "metadata": {},
   "outputs": [
    {
     "name": "stdout",
     "output_type": "stream",
     "text": [
      "[2, 5] [2, 5] [0, 6]\n"
     ]
    }
   ],
   "source": [
    "p1 = curve.random_point()\n",
    "p2 = curve.random_point()\n",
    "p3 = curve.random_point()\n",
    "print(p1, p2, p3)"
   ]
  },
  {
   "cell_type": "code",
   "execution_count": 17,
   "id": "6e44a166",
   "metadata": {},
   "outputs": [
    {
     "name": "stdout",
     "output_type": "stream",
     "text": [
      "[0, 6]\n",
      "[None, None]\n"
     ]
    }
   ],
   "source": [
    "print(p1.addition(p2))\n",
    "print(p1.subtraction(p2))"
   ]
  },
  {
   "cell_type": "markdown",
   "id": "cab6580a",
   "metadata": {},
   "source": [
    "Проверим ассоциативность: $p_1 + (p_2 + p_3) = p_1 + (p_2 + p_3)$"
   ]
  },
  {
   "cell_type": "code",
   "execution_count": 18,
   "id": "0366a4f1",
   "metadata": {},
   "outputs": [
    {
     "data": {
      "text/plain": [
       "True"
      ]
     },
     "execution_count": 18,
     "metadata": {},
     "output_type": "execute_result"
    }
   ],
   "source": [
    "f'{p1.addition(p2.addition(p3))}' == f'{p1.addition(p2).addition(p3)}'"
   ]
  },
  {
   "cell_type": "markdown",
   "id": "4c2ff6a8",
   "metadata": {
    "slideshow": {
     "slide_type": "slide"
    }
   },
   "source": [
    "# 5. Скалярное умножение"
   ]
  },
  {
   "cell_type": "markdown",
   "id": "33586e01",
   "metadata": {
    "slideshow": {
     "slide_type": "subslide"
    }
   },
   "source": [
    "## Умножение точки на скаляр или скалярное умножение\n",
    "<font color='blue'> Умножением точки $\\;P\\in\\mathcal{E}(\\mathbb{Z}_p)\\;$ на скаляр $\\;m\\in\\mathbb{N}\\;$</font> или <font color='blue'> скалярным умножением $\\;m P\\;$</font> называется сумма $\\;m\\;$ точек $\\;P$\n",
    "\n",
    "$$\n",
    "m P:=\\underbrace{P+P+\\dots+P.}_{\\text{сумма  } m \\text{  точек } P}\n",
    "$$ \n",
    "\n",
    "Если\n",
    "$$\n",
    "m=m_s2^s+m_{s-1}2^{s-1}+\\dots+m_{1}2+m_0,\\quad m_s=1,\n",
    "$$\n",
    "\n",
    "то, применяя свойство ассоциативности, имеем\n",
    "\n",
    "$$\n",
    "m P=m_s2^sP+m_{s-1}2^{s-1}P+\\dots+m_24P+m_{1}2P+m_0P.\n",
    "$$"
   ]
  },
  {
   "cell_type": "markdown",
   "id": "fdd325ef",
   "metadata": {
    "slideshow": {
     "slide_type": "subslide"
    }
   },
   "source": [
    "## Алгоритм вычисления $ m P\\in\\mathcal{E}(\\mathbb{Z}_p)$  \n",
    "\n",
    "**Input:** $m\\in\\mathbb{N},$   \n",
    "$\\qquad P\\in\\mathcal{E}(\\mathbb{Z}_p).$\n",
    "\n",
    "**Output:** $m P\\in\\mathcal E(\\mathbb{Z}_p).$\n",
    "\n",
    "1$.$ Представляем $\\;m\\;$ в двоичной системе счисления\n",
    "$$\n",
    "m=m_s2^s+m_{s-1}2^{s-1}+\\dots+m_{1}2+m_0,\\quad m_s=1.\n",
    "$$\n",
    "\n",
    "2$.$ Задаем начальные условия \n",
    "$$\n",
    "\\;result:=O,\\quad  Q:= P.  \\qquad (Q=2^iP)\n",
    "$$ \n",
    "\n",
    "3$.$ Для $\\;i=0,\\dots,s\\;$ выполняем шаги  3.1, 3.2:   \n",
    "$\\qquad$ 3.1. Если $\\;m_i=1,\\;$ то $result:=result+Q;$  \n",
    "$\\qquad$ 3.2. $Q:=Q+Q.$\n",
    "\n",
    "4$.$ Искомым элементом является $result.$"
   ]
  },
  {
   "cell_type": "markdown",
   "id": "862f25d6",
   "metadata": {
    "slideshow": {
     "slide_type": "skip"
    }
   },
   "source": [
    "## <font color='red'>Задание 6.</font>\n",
    "Для класса `Point` реализовать операцию умножения точки на целое число."
   ]
  },
  {
   "cell_type": "code",
   "execution_count": 19,
   "id": "20bd67ff",
   "metadata": {},
   "outputs": [],
   "source": [
    "def scalar_product(self, m: int) -> Point:\n",
    "    m = bin(m)[2:]\n",
    "    result = Point(Curve(self.parameters[0], self.parameters[1], self.parameters[2]), None, None)\n",
    "    Q = self\n",
    "    for i in range(len(m)):\n",
    "        if int(m[i]) == 1:\n",
    "            result = result.addition(Q)\n",
    "        Q = Q.addition(Q)\n",
    "        \n",
    "    return result\n",
    "\n",
    "Point.scalar_product = scalar_product"
   ]
  },
  {
   "cell_type": "code",
   "execution_count": 20,
   "id": "d895a5ae",
   "metadata": {},
   "outputs": [
    {
     "data": {
      "text/plain": [
       "[0, 6]"
      ]
     },
     "execution_count": 20,
     "metadata": {},
     "output_type": "execute_result"
    }
   ],
   "source": [
    "p1.scalar_product(7)"
   ]
  },
  {
   "cell_type": "markdown",
   "id": "645968ad",
   "metadata": {
    "slideshow": {
     "slide_type": "subslide"
    }
   },
   "source": [
    "## \tПорядок элемента и цикличность группы\n",
    "Каждая точка $\\;P\\in\\mathcal{E}(\\mathbb{Z}_p)\\;$ порождает циклическую подгруппу\n",
    "$$\n",
    "\t<P>:=\\{P,2P,3P,\\dots,nP=O\\}.\n",
    "$$\n",
    "$n\\;$ называется <font color='blue'>порядком элемента</font> $\\;P.$\n",
    "\n",
    "Если найдется такая  $\\;P\\in\\mathcal{E}(\\mathbb{Z}_p),\\;$ что\n",
    "$$<P>=\\mathcal{E}(\\mathbb{Z}_p),$$\n",
    "то $\\;\\mathcal{E}(\\mathbb{Z}_p)\\;$ называется <font color='blue'>циклической группой</font>. А точка $\\;P\\in\\mathcal{E}(\\mathbb{Z}_p)\\;$ называется <font color='blue'> образующим элементом</font>.\n",
    "\n",
    "$\\;\\mathcal{E}(\\mathbb{Z}_p)\\;$ не всегда циклическая в отличие от $\\;\\mathbb{Z}_p.$\n",
    " "
   ]
  },
  {
   "cell_type": "markdown",
   "id": "a44ad4cc",
   "metadata": {
    "slideshow": {
     "slide_type": "subslide"
    }
   },
   "source": [
    "## Свойство порядка кривой\n",
    "По аналогии с Малой теоремой Ферма для поля $\\;\\mathbb{Z}_p\\;$\n",
    "$$\n",
    "  a^{p-1}\\equiv 1 \\mod p\n",
    "$$\n",
    "для $\\;\\mathcal{E}(\\mathbb{Z}_p)\\;$ справедливо равенство\n",
    "$$\n",
    "  curve.order*P = O.\n",
    "$$  "
   ]
  },
  {
   "cell_type": "markdown",
   "id": "9d3bf2a6",
   "metadata": {
    "slideshow": {
     "slide_type": "skip"
    }
   },
   "source": [
    "## <font color='red'>Задание 7.</font>\n",
    "Найти циклическую и нециклическую группы точек эллиптической кривой с составным порядком. Найти группу точек эллиптической кривой с простым порядком. Является ли она циклической?"
   ]
  },
  {
   "cell_type": "code",
   "execution_count": 79,
   "id": "c3bb0a48",
   "metadata": {},
   "outputs": [
    {
     "name": "stdout",
     "output_type": "stream",
     "text": [
      "y^2 = x^3 + 3x + 2\n",
      "5\n",
      "[1, 1]\n",
      "[2, 1]\n",
      "[1, 4]\n",
      "[2, 4]\n"
     ]
    }
   ],
   "source": [
    "curve_1 = Curve(3, 2, 5)\n",
    "print(curve_1)\n",
    "print(curve_1.curve_order())\n",
    "\n",
    "points = {str(point) for point in curve_1.all_points()}\n",
    "for point in curve_1.all_points():\n",
    "    group = set()\n",
    "    for i in range(1, 20):\n",
    "        group.add(str(point.scalar_product(i)))\n",
    "    if group == points:\n",
    "        print(point)"
   ]
  },
  {
   "cell_type": "code",
   "execution_count": 83,
   "id": "05587fb6",
   "metadata": {},
   "outputs": [
    {
     "name": "stdout",
     "output_type": "stream",
     "text": [
      "y^2 = x^3 + 1x + 4\n",
      "9\n",
      "[1, 1]\n",
      "[0, 2]\n",
      "[2, 2]\n",
      "[0, 3]\n",
      "[2, 3]\n",
      "[1, 4]\n"
     ]
    }
   ],
   "source": [
    "curve_2 = Curve(1, 4, 5)\n",
    "print(curve_2)\n",
    "print(curve_2.curve_order())\n",
    "\n",
    "points = {str(point) for point in curve_2.all_points()}\n",
    "for point in curve_2.all_points():\n",
    "    group = set()\n",
    "    for i in range(1, 20):\n",
    "        group.add(str(point.scalar_product(i)))\n",
    "    if group == points:\n",
    "        print(point)"
   ]
  }
 ],
 "metadata": {
  "celltoolbar": "Слайд-шоу",
  "kernelspec": {
   "display_name": "Python 3 (ipykernel)",
   "language": "python",
   "name": "python3"
  },
  "language_info": {
   "codemirror_mode": {
    "name": "ipython",
    "version": 3
   },
   "file_extension": ".py",
   "mimetype": "text/x-python",
   "name": "python",
   "nbconvert_exporter": "python",
   "pygments_lexer": "ipython3",
   "version": "3.9.7"
  }
 },
 "nbformat": 4,
 "nbformat_minor": 5
}
