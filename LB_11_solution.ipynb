{
 "cells": [
  {
   "cell_type": "markdown",
   "id": "e4b7f733",
   "metadata": {
    "slideshow": {
     "slide_type": "slide"
    }
   },
   "source": [
    "<H6 align=\"center\">Белорусский государственный университет </H6>\n",
    "<H6 align=\"center\">Механико-математический факультет </H6>\n",
    "<H6 align=\"center\">Кафедра дифференциальных уравнений  и системного анализа </H6>\n",
    "\n",
    "<H2 align=\"center\">  Математические основы защиты информации</H2>\n",
    "\n",
    "\n",
    "<H2 align=\"center\"> Лекция 13.  Эллиптические кривые в проективных координатах</H2>\n",
    "\n",
    "$ $\n",
    "\n",
    "<H4 align=\"center\">Чергинец Дмитрий Николаевич </H4>\n"
   ]
  },
  {
   "cell_type": "markdown",
   "id": "5efb0f29",
   "metadata": {
    "jp-MarkdownHeadingCollapsed": true,
    "slideshow": {
     "slide_type": "slide"
    },
    "tags": []
   },
   "source": [
    "## 1. Эллиптическая кривая\n",
    "**Определение эллиптической кривой**  \n",
    "- \tПусть $\\;a,b\\in F.$ \n",
    "\n",
    "-  Эллиптической кривой $\\;\\mathcal{E}_{a,b}(F)\\;$ над полем $\\;F\\;$  называется множество точек $\\;(x,y)\\in F^2,\\;$ удовлетворяющих равенству\n",
    "\t$$\n",
    "\ty^2=x^3+ax+b.\n",
    "\t$$\n",
    "\t\n",
    "- Также к эллиптической кривой добавляют бесконечно удаленную точку $\\;O.$\n",
    "\n",
    "- Будем считать, что бесконечно удаленная точка принадлежит всем вертикальным прямым и не принадлежит невертикальным."
   ]
  },
  {
   "cell_type": "markdown",
   "id": "434f1c9f",
   "metadata": {
    "slideshow": {
     "slide_type": "subslide"
    }
   },
   "source": [
    "###  Сложение точек\n",
    "Определим операцию сложения \n",
    "$$\n",
    "+:\\mathcal{E}^2\\rightarrow\\mathcal{E}.$$ \n",
    "\n",
    "\n",
    " Пусть $\\;P,Q\\in\\mathcal E,\\;$ тогда\n",
    "$$\n",
    "P+Q:=-R,\n",
    "$$\n",
    "где $\\;R\\;$ &ndash; точка пересечения кривой $\\;\\mathcal E\\;$ с прямой, проходящей через точки $\\;P, Q.$ \n",
    "\n",
    " Мы считаем, что $\\;D\\neq0,\\;$ поэтому точка $\\;R\\;$ определена однозначно. \n",
    "\n",
    "В случае $\\;P=Q=O\\;$ будем считать, что $$O+O=O.$$"
   ]
  },
  {
   "cell_type": "code",
   "execution_count": 14,
   "id": "b7ae54fe",
   "metadata": {
    "slideshow": {
     "slide_type": "subslide"
    }
   },
   "outputs": [
    {
     "data": {
      "image/png": "[encoded data removed]",
      "text/plain": [
       "<Figure size 576x288 with 1 Axes>"
      ]
     },
     "metadata": {
      "needs_background": "light"
     },
     "output_type": "display_data"
    }
   ],
   "source": [
    "Plot()"
   ]
  },
  {
   "cell_type": "markdown",
   "id": "55909b33",
   "metadata": {
    "slideshow": {
     "slide_type": "subslide"
    }
   },
   "source": [
    "### Формулы вычисления координат суммы точек\n",
    "Если $\\;P=O\\;$ или $\\;Q=O,\\;$ то\n",
    "$$\n",
    "P+O=O+P=-(-P)=P.\n",
    "$$\n",
    " Пусть далее точки конечны \n",
    " $$\n",
    "P=(x_1,y_1),\\; Q=(x_2,y_2).\n",
    "$$\n",
    "\n",
    "Если $\\;x_1\\neq x_2,\\;$ то\n",
    "$$\n",
    "x_3:=k^2-x_1-x_2,\\quad y_3:=k(x_1-x_3)-y_1,\\qquad k:=\\frac{y_2-y_1}{x_2-x_1}.\n",
    "$$\n",
    "\n",
    "Если $\\;x_1=x_2,\\;$ $y_1=y_2\\neq0,\\;$ то\n",
    "$$\n",
    "x_3:=k^2-2x_1,\\quad   y_3:=k(x_1-x_3)-y_1,\\qquad k:=\\frac{3x_1^2+a}{2y_1}.\n",
    "$$\n",
    "\n",
    "Если $\\;x_1=x_2,\\;$ $y_1=y_2=0,\\;$ то \n",
    "$$\n",
    "P+Q:=O.\n",
    "$$\n",
    "\n",
    "Если $\\;x_1 = x_2,\\;$ $y_1\\neq y_2,\\;$ то\n",
    "$$\n",
    "P+Q:=O.\n",
    "$$\t"
   ]
  },
  {
   "cell_type": "markdown",
   "id": "33586e01",
   "metadata": {
    "slideshow": {
     "slide_type": "slide"
    }
   },
   "source": [
    "## 2. Умножение точки на скаляр или скалярное умножение\n",
    "<font color='blue'> Умножением точки $\\;P\\in\\mathcal{E}(\\mathbb{Z}_p)\\;$ на скаляр $\\;m\\in\\mathbb{N}\\;$</font> или <font color='blue'> скалярным умножением $\\;m P\\;$</font> называется сумма $\\;m\\;$ точек $\\;P$\n",
    "\n",
    "$$\n",
    "m P:=\\underbrace{P+P+\\dots+P.}_{\\text{сумма  } m \\text{  точек } P}\n",
    "$$ \n",
    "\n",
    "Если\n",
    "$$\n",
    "m=m_s2^s+m_{s-1}2^{s-1}+\\dots+m_{1}2+m_0,\\quad m_s=1,\n",
    "$$\n",
    "\n",
    "то, применяя свойство ассоциативности, имеем\n",
    "\n",
    "$$\n",
    "m P=m_s2^sP+m_{s-1}2^{s-1}P+\\dots+m_24P+m_{1}2P+m_0P.\n",
    "$$"
   ]
  },
  {
   "cell_type": "markdown",
   "id": "fdd325ef",
   "metadata": {
    "slideshow": {
     "slide_type": "subslide"
    }
   },
   "source": [
    "### Алгоритм вычисления $ m P\\in\\mathcal{E}(\\mathbb{Z}_p)$  \n",
    "\n",
    "**Input:** $m\\in\\mathbb{N},$   \n",
    "$\\qquad P\\in\\mathcal{E}(\\mathbb{Z}_p).$\n",
    "\n",
    "**Output:** $m P\\in\\mathcal E(\\mathbb{Z}_p).$\n",
    "\n",
    "1$.$ Представляем $\\;m\\;$ в двоичной системе счисления\n",
    "$$\n",
    "m=m_s2^s+m_{s-1}2^{s-1}+\\dots+m_{1}2+m_0,\\quad m_s=1.\n",
    "$$\n",
    "\n",
    "2$.$ Задаем начальные условия \n",
    "$$\n",
    "\\;result:=O,\\quad  Q:= P.  \\qquad (Q=2^iP)\n",
    "$$ \n",
    "\n",
    "3$.$ Для $\\;i=0,\\dots,s\\;$ выполняем шаги  3.1, 3.2:   \n",
    "$\\qquad$ 3.1. Если $\\;m_i=1,\\;$ то $result:=result+Q;$  \n",
    "$\\qquad$ 3.2. $Q:=Q+Q.$\n",
    "\n",
    "4$.$ Искомым элементом является $result.$"
   ]
  },
  {
   "cell_type": "markdown",
   "id": "645968ad",
   "metadata": {
    "slideshow": {
     "slide_type": "subslide"
    }
   },
   "source": [
    "### \tПорядок элемента и цикличность группы\n",
    "Каждая точка $\\;P\\in\\mathcal{E}(\\mathbb{Z}_p)\\;$ порождает циклическую подгруппу\n",
    "$$\n",
    "\t<P>:=\\{P,2P,3P,\\dots,nP=O\\}.\n",
    "$$\n",
    "$n\\;$ называется <font color='blue'>порядком элемента</font> $\\;P.$\n",
    "\n",
    "Если найдется такая  $\\;P\\in\\mathcal{E}(\\mathbb{Z}_p),\\;$ что\n",
    "$$<P>=\\mathcal{E}(\\mathbb{Z}_p),$$\n",
    "то $\\;\\mathcal{E}(\\mathbb{Z}_p)\\;$ называется <font color='blue'>циклической группой</font>. А точка $\\;P\\in\\mathcal{E}(\\mathbb{Z}_p)\\;$ называется <font color='blue'> образующим элементом</font>.\n",
    "\n",
    "$\\;\\mathcal{E}(\\mathbb{Z}_p)\\;$ не всегда циклическая в отличие от $\\;\\mathbb{Z}_p.$\n",
    " "
   ]
  },
  {
   "cell_type": "markdown",
   "id": "86c1e3c9",
   "metadata": {
    "jp-MarkdownHeadingCollapsed": true,
    "slideshow": {
     "slide_type": "slide"
    },
    "tags": []
   },
   "source": [
    "## 3. Эллиптическая кривая SECP256k1\n",
    "В криптовалюте Биткоин используется эллиптическая кривая SECP256k1, она задается следующими параметрами"
   ]
  },
  {
   "cell_type": "code",
   "execution_count": 31,
   "id": "7d5331a8",
   "metadata": {
    "slideshow": {
     "slide_type": "-"
    }
   },
   "outputs": [
    {
     "name": "stdout",
     "output_type": "stream",
     "text": [
      "Количество бит в числе p =  256\n"
     ]
    },
    {
     "data": {
      "text/plain": [
       "Elliptic Point = (55066263022277343669578718895168534326250603453777594175500187360389116729240,32670510020758816978083085130507043184471273380659243275938904335757337482424)"
      ]
     },
     "execution_count": 31,
     "metadata": {},
     "output_type": "execute_result"
    }
   ],
   "source": [
    "p = 115792089237316195423570985008687907853269984665640564039457584007908834671663\n",
    "print('Количество бит в числе p = ',len(bin(p))-2)\n",
    "a = 0\n",
    "b = 7\n",
    "SECP256k1 = Curve(a ,b, p)\n",
    "G = Point(55066263022277343669578718895168534326250603453777594175500187360389116729240,\\\n",
    "          32670510020758816978083085130507043184471273380659243275938904335757337482424, SECP256k1)\n",
    "G"
   ]
  },
  {
   "cell_type": "markdown",
   "id": "29e11cfd",
   "metadata": {},
   "source": [
    "## Порядок $\\mathcal{E}(\\mathbb{Z}_p)$\n",
    "- Количество элементов $\\;\\mathcal{E}(\\mathbb{Z}_p)\\;$ называется её порядком и обозначается $\\;|\\mathcal{E}(\\mathbb{Z}_p)|.$\n",
    "\t      \n",
    "\t      \t\n",
    "- Порядок $\\;\\mathcal{E}(\\mathbb{Z}_p)\\;$ вычисляется при помощи алгоритма Шуфа. \n",
    "\t\n",
    "- Алгоритм Шуфа, 1985 год, полиномиальный, но на персональных компьютерах для эллиптических кривых, используемых в криптографии, \"не работает\".\n",
    "\t\n",
    "-\tПорядок $\\;\\mathbb{Z}_p^*\\;$ равен $\\;p-1.$"
   ]
  },
  {
   "cell_type": "markdown",
   "id": "378d5694",
   "metadata": {
    "slideshow": {
     "slide_type": "subslide"
    }
   },
   "source": [
    "### Эллиптическая кривая SECP256k1 имеет простой порядок\n",
    "Кривая SECP256k1 особенна тем, что её порядок является простым числом $\\;n.\\;$   \n",
    "\n",
    "**Теорема Лагранжа.**  \n",
    "Порядок любой подгруппы делит порядок группы.\n",
    "\n",
    "Так как порядок группы SECP256k1 &ndash; простое число, то все конечные точки эллиптической кривой SECP256k1 будут образующими элементами.\n",
    "\n",
    "Введем для объекта класса `Point` атрибут `order`, равный порядку данного элемента."
   ]
  },
  {
   "cell_type": "code",
   "execution_count": 32,
   "id": "5ac6f817",
   "metadata": {
    "slideshow": {
     "slide_type": "-"
    }
   },
   "outputs": [
    {
     "name": "stdout",
     "output_type": "stream",
     "text": [
      "True\n",
      "True\n",
      "Количество бит в числе n =  256\n"
     ]
    },
    {
     "data": {
      "text/plain": [
       "Elliptic Point = Infinity Point"
      ]
     },
     "execution_count": 32,
     "metadata": {},
     "output_type": "execute_result"
    }
   ],
   "source": [
    "from sympy.ntheory import isprime\n",
    "n = 0xFFFFFFFFFFFFFFFFFFFFFFFFFFFFFFFEBAAEDCE6AF48A03BBFD25E8CD0364141\n",
    "print(n < p)\n",
    "print(isprime(n))\n",
    "print('Количество бит в числе n = ',len(bin(n))-2)\n",
    "G.order = n\n",
    "G.order * G"
   ]
  },
  {
   "cell_type": "markdown",
   "id": "1ff0e0d5",
   "metadata": {
    "jp-MarkdownHeadingCollapsed": true,
    "slideshow": {
     "slide_type": "slide"
    },
    "tags": []
   },
   "source": [
    "## 4. Дискретный логарифм\n",
    "Если в тождестве $\\; m*P=Q\\;$ прятать один из элементов, то получится три уравнения:  \n",
    "1.  $\\qquad m*P = X;$  \n",
    "2.  $\\qquad m*X = Q;$  \n",
    "3.  $\\qquad x*P = Q.$  \n",
    "\n",
    "Алгоритм вычисления $\\;m*P\\;$ является полиномиальным, поэтому уравнение 1 можно решить за полиномиальное время.\n",
    "\n",
    "Если $\\;n\\;$ - порядок группы $\\;\\mathcal{E}(\\mathbb{Z}_p),\\;$ то при помощи расширенного алгоритма Евклида можно найти так называемые коэффициенты Безу $\\;u,v\\in\\mathbb{Z},\\;$ что\n",
    "$$\n",
    "  u*m+v*n = НОД(m,n)\n",
    "$$\n",
    "Если $\\;НОД(m,n)=1,\\;$ то\n",
    "$$\n",
    "  uQ = umX = (1-vn)X = X -vnX = X -vO = X.\n",
    "$$  \n",
    "\n",
    "Третье уравнение $\\quad x*P = Q\\quad$ является наиболее сложным. Для его решения пока не придумано полиномиального алгоритма. В данном случае $\\;x\\;$ называется <font color='blue'>дискретным логарифмом</font>."
   ]
  },
  {
   "cell_type": "markdown",
   "id": "0bc1b5a8",
   "metadata": {
    "slideshow": {
     "slide_type": "subslide"
    }
   },
   "source": [
    "### Секретный и открытый ключ\n",
    "В криптографии, основанной на эллиптических кривых, в качестве секретного ключа `secret_key` выбирают случайное натуральное число из промежутка от 1 до `G.order`, где $\\;G\\;$ &ndash; фиксированная точка с достаточно большим порядком.\n",
    "\n",
    "А публичный ключ вычисляется по формуле\n",
    "$$\n",
    "  public\\_key:= secret\\_key*G.\n",
    "$$  "
   ]
  },
  {
   "cell_type": "code",
   "execution_count": 33,
   "id": "2d1d01ea",
   "metadata": {
    "slideshow": {
     "slide_type": "-"
    }
   },
   "outputs": [
    {
     "name": "stdout",
     "output_type": "stream",
     "text": [
      "secret_key =  7592354154383262007356118185256662712967120252076519190293977765932168900789\n",
      "public_key =  Elliptic Point = (54157714908919838698608476575385476996189911404335920668808319937934597325526,46149715719428776123137008395778665229968271565347006052591160812036581379196)\n"
     ]
    }
   ],
   "source": [
    "import random\n",
    "secret_key = random.randrange(1, G.order)\n",
    "public_key = secret_key * G\n",
    "print('secret_key = ', secret_key)\n",
    "print('public_key = ', public_key)"
   ]
  },
  {
   "cell_type": "markdown",
   "id": "914cc5a9",
   "metadata": {
    "jp-MarkdownHeadingCollapsed": true,
    "slideshow": {
     "slide_type": "slide"
    },
    "tags": []
   },
   "source": [
    "## 5. Проективные координаты"
   ]
  },
  {
   "cell_type": "markdown",
   "id": "2a9cf7e8",
   "metadata": {
    "slideshow": {
     "slide_type": "-"
    }
   },
   "source": [
    "При складывании точек эллиптической кривой необходимо при помощи расширенного алгоритма Евклида вычислять обратные элементы в поле $\\;\\mathbb{Z}_p.\\;$ Данная операция медленнее сложения и умножения в поле $\\;\\mathbb{Z}_p.\\;$ Для того, чтобы избежать вычисления обратных элементов, эллиптические кривые иногда рассматривают в проективных координатах.\n",
    "\n",
    "В уравнении \n",
    "$$\n",
    "  y^2 = x^3+ax+b\\qquad\\qquad(1)\n",
    "$$\n",
    "сделаем замену\n",
    "$$\n",
    "  x = \\frac{X}{Z},\\quad y = \\frac{Y}{Z}.\n",
    "$$\n",
    "Получим уравнение\n",
    "$$\n",
    "  Y^2Z=X^3+aXZ^2+bZ^3.\\qquad\\qquad(2) \n",
    "$$  "
   ]
  },
  {
   "cell_type": "markdown",
   "id": "90d15209",
   "metadata": {
    "slideshow": {
     "slide_type": "subslide"
    }
   },
   "source": [
    "### Отношение эквивалентности\n",
    "Будем считать, что точки $\\;(X_1,Y_1,Z_1)\\;$ и $\\;(X_2,Y_2,Z_2)\\;$ эквивалентны\n",
    "$$\n",
    "  (X_1,Y_1,Z_1)\\sim(X_2,Y_2,Z_2),\n",
    "$$  \n",
    "если существует такое $\\;\\lambda\\in\\mathbb{R},\\;$ $\\;\\lambda\\neq0,\\;$ что\n",
    "$$\n",
    "  (X_1,Y_1,Z_1)=(\\lambda X_2,\\lambda Y_2,\\lambda Z_2).\n",
    "$$\n",
    "Очевидно, что бинарное отношение $\\;\\sim\\;$ обладает свойствами:\n",
    "\n",
    "1. Рефлексивность: $\\;a\\sim a;$\n",
    "\n",
    "2. Симметричность: если $\\;a\\sim b,\\;$ то $\\;b\\sim a;$\n",
    "\n",
    "3. Транзитивность:  если $\\;a\\sim b,\\;$ и $\\;b\\sim с,\\;$  то $\\;a\\sim c.$\n",
    "\n",
    "Поэтому $\\;\\sim\\;$ - отношение эквивалентности и оно разбивает точки $\\;(X,Y,Z)\\;$ на классы эквивалентности. Элементы одного класса лежат на прямой, проходящей через точку $\\;(0,0,0).\\;$ Классы эквивалентности будем называть <font color='blue'>проективными точками</font>. Плоскости, проходящие через точку $\\;(0,0,0),\\;$ будем называть <font color='blue'>проективными прямыми</font>. Множество всех проективных точек называется <font color='blue'>проективной плоскостью</font>. \n"
   ]
  },
  {
   "cell_type": "markdown",
   "id": "f15a0107",
   "metadata": {
    "slideshow": {
     "slide_type": "subslide"
    }
   },
   "source": [
    "### Эллиптическая кривая в проективной плоскости\n",
    "Очевидно, что если $\\;(X,Y,Z)\\;$ удовлетворяет уравнению\n",
    "$$\n",
    "  Y^2Z=X^3+aXZ^2+bZ^3,\\qquad\\qquad(2)\n",
    "$$  \n",
    "то $\\;(\\lambda X,\\lambda Y,\\lambda Z)\\;$ также удовлетворяет данному уравнению. То есть корректно говорить о том, что проективные точки удовлетворяют или не удовлетворяют уравнению $(2).$ Под <font color='blue'>эллиптической кривой в проективных координатах</font> мы будем понимать множество проективных точек, удовлетворяющих уравнению $(2).$\n",
    "\n",
    "Если координата $\\;Z\\;$ точки эллиптической кривой отлична от нуля, то в качестве представителя класса эквивалентности можно рассматривать точку $   \\;\\left(\\frac{X}{Z},\\frac{Y}{Z}, 1\\right).\\;\n",
    "$   При этом точка $\n",
    "  \\;\\left(\\frac{X}{Z},\\frac{Y}{Z}\\right)\\;\n",
    "$\n",
    "удовлетворяет уравнению $(1).$ Мы получили правило перевода проективных координат в декартовы при $\\;Z\\neq 0$\n",
    "$$\n",
    "  (X,Y,Z)\\quad \\rightarrow\\quad \\left(\\frac{X}{Z},\\frac{Y}{Z}\\right).\n",
    "$$\n",
    "\n",
    "\n",
    "Верно и обратное, если конечная точка $\\;(x,y)\\;$ удовлетворяет $(1),$ то точка $\\;(x,y,1)\\;$ удовлетворяет $(2)$ \n",
    "$$\n",
    "  (x,y)\\quad\\rightarrow\\quad (x,y,1).\n",
    "$$\n"
   ]
  },
  {
   "cell_type": "markdown",
   "id": "d59faf55",
   "metadata": {
    "slideshow": {
     "slide_type": "subslide"
    }
   },
   "source": [
    "### Бесконечно удаленная точка $\\;O=(0,1,0)$\n",
    "Пусть $\\;Z=0,$ тогда (2) примет вид $\\;0=X^3,$ откуда следует, что $\\;X=0\\;$ и эллиптической кривой в проективных координатах принадлежит лишь одна проективная точка $\\;(0,1,0)\\;$ с координатой $Z=0.$\n",
    "(В том числе все точки, ей эквивалентные).\n",
    "\n",
    "Сопоставим точку $\\;(0,1,0)\\;$ с придуманной нами бесконечно удаленной точкой $\\;O\\;$ кривой (1):\n",
    "$$\n",
    "   O\\quad \\leftrightarrow\\quad  (0,1,0).\n",
    "  $$\n",
    "\n",
    "\n",
    "Плоскость, проходящая через ось $\\;OY\\;$ (то есть проективная прямая, проходящая через точку $\\;(0,1,0)$) будет пересекать плоскость $\\;(x,y,1)\\;$ по прямой $\\;x=x_0,\\;$ поэтому, как мы писали ранее, бесконечно удаленная точка  $\\;O=(0,1,0)\\;$ принадлежит всем вертикальным прямым. Получили взамно однозначное соответствие между вертикальными прямыми:\n",
    "$$\n",
    "  \\{(x_0,y)\\mid y\\in\\mathbb{R}\\}\\cup O\\quad \\leftrightarrow\\quad \\{(x_0,y,1)\\mid y\\in\\mathbb{R}\\}\\cup (0,1,0).\n",
    "  $$\n",
    "\n",
    "В проективных координатах определение бесконечно удаленной точки более естественно. И с точки зрения программирования проективные координаты удобнее для задания бесконечно удаленной точки $\\;O=(0,1,0),\\;$ так как теперь её координаты задаются тремя числами, как и у остальных точек, а не объектом `None`, из-за чего в код приходилось добавлять ветвления для обработки бесконечно удаленной точки.\n",
    " "
   ]
  },
  {
   "cell_type": "markdown",
   "id": "2221f19d",
   "metadata": {
    "slideshow": {
     "slide_type": "subslide"
    }
   },
   "source": [
    "### Сложение проективных точек эллиптической кривой \n",
    "Пусть $\\;P=(X_1,Y_1,Z_1),\\;$ $\\;Q=(X_2,Y_2,Z_2)\\;$ две точки эллиптической кривой в проективных коорднатах.\n",
    "\n",
    "Найдем координаты суммы данных точек \n",
    "$$\n",
    "  P+Q=R=(X_3,Y_3,Z_3).\n",
    "$$\n",
    "\n",
    "Если $\\;Z_1=0,\\;$ то $\\;P+Q=Q.\\;$  Если $\\;Z_2=0,\\;$  то $\\;P+Q=P.$  \n",
    "\n",
    "Далее будем считать, что $Z_1\\neq0,$ $Z_2\\neq0.$ \n",
    "\n",
    "Тогда точки $\\;P,\\;$ $\\;Q\\;$ в декартовых координатах имеют вид\n",
    "$$\n",
    "  P=\\left(\\frac{X_1}{Z_1},\\frac{Y_1}{Z_1}\\right),\\qquad Q=\\left(\\frac{X_2}{Z_2},\\frac{Y_2}{Z_2}\\right)\n",
    "$$  \n",
    "и мы для вывода формул суммы проективных точек можем воспользоваться формулами суммы точек в декартовых координатах."
   ]
  },
  {
   "cell_type": "markdown",
   "id": "7c352c78",
   "metadata": {
    "slideshow": {
     "slide_type": "subslide"
    }
   },
   "source": [
    "### Сложение точек с различными абсциссами \n",
    "Пусть $\\;x_1\\neq  x_2.\\;$ Где \n",
    "$$\\;x_1=\\frac{X_1}{Z_1},\\; x_2=\\frac{X_2}{Z_2},\\;\n",
    "$$ \n",
    "но так как делить мы не будем с целью повышения эффективности алгоритма, то в проективных координатах данное неравенство имеет вид\n",
    "$$\n",
    "  X_1Z_2\\neq X_2Z_1.\n",
    "$$  \n",
    "В этом случае координаты суммы в декартовых координатах имеют вид\n",
    "$$\n",
    "x_3:=k^2-x_1-x_2,\\quad y_3:=k(x_1-x_3)-y_1,\\qquad k:=\\frac{y_2-y_1}{x_2-x_1}.\n",
    "$$\n",
    "Выразим $\\;k\\;$ через проективные координаты\n",
    "$$\n",
    "  k=\\frac{y_2-y_1}{x_2-x_1}=\\frac{Y_2/Z_2-Y_1/Z_1}{X_2/Z_2-X_1/Z_1}=\\frac{Y_2Z_1-Y_1Z_2}{X_2Z_1-X_1Z_2}\n",
    "$$ \n",
    "Обозначим\n",
    "$$\n",
    "  u_1:=Y_2Z_1,\\; u_2:=Y_1Z_2,\\; u:=u_1-u_2,\\quad v_1:=X_2Z_1,\\; v_2:=X_1Z_2,\\; v:=v_1-v_2.\n",
    "$$  "
   ]
  },
  {
   "cell_type": "markdown",
   "id": "74d1e720",
   "metadata": {
    "slideshow": {
     "slide_type": "subslide"
    }
   },
   "source": [
    "Теперь $\\; k= \\frac{u}{v},$ и мы можем выразить $\\;x_3\\;$ в проективных координатах \n",
    "$$\n",
    "  x_3=\\frac{u^2}{v^2}-\\frac{X_1}{Z_1}-\\frac{X_2}{Z_2}=\\frac{u^2Z_1Z_2-v^2(X_1Z_2+X_2Z_1)}{v^2Z_1Z_2}=\\frac{w}{v^2Z_1Z_2}.\n",
    "$$\n",
    "где\n",
    "$$\n",
    "  w:=u^2Z_1Z_2-v^3-2v^2v_2.\n",
    "$$\n",
    "После чего\n",
    "$$\n",
    "  y_3=k(x_1-x_3)-y_1=\\frac{u}{v}\\left(\\frac{X_1}{Z_1}-\\frac{w}{v^2Z_1Z_2}\\right)-\\frac{Y_1}{Z_1}=\n",
    "\\frac{u(v^2X_1Z_2-w)-v^3Y_1Z_2}{v^3Z_1Z_2}.\n",
    "$$\n",
    "Мы выразили сумму через проективную точку\n",
    "$$\n",
    "  \\left(\\frac{w}{v^2Z_1Z_2},\\;\\frac{u(v^2X_1Z_2-w)-v^3Y_1Z_2}{v^3Z_1Z_2},1\\right).\n",
    "$$\n",
    "В качестве представителя данной точки возьмем такой, где не надо делить:\n",
    "$$\n",
    "  (X_3,\\;Y_3,\\;Z_3):=(v w,\\; u(v^2v_2-w)-v^3u_2,\\;v^3Z_1Z_2).\n",
    "$$  "
   ]
  },
  {
   "cell_type": "markdown",
   "id": "08d7a077",
   "metadata": {
    "slideshow": {
     "slide_type": "subslide"
    }
   },
   "source": [
    "### Удвоение точки\n",
    "Найдем координаты  \n",
    "$$\n",
    "R = (X_3,Y_3,Z_3):= 2P = P + P,\\qquad P=(X,Y,Z).\n",
    "$$\n",
    "Если $\\;Y=0,\\;$ то $\\;R=O.$\n",
    "\n",
    "Воспользуемся формулами удвоения для декартовых координат\n",
    "$$\n",
    "x_3:=k^2-2x_1,\\quad   y_3:=k(x_1-x_3)-y_1,\\qquad k:=\\frac{3x_1^2+a}{2y_1}.\n",
    "$$\n",
    "Выразим $\\;k\\;$ через проективные координаты\n",
    "$$\n",
    "k:=\\frac{3x_1^2+a}{2y_1}=\\frac{3X^2/Z^2+a}{2Y/Z}=\\frac{3X^2+aZ^2}{2YZ}\n",
    "$$\n",
    "Введем обозначения\n",
    "$$\n",
    "  w:=3X^2+aZ^2,\\qquad s=YZ.\n",
    "$$\n",
    "В новых обозначениях \n",
    "$$\n",
    "  k = \\frac{w}{2s}.\n",
    "$$"
   ]
  },
  {
   "cell_type": "markdown",
   "id": "deecbcc2",
   "metadata": {
    "slideshow": {
     "slide_type": "subslide"
    }
   },
   "source": [
    "Выразим $\\;x_3\\;$ через проективные координаты\n",
    "$$\n",
    "  x_3:=k^2-2x_1=\\frac{w^2}{4s^2}-\\frac{2X}{Z}=\\frac{w^2-8sXY}{4s^2}.\n",
    "$$\n",
    "Пусть $\\;t:=sXY,\\quad h:=w^2-8t,\\;$ тогда\n",
    "$$\n",
    "x_3=\\frac{h}{4s^2}.\n",
    "$$\n",
    "Теперь найдем $y_3$\n",
    "$$\n",
    "   y_3:=k(x_1-x_3)-y_1= \\frac{w}{2s}\\left(\\frac{X}{Z}-\\frac{h}{4s^2}\\right)-\\frac{Y}{Z}=\\frac{w(4t-h)-8Y^2s^2}{8s^3}\n",
    "$$\n",
    "Получили координаты точки $\\;R=2P$\n",
    "$$\n",
    "  X_3=2hs,\\qquad Y_3=w(4t-h)-8Y^2s^2,\\qquad Z_3=8s^3.\n",
    "$$"
   ]
  },
  {
   "cell_type": "markdown",
   "id": "9c8fd73e",
   "metadata": {
    "slideshow": {
     "slide_type": "skip"
    }
   },
   "source": [
    "### <font color='red'>Задание 1.</font>\n",
    "Реализовать классы `ProjectiveCurve` и `ProjectivePoint`. Для объектов класса `ProjectivePoint` реализовать операции сложения и умножения на скаляр."
   ]
  },
  {
   "cell_type": "code",
   "execution_count": 1,
   "id": "1f223e03",
   "metadata": {},
   "outputs": [],
   "source": [
    "class ProjectiveCurve:\n",
    "    def __init__(self, a, b, p):\n",
    "        self.a = a % p\n",
    "        self.b = b % p\n",
    "        self.p = p\n",
    "    def __str__(self):\n",
    "        return f'Y^2 Z = X^3 + {self.a}X Z^2 + {self.b} Z^3'\n",
    "    \n",
    "class ProjectivePoint:\n",
    "    def __init__(self, ProjectiveCurve, X, Y, Z):\n",
    "        a = ProjectiveCurve.a\n",
    "        b = ProjectiveCurve.b\n",
    "        p = ProjectiveCurve.p\n",
    "        \n",
    "        self.parameters = [a, b, p]\n",
    "        if Y*Y*Z % p == (pow(X, 3, p) + a*X*Z*Z % p + b*pow(Z, 3, p)) % p:\n",
    "            self.X = X % p\n",
    "            self.Y = Y % p\n",
    "            self.Z = Z % p    \n",
    "        else:\n",
    "            print(f'Точка не принадлежит кривой')\n",
    "    \n",
    "    def __str__(self):\n",
    "        return f'[{self.X}, {self.Y}, {self.Z}]'\n",
    "    \n",
    "    def __repr__(self):\n",
    "        return f'[{self.X}, {self.Y}, {self.Z}]'"
   ]
  },
  {
   "cell_type": "markdown",
   "id": "a54bdc0a",
   "metadata": {
    "slideshow": {
     "slide_type": "subslide"
    }
   },
   "source": [
    "### Сложение точек с различными абсциссами \n",
    "Пусть $\\;x_1\\neq  x_2.\\;$ Где \n",
    "$$\\;x_1=\\frac{X_1}{Z_1},\\; x_2=\\frac{X_2}{Z_2},\\;\n",
    "$$ \n",
    "но так как делить мы не будем с целью повышения эффективности алгоритма, то в проективных координатах данное неравенство имеет вид\n",
    "$$\n",
    "  X_1Z_2\\neq X_2Z_1.\n",
    "$$  \n",
    "В этом случае координаты суммы в декартовых координатах имеют вид\n",
    "$$\n",
    "x_3:=k^2-x_1-x_2,\\quad y_3:=k(x_1-x_3)-y_1,\\qquad k:=\\frac{y_2-y_1}{x_2-x_1}.\n",
    "$$\n",
    "Выразим $\\;k\\;$ через проективные координаты\n",
    "$$\n",
    "  k=\\frac{y_2-y_1}{x_2-x_1}=\\frac{Y_2/Z_2-Y_1/Z_1}{X_2/Z_2-X_1/Z_1}=\\frac{Y_2Z_1-Y_1Z_2}{X_2Z_1-X_1Z_2}\n",
    "$$ \n",
    "Обозначим\n",
    "$$\n",
    "  u_1:=Y_2Z_1,\\; u_2:=Y_1Z_2,\\; u:=u_1-u_2,\\quad v_1:=X_2Z_1,\\; v_2:=X_1Z_2,\\; v:=v_1-v_2.\n",
    "$$  "
   ]
  },
  {
   "cell_type": "markdown",
   "id": "63bb3f2f",
   "metadata": {
    "slideshow": {
     "slide_type": "subslide"
    }
   },
   "source": [
    "Теперь $\\; k= \\frac{u}{v},$ и мы можем выразить $\\;x_3\\;$ в проективных координатах \n",
    "$$\n",
    "  x_3=\\frac{u^2}{v^2}-\\frac{X_1}{Z_1}-\\frac{X_2}{Z_2}=\\frac{u^2Z_1Z_2-v^2(X_1Z_2+X_2Z_1)}{v^2Z_1Z_2}=\\frac{w}{v^2Z_1Z_2}.\n",
    "$$\n",
    "где\n",
    "$$\n",
    "  w:=u^2Z_1Z_2-v^3-2v^2v_2.\n",
    "$$\n",
    "После чего\n",
    "$$\n",
    "  y_3=k(x_1-x_3)-y_1=\\frac{u}{v}\\left(\\frac{X_1}{Z_1}-\\frac{w}{v^2Z_1Z_2}\\right)-\\frac{Y_1}{Z_1}=\n",
    "\\frac{u(v^2X_1Z_2-w)-v^3Y_1Z_2}{v^3Z_1Z_2}.\n",
    "$$\n",
    "Мы выразили сумму через проективную точку\n",
    "$$\n",
    "  \\left(\\frac{w}{v^2Z_1Z_2},\\;\\frac{u(v^2X_1Z_2-w)-v^3Y_1Z_2}{v^3Z_1Z_2},1\\right).\n",
    "$$\n",
    "В качестве представителя данной точки возьмем такой, где не надо делить:\n",
    "$$\n",
    "  (X_3,\\;Y_3,\\;Z_3):=(v w,\\; u(v^2v_2-w)-v^3u_2,\\;v^3Z_1Z_2).\n",
    "$$  "
   ]
  },
  {
   "cell_type": "code",
   "execution_count": 2,
   "id": "251a7525",
   "metadata": {},
   "outputs": [],
   "source": [
    "def doubling(P: ProjectivePoint) -> ProjectivePoint:\n",
    "    a, b, p = P.parameters  # будут храниться в памяти, но код получится более лаконичным\n",
    "    X, Y, Z = P.X, P.Y, P.Z\n",
    "    if Y == 0:\n",
    "        return ProjectivePoint(ProjectiveCurve(a, b, p), 0, 1, 0)\n",
    "    else:\n",
    "        w = (3*X*X + a*Z*Z) % p\n",
    "        s = Y*Z % p\n",
    "        t = s*X*Y % p\n",
    "        h = (w*w - 8*t) % p\n",
    "        \n",
    "        X3 = 2*h*s\n",
    "        Y3 = w*(4*t - h) % p - 8*Y*Y*s*s % p\n",
    "        Z3 = 8*pow(s, 3, p)\n",
    "        \n",
    "        return ProjectivePoint(ProjectiveCurve(a, b, p), X3, Y3, Z3)\n",
    "\n",
    "def __add__(self, other: ProjectivePoint) -> ProjectivePoint:\n",
    "    p = self.parameters[2]\n",
    "    \n",
    "    # случай, когда 3-я координата равна 0\n",
    "    if self.Z == 0:\n",
    "        return other\n",
    "    if other.Z == 0:\n",
    "        return self\n",
    "    \n",
    "    # одинаковые точки\n",
    "    if self.X*other.Y % p == self.Y*other.X % p:\n",
    "        return self.doubling()\n",
    "    \n",
    "    # сложение точек с различными абсциссами\n",
    "    v1 = other.X*self.Z % p\n",
    "    v2 = self.X*other.Z % p\n",
    "    v = (v1 - v2) % p \n",
    "    \n",
    "    v3 = pow(v, 3, p)\n",
    "    u2 = self.Y*other.Z % p\n",
    "    u = (other.Y*self.Z - u2) % p\n",
    "    \n",
    "    w = (u*u*self.Z*other.Z % p - v3 - 2*v*v*v2 % p) % p\n",
    "\n",
    "    X3 = v*w\n",
    "    Y3 = u*(v*v*v2 - w) % p - v3*u2 % p\n",
    "    Z3 = v3*self.Z*other.Z\n",
    "\n",
    "    return ProjectivePoint(ProjectiveCurve(self.parameters[0], self.parameters[1], p), X3, Y3, Z3)\n",
    "\n",
    "ProjectivePoint.doubling = doubling\n",
    "ProjectivePoint.__add__ = __add__"
   ]
  },
  {
   "cell_type": "markdown",
   "id": "6bec237b",
   "metadata": {
    "slideshow": {
     "slide_type": "subslide"
    }
   },
   "source": [
    "### Удвоение точки\n",
    "Найдем координаты  \n",
    "$$\n",
    "R = (X_3,Y_3,Z_3):= 2P = P + P,\\qquad P=(X,Y,Z).\n",
    "$$\n",
    "Если $\\;Y=0,\\;$ то $\\;R=O.$\n",
    "\n",
    "Воспользуемся формулами удвоения для декартовых координат\n",
    "$$\n",
    "x_3:=k^2-2x_1,\\quad   y_3:=k(x_1-x_3)-y_1,\\qquad k:=\\frac{3x_1^2+a}{2y_1}.\n",
    "$$\n",
    "Выразим $\\;k\\;$ через проективные координаты\n",
    "$$\n",
    "k:=\\frac{3x_1^2+a}{2y_1}=\\frac{3X^2/Z^2+a}{2Y/Z}=\\frac{3X^2+aZ^2}{2YZ}\n",
    "$$\n",
    "Введем обозначения\n",
    "$$\n",
    "  w:=3X^2+aZ^2,\\qquad s=YZ.\n",
    "$$\n",
    "В новых обозначениях \n",
    "$$\n",
    "  k = \\frac{w}{2s}.\n",
    "$$"
   ]
  },
  {
   "cell_type": "markdown",
   "id": "d0ad7769",
   "metadata": {
    "slideshow": {
     "slide_type": "subslide"
    }
   },
   "source": [
    "Выразим $\\;x_3\\;$ через проективные координаты\n",
    "$$\n",
    "  x_3:=k^2-2x_1=\\frac{w^2}{4s^2}-\\frac{2X}{Z}=\\frac{w^2-8sXY}{4s^2}.\n",
    "$$\n",
    "Пусть $\\;t:=sXY,\\quad h:=w^2-8t,\\;$ тогда\n",
    "$$\n",
    "x_3=\\frac{h}{4s^2}.\n",
    "$$\n",
    "Теперь найдем $y_3$\n",
    "$$\n",
    "   y_3:=k(x_1-x_3)-y_1= \\frac{w}{2s}\\left(\\frac{X}{Z}-\\frac{h}{4s^2}\\right)-\\frac{Y}{Z}=\\frac{w(4t-h)-8Y^2s^2}{8s^3}\n",
    "$$\n",
    "Получили координаты точки $\\;R=2P$\n",
    "$$\n",
    "  X_3=2hs,\\qquad Y_3=w(4t-h)-8Y^2s^2,\\qquad Z_3=8s^3.\n",
    "$$"
   ]
  },
  {
   "cell_type": "code",
   "execution_count": 3,
   "id": "cbf2131a",
   "metadata": {},
   "outputs": [],
   "source": [
    "def __rmul__(self, scalar: int) -> ProjectivePoint:\n",
    "    m = bin(scalar)[2:]\n",
    "    R = ProjectivePoint(ProjectiveCurve(self.parameters[0], self.parameters[1], self.parameters[-1]), 0, 1, 0)\n",
    "    Q = self\n",
    "    for i in range(len(m)):\n",
    "        if int(m[i]) == 1:\n",
    "            R += Q\n",
    "        Q += Q\n",
    "\n",
    "    return R\n",
    "        \n",
    "ProjectivePoint.__rmul__ = __rmul__"
   ]
  },
  {
   "cell_type": "code",
   "execution_count": 24,
   "id": "23d786ae",
   "metadata": {},
   "outputs": [],
   "source": [
    "def __eq__(self, other: ProjectivePoint) -> bool:\n",
    "    p = self.parameters[-1]\n",
    "    if self.X == other.X == 0 and self.Z == other.Z == 0:\n",
    "        return True\n",
    "    elif (self.X*other.Y % p == self.Y*other.X % p and self.Y*other.Z % p == self.Z*other.Y % p):\n",
    "        return True\n",
    "    else:\n",
    "        return False\n",
    "    \n",
    "ProjectivePoint.__eq__ = __eq__"
   ]
  },
  {
   "cell_type": "markdown",
   "id": "b9308471",
   "metadata": {
    "slideshow": {
     "slide_type": "skip"
    }
   },
   "source": [
    "### <font color='red'>Задание 2.</font>\n",
    "Проверить выполнение ассоциативности и коммутативности сложения точек эллиптической кривой в проективных координатах."
   ]
  },
  {
   "cell_type": "code",
   "execution_count": 18,
   "id": "4e23dd2e",
   "metadata": {},
   "outputs": [],
   "source": [
    "PC = ProjectiveCurve(1, 1, 7)\n",
    "PP1 = ProjectivePoint(PC, 2, 2, 1)\n",
    "PP2 = ProjectivePoint(PC, 2, 5, 1)\n",
    "PP3 = ProjectivePoint(PC, 0, 6, 1)"
   ]
  },
  {
   "cell_type": "markdown",
   "id": "4db32c02",
   "metadata": {},
   "source": [
    "Проверим выполнение ассоциативности: $p_1 + (p_2 + p_3) = (p_1 + p_2) + p_3$"
   ]
  },
  {
   "cell_type": "code",
   "execution_count": 19,
   "id": "00f70af5",
   "metadata": {},
   "outputs": [
    {
     "data": {
      "text/plain": [
       "[0, 1, 6]"
      ]
     },
     "execution_count": 19,
     "metadata": {},
     "output_type": "execute_result"
    }
   ],
   "source": [
    "PP1 + (PP2 + PP3)"
   ]
  },
  {
   "cell_type": "code",
   "execution_count": 20,
   "id": "d5feadd7",
   "metadata": {},
   "outputs": [
    {
     "data": {
      "text/plain": [
       "[0, 6, 1]"
      ]
     },
     "execution_count": 20,
     "metadata": {},
     "output_type": "execute_result"
    }
   ],
   "source": [
    "(PP1 + PP2) + PP3"
   ]
  },
  {
   "cell_type": "code",
   "execution_count": 25,
   "id": "b75879b1",
   "metadata": {},
   "outputs": [
    {
     "data": {
      "text/plain": [
       "True"
      ]
     },
     "execution_count": 25,
     "metadata": {},
     "output_type": "execute_result"
    }
   ],
   "source": [
    "PP4 = ProjectivePoint(PC, 0, 1, 6)\n",
    "PP5 = ProjectivePoint(PC, 0, 6, 1)\n",
    "PP4 == PP5"
   ]
  },
  {
   "cell_type": "markdown",
   "id": "f8a650ba",
   "metadata": {},
   "source": [
    "Проверим выполнение коммутативности: $p_1 + p_2 = p_2 + p_1$"
   ]
  },
  {
   "cell_type": "code",
   "execution_count": 8,
   "id": "8bfb2372",
   "metadata": {},
   "outputs": [
    {
     "data": {
      "text/plain": [
       "[0, 1, 0]"
      ]
     },
     "execution_count": 8,
     "metadata": {},
     "output_type": "execute_result"
    }
   ],
   "source": [
    "PP1 + PP2"
   ]
  },
  {
   "cell_type": "code",
   "execution_count": 9,
   "id": "107b5843",
   "metadata": {},
   "outputs": [
    {
     "data": {
      "text/plain": [
       "[0, 6, 0]"
      ]
     },
     "execution_count": 9,
     "metadata": {},
     "output_type": "execute_result"
    }
   ],
   "source": [
    "PP2 + PP1"
   ]
  },
  {
   "cell_type": "markdown",
   "id": "48f1cf0d",
   "metadata": {
    "slideshow": {
     "slide_type": "skip"
    }
   },
   "source": [
    "### <font color='red'>Задание 3.</font>\n",
    "При помощи  кривой SECP256k1 сравнить скорость вычисления скалярного умножения в\n",
    "- декартовых координатах;  \n",
    "- проективных координатах.  \n",
    "\n"
   ]
  },
  {
   "cell_type": "code",
   "execution_count": 10,
   "id": "61e4fc2e",
   "metadata": {},
   "outputs": [],
   "source": [
    "a = 0\n",
    "b = 7\n",
    "p = 115792089237316195423570985008687907853269984665640564039457584007908834671663\n",
    "\n",
    "x = 55066263022277343669578718895168534326250603453777594175500187360389116729240\n",
    "y = 32670510020758816978083085130507043184471273380659243275938904335757337482424"
   ]
  },
  {
   "cell_type": "code",
   "execution_count": 11,
   "id": "8a9acfcf",
   "metadata": {
    "slideshow": {
     "slide_type": "skip"
    }
   },
   "outputs": [],
   "source": [
    "class Curve:\n",
    "    def __init__(self, a, b, p):\n",
    "        a %= p\n",
    "        b %= p\n",
    "        if (27*b*b + 4*pow(a, 3, p)) % p != 0:\n",
    "            self.a = a\n",
    "            self.b = b\n",
    "            self.p = p\n",
    "        else:\n",
    "            print('Дискриминант < 0')\n",
    "    def __str__(self):\n",
    "        return f'y^2 = x^3 + {self.a}x + {self.b}'\n",
    "    \n",
    "class Point:\n",
    "    def __init__(self, Curve, x, y):\n",
    "        self.parameters = [Curve.a, Curve.b, Curve.p]\n",
    "        if x == y == None:\n",
    "            self.x = x\n",
    "            self.y = x\n",
    "        elif pow(y, 2, Curve.p) == (pow(x, 3, Curve.p) + Curve.a*x + Curve.b) % Curve.p:\n",
    "            self.x = x\n",
    "            self.y = y\n",
    "        else:\n",
    "            print('Точка не принадлежит кривой')\n",
    "    \n",
    "    def __str__(self):\n",
    "        return f'[{self.x}, {self.y}]'\n",
    "    \n",
    "    def __repr__(self):\n",
    "        return f'[{self.x}, {self.y}]'"
   ]
  },
  {
   "cell_type": "code",
   "execution_count": 12,
   "id": "38111161",
   "metadata": {
    "slideshow": {
     "slide_type": "skip"
    }
   },
   "outputs": [],
   "source": [
    "def ExtendedGCD(a, b):  # расширенный алгоритм Евклида\n",
    "    m11, m12 = 1, 0\n",
    "    m21, m22 = 0, 1\n",
    "    while b:\n",
    "        q = a // b\n",
    "        r = a % b\n",
    "        a, b = b, r\n",
    "        m11, m12 = m12, m11 - m12*q\n",
    "        m21, m22 = m22, m21 - m22*q \n",
    "    return (m11,m21)\n",
    "\n",
    "def addition(self, point) -> Point:\n",
    "    if self.x == self.y == point.x == point.y == None:\n",
    "        return Point(Curve(self.parameters[0], self.parameters[1], self.parameters[2]), None, None)\n",
    "    elif self.x == self.y == None:\n",
    "        return point\n",
    "    elif point.x == point.y == None:\n",
    "        return Point(Curve(self.parameters[0], self.parameters[1], self.parameters[2]), self.x, self.y)\n",
    "    else:\n",
    "        if self.x != point.x:\n",
    "            a, _ = ExtendedGCD(point.x - self.x, self.parameters[2])\n",
    "            k = (point.y - self.y)*a % self.parameters[2]\n",
    "            x = (k*k - self.x - point.x) % self.parameters[2]\n",
    "            y = (k*(self.x - x) - self.y) % self.parameters[2]\n",
    "        elif self.x == point.x and self.y == point.y and self.y != 0:\n",
    "            a, _ = ExtendedGCD(2*self.y, self.parameters[2])\n",
    "            k = (3*self.x*self.x + self.parameters[0])*a % self.parameters[2]\n",
    "            x = (k*k - 2*self.x) % self.parameters[2]\n",
    "            y = (k*(self.x - x) - self.y) % self.parameters[2]\n",
    "        elif self.x == point.x and self.y == point.y == 0:\n",
    "            x = None\n",
    "            y = None\n",
    "        elif self.x == point.x and self.y != point.y:\n",
    "            x = None\n",
    "            y = None \n",
    "        \n",
    "        return Point(Curve(self.parameters[0], self.parameters[1], self.parameters[2]), x, y)\n",
    "    \n",
    "def scalar_product(self, m: int) -> Point:\n",
    "    m = bin(m)[2:]\n",
    "    result = Point(Curve(self.parameters[0], self.parameters[1], self.parameters[2]), None, None)\n",
    "    Q = self\n",
    "    for i in range(len(m)):\n",
    "        if int(m[i]) == 1:\n",
    "            result = result.addition(Q)\n",
    "        Q = Q.addition(Q)\n",
    "        \n",
    "    return result\n",
    "\n",
    "Point.scalar_product = scalar_product\n",
    "Point.addition = addition"
   ]
  },
  {
   "cell_type": "code",
   "execution_count": 13,
   "id": "84d4adeb",
   "metadata": {},
   "outputs": [],
   "source": [
    "DC = Curve(a, b, p)\n",
    "G = Point(DC, x, y)"
   ]
  },
  {
   "cell_type": "code",
   "execution_count": 14,
   "id": "604aabdf",
   "metadata": {},
   "outputs": [
    {
     "name": "stdout",
     "output_type": "stream",
     "text": [
      "Wall time: 880 ms\n"
     ]
    }
   ],
   "source": [
    "%%time\n",
    "for i in range(1, 1_000):\n",
    "    G.scalar_product(i)"
   ]
  },
  {
   "cell_type": "code",
   "execution_count": 15,
   "id": "8c0b17f3",
   "metadata": {},
   "outputs": [],
   "source": [
    "PC = ProjectiveCurve(a, b, p)\n",
    "GP = ProjectivePoint(PC, x, y, 1)"
   ]
  },
  {
   "cell_type": "code",
   "execution_count": 16,
   "id": "afa5bcb9",
   "metadata": {},
   "outputs": [
    {
     "name": "stdout",
     "output_type": "stream",
     "text": [
      "Wall time: 197 ms\n"
     ]
    }
   ],
   "source": [
    "%%time\n",
    "for i in range(1, 1_000):\n",
    "    i*GP"
   ]
  }
 ],
 "metadata": {
  "celltoolbar": "Слайд-шоу",
  "kernelspec": {
   "display_name": "Python 3 (ipykernel)",
   "language": "python",
   "name": "python3"
  },
  "language_info": {
   "codemirror_mode": {
    "name": "ipython",
    "version": 3
   },
   "file_extension": ".py",
   "mimetype": "text/x-python",
   "name": "python",
   "nbconvert_exporter": "python",
   "pygments_lexer": "ipython3",
   "version": "3.9.7"
  }
 },
 "nbformat": 4,
 "nbformat_minor": 5
}
