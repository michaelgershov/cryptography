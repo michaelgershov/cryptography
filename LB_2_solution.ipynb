{
 "cells": [
  {
   "cell_type": "markdown",
   "id": "5b5db724",
   "metadata": {},
   "source": [
    "# Тема 2. Генерация простых чисел\n",
    "## Лабораторная работа №2\n",
    "\n",
    "Гершов Михаил Дмитриевич\n",
    "\n",
    "$N$ - ограничение на длину входных данных\n",
    "\n",
    "### Свидетели простоты\n",
    "\n",
    "Пусть ${n\\in\\mathbb{N}}$ нечетное число и \n",
    "$$\n",
    "  n-1=2^st,\n",
    "$$\n",
    "$t$ — нечетное. \n",
    "\n",
    "Число ${a\\in\\mathbb{N}},$ ${0<a<n,}$ называется свидетелем простоты числа $n,$ если выполняются оба условия:\n",
    "\n",
    "$1)$ $НОД(a,n)=1;$\n",
    "\n",
    "$2)$ Справедливо хотя бы одно из сравнений \n",
    "$$a^t\\equiv1\\mod n,\\qquad a^{t}\\equiv-1\\mod\n",
    "    n,\\qquad a^{2t}\\equiv-1\\mod\n",
    "    n,\\qquad\\dots,\\qquad a^{2^{s-1}t}\\equiv-1\\mod\n",
    "    n.\n",
    "$$"
   ]
  },
  {
   "cell_type": "code",
   "execution_count": 142,
   "id": "bae6c74e",
   "metadata": {},
   "outputs": [],
   "source": [
    "import math, random, sympy\n",
    "\n",
    "\n",
    "def TrialDivision(n):\n",
    "    d = 2\n",
    "    while d <= n**0.5:\n",
    "        if n % d == 0:\n",
    "            return False\n",
    "        d += 1\n",
    "    return True\n",
    "\n",
    "def st(n):\n",
    "    s = 0\n",
    "    t = n - 1\n",
    "    while t % 2 == 0:\n",
    "        s += 1\n",
    "        t = t // 2\n",
    "    return s, t\n",
    "\n",
    "# тест на свидетельство простоты\n",
    "def WitnessQ(a, n, s = 0, t = 0):  \n",
    "    if n % 2 == 0:\n",
    "        return False\n",
    "    if s == 0:\n",
    "        s, t = st(n)    \n",
    "    if math.gcd(a,n) > 1:\n",
    "        return False\n",
    "    b = pow(a,t,n)\n",
    "    if b == 1 or b == n - 1:  # модуль - число положительное\n",
    "        return True\n",
    "    for _ in range(1,s):\n",
    "        b = b**2 % n\n",
    "        if b == n - 1:\n",
    "            return True\n",
    "    return False\n",
    "\n",
    "def ExtendedGCD(a, b):  # расширенный алгоритм Евклида\n",
    "    m11, m12 = 1, 0\n",
    "    m21, m22 = 0, 1\n",
    "    while b:\n",
    "        q = a // b\n",
    "        r = a % b\n",
    "        a, b = b, r\n",
    "        m11, m12 = m12, m11 - m12*q\n",
    "        m21, m22 = m22, m21 - m22*q \n",
    "    return (m11,m21)\n",
    "\n",
    "def looking_inverse_element(a, m):\n",
    "    if math.gcd(a, m) == 1:\n",
    "        return ExtendedGCD(a, m)[0] % m \n",
    "    else:\n",
    "        return 'Обратного элемента не существует'\n",
    "    \n",
    "def fast_power_leftward(a, d, m):\n",
    "    \n",
    "    \"\"\" the \"left to right\" algorithm \"\"\"\n",
    "    \n",
    "    b = a\n",
    "\n",
    "    for i in bin(d)[3:]:  # 0-я цифра не учитывается\n",
    "        b = b ** 2 * a ** int(i) % m\n",
    "        \n",
    "    return b"
   ]
  },
  {
   "cell_type": "markdown",
   "id": "6c2cc37e",
   "metadata": {},
   "source": [
    "# Задание 1.\n",
    "\n",
    "Являются ли числа 7957, 8321, 13747, 18721, 19951 псевдопростыми по основанию 2?\n",
    "\n",
    "Нечётное составное число $n$ называется псевдопростым по основанию $a,$ $1<a<n,$ если  \n",
    " $$\n",
    " a^{n-1}\\equiv1\\mod n.\n",
    " $$"
   ]
  },
  {
   "cell_type": "code",
   "execution_count": 87,
   "id": "3ccbfa9d",
   "metadata": {},
   "outputs": [
    {
     "data": {
      "text/plain": [
       "1"
      ]
     },
     "execution_count": 87,
     "metadata": {},
     "output_type": "execute_result"
    }
   ],
   "source": [
    "a = 2;\n",
    "n = 7957;\n",
    "pow(2,n - 1,n)"
   ]
  },
  {
   "cell_type": "code",
   "execution_count": 88,
   "id": "b67ae290",
   "metadata": {},
   "outputs": [
    {
     "data": {
      "text/plain": [
       "1"
      ]
     },
     "execution_count": 88,
     "metadata": {},
     "output_type": "execute_result"
    }
   ],
   "source": [
    "n = 8321;\n",
    "pow(2,n - 1,n)"
   ]
  },
  {
   "cell_type": "code",
   "execution_count": 89,
   "id": "7f8d455a",
   "metadata": {},
   "outputs": [
    {
     "data": {
      "text/plain": [
       "1"
      ]
     },
     "execution_count": 89,
     "metadata": {},
     "output_type": "execute_result"
    }
   ],
   "source": [
    "n = 13747;\n",
    "pow(2,n - 1,n)"
   ]
  },
  {
   "cell_type": "code",
   "execution_count": 90,
   "id": "18f3b59e",
   "metadata": {},
   "outputs": [
    {
     "data": {
      "text/plain": [
       "1"
      ]
     },
     "execution_count": 90,
     "metadata": {},
     "output_type": "execute_result"
    }
   ],
   "source": [
    "n = 18721;\n",
    "pow(2,n - 1,n)"
   ]
  },
  {
   "cell_type": "code",
   "execution_count": 91,
   "id": "78ced3ca",
   "metadata": {},
   "outputs": [
    {
     "data": {
      "text/plain": [
       "1"
      ]
     },
     "execution_count": 91,
     "metadata": {},
     "output_type": "execute_result"
    }
   ],
   "source": [
    "n = 19951;\n",
    "pow(2,n - 1,n)"
   ]
  },
  {
   "cell_type": "markdown",
   "id": "408c535c",
   "metadata": {},
   "source": [
    "## Задание 2.\n",
    "\n",
    "Найти число Кармайкла, порядковый номер которого соответствует Вашему порядковому номеру в списке подгруппы.\n",
    "\n",
    "### Числа Кармайкла\n",
    "\n",
    " Составное число $n\\in\\mathbb{N}$ называется **числом Кармайкла**,     если для всех натуральных $a$  таких, что $1<a<n,$ $НОД(a,n)=1,$ справедливо     сравнение \n",
    "$$\n",
    "  a^{n-1}\\equiv1\\mod n.\n",
    "$$"
   ]
  },
  {
   "cell_type": "code",
   "execution_count": 92,
   "id": "a5a92291",
   "metadata": {},
   "outputs": [],
   "source": [
    "def is_carmichael_number(n):\n",
    "    if TrialDivision(n):\n",
    "        return False\n",
    "    else:\n",
    "        flag = 0\n",
    "        for a in range(2,n):\n",
    "            if math.gcd(a,n) != 1:  # если числа не взаимно простые, то они не проверяются\n",
    "                continue\n",
    "            else:\n",
    "                if pow(a,n - 1,n) != 1:\n",
    "                    return False\n",
    "                else:\n",
    "                    flag += 1\n",
    "                      \n",
    "        if flag == 0:\n",
    "            return False\n",
    "        else:\n",
    "            return True"
   ]
  },
  {
   "cell_type": "code",
   "execution_count": 140,
   "id": "b324fbae",
   "metadata": {},
   "outputs": [
    {
     "name": "stdout",
     "output_type": "stream",
     "text": [
      "2-е число Кармайкла равно: 1105\n"
     ]
    }
   ],
   "source": [
    "index = 1;\n",
    "numbers = dict()\n",
    "n = 5\n",
    "for number in range(2,10000):\n",
    "    if is_carmichael_number(number):\n",
    "        numbers[index] = number\n",
    "        index += 1\n",
    "        \n",
    "print('2-е число Кармайкла равно:', numbers[2])"
   ]
  },
  {
   "cell_type": "markdown",
   "id": "c3957a74",
   "metadata": {},
   "source": [
    "Вычеты по модулю заданного простого числа образуют поле.\n",
    "\n",
    "Формально, поле — алгебра над множеством $F$, образующая коммутативную группу по сложению $+$ над $F$ с нейтральным элементом 0 и коммутативную группу по умножению над ненулевыми элементами $F\\setminus0$, при выполняющемся свойстве дистрибутивности умножения относительно сложения.\n",
    "\n",
    "# Задание 3.\n",
    "\n",
    "Оценить количество арифметических операций в Тесте Миллера-Рабина. Оценить временную сложность алгоритма. Является ли он полиномиальным?"
   ]
  },
  {
   "cell_type": "code",
   "execution_count": 94,
   "id": "568a130f",
   "metadata": {},
   "outputs": [],
   "source": [
    "def MillerRabinTest(n, k = 10):\n",
    "    from random import randint\n",
    "    if n % 2 == 0:\n",
    "        return False\n",
    "    s,t = st(n)\n",
    "    for _ in range(k):\n",
    "        a = randint(2,n - 1)\n",
    "        if not WitnessQ(a,n,s,t):\n",
    "            return False\n",
    "    return True"
   ]
  },
  {
   "cell_type": "markdown",
   "id": "29ce73ed",
   "metadata": {},
   "source": [
    "Если входное число является чётным, то алгоритм выполнит всего $1$ арифметическую операцию (деление с остатком на 2), если же входное число не является чётным, тогда:\n",
    "\n",
    "1. В функции $st(n)$ может быть от $5$ до $3*s + 2$ операций.\n",
    "2. В функции $randint(2,n - 1)$ от $n$ отнимается $1$ — $1$ операция.\n",
    "3. В функции $WitnessQ(a, n, s, t)$ может быть от $1$ до $(1 + (3*s + 2) + m + 3*s)$ операций.\n",
    "\n",
    "В сумме $1 + (3*s + 2) + 1 + k*(1 + (3*s + 2) + m + 3*s) = k*(6*s + 3 + m) + 3*s + 4$ операций, где $m$ — порядковый номер остатка в алогоритме Евклида, $s$ — определённое в функции число, $k$ — количество итераций. Таким образом, $$f(n,k) = k*(6*s + 3 + m) + 3*s + 4.$$\n",
    "\n",
    "Так как $n - 1 = 2^s * t$, при этом наибольшее значение достигается при $t = 1$, то $$s = [\\log_{2}{(n - 1)}].$$\n",
    "\n",
    "Количество итераций в алгоритме Евклида может быть оценено следующим образом: $$m<\\frac{\\left<n\\right>}{\\log_2G} + 1.$$\n",
    "\n",
    "Длина числа вычисляется по формуле: $$\\left<z\\right>:=\\lceil\\log_2(|z|+1)\\rceil.$$\n",
    "\n",
    "С учётом этого, получим: $$f(n,k) \\leq k*(6*[\\log_{2}{(n - 1)}] + 3 + \\frac{\\left<n\\right>}{\\log_2G} + 1) + 3*[\\log_{2}{(n - 1)}] + 4 =$$\n",
    "\n",
    "$$k*(2*3*[\\log_{2}{(n - 1)}] + 4 + \\frac{\\left<n\\right>}{\\log_2G}) + 3*[\\log_{2}{(n - 1)}] + 4 =$$\n",
    "\n",
    "$$[A = 3*[\\log_{2}{(n - 1)}] + 4] =$$\n",
    "\n",
    "$$k*(2*A + \\frac{\\left<n\\right>}{\\log_2G}) + A.$$\n",
    "\n",
    "Для временной сложности справедлива оценка:\n",
    "$$\n",
    "  T(N):=\\max\\limits_{\\left<n,k\\right>\\leq N} f(n,k) \\leq \\max\\limits_{\\left<n,k\\right>\\leq N} (k*(2*A + \\frac{\\left<n\\right>}{\\log_2G}) + A) \\leq k*f{(N)},\n",
    "$$\n",
    "где $f{(N)}$ — некоторая функция от $N$.\n",
    "\n",
    "Кроме того длина чисел, участвующих в вычислениях алгоритма, ограничена полиномом.\n",
    "\n",
    "Резюмирая всё вышесказанное, делаем вывод, что **тест Миллера-Рабина является полиномиальным алгоритмом**."
   ]
  },
  {
   "cell_type": "markdown",
   "id": "dfd4bcbb",
   "metadata": {},
   "source": [
    "# Задание 4.\n",
    "\n",
    "Используя Тесте Миллера-Рабина, написать функцию, которая генерирует случайное простое число, состоящее из $b$ бит. Проверить полученное число при помощи функции $isprime(p)$ модуля $sympy$.\n"
   ]
  },
  {
   "cell_type": "code",
   "execution_count": 99,
   "id": "7e166019",
   "metadata": {},
   "outputs": [],
   "source": [
    "def generates_prime_number(b):\n",
    "    while True:\n",
    "        n = random.randint(2**(b - 1),2**b - 1)\n",
    "        if MillerRabinTest(n):\n",
    "            return n\n",
    "        else:\n",
    "            continue"
   ]
  },
  {
   "cell_type": "code",
   "execution_count": 103,
   "id": "ca0fdf27",
   "metadata": {},
   "outputs": [
    {
     "data": {
      "text/plain": [
       "True"
      ]
     },
     "execution_count": 103,
     "metadata": {},
     "output_type": "execute_result"
    }
   ],
   "source": [
    "number = generates_prime_number(8)\n",
    "sympy.isprime(number)"
   ]
  },
  {
   "cell_type": "markdown",
   "id": "c7aba4e8",
   "metadata": {},
   "source": [
    "# Задание 5.\n",
    "\n",
    "Пусть $a = 9345883071009581737,  m = 341531$.  \n",
    "\n",
    "Доказать, что если $n<m$ и число $a$ является свидетелем простоты числа $n,$ то $n$ — простое.\n",
    "Данный факт используется в коде функции $isprime$. Доказать это утверждение можно при помощи вычислений на компьютере."
   ]
  },
  {
   "cell_type": "code",
   "execution_count": 155,
   "id": "fb89b102",
   "metadata": {},
   "outputs": [],
   "source": [
    "a = 9345883071009581737\n",
    "m = 341531\n",
    "\n",
    "def n_is_prime_number(a,m):\n",
    "    while True:\n",
    "        n = random.randint(2,m - 1)  # гарантия того, что n < m\n",
    "        if WitnessQ(a,n):  # число a — свидетель простоты числа n\n",
    "            return n\n",
    "        else:\n",
    "            continue"
   ]
  },
  {
   "cell_type": "code",
   "execution_count": 157,
   "id": "ceaf28a1",
   "metadata": {},
   "outputs": [
    {
     "data": {
      "text/plain": [
       "True"
      ]
     },
     "execution_count": 157,
     "metadata": {},
     "output_type": "execute_result"
    }
   ],
   "source": [
    "MillerRabinTest(n_is_prime_number(a,m))"
   ]
  },
  {
   "cell_type": "markdown",
   "id": "7bc27d4d",
   "metadata": {},
   "source": [
    "# Задание 6.\n",
    "\n",
    "**Теорема Н. Диемитко.**  \n",
    "Пусть \n",
    "$$\\;n=2rq+1,\\;$$\n",
    "где $q$ — нечетное простое число, \n",
    "$$r\\leq 2q+1.$$ \n",
    "\n",
    "Если существует такое число $a\\in\\mathbb{N},$ что\n",
    "  $$\n",
    "    a^{n-1}\\equiv1\\mod n,\\qquad a^{2r}\\not\\equiv 1\\mod n,\n",
    "  $$\n",
    "  то $n$ — простое число.  \n",
    "\n",
    "На основе теоремы Диемитко написать алгоритм, который, начиная с малого простого числа, строит случайное простое число, большее $n\\in\\mathbb{N}.$ Является ли полученный алгоритм: \n",
    "- детерминированным алгоритмом?\n",
    "- вероятностным алгоритмом?\n",
    "- полиномиальным алгоритмом?"
   ]
  },
  {
   "cell_type": "code",
   "execution_count": 123,
   "id": "9904c44d",
   "metadata": {},
   "outputs": [],
   "source": [
    "def algorithm_diemitko(b):\n",
    "    q = generates_prime_number(b)\n",
    "    r = 1\n",
    "    while True:\n",
    "        n = 2*r*q + 1\n",
    "        for a in range(2,n):\n",
    "            if pow(a, n - 1, n) == 1 and pow(a, 2*r, n) != 1:\n",
    "                return generates_prime_number(len(bin(n)[2:]) + 1)  # если n простое, находим случайное простое на 1 бит большее\n",
    "        r += 1"
   ]
  },
  {
   "cell_type": "code",
   "execution_count": 141,
   "id": "00c80993",
   "metadata": {},
   "outputs": [
    {
     "data": {
      "text/plain": [
       "True"
      ]
     },
     "execution_count": 141,
     "metadata": {},
     "output_type": "execute_result"
    }
   ],
   "source": [
    "sympy.isprime(algorithm_diemitko(10))"
   ]
  },
  {
   "cell_type": "markdown",
   "id": "d34bc194",
   "metadata": {},
   "source": [
    "Алгоритм не является детерминированным, поскольку в его коде присутствует генератор случайных чисел (generates_prime_number()). Следовательно, алгоритм является вероятностным.\n",
    "\n",
    "Так как длина чисел, участвующих в вычислениях алгоритма, не ограничивается полиномом $p(b)$, поскольку на выходе алгоритма получается число $2^b + 1$, ограниченное показательной функцией $2^{b}$.\n",
    "\n",
    "# Задание 7.\n",
    "\n",
    "Выполнить компьютерное моделирование поля $\\mathbb{Z}_p$ средствами ООП, перегрузив операторы \\_\\_add__, \\_\\_sub__, \\_\\_mul__, \\_\\_truediv__, \\_\\_pow__, \\_\\_neg__. Реализовать \\_\\_repr__, \\_\\_eq__. В качестве модуля $p$ генерировать общее для всех элементов поля случайное простое число длины $b$ бит. Проверить, обладает ли построенная модель указанными выше свойствами."
   ]
  },
  {
   "cell_type": "code",
   "execution_count": 143,
   "id": "952c37e9",
   "metadata": {},
   "outputs": [],
   "source": [
    "class Deduction_ring:\n",
    "    m = generates_prime_number(4)  # модуль\n",
    "    \n",
    "    def __init__(self, number):  # для отрицательных чисел всё в порядке, так как остаток вычисляется правильно\n",
    "        self.remains = number % Deduction_ring.m  # остаток от деления на модуль\n",
    "    \n",
    "    def __add__(self, other):\n",
    "        if isinstance(other, Deduction_ring):\n",
    "            if self.remains + other.remains < Deduction_ring.m:\n",
    "                return self.remains + other.remains\n",
    "            else:\n",
    "                return (self.remains + other.remains) % Deduction_ring.m\n",
    "        else:\n",
    "            if self.remains + other % Deduction_ring.m < Deduction_ring.m:\n",
    "                return self.remains + other % Deduction_ring.m\n",
    "            else:\n",
    "                return (self.remains + other.remains % Deduction_ring.m) % Deduction_ring.m\n",
    "    \n",
    "    def __sub__(self, other):\n",
    "        if isinstance(other, Deduction_ring):\n",
    "            if (self.remains + other.remains) % Deduction_ring.m == 0:\n",
    "                return 0\n",
    "            else:\n",
    "                return 'Числа не являются обратными'\n",
    "        else:\n",
    "            if (self.remains + pow(other,-1,Deduction_ring.m)) % Deduction_ring.m == 0:\n",
    "                return 0\n",
    "            else:\n",
    "                return 'Числа не являются обратными'\n",
    "        \n",
    "    def __mul__(self, other):\n",
    "        if isinstance(other, Deduction_ring):\n",
    "            if self.remains * other.remains < Deduction_ring.m:\n",
    "                return self.remains * other.remains\n",
    "            else:\n",
    "                return (self.remains * other.remains) % Deduction_ring.m\n",
    "        else:\n",
    "            if self.remains * other % Deduction_ring.m < Deduction_ring.m:\n",
    "                return self.remains * other % Deduction_ring.m\n",
    "            else:\n",
    "                return (self.remains * other % Deduction_ring.m) % Deduction_ring.m\n",
    "    \n",
    "    def __truediv__(self, other):\n",
    "        quantity = 0  # количество \"частных\"\n",
    "        if isinstance(other, Deduction_ring):\n",
    "            for x in range(Deduction_ring.m):\n",
    "                if (other.remains * x) % Deduction_ring.m == self.remains:\n",
    "                    result = x\n",
    "                    quantity += 1\n",
    "            if quantity == 1:\n",
    "                return result\n",
    "            else:\n",
    "                return 'Деление невозможно'\n",
    "        else:\n",
    "            for x in range(Deduction_ring.m):\n",
    "                if (other % Deduction_ring.m * x) % Deduction_ring.m == self.remains:\n",
    "                    result = x\n",
    "                    quantity += 1\n",
    "            if quantity == 1:\n",
    "                return result\n",
    "            else:\n",
    "                return 'Деление невозможно'\n",
    "    \n",
    "    def __pow__(self, degree):\n",
    "        if degree == 0:\n",
    "            return 1\n",
    "        elif degree == -1:\n",
    "            return looking_inverse_element(self.remains, Deduction_ring.m)\n",
    "        elif degree < -1:\n",
    "            return looking_inverse_element((self.remains ** (-1)), abs(degree), Deduction_ring.m)\n",
    "        else:\n",
    "            return fast_power_leftward(self.remains, degree, Deduction_ring.m)\n",
    "    \n",
    "    def __neg__(self):  # поскольку в кольце не может быть отрицательных чисел, будем возвращать просто остаток\n",
    "        return self.remains\n",
    "    \n",
    "    def __repr__(self):\n",
    "        return f'{self.remains}'\n",
    "    \n",
    "    def __eq__(self, other):\n",
    "        if isinstance(other, Deduction_ring):\n",
    "            return self.remains == other.remains\n",
    "        else:\n",
    "            return self.remains == (other % Deduction_ring.m)"
   ]
  },
  {
   "cell_type": "code",
   "execution_count": 144,
   "id": "7829d65f",
   "metadata": {},
   "outputs": [],
   "source": [
    "a = Deduction_ring(9)\n",
    "b = Deduction_ring(25)\n",
    "c = Deduction_ring(5)\n",
    "null = Deduction_ring(0)\n",
    "neutral_element = Deduction_ring(1)"
   ]
  },
  {
   "cell_type": "markdown",
   "id": "325e85c7",
   "metadata": {},
   "source": [
    "Коммутативность сложения:"
   ]
  },
  {
   "cell_type": "code",
   "execution_count": 145,
   "id": "72848775",
   "metadata": {},
   "outputs": [
    {
     "data": {
      "text/plain": [
       "True"
      ]
     },
     "execution_count": 145,
     "metadata": {},
     "output_type": "execute_result"
    }
   ],
   "source": [
    "a + b == b + a"
   ]
  },
  {
   "cell_type": "markdown",
   "id": "2e26630f",
   "metadata": {},
   "source": [
    "Ассоциативность сложения:"
   ]
  },
  {
   "cell_type": "code",
   "execution_count": 146,
   "id": "b237620e",
   "metadata": {},
   "outputs": [
    {
     "data": {
      "text/plain": [
       "True"
      ]
     },
     "execution_count": 146,
     "metadata": {},
     "output_type": "execute_result"
    }
   ],
   "source": [
    "Deduction_ring(a + b) + c == a + Deduction_ring(b + c)"
   ]
  },
  {
   "cell_type": "markdown",
   "id": "56d3d768",
   "metadata": {},
   "source": [
    "Существование нейтрального элемента относительно сложения:"
   ]
  },
  {
   "cell_type": "code",
   "execution_count": 147,
   "id": "3c88369a",
   "metadata": {},
   "outputs": [
    {
     "data": {
      "text/plain": [
       "True"
      ]
     },
     "execution_count": 147,
     "metadata": {},
     "output_type": "execute_result"
    }
   ],
   "source": [
    "a + null == a and null + a == a"
   ]
  },
  {
   "cell_type": "markdown",
   "id": "b3c7abe8",
   "metadata": {},
   "source": [
    "Существование противоположного элемента относительно сложения:"
   ]
  },
  {
   "cell_type": "code",
   "execution_count": 148,
   "id": "0ba2705f",
   "metadata": {},
   "outputs": [
    {
     "data": {
      "text/plain": [
       "False"
      ]
     },
     "execution_count": 148,
     "metadata": {},
     "output_type": "execute_result"
    }
   ],
   "source": [
    "b + c == null and c + b == null  # подобрать "
   ]
  },
  {
   "cell_type": "markdown",
   "id": "c808a8fc",
   "metadata": {},
   "source": [
    "Ассоциативность умножения:"
   ]
  },
  {
   "cell_type": "code",
   "execution_count": 149,
   "id": "d1dbcf0c",
   "metadata": {},
   "outputs": [
    {
     "data": {
      "text/plain": [
       "True"
      ]
     },
     "execution_count": 149,
     "metadata": {},
     "output_type": "execute_result"
    }
   ],
   "source": [
    "Deduction_ring(a * b) * c == a * Deduction_ring(b * c)"
   ]
  },
  {
   "cell_type": "markdown",
   "id": "a7c5f6a8",
   "metadata": {},
   "source": [
    "Дистрибутивность:"
   ]
  },
  {
   "cell_type": "code",
   "execution_count": 150,
   "id": "36548919",
   "metadata": {},
   "outputs": [
    {
     "data": {
      "text/plain": [
       "True"
      ]
     },
     "execution_count": 150,
     "metadata": {},
     "output_type": "execute_result"
    }
   ],
   "source": [
    "Deduction_ring(a * (b + c)) == Deduction_ring(a * b + a * c)"
   ]
  },
  {
   "cell_type": "code",
   "execution_count": 151,
   "id": "da93a309",
   "metadata": {},
   "outputs": [
    {
     "data": {
      "text/plain": [
       "True"
      ]
     },
     "execution_count": 151,
     "metadata": {},
     "output_type": "execute_result"
    }
   ],
   "source": [
    "Deduction_ring(Deduction_ring(b + c) * a) == Deduction_ring(b * a + c * a)"
   ]
  },
  {
   "cell_type": "markdown",
   "id": "0d15820a",
   "metadata": {},
   "source": [
    "Коммутативность умножения:"
   ]
  },
  {
   "cell_type": "code",
   "execution_count": 152,
   "id": "05549ed2",
   "metadata": {},
   "outputs": [
    {
     "data": {
      "text/plain": [
       "True"
      ]
     },
     "execution_count": 152,
     "metadata": {},
     "output_type": "execute_result"
    }
   ],
   "source": [
    "a * b == b * a"
   ]
  },
  {
   "cell_type": "markdown",
   "id": "69fc4f7d",
   "metadata": {},
   "source": [
    "Существование нейтрального элемента относительно умножения:"
   ]
  },
  {
   "cell_type": "code",
   "execution_count": 153,
   "id": "9d2be38c",
   "metadata": {},
   "outputs": [
    {
     "data": {
      "text/plain": [
       "True"
      ]
     },
     "execution_count": 153,
     "metadata": {},
     "output_type": "execute_result"
    }
   ],
   "source": [
    "neutral_element * a == a and a * neutral_element == a"
   ]
  },
  {
   "cell_type": "markdown",
   "id": "392456fd",
   "metadata": {},
   "source": [
    "Существование обратного элемента для ненулевых элементов:"
   ]
  },
  {
   "cell_type": "code",
   "execution_count": 154,
   "id": "6f2ae0fc",
   "metadata": {},
   "outputs": [
    {
     "data": {
      "text/plain": [
       "1"
      ]
     },
     "execution_count": 154,
     "metadata": {},
     "output_type": "execute_result"
    }
   ],
   "source": [
    "b * pow(b,-1)"
   ]
  }
 ],
 "metadata": {
  "kernelspec": {
   "display_name": "Python 3 (ipykernel)",
   "language": "python",
   "name": "python3"
  },
  "language_info": {
   "codemirror_mode": {
    "name": "ipython",
    "version": 3
   },
   "file_extension": ".py",
   "mimetype": "text/x-python",
   "name": "python",
   "nbconvert_exporter": "python",
   "pygments_lexer": "ipython3",
   "version": "3.9.7"
  }
 },
 "nbformat": 4,
 "nbformat_minor": 5
}
