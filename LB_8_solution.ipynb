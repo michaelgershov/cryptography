{
 "cells": [
  {
   "cell_type": "markdown",
   "id": "b0f5bf7f",
   "metadata": {
    "slideshow": {
     "slide_type": "slide"
    }
   },
   "source": [
    "$$\n",
    "Белорусский\\;государственный\\; университет\n",
    "$$\n",
    "$$\n",
    "Механико-математический\\;факультет\n",
    "$$\n",
    "$$\n",
    "Кафедра\\;дифференциальных\\;уравнений\\; и\\; системного\\; анализа\n",
    "$$\n",
    "$ $\n",
    "\n",
    "$$\n",
    " \\Large\\bf Математические\\; основы\\; защиты\\; информации\n",
    "$$\n",
    "\n",
    "# Лекция 9. Дискретный логарифм\n",
    "\n",
    "$ $\n",
    "\n",
    "доцент Чергинец Дмитрий Николаевич"
   ]
  },
  {
   "cell_type": "markdown",
   "id": "9f845792",
   "metadata": {
    "slideshow": {
     "slide_type": "slide"
    }
   },
   "source": [
    "# 1. Дискретный логарифм\n",
    "\n",
    "\n",
    "Рассмотрим 3 уравнения с неизвестным $\\;x$\n",
    "\n",
    "$1.$ $\\quad a^d \\equiv x \\mod n;$\n",
    "\n",
    "\n",
    "$2.$ $\\quad x^d \\equiv b \\mod n;$\n",
    "\n",
    "\n",
    "$3.$ $\\quad a^x \\equiv b \\mod n.$\n",
    " \n"
   ]
  },
  {
   "cell_type": "markdown",
   "id": "98491e94",
   "metadata": {
    "slideshow": {
     "slide_type": "subslide"
    }
   },
   "source": [
    "## Определение дискретного логарифма\n",
    "Пусть $\\;G\\;$ &ndash; конечная мультипликативная группа порядка $\\;n,\\;$ $\\;a,b\\in G.$\n",
    "\n",
    "\n",
    "Задача нахождения решения $\\;x\\in\\mathbb{N}\\;$ уравнения\n",
    "$$\n",
    "a^x=b\\qquad (1)\n",
    "$$\n",
    "называется <font color=blue>задачей дискретного логарифмирования</font> в группе $\\;G.$\n",
    "\n",
    "Ее решение $\\;x\\;$ называется <font color=blue>дискретным логарифмом</font> элемента $\\;b\\;$ по основанию $\\;a\\;$ и обозначается $\\;x:=\\log_a b.$\n"
   ]
  },
  {
   "cell_type": "markdown",
   "id": "b1ab32df",
   "metadata": {
    "slideshow": {
     "slide_type": "subslide"
    }
   },
   "source": [
    "## Циклическая подгруппа\n",
    "Множество\n",
    "$$\n",
    "<a>:=\\{a,a^2,\\dots,a^{m}=1\\},\\qquad\n",
    "\\text{ где } \\;a^i\\ne 1\\;\\text{ при }\n",
    "\\;1<i<m.\n",
    "$$\n",
    "является подгруппой группы $\\;G,\\;$ а число $\\;m\\;$\n",
    "называется <font color=blue>порядком элемента</font> $\\;a.$\n",
    "\n",
    "Группа $\\;G\\;$   называется <font color=blue>циклической</font> (Cyclic group), если\n",
    "существует такой элемент $\\;g\\in G,\\;$ что\n",
    "$$\n",
    "  <g> = G.\n",
    "$$\n",
    "Элемент $\\;g\\;$ называется <font color=blue>образующим, примитивным или порождающим</font> (generator).\n"
   ]
  },
  {
   "cell_type": "markdown",
   "id": "6c0ea2db",
   "metadata": {
    "slideshow": {
     "slide_type": "subslide"
    }
   },
   "source": [
    "## Существование дискретного логарифма\n",
    "\n",
    "Если $\\;b\\in<a>,\\;$ то дискретный логарифм $\\;x\\;$ существует, причем числа вида \n",
    "$$\\;x+z*m,\\;\\qquad z\\in\\mathbb{Z},\\;\n",
    "$$\n",
    "также будут решениями, поэтому в дальнейшем решения будем искать в кольце вычетов $\\;x\\in\\mathbb{Z}_m.$\n",
    "\n",
    "Если $\\;b\\not\\in<a>,\\;$ то дискретный логарифм не существует."
   ]
  },
  {
   "cell_type": "markdown",
   "id": "ca2feed2",
   "metadata": {},
   "source": [
    "Порядок группы $-$ количество элементов в ней."
   ]
  },
  {
   "cell_type": "markdown",
   "id": "43a075e5",
   "metadata": {
    "slideshow": {
     "slide_type": "slide"
    }
   },
   "source": [
    "# 2. Нахождение образующего элемента\n",
    "**Теорема.**  \n",
    "Пусть $\\;G\\;$ &ndash; мультипликативная группа порядка $n,$\n",
    "$${n=q_1^{\\alpha_1}\\dots q_s^{\\alpha_s}}\n",
    "$$\n",
    "разложение числа $\\;n\\;$ на простые множители.\n",
    "\t\n",
    "Элемент $\\;g\\in G\\;$ является образующим тогда и только тогда, когда\n",
    "$$\n",
    "\t\\forall i=1,\\dots,s\\qquad g^{n/q_i}\\ne 1.\n",
    "$$\n",
    "**Доказательство необходимости.**   \n",
    "Пусть $\\;g\\;$ &ndash; образующий элемент, тогда его порядок равен $\\;n\\;$\n",
    "и $\\;g^{n/q_i}\\ne 1.$ "
   ]
  },
  {
   "cell_type": "markdown",
   "id": "32d6e15c",
   "metadata": {
    "slideshow": {
     "slide_type": "subslide"
    }
   },
   "source": [
    "## Доказательство достаточности\n",
    "\n",
    "Пусть теперь $\\;g\\in G\\;$ и для каждого\n",
    "$\\;i=1,\\dots,s\\;$ справедливо неравенство $\\;g^{n/q_i}\\ne 1.\\;$ \n",
    "\n",
    "Пусть\n",
    "$\\;m\\;$ &ndash; порядок элемента $\\;g.\\;$ По теореме Лагранжа порядок\n",
    "подгруппы делит порядок группы:\n",
    "$$\n",
    "\\;m|n.\\;\n",
    "$$ \n",
    "\n",
    "Предположим, что $\\;m<n,\\;$\n",
    "тогда существует такое $\\;q_i,\\;$ что $\\;\\;m\\mid n/q_i.$\n",
    "$$\n",
    "m\\mid n/q_i\\qquad \\Rightarrow \\qquad n/q_i=m z,\\;\\;z\\in\\mathbb{N}.\\;\n",
    "$$\n",
    "Следовательно\n",
    "$$\n",
    "g^{n/q_i}=g^{m z}=1^z=1,\n",
    "$$\n",
    "получили противоречие с тем, что \n",
    "$\\;g^{n/q_i}\\ne 1.\\;\n",
    "$\n",
    "\n",
    "Поэтому $\\;m=n\\;$ и $\\;g\\;$ &ndash; примитивный элемент."
   ]
  },
  {
   "cell_type": "markdown",
   "id": "df55cf1e",
   "metadata": {
    "slideshow": {
     "slide_type": "skip"
    }
   },
   "source": [
    "## <font color='red'>Задание 1.</font>\n",
    "\n",
    "Написать функцию, которая определяет, является ли $\\;a\\;$  образующим группы $\\;\\mathbb{Z}_p^*,$ $\\;p\\;$ &ndash; простое. На основе данной функции написать функцию, вычисляющую случайный образующий элемент  группы $\\;\\mathbb{Z}_p^*.$ "
   ]
  },
  {
   "cell_type": "markdown",
   "id": "1749439f",
   "metadata": {},
   "source": [
    "$p$ $-$ модуль, поскольку $р$ простое, то в группе присутствует $р-1$ элемент от 1 до $р-1$. "
   ]
  },
  {
   "cell_type": "code",
   "execution_count": 1,
   "id": "5a6f39ad",
   "metadata": {},
   "outputs": [],
   "source": [
    "from sympy.ntheory import isprime\n",
    "from sympy.ntheory import primerange\n",
    "from random import choice\n",
    "import math\n",
    "\n",
    "def pollard_rho_minus_one(n: int, M: int, K: int) -> str:\n",
    "    B = list(primerange(K))\n",
    "    a = 2\n",
    "    for i in range(len(B)):\n",
    "        beta = int(math.log(M,B[i]))\n",
    "        a = pow(a,pow(B[i],beta), n)\n",
    "    d = math.gcd(a - 1,n)\n",
    "    if d == 1:\n",
    "        return 'делитель не найден, возьмите  𝑀,𝐾  большими'\n",
    "    if 1 < d < n:\n",
    "        return d\n",
    "    if d == n:\n",
    "        return 'делитель не найден, возьмите  𝑀,𝐾  меньшими'"
   ]
  },
  {
   "cell_type": "code",
   "execution_count": 2,
   "id": "c2693912",
   "metadata": {},
   "outputs": [],
   "source": [
    "k = 1_000_000\n",
    "\n",
    "def is_element_generator(a: int, p: int) -> bool:\n",
    "    \n",
    "    \"\"\" variable a < p, p is a prime number \"\"\"\n",
    "    \n",
    "    n = p - 1\n",
    "    while not isprime(n):\n",
    "        s = pollard_rho_minus_one(n, k, k)\n",
    "        if pow(a, (p - 1)//s, p) == 1:  # поскольку n меняется в цикле, используем р - 1\n",
    "            return False\n",
    "        n //= s\n",
    "    else:\n",
    "        if pow(a, (p - 1)//n, p) == 1:\n",
    "            return False\n",
    "        else:\n",
    "            return True"
   ]
  },
  {
   "cell_type": "code",
   "execution_count": 3,
   "id": "448ac35d",
   "metadata": {},
   "outputs": [
    {
     "data": {
      "text/plain": [
       "True"
      ]
     },
     "execution_count": 3,
     "metadata": {},
     "output_type": "execute_result"
    }
   ],
   "source": [
    "is_element_generator(5, 7)"
   ]
  },
  {
   "cell_type": "code",
   "execution_count": 4,
   "id": "8f513cd9",
   "metadata": {},
   "outputs": [],
   "source": [
    "def random_generator(p: int) -> int:\n",
    "    \n",
    "    \"\"\" p is a prime number \"\"\"\n",
    "    \n",
    "    group = list(range(1, p))\n",
    "    \n",
    "    while True:\n",
    "        a = choice(group)\n",
    "        \n",
    "        if is_element_generator(a, p):\n",
    "            return a\n",
    "        else:\n",
    "            continue"
   ]
  },
  {
   "cell_type": "code",
   "execution_count": 5,
   "id": "029a372b",
   "metadata": {},
   "outputs": [
    {
     "data": {
      "text/plain": [
       "5"
      ]
     },
     "execution_count": 5,
     "metadata": {},
     "output_type": "execute_result"
    }
   ],
   "source": [
    "random_generator(7)"
   ]
  },
  {
   "cell_type": "markdown",
   "id": "b79eac8b",
   "metadata": {
    "slideshow": {
     "slide_type": "slide"
    }
   },
   "source": [
    "# 3. Алгоритм больших и малых шагов\n",
    "\n",
    "**Интересная задача.**   \n",
    "Найти такие подмножества \n",
    "$$L_1,L_2\\subset G,\n",
    "$$\n",
    "что для каждого элемента $\\;b\\in G\\;$ найдутся такие \n",
    "$$\n",
    "l_1\\in L_1,\\quad l_2\\in L_2,\n",
    "$$\n",
    "что \n",
    "$$b= l_1 l_2.$$\n",
    "      \n",
    "Причем мощность подмножеств минимальна $$|L_1|+|L_2|\\rightarrow \\min.$$\n"
   ]
  },
  {
   "cell_type": "markdown",
   "id": "ce997517",
   "metadata": {
    "slideshow": {
     "slide_type": "subslide"
    }
   },
   "source": [
    "### Алгоритм больших и малых шагов (baby-step giant-step)\n",
    "**Input:**  $\\quad a,b\\in G,$ $\\quad G$ &ndash; мультипликативная группа порядка $\\;n.$\n",
    "\n",
    "**Output:** $\\quad x=\\log_a b.$\n",
    "\n",
    "$1.$ Вычисляем\n",
    "$\\qquad\n",
    "h:=[\\sqrt{n+1}]+1,\\quad c:= a^h.\n",
    "$\n",
    "\t\n",
    "$2.$ Вычисляем списки\n",
    "$$\n",
    "\tL_1:=\\{c^u \\mid u=1,\\dots,h\\},\\qquad \tL_2:=\\{b a^v \\mid v=1,\\dots,h\\}.\n",
    "$$\n",
    "\n",
    "$3.$ Если $\\;L_1\\cap L_2 = \\emptyset,\\;$ то выдаем результат: нет решений.\n",
    "\n",
    "Иначе выдаем результат:\n",
    "$$\n",
    "x = h u -v. \n",
    "$$\n",
    "Где $\\;u,$ $v\\;$ такие, что\n",
    "$$\n",
    "\t L_1\\ni l_1 = c^u = b a^v = l_2\\in L_2.\n",
    "$$\n"
   ]
  },
  {
   "cell_type": "markdown",
   "id": "bfd2a193",
   "metadata": {
    "slideshow": {
     "slide_type": "subslide"
    }
   },
   "source": [
    "## Нахождение пересечения множеств $\\;L_1\\cap L_2$\n",
    "$1.$ Объединяем списки \n",
    "$$\n",
    "L:=L_1\\cup L_2,\n",
    "$$ \n",
    "$2.$ Сортируем $L.$\n",
    "\n",
    "$3.$ Находим в $\\;L\\;$ два одинаковых элемента\n",
    "$$\n",
    "  l=L[i]=L[i+1].\n",
    "$$  \n",
    "Если  $\\;l\\in L_1\\;$ и $\\;l\\in L_2,\\;$ то \t$\\;l\\in \\;L_1\\cap L_2.$"
   ]
  },
  {
   "cell_type": "markdown",
   "id": "96982f6c",
   "metadata": {
    "slideshow": {
     "slide_type": "subslide"
    }
   },
   "source": [
    "##  Теорема\n",
    "Алгоритм больших и малых шагов находит дискретный логарифм за \n",
    "$$\n",
    "  f(n)=O(n^{1/2}\\ln n)\n",
    "$$\n",
    "арифметических операций.\n"
   ]
  },
  {
   "cell_type": "markdown",
   "id": "924acce3",
   "metadata": {
    "slideshow": {
     "slide_type": "subslide"
    }
   },
   "source": [
    "##  Доказательство. Случай $\\;b\\in<a>$\n",
    "Докажем, что каково бы ни было число \n",
    "$$\n",
    "x\\in\\mathbb{N},\\qquad 1\\le x\\le n,\n",
    "$$\n",
    "существуют такие числа \n",
    "$$u,v,\\qquad 1\\le u\\le h,\\quad 1\\le v\\le h,\n",
    "$$\n",
    "что $x=u h-v.$ \n",
    "\n",
    "Рассмотрим множество\n",
    "$$\n",
    " M:=\\{h u - v\\mid 1\\le u\\le h,\\;1\\le\n",
    "v\\le\n",
    "h\\}\\;=\\;\\{h-h=0,\\; \n",
    "$$\n",
    "$$\n",
    "  h-(h-1)=1,\\; \\dots,\\; h-1,\\; 2h-h=h,\\; 2h-(h-1)=h+1,\\; \\dots,\\; h^2-1\\}.\n",
    "$$\n",
    "Учитывая, что \n",
    "$$\n",
    "  h^2-1>(n+1)-1=n,\n",
    "$$\n",
    "получаем, что $\\;x\\in M.\\;$ Поэтому найдутся такие $\\;l_1\\in L_1, \\;l_2\\in L_2,\\; $ что $l_1=l_2.$"
   ]
  },
  {
   "cell_type": "markdown",
   "id": "32b4cf1b",
   "metadata": {
    "slideshow": {
     "slide_type": "subslide"
    }
   },
   "source": [
    "##  Доказательство. Случай $b\\not\\in<a>$\n",
    "Так как $\\;b\\not\\in<a>,\\;$ то уравнение $\\;a^x = b\\;$ не будет иметь решений.\n",
    "\n",
    "Предположим, что найдутся такие $\\;l_1\\in L_1, \\;l_2\\in L_2,\\; $ что $l_1=l_2.$ Тогда\n",
    "$$\n",
    "  a^{h u}=b a^{v}\\quad\\Rightarrow\\quad a^{h u - v}=b \\quad\\Rightarrow\\quad b\\in<a>\n",
    "$$\n",
    "Противоречие. Поэтому \n",
    "$$\n",
    "  L_1\\cap L_2 = \\emptyset\\qquad\\Leftrightarrow\\qquad \\text{ уравнение } \\;\\; a^x=b\\;\\; \\text{ не имеет решений}\n",
    "$$  "
   ]
  },
  {
   "cell_type": "markdown",
   "id": "55e29f9c",
   "metadata": {
    "slideshow": {
     "slide_type": "subslide"
    }
   },
   "source": [
    "## Количество арифметических операций \n",
    "Посчитаем количество арифметических операций, которые выполняет алгоритм больших и малых шагов.\n",
    "\n",
    "$ $\n",
    "\n",
    "На первом шаге проводится  $\\;O(N)=O(\\ln n)\\;$ арифметических\n",
    "операций, $\\;N=[\\log_2 n]+1,$ \n",
    "\n",
    "$ $\n",
    "\n",
    "На втором &mdash; $\\;4h=O(n^{1/2}).$\n",
    "\n",
    "$ $\n",
    "\n",
    " Так как список из $\\;m\\;$ элементов\n",
    "можно упорядочить за $\\;O(m\\ln m)\\;$ арифметических операций, то на\n",
    "третьем шаге  выполняется $\\;O(n^{1/2}\\ln n)\\;$\n",
    "арифметических операций."
   ]
  },
  {
   "cell_type": "markdown",
   "id": "ed8c90fd",
   "metadata": {
    "slideshow": {
     "slide_type": "skip"
    }
   },
   "source": [
    "## <font color='red'>Задание 2.</font>\n",
    "\n",
    "Реализовать алгоритм больших и малых шагов для мультипликативной группы кольца $\\;\\mathbb{Z}_p^*,$  $\\;p\\;$ &ndash; простое."
   ]
  },
  {
   "cell_type": "code",
   "execution_count": 6,
   "id": "49a980f7",
   "metadata": {},
   "outputs": [],
   "source": [
    "def giant_baby_step(a: int, b: int, p: int) -> int:\n",
    "    \n",
    "    \"\"\" variables a, b belong to a group, p is a prime number \"\"\"\n",
    "    \n",
    "    h = int(math.sqrt(p + 1)) + 1\n",
    "    c = pow(a, h, p)\n",
    "    \n",
    "    L_1 = [pow(c, u, p) for u in range(1, h + 1)]\n",
    "    L_2 = [b*pow(a, v, p) % p for v in range(1, h + 1)]\n",
    "    \n",
    "    L = L_1 + L_2\n",
    "    L.sort()\n",
    "    \n",
    "    for i in range(len(L) - 1):\n",
    "        l = L[i]\n",
    "        \n",
    "        if L[i + 1] == l:\n",
    "            if (l in L_1) and (l in L_2):\n",
    "                # возможно, реализация через нахождение логарифма числа эффективнее\n",
    "                u = [i + 1 for i, x in enumerate(L_1) if x == l][0]\n",
    "                v = [i + 1 for i, x in enumerate(L_2) if x == l][0]\n",
    "                return h*u - v\n",
    "        else:\n",
    "            flag = 1\n",
    "            \n",
    "    if flag:\n",
    "        return \"no solutions\""
   ]
  },
  {
   "cell_type": "code",
   "execution_count": 7,
   "id": "a1bbb7f2",
   "metadata": {},
   "outputs": [
    {
     "data": {
      "text/plain": [
       "16"
      ]
     },
     "execution_count": 7,
     "metadata": {},
     "output_type": "execute_result"
    }
   ],
   "source": [
    "giant_baby_step(5, 3, 23)"
   ]
  },
  {
   "cell_type": "markdown",
   "id": "46988a89",
   "metadata": {
    "slideshow": {
     "slide_type": "skip"
    }
   },
   "source": [
    "## <font color='red'>Задание 3.</font>\n",
    "\n",
    "Верно ли, что \n",
    "$$h^2-1\\geq n,$$\n",
    "где $h = [\\sqrt{n}]+1.$ "
   ]
  },
  {
   "cell_type": "markdown",
   "id": "fa6c5844",
   "metadata": {
    "slideshow": {
     "slide_type": "skip"
    }
   },
   "source": [
    "## <font color='red'>Задание 4.</font>\n",
    "\n",
    "Вычислить дискретные логарифмы\n",
    "$$\n",
    "  \\log_{a_1}b_1 \\;\\;в\\;\\;\\mathbb{Z}_{p_1}^*,\\qquad\\log_{a_2}b_2 \\;\\;в\\;\\;\\mathbb{Z}_{p_2}^*,\\qquad\\log_{a_3}b_3 \\;\\;в\\;\\;\\mathbb{Z}_{p_3}^*.\n",
    "$$  "
   ]
  },
  {
   "cell_type": "code",
   "execution_count": 8,
   "id": "b8fa6a4c",
   "metadata": {
    "slideshow": {
     "slide_type": "skip"
    }
   },
   "outputs": [],
   "source": [
    "a1 = 337263364997\n",
    "b1 = 3\n",
    "p1 = 897231635203\n",
    "a2 = 360353870069\n",
    "b2 = 9\n",
    "p2 = 591981566899\n",
    "a3 = 444416090410\n",
    "b3 = 2\n",
    "p3 = 616389045773"
   ]
  },
  {
   "cell_type": "code",
   "execution_count": 9,
   "id": "37a6806d",
   "metadata": {},
   "outputs": [
    {
     "data": {
      "text/plain": [
       "True"
      ]
     },
     "execution_count": 9,
     "metadata": {},
     "output_type": "execute_result"
    }
   ],
   "source": [
    "x1 = giant_baby_step(a1, b1, p1)\n",
    "b1 == pow(a1, x1, p1)"
   ]
  },
  {
   "cell_type": "code",
   "execution_count": 10,
   "id": "5b986e2d",
   "metadata": {},
   "outputs": [
    {
     "data": {
      "text/plain": [
       "True"
      ]
     },
     "execution_count": 10,
     "metadata": {},
     "output_type": "execute_result"
    }
   ],
   "source": [
    "x2 = giant_baby_step(a2, b2, p2)\n",
    "b2 == pow(a2, x2, p2)"
   ]
  },
  {
   "cell_type": "code",
   "execution_count": 11,
   "id": "ed609271",
   "metadata": {},
   "outputs": [
    {
     "name": "stdout",
     "output_type": "stream",
     "text": [
      "no solutions\n"
     ]
    }
   ],
   "source": [
    "print(giant_baby_step(a3, b3, p3))"
   ]
  },
  {
   "cell_type": "markdown",
   "id": "8c2104be",
   "metadata": {
    "slideshow": {
     "slide_type": "slide"
    }
   },
   "source": [
    "# 4. Алгоритм Полига-Хеллмана \n",
    "Предположим, что нам удалось найти разложение\n",
    "$$\n",
    "n=q_1^{\\alpha_1}\\dots q_s^{\\alpha_s},\n",
    "$$\n",
    "$\\;g\\;$ &ndash; образующий элемент.  \n",
    "Необходимо найти $\\; x=\\log_g b.\\;$ \n",
    "\n",
    "Предположим, что нам известны остатки $\\;x_1,\\;x_2,\\;\\dots,\\; x_s\\;$ от деления $\\;x\\;$ на $\\;q_1^{\\alpha_1},\\;\\dots,\\; q_s^{\\alpha_s},\\;$ тогда $\\;x\\;$ можно найти при помощи Китайской теоремы об остатках\n",
    "\t\\begin{align*}\n",
    "x & \\equiv x_1\\mod q_1^{\\alpha_1},\\\\\n",
    "\\vdots\\\\\n",
    "x & \\equiv x_s\\mod q_s^{\\alpha_s}.\n",
    "\\end{align*}"
   ]
  },
  {
   "cell_type": "markdown",
   "id": "492c3597",
   "metadata": {
    "slideshow": {
     "slide_type": "subslide"
    }
   },
   "source": [
    "## Нахождение $\\;x_i\\;$\n",
    "$x_i\\in\\mathbb{Z}_{q_i^{\\alpha_i}}\\;$ будем искать в виде\n",
    " $$x_i= u_0+u_1q_i+\\dots+u_{\\alpha_i-1}q_i^{\\alpha_i-1}\\mod q_i^{\\alpha_i},\\qquad где \\;0\\leq u_k < q_i.$$\t\n",
    " \n",
    " \n",
    " Тогда\n",
    "  $$x= u_0+u_1q_i+\\dots+u_{\\alpha_i-1}q_i^{\\alpha_i-1}+u_{\\alpha_i}q_i^{\\alpha_i},\\quad u_{\\alpha_i}\\in\\mathbb{Z}.  $$\t\n",
    " \t\n",
    "Имеем тождество\n",
    "$$\n",
    "  g^{ u_0+u_1q_i+\\dots+u_{\\alpha_i-1}q_i^{\\alpha_i-1}+u_{\\alpha_i}q_i^{\\alpha_i}}= b.\n",
    "$$\n",
    "Возведем обе части тождества в степень \n",
    "$$\\frac{n}{q_i^{k+1}},\\quad 0\\leq k\\leq\\alpha_i-1.$$\n"
   ]
  },
  {
   "cell_type": "markdown",
   "id": "e25c30de",
   "metadata": {
    "slideshow": {
     "slide_type": "subslide"
    }
   },
   "source": [
    "## Нахождение $\\;u_k\\;$\n",
    "$$\n",
    "g^{( u_0+u_1q_i+\\dots+u_{\\alpha_i-1}q_i^{\\alpha_i-1}+u_{\\alpha_i}q_i^{\\alpha_i})\\frac{n}{q_i^{k+1}}}= b^\\frac{n}{q_i^{k+1}}.\n",
    "$$\n",
    "Так как $\\;g^n = 1,\\;$ то\n",
    "$$\n",
    "g^{( u_0+u_1q_i+\\dots+u_{k}q_i^{k})\\frac{n}{q_i^{k+1}}}= b^\\frac{n}{q_i^{k+1}};\n",
    "$$\n",
    "$$\n",
    "(g^{\\frac{n}{q_i}})^{u_k}= (b g^{-(u_0+u_1q_i+\\dots+u_{k-1}q_i^{k-1})})^\\frac{n}{q_i^{k+1}}.\n",
    "$$\n",
    "\n",
    "Элемент $\\;c:=g^{\\frac{n}{q_i}}\\;$  имеет порядок $\\;q_i\\;$  и порождает циклическую подгруппу\n",
    "$$\n",
    "  L:=\\{1, c^1, c^2, \\dots, c^{q_i-1}\\}.\n",
    "$$  \n",
    "Поэтому $\\;u_k\\;$ равен позиции элемента \n",
    "$\\;\n",
    "(b g^{-(u_0+u_1q_i+\\dots+u_{k-1}q_i^{k-1})})^\\frac{n}{q_i^{k+1}}\n",
    "\\;$\n",
    "в списке $\\;L.$\n"
   ]
  },
  {
   "cell_type": "markdown",
   "id": "c5ddae34",
   "metadata": {
    "slideshow": {
     "slide_type": "subslide"
    }
   },
   "source": [
    "## Вычисление $\\;\\;\\rm\\log_g b\\mod q^\\alpha$\n",
    "**Input:**  $\\; q$ &ndash; простое, $\\;\\alpha\\in\\mathbb{N},\\;$ что $\\;q^\\alpha\\mid n,\\;$\t $\\quad n$ &ndash; порядок группы $\\;G;$\n",
    "\n",
    "\n",
    "\t \n",
    "$\\qquad b\\in G,$ $\\quad g$ &ndash; образующий элемент группы $\\;G.$\n",
    "\n",
    "**Output:**  $\\;x=\\log_g b\\mod q^\\alpha.$\n",
    "\t\n",
    "\n",
    "$1.$ Вычисляем список\n",
    "$$\n",
    "  L:=\\{1, c ,c^2,\\dots,c^{q-1}\\}, \\qquad где \\;\\;\\;c:=g^{n/q}.\n",
    "$$\n",
    "\t\n",
    "$2.$ Для $\\;k:=0,\\dots,\\alpha-1\\;$ находим\n",
    "$$\n",
    "\tu_k:={\\rm Position}(L,(b g^{-(u_0+u_1q+\\dots\n",
    "\t\t+u_{k-1}q^{k-1})})^{n/q^{k+1}}).\n",
    "$$\n",
    "Здесь $\\;u_0\\;$ удовлетворяет условию $\\;c^{u_0}= b^{n/q},\\;$ т.е.\n",
    "$\\;\n",
    "u_0:={\\rm Position}(L,b ^{n/q}).\n",
    "$\n",
    "\t\n",
    "$3.$ Ответ $\\;x:=u_0+u_1q+\\dots+u_{\\alpha-1}q^{\\alpha-1}.$"
   ]
  },
  {
   "cell_type": "code",
   "execution_count": 12,
   "id": "2a4190ea",
   "metadata": {},
   "outputs": [],
   "source": [
    "def position(array: list, element) -> int:\n",
    "    \n",
    "    \"\"\" give a position for element in the array \"\"\"\n",
    "    \n",
    "    return [i for i, x in enumerate(array) if x == element][0]"
   ]
  },
  {
   "cell_type": "code",
   "execution_count": 13,
   "id": "a54f06fc",
   "metadata": {},
   "outputs": [
    {
     "data": {
      "text/plain": [
       "5"
      ]
     },
     "execution_count": 13,
     "metadata": {},
     "output_type": "execute_result"
    }
   ],
   "source": [
    "position([1, 2, 55, 12, 78, 7, -4, 0], 7)"
   ]
  },
  {
   "cell_type": "code",
   "execution_count": 14,
   "id": "aa19fef1",
   "metadata": {},
   "outputs": [],
   "source": [
    "def scalar_product(v1: list, v2: list) -> int:\n",
    "        \n",
    "    return sum(map(lambda x1, x2: x1 * x2, v1, v2))"
   ]
  },
  {
   "cell_type": "code",
   "execution_count": 15,
   "id": "059c89a8",
   "metadata": {},
   "outputs": [
    {
     "data": {
      "text/plain": [
       "-1"
      ]
     },
     "execution_count": 15,
     "metadata": {},
     "output_type": "execute_result"
    }
   ],
   "source": [
    "scalar_product([1, 1, 1], [3, 7, -11])"
   ]
  },
  {
   "cell_type": "markdown",
   "id": "584ce24c",
   "metadata": {},
   "source": [
    "Функия для вычисления $\\log_g b\\mod q^\\alpha$."
   ]
  },
  {
   "cell_type": "code",
   "execution_count": 30,
   "id": "55649652",
   "metadata": {},
   "outputs": [],
   "source": [
    "def logarithm(q: int, alpha: int, n: int, b: int, g: int) -> int:\n",
    "    \n",
    "    \"\"\" b belong to a group, g is a generator for a group \"\"\"\n",
    "    \n",
    "    p = n + 1\n",
    "    c = pow(g, n//q, p)\n",
    "    \n",
    "    L = [1, c]\n",
    "    \n",
    "    for _ in range(1, q - 2):\n",
    "        L.append(L[-1]*c % p)  # по модулю\n",
    "        \n",
    "    u_0 = position(L, pow(b, n//q, p))\n",
    "    u_k = [u_0]\n",
    "    q_k = [1]\n",
    "    \n",
    "    for k in range(1, alpha):\n",
    "        u_k.append(position(L, pow(\n",
    "            b*pow(g, -scalar_product(u_k, q_k), p), n//pow(q, k + 1, p))))\n",
    "        q_k.append(q_k[-1]*q % p)\n",
    "        \n",
    "    return scalar_product(u_k, q_k)"
   ]
  },
  {
   "cell_type": "markdown",
   "id": "a47bccce",
   "metadata": {
    "slideshow": {
     "slide_type": "subslide"
    }
   },
   "source": [
    "##  Алгоритм Полига-Хеллмана (Pohlig–Hellman)\n",
    "**Input:**   $\\;n$ &ndash; порядок группы $\\;G;$\n",
    "\t \n",
    "$\\qquad b\\in G,$ $\\quad g$ &ndash; образующий элемент группы $\\;G.$\n",
    "\t\n",
    "**Output:**  $\\;x=\\log_g b.$\n",
    "\t\n",
    "$1.$ Для $\\;i:=1,\\dots,s\\;$ находим $\\;x_i=\\log_g b\\mod\n",
    "\tq_i^{\\alpha_i}\\;$ при помощи предыдущего алгоритма.\n",
    "\t\n",
    "$2.$ При помощи китайской теоремы об остатках решаем\n",
    "\tсистему\n",
    "\t\\begin{align*}\n",
    "\tx & \\equiv x_1\\mod q_1^{\\alpha_1},\\\\\n",
    "\t\\vdots\\\\\n",
    "\tx & \\equiv x_s\\mod q_s^{\\alpha_s}.\n",
    "\t\\end{align*}\n",
    "\tВыдаем результат: $\\;    x\\in\\mathbb{Z}_{n}.$"
   ]
  },
  {
   "cell_type": "markdown",
   "id": "3386bb2e",
   "metadata": {
    "slideshow": {
     "slide_type": "subslide"
    }
   },
   "source": [
    "## Теорема \n",
    "Алгоритм Полига-Хеллмана вычисляет $\\;\\log_g b\\;$ за \n",
    "$$\n",
    "f(n)=\\sum\\limits_{i=1}^sO(q_i+\\alpha_i\\ln n)\n",
    "$$\n",
    "арифметических операций."
   ]
  },
  {
   "cell_type": "markdown",
   "id": "7035457f",
   "metadata": {
    "slideshow": {
     "slide_type": "subslide"
    }
   },
   "source": [
    "### Доказательство.  \n",
    " Посчитаем количество  операций. Сначала подсчитаем операции алгоритма, вычисляющего \n",
    " $$\\log_g b\\mod q^\\alpha.\n",
    " $$\n",
    " \n",
    " На  первом шаге он возводит в степень за $\\;O(\\ln n)\\;$  и вычисляет список за $\\;O(q_i)\\;$ операций.\n",
    " \n",
    " На втором шаге: $\\;O(\\alpha_i \\ln n),$ третий шаг можно последовательно выполнять на втором шаге. \n",
    "      \n",
    "Алгоритм    Полига-Хеллмана на первом шаге выполняет\n",
    " $$\n",
    "     \\sum\\limits_{i=1}^s O(q_i+\\ln p+\\alpha_i \\ln p)=\\sum\\limits_{i=1}^s O(q_i+\\alpha_i \\ln\n",
    "        n)\n",
    " $$\n",
    "операций. \n",
    "\n",
    "На втором шаге китайская теорема об остатках\n",
    "      выполняет\n",
    "$\\;\n",
    "   O(s\\ln n)\n",
    " \\;$\n",
    "операций. "
   ]
  },
  {
   "cell_type": "markdown",
   "id": "a1ea5869",
   "metadata": {
    "slideshow": {
     "slide_type": "skip"
    }
   },
   "source": [
    "## <font color='red'>Задание 5.</font>\n",
    "\n",
    "Реализовать алгоритм Полига-Хеллмана для мультипликативной группы кольца $\\;\\mathbb{Z}_p^*,$  $\\;p\\;$ &ndash; простое."
   ]
  },
  {
   "cell_type": "markdown",
   "id": "f11206e4",
   "metadata": {},
   "source": [
    "s $-$количество простых множителей в разложении порядка группы. "
   ]
  },
  {
   "cell_type": "markdown",
   "id": "de925e4c",
   "metadata": {
    "slideshow": {
     "slide_type": "subslide"
    }
   },
   "source": [
    "##  Алгоритм Полига-Хеллмана (Pohlig–Hellman)\n",
    "**Input:**   $\\;n$ &ndash; порядок группы $\\;G;$\n",
    "\t \n",
    "$\\qquad b\\in G,$ $\\quad g$ &ndash; образующий элемент группы $\\;G.$\n",
    "\t\n",
    "**Output:**  $\\;x=\\log_g b.$\n",
    "\t\n",
    "$1.$ Для $\\;i:=1,\\dots,s\\;$ находим $\\;x_i=\\log_g b\\mod\n",
    "\tq_i^{\\alpha_i}\\;$ при помощи предыдущего алгоритма.\n",
    "\t\n",
    "$2.$ При помощи китайской теоремы об остатках решаем\n",
    "\tсистему\n",
    "\t\\begin{align*}\n",
    "\tx & \\equiv x_1\\mod q_1^{\\alpha_1},\\\\\n",
    "\t\\vdots\\\\\n",
    "\tx & \\equiv x_s\\mod q_s^{\\alpha_s}.\n",
    "\t\\end{align*}\n",
    "\tВыдаем результат: $\\;    x\\in\\mathbb{Z}_{n}.$"
   ]
  },
  {
   "cell_type": "code",
   "execution_count": 35,
   "id": "04e76c16",
   "metadata": {},
   "outputs": [],
   "source": [
    "from sympy.ntheory import factorint\n",
    "\n",
    "def garner_algorithm(ni: list, bi: list):\n",
    "    N = 1\n",
    "    x = bi[0] % ni[0]\n",
    "    \n",
    "    for index in range(1, len(ni)):\n",
    "        N *= ni[index - 1]\n",
    "        C = pow(N, -1, ni[index])\n",
    "        y = C * (bi[index] - x) % ni[index]\n",
    "        x += N * y\n",
    "        \n",
    "    return x\n",
    "\n",
    "def pohlig_hellman(n: int, b: int, g: int) -> int:\n",
    "    \n",
    "    \"\"\" p is a prime number, g is a generator for the group, b belong to the group \"\"\"\n",
    "    \n",
    "    factor = factorint(n)\n",
    "    q, alpha = list(factor.keys()), list(factor.values())\n",
    "    xi = list()\n",
    "    \n",
    "    for i in range(len(factor)):\n",
    "        xi.append(logarithm(q[i], alpha[i], n, b, g))\n",
    "        \n",
    "    return garner_algorithm([pow(q, alpha, n + 1) for q, alpha in factor.items()], xi)"
   ]
  },
  {
   "cell_type": "markdown",
   "id": "9ac08678",
   "metadata": {},
   "source": [
    "Интересная функция, которая выдаёт правильный ответ."
   ]
  },
  {
   "cell_type": "code",
   "execution_count": 39,
   "id": "c8b107fb",
   "metadata": {},
   "outputs": [],
   "source": [
    "def prime_logarithm(p: int, b: int, g: int) -> int:\n",
    "    \n",
    "    \"\"\" b belong to a group, g is a generator for a group \"\"\"\n",
    "    \n",
    "    c = g\n",
    "        \n",
    "    L = (pow(c, i, p) for i in range(p))\n",
    "        \n",
    "    for i in range(p):\n",
    "        if b == next(L):\n",
    "            return i "
   ]
  },
  {
   "cell_type": "markdown",
   "id": "2f3848e3",
   "metadata": {
    "slideshow": {
     "slide_type": "skip"
    }
   },
   "source": [
    "## <font color='red'>Задание 6.</font>\n",
    "\n",
    "Вычислить дискретные логарифмы одним из способов\n",
    "$$\n",
    "  \\log_{g_1}b_1 \\;\\;в\\;\\;\\mathbb{Z}_{p_1}^*,\\qquad\\log_{g_2}b_2 \\;\\;в\\;\\;\\mathbb{Z}_{p_2}^*.\n",
    "$$\n",
    "От каких свойств числа $\\;p\\;$ зависит скорость работы алгоритма больших и малых шагов и алгоритма Полига-Хеллмана?"
   ]
  },
  {
   "cell_type": "code",
   "execution_count": 36,
   "id": "c1647c42",
   "metadata": {
    "slideshow": {
     "slide_type": "skip"
    }
   },
   "outputs": [],
   "source": [
    "p1 = 238484123\n",
    "g1 = 11455278\n",
    "b1 = 2\n",
    "p2 = 958824966669719\n",
    "g2 = 6851211612324\n",
    "b2 = 3"
   ]
  },
  {
   "cell_type": "code",
   "execution_count": 37,
   "id": "9b8f120d",
   "metadata": {},
   "outputs": [
    {
     "data": {
      "text/plain": [
       "83325991"
      ]
     },
     "execution_count": 37,
     "metadata": {},
     "output_type": "execute_result"
    }
   ],
   "source": [
    "pohlig_hellman(p1 - 1, b1, g1)"
   ]
  },
  {
   "cell_type": "code",
   "execution_count": 40,
   "id": "991b50f5",
   "metadata": {},
   "outputs": [
    {
     "data": {
      "text/plain": [
       "83325991"
      ]
     },
     "execution_count": 40,
     "metadata": {},
     "output_type": "execute_result"
    }
   ],
   "source": [
    "prime_logarithm(p1, b1, g1)"
   ]
  },
  {
   "cell_type": "code",
   "execution_count": 41,
   "id": "490b0b4b",
   "metadata": {},
   "outputs": [
    {
     "data": {
      "text/plain": [
       "83325991"
      ]
     },
     "execution_count": 41,
     "metadata": {},
     "output_type": "execute_result"
    }
   ],
   "source": [
    "giant_baby_step(g1, b1, p1)"
   ]
  },
  {
   "cell_type": "code",
   "execution_count": 42,
   "id": "16c3ce13",
   "metadata": {},
   "outputs": [
    {
     "data": {
      "text/plain": [
       "2"
      ]
     },
     "execution_count": 42,
     "metadata": {},
     "output_type": "execute_result"
    }
   ],
   "source": [
    "pow(g1, 83325991, p1)"
   ]
  },
  {
   "cell_type": "code",
   "execution_count": null,
   "id": "8e3de36e",
   "metadata": {},
   "outputs": [],
   "source": [
    "pohlig_hellman(p2 - 1, b2, g2)"
   ]
  },
  {
   "cell_type": "code",
   "execution_count": 21,
   "id": "82cd6e90",
   "metadata": {},
   "outputs": [
    {
     "data": {
      "text/plain": [
       "917023023123494"
      ]
     },
     "execution_count": 21,
     "metadata": {},
     "output_type": "execute_result"
    }
   ],
   "source": [
    "giant_baby_step(g2, b2, p2)"
   ]
  },
  {
   "cell_type": "code",
   "execution_count": 22,
   "id": "ce32dc60",
   "metadata": {},
   "outputs": [
    {
     "data": {
      "text/plain": [
       "3"
      ]
     },
     "execution_count": 22,
     "metadata": {},
     "output_type": "execute_result"
    }
   ],
   "source": [
    "pow(g2, 917023023123494, p2)"
   ]
  },
  {
   "cell_type": "markdown",
   "id": "efad5892",
   "metadata": {
    "slideshow": {
     "slide_type": "skip"
    }
   },
   "source": [
    "## <font color='red'>Задание 7*.</font>\n",
    "Разработать и реализовать алгоритм Полига-Хеллмана, в котором для нахождения\n",
    "$$\n",
    "   x_i=\\log_g b\\mod q_i^{\\alpha_i}\n",
    "$$\n",
    "используется алгоритм больших и малых шагов. Первому решившему +1 балл к экзаменационной оценке."
   ]
  },
  {
   "cell_type": "markdown",
   "id": "a486306c",
   "metadata": {
    "slideshow": {
     "slide_type": "skip"
    }
   },
   "source": [
    "## <font color='red'>Задание 8*.</font>\n",
    "Будет ли корректно работать алгоритм Полига-Хеллмана, если $\\;g\\;$ не будет образующим? Разработать и реализовать алгоритм Полига-Хеллмана для необразующего $\\;g.\\;$  Первому решившему +1 балл к экзаменационной оценке."
   ]
  }
 ],
 "metadata": {
  "celltoolbar": "Слайд-шоу",
  "kernelspec": {
   "display_name": "Python 3 (ipykernel)",
   "language": "python",
   "name": "python3"
  },
  "language_info": {
   "codemirror_mode": {
    "name": "ipython",
    "version": 3
   },
   "file_extension": ".py",
   "mimetype": "text/x-python",
   "name": "python",
   "nbconvert_exporter": "python",
   "pygments_lexer": "ipython3",
   "version": "3.9.7"
  }
 },
 "nbformat": 4,
 "nbformat_minor": 5
}
