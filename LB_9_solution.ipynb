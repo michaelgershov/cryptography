{
 "cells": [
  {
   "cell_type": "markdown",
   "id": "b0f5bf7f",
   "metadata": {
    "slideshow": {
     "slide_type": "slide"
    }
   },
   "source": [
    "$$\n",
    "Белорусский\\;государственный\\; университет\n",
    "$$\n",
    "$$\n",
    "Механико-математический\\;факультет\n",
    "$$\n",
    "$$\n",
    "Кафедра\\;дифференциальных\\;уравнений\\; и\\; системного\\; анализа\n",
    "$$\n",
    "$ $\n",
    "\n",
    "$$\n",
    " \\Large\\bf Математические\\; основы\\; защиты\\; информации\n",
    "$$\n",
    "\n",
    "# Лекция 10. Электронная цифровая подпись\n",
    "\n",
    "$ $\n",
    "\n",
    "доцент Чергинец Дмитрий Николаевич"
   ]
  },
  {
   "cell_type": "markdown",
   "id": "9f845792",
   "metadata": {
    "slideshow": {
     "slide_type": "slide"
    }
   },
   "source": [
    "# 1. Электронная цифровая подпись\n",
    "## Требования к подписи\n",
    "\n",
    "**Целостность  документа**  \n",
    "- Невозможность внести изменения в подписанный документ.\n",
    "\n",
    "**Авторство подписи**  \n",
    "- Определение автора подписи;\n",
    "- Невозможность отказа от авторства подписи."
   ]
  },
  {
   "cell_type": "markdown",
   "id": "98491e94",
   "metadata": {
    "slideshow": {
     "slide_type": "subslide"
    }
   },
   "source": [
    "## Digital signature\n",
    "<font color=blue>Электронная цифровая подпись</font> — это реквизит электронного документа, полученный в результате криптографического преобразования информации с использованием секретного ключа подписи и позволяющий проверить отсутствие искажения информации в электронном документе с момента формирования подписи (целостность), принадлежность подписи владельцу сертификата ключа подписи (авторство), а в случае успешной проверки подтвердить факт подписания электронного документа (неотказуемость). \n",
    "\n",
    "Слово \"цифровая\" означает, что подпись состоит из цифр.\n",
    "\n",
    "Слово \"электронная\" означает, что подписывается электронный документ (файл), а не лист бумаги."
   ]
  },
  {
   "cell_type": "markdown",
   "id": "b1ab32df",
   "metadata": {
    "slideshow": {
     "slide_type": "subslide"
    }
   },
   "source": [
    "## Математическая схема ЭЦП\n",
    "Электронная цифровая подпись это три алгоритма:\n",
    "\n",
    "**Алгоритм генерации ключей.**  \n",
    "Алгоритм за полиномиальное время генерирует ключи \n",
    "$$\n",
    "k=(k_e,k_d)\\in K,\n",
    "$$\n",
    "$k_e\\;$ &ndash; открытый ключ; $\\;k_d\\;$ &ndash; секретный ключ.\n",
    "\n",
    "\n",
    "**Алгоритм генерации подписи.**  \n",
    "За полиномиальное время вычисляет \tподпись $s=S(m,k_e,k_d).$\t\n",
    "\n",
    "**Алгоритм проверки подписи.**  \n",
    "За полиномиальное время проверяет, соответствует ли подпись $\\;s\\;$ документу $\\;m\\;$ и открытому ключу $\\;k_e\\;$\n",
    "    \n",
    "$$\n",
    "  V(m,s,k_e)\\in\\{True, False\\}.\n",
    "$$"
   ]
  },
  {
   "cell_type": "markdown",
   "id": "6c0ea2db",
   "metadata": {
    "slideshow": {
     "slide_type": "subslide"
    }
   },
   "source": [
    "## ЭЦП и Асимметричная криптосистема\n",
    "Пусть имеется криптосистема с открытым ключом со следующими свойствами:\n",
    "\n",
    "- Генератор ключей   $\\;k=(k_e,k_d)\\in K;$  \n",
    "        \n",
    "- Множества шифров $\\;Y\\;$ и открытых текстов $\\;X\\;$ совпадают:   $\\;X=Y,\\;$ \n",
    "\n",
    "- $\\;X\\;$ &ndash; конечное множество;\n",
    "\n",
    "- Функция шифрования $\\;E_{k_e}:X\\rightarrow X;\t$    \n",
    "\t\t\n",
    "- Функция дешифрования \t$\\;\t\tD_{k_d}:X\\rightarrow X;\t    \t\t$    \n",
    "\n",
    "**Тогда:**\n",
    "\n",
    "$$\n",
    "  \\left\\{\\begin{array}{l}\n",
    "\t\tE_{k_e}:X\\rightarrow X \\text{ - инъeкция;}\\\\\n",
    "\t\tX \\text{ - конечно;}\n",
    "  \\end{array}\\right.\n",
    "  \\Rightarrow E_{k_e} \\text{ - биекция.}\n",
    "$$  \n",
    "$$\n",
    "\\left\\{\\begin{array}{l}\n",
    "E_{k_e}:X\\rightarrow X \\text{ - биекция;}\\\\\n",
    "D_{k_d}=E_{k_e}^{-1};\n",
    "\\end{array}\\right.\\Rightarrow\\;\n",
    "E_{k_e}=D_{k_d}^{-1}.\n",
    "$$  \n"
   ]
  },
  {
   "cell_type": "markdown",
   "id": "e4ebb482",
   "metadata": {
    "slideshow": {
     "slide_type": "subslide"
    }
   },
   "source": [
    "## Конструирование ЭЦП при помощи асимметричного шифра\n",
    "\n",
    "\n",
    "Пусть $\\;Hash:M\\rightarrow X$ &ndash; функция хеширования.\n",
    "\n",
    "**Конструируем ЭЦП из криптосистемы**  \n",
    "\t\t\n",
    "- Генератор ключей тот же \t\t$\\;k=(k_e,k_d)\\in K;\t\t$  \n",
    "\n",
    "-  Функция генерации подписи \n",
    "$$\\;S(m,k_d):=D_{k_d}(Hash(m));\t\t$$    \n",
    "\n",
    "- Функция проверки подписи \n",
    "$$\\;\t\tV(m,s,k_e):=(E_{k_e}(s)==Hash(m)).\t\t\t\n",
    "$$    \n",
    "\n",
    "Так как $\\;E_{k_e}=D_{k_d}^{-1},\\;$ то\n",
    "\n",
    "$$\n",
    "  \tE_{k_e}(s)=E_{k_e}(D_{k_d}(Hash(m)))=Hash(m).\n",
    "$$\t"
   ]
  },
  {
   "cell_type": "markdown",
   "id": "43a075e5",
   "metadata": {
    "slideshow": {
     "slide_type": "slide"
    }
   },
   "source": [
    "# 2. Цифровая подпись Эль-Гамаля\n",
    "-Египетский криптограф Тахер Эль-Гамаль;\n",
    "\n",
    "- Taher Elgamal; \n",
    "\t \n",
    "- род.  18 августа \t1955; \n",
    "\t \n",
    "- Каирский университет, Стэнфордский университет; \n",
    "\t\n",
    "- «Криптосистема с открытым ключом и схема цифровой подписи на основе дискретных логарифмов»;\n",
    "     \n",
    "- 1985."
   ]
  },
  {
   "cell_type": "markdown",
   "id": "32d6e15c",
   "metadata": {
    "slideshow": {
     "slide_type": "subslide"
    }
   },
   "source": [
    "## Математическая основа подписи Эль-Гамаля\n",
    "- $p\\;$ &ndash; простое число;\n",
    "\t\t\n",
    "- $\\mathbb{Z}_p:=\\{0,1,2, \\dots, p-1 \\}\\;$ &ndash; поле;\n",
    "\t\t\n",
    "- $\\mathbb{Z}_p^*:=\\{1,2, \\dots, p-1 \\}\\;$ &ndash; мультипликативная группа;\n",
    "\t\t\n",
    "-  $<g>:=\\{g,g^2, \\dots, g^m=1 \\}\\;$ &ndash; циклическая подгруппа,  \t  $\\;m\\;$ &ndash; порядок элемента;\n",
    "\t\n",
    "- Если $\\;<g>=\\mathbb{Z}_p^*,\\;$ то $\\;g\\;$ называется образующим или примитивным;\n",
    "\t\t\n",
    "- Дискретный логарифм $\\;x=\\log_g b\\;$\n",
    "$$\n",
    "  g^x\\equiv b\\mod p.\n",
    "$$  \n",
    "\t\t\n"
   ]
  },
  {
   "cell_type": "markdown",
   "id": "bfd2a193",
   "metadata": {
    "slideshow": {
     "slide_type": "subslide"
    }
   },
   "source": [
    "##  Алгоритм генерации ключей\n",
    "**Input:**  $\\;L\\in\\mathbb{N}\\; - $ количество бит в модуле $\\;p.$\n",
    "\n",
    "**Output:** $\\;k=(k_e,d_d)\\;$ \n",
    "\n",
    "$1.$  Случайным образом выбираем простое число $\\;p,\\;$ состоящее из $\\;L\\;$ бит.\n",
    "\n",
    "$2.$ Случайным образом выбираем образующий элемент $\\;g\\in\\mathbb{Z}_p^*.$\n",
    "\t\n",
    "$3.$ Случайным образом выбираем  $\\;x\\in\\mathbb{N},\\;$ \t$\\;1<x<p-1.\\;$\n",
    "\t\n",
    "$4.$ Вычисляем $$y:=g^x\\mod p.$$\n",
    "\t\n",
    "$5.$ Выдаем результат $$k_e:=(y,g,p),\\qquad k_d:=x.$$"
   ]
  },
  {
   "cell_type": "markdown",
   "id": "c5ddae34",
   "metadata": {
    "slideshow": {
     "slide_type": "subslide"
    }
   },
   "source": [
    "## Алгоритм генерации подписи\n",
    "**Input:**  $\\;k_e=(y,g,p)\\;$ &ndash; открытый ключ;\n",
    "\n",
    "$\\qquad k_d=x\\;$ &ndash; секретный ключ;\n",
    " \n",
    "\n",
    "\t \n",
    "$\\qquad m$ &ndash; подписываемое сообщение.\n",
    "\n",
    "**Output:**  $\\;s\\;$  &ndash; подпись.\n",
    "\t\n",
    "\n",
    "$1.$ $\\;h:=H(m),\\;$ где $\\;H\\;$ &ndash; криптографическая хеш-функция.\n",
    "\t\n",
    "$2.$ Случайным образом выбираем  $\\;k\\in\\mathbb{N}\\;$ (сеансовый ключ), что $\\;1<k<p-1,\\;$\n",
    "\t$\\;\\gcd(k,p-1)=1.\\;$\n",
    "\t\n",
    "$3.$ Вычисляем $\\;a:=g^k\\mod p.$\n",
    "\t\n",
    "$4.$ С помощью расширенного алгоритма Евклида находим $\\;b\\;$ из уравнения\n",
    "$$\n",
    "h=x a+k b \\mod p-1,\n",
    "$$\n",
    "т.е. $\\;b:=k^{-1}(h-x a)\\mod p-1.$\n",
    "\t\n",
    "$5.$ Подписью является пара чисел $\\;s=(a,b).$"
   ]
  },
  {
   "cell_type": "markdown",
   "id": "406c0e09",
   "metadata": {
    "slideshow": {
     "slide_type": "skip"
    }
   },
   "source": [
    "## Хеширование\n",
    "Функция хеширования в Python хеширует байты. Поэтому мы текст и числа будем переводить в байты для хеширования. А после хеширования байты будем переводить в числа. Воспользуемся функциями из лабораторной №7."
   ]
  },
  {
   "cell_type": "markdown",
   "id": "44046289",
   "metadata": {},
   "source": [
    "### Перевод текста в число\n",
    "**OS2IP (Octet String 2 Integer Primitive)**  \n",
    "Input: $\\;X\\;$ - строка, состоящая из $\\;XLen\\;$ байт:\n",
    "$$\n",
    "X=\\{X_{XLen-1}, X_{XLen-2},\\dots,X_0\\},\\qquad 0\\leq X_i<256.\n",
    "$$ \n",
    "Output:  $\\;x\\in\\mathbb{N}\\cup\\{0\\}.$ \n",
    " 1. Выдаем результат:\n",
    "$$\n",
    "  x:=X_{XLen-1}256^{XLen-1}+X_{XLen-2}256^{XLen-2}+\\dots+X_{0}.\n",
    "$$  "
   ]
  },
  {
   "cell_type": "code",
   "execution_count": 1,
   "id": "25918d7c",
   "metadata": {
    "slideshow": {
     "slide_type": "skip"
    }
   },
   "outputs": [
    {
     "name": "stdout",
     "output_type": "stream",
     "text": [
      "341881320659697045299745\n"
     ]
    },
    {
     "data": {
      "text/plain": [
       "True"
      ]
     },
     "execution_count": 1,
     "metadata": {},
     "output_type": "execute_result"
    }
   ],
   "source": [
    "def OS2IP(X: bytes) -> int:\n",
    "    x = 0\n",
    "    for i in range(len(X)):\n",
    "        x += X[i] * 256**(len(X) - 1 - i)\n",
    "    return x\n",
    "\n",
    "message = b'Hello Bob!'\n",
    "x = OS2IP(message)\n",
    "print(x)\n",
    "\n",
    "OS2IP(message) == int.from_bytes(message, \"big\")   "
   ]
  },
  {
   "cell_type": "markdown",
   "id": "eed30f5f",
   "metadata": {},
   "source": [
    "### Перевод числа в байты\n",
    "**I2OSP (Integer to Octet String Primitive)**  \n",
    "Input: $x\\in\\mathbb{N}\\cup\\{0\\};$  \n",
    "$\\qquad XLen$ -- длина байтовой строки.  \n",
    "\n",
    "Output: \n",
    "$$X=\\{X_{XLen-1}, X_{XLen-2},\\dots,X_0\\},\\qquad 0\\leq X_i<256.$$ \n",
    "\n",
    "1.  Если $\\;x\\geq 256^{XLen},\\;$ то выдаем результат: \"Число слишком большое\".  \n",
    "\t\n",
    "2. Переводим $\\;x\\;$ в систему счисления по основанию 256:\n",
    "$$\n",
    "  x:=X_{XLen-1}256^{XLen-1}+X_{XLen-2}256^{XLen-2}+\\dots+X_{0}.\n",
    "$$  \n",
    "\t\t\n",
    "3. Выдаем результат:\n",
    "$$\n",
    "  X=\\{X_{XLen-1}, X_{XLen-2},\\dots,X_0\\}.\n",
    "$$"
   ]
  },
  {
   "cell_type": "code",
   "execution_count": 2,
   "id": "e12b2b44",
   "metadata": {
    "slideshow": {
     "slide_type": "skip"
    }
   },
   "outputs": [
    {
     "name": "stdout",
     "output_type": "stream",
     "text": [
      "b'Hello Bob!'\n"
     ]
    },
    {
     "data": {
      "text/plain": [
       "True"
      ]
     },
     "execution_count": 2,
     "metadata": {},
     "output_type": "execute_result"
    }
   ],
   "source": [
    "def I2OSP(x: int, XLen: int) -> bytes:\n",
    "    if x >= 256**XLen:\n",
    "        raise ValueError(\"Number %d must be less than %d\" % (x,256**XLen))\n",
    "    b = []\n",
    "    for _ in range(XLen):\n",
    "        b.append(x % 256)\n",
    "        x >>= 8\n",
    "    b.reverse()\n",
    "    return bytes(b)\n",
    "\n",
    "plaintext = I2OSP(x, len(message)) \n",
    "print(plaintext)\n",
    "\n",
    "plaintext == x.to_bytes(len(message), \"big\")"
   ]
  },
  {
   "cell_type": "markdown",
   "id": "b59cba69",
   "metadata": {},
   "source": [
    "### Подсчитаем из скольких байт состоит число"
   ]
  },
  {
   "cell_type": "code",
   "execution_count": 3,
   "id": "96387eeb",
   "metadata": {
    "slideshow": {
     "slide_type": "skip"
    }
   },
   "outputs": [
    {
     "name": "stdout",
     "output_type": "stream",
     "text": [
      "Число n состоит из  2  байт\n"
     ]
    }
   ],
   "source": [
    "import math\n",
    "\n",
    "def Len(n: int)-> int:\n",
    "    if type(n) == int:\n",
    "        return math.ceil((len(bin(n))-2)/8)\n",
    "    s = 0\n",
    "    for i in n:\n",
    "        s += Len(i)\n",
    "    return s  \n",
    "\n",
    "number = 1000\n",
    "k = Len(number)\n",
    "print('Число n состоит из  %d  байт' % k)"
   ]
  },
  {
   "cell_type": "markdown",
   "id": "9834d415",
   "metadata": {
    "slideshow": {
     "slide_type": "skip"
    }
   },
   "source": [
    "## sha3_256\n",
    "Будем пользоваться следующей функцией хеширования"
   ]
  },
  {
   "cell_type": "code",
   "execution_count": 4,
   "id": "9154b7ca",
   "metadata": {
    "slideshow": {
     "slide_type": "skip"
    }
   },
   "outputs": [
    {
     "name": "stdout",
     "output_type": "stream",
     "text": [
      "b'\\xf1&\\x8f\\x00\\xf3\\xe2\\x9c(X*\\x16\\x8a<\\xc6\\xd3NK\\x01\\xf4\\xfcwLq.x\\xdb\\x9d\\x19e@\\x84j'\n",
      "109075523672440478071645694363423054127462358132405897549140002444636403565674\n",
      "b'\\x87`\\xff\\xe8\\x18\\x9a\\x0c\\x02\\xe7\\xbd6}\\xc5F\\xdfY\\xd21Sw\\xbfs\\xf7\\x91\\xeb~\\x91\\xcf\\xdd\\xb1\\xbex'\n"
     ]
    }
   ],
   "source": [
    "import hashlib\n",
    "\n",
    "def H(m: bytes) -> bytes:\n",
    "    return hashlib.sha3_256(m).digest()\n",
    "\n",
    "print(H(message))\n",
    "print(OS2IP(H(message)))\n",
    "\n",
    "number = 100\n",
    "print(H(I2OSP(number, Len(number)) + message))"
   ]
  },
  {
   "cell_type": "markdown",
   "id": "a47bccce",
   "metadata": {
    "slideshow": {
     "slide_type": "subslide"
    }
   },
   "source": [
    "##  Алгоритм проверки подписи\n",
    "**Input:**  $\\;k_e=(y,g,p)\\;$ &ndash; открытый ключ;\n",
    "\n",
    "$\\qquad m$ &ndash; подписываемое сообщение.\n",
    "\n",
    "$\\qquad s=(a,b)$ &ndash; подпись.\n",
    "\n",
    "**Output:**  $\\;True\\;$ или $\\;False.$  \n",
    "\t\n",
    "$1.$ Вычисляем $\\;h:=H(m).$\n",
    "\t\n",
    "$2.$ Если справедливо равенство\n",
    "$$\n",
    "y^a a^b\\equiv g^h \\mod p, \n",
    "$$\n",
    "то выдаем $\\;True,\\;$ иначе $\\;False.$\n",
    "\t\n",
    "**Обоснование**  \n",
    "$$\n",
    "  y^a a^b = g^{x a}g^{k(k^{-1}(h-x a))}\\equiv g^h\\mod p.\n",
    "$$  "
   ]
  },
  {
   "cell_type": "markdown",
   "id": "e42e11d0",
   "metadata": {
    "slideshow": {
     "slide_type": "subslide"
    }
   },
   "source": [
    "## Existential forgery attack\n",
    "$1.$ Предположим, что мы не используем функцию хеширования, а в формулах у нас вместо $\\;h=H(m)\\;$ будет фигурировать просто $\\;m.$\n",
    "\n",
    "$2.$ Случайным образом выбираем  $\\;k\\in\\mathbb{N}.\\;$\n",
    "\t\n",
    "$3.$ Вычисляем $\\;a:=y*g^k\\mod p.$  (в алгоритме подписи $\\;a:=g^k\\mod p$)\n",
    "\t\n",
    "$4.$ Вычисляем $\\;b:=-a\\mod (p-1).\\;$ (в алгоритме $\\;b:=k^{-1}(h-x a)\\mod p-1)$\n",
    "\t\n",
    "$5.$ \"Подписью\" является пара чисел $\\;s=(a,b).$\n",
    "\n",
    "\n",
    "Алгоритм верификации вычисляет\n",
    "$$\n",
    "  y^a a^b = g^{x a}g^{(x+k)(-a))}\\equiv g^{-ak}\\mod p.\n",
    "$$  \n",
    "Таким образом, не зная секретный ключ $\\;k_e=x,\\;$ мы нашли подпись $\\;s=(a,b)\\;$ для сообщения\n",
    "$$\n",
    "  m = -ak \\mod p-1.\n",
    "$$ \n",
    "\n",
    "Минусом данной атаки является то, что для наперед заданного сообщения $\\;m\\;$ подобрать число $\\;k,\\;$ удовлетворяющее условию\n",
    "$\\;\n",
    "  m \\equiv -kg^k\\mod p-1,\n",
    "\\;$ \n",
    "невозможно за полиномиальное время."
   ]
  },
  {
   "cell_type": "markdown",
   "id": "4e7c142d",
   "metadata": {
    "slideshow": {
     "slide_type": "skip"
    }
   },
   "source": [
    "## <font color='red'>Задание 1.</font>\n",
    "\n",
    "Реализовать функции генерации ключей, формирования и проверки подписи ЭЦП Эль-Гамаля.\n",
    "Являются ли данные алгоритмы полиномиальными?"
   ]
  },
  {
   "cell_type": "code",
   "execution_count": 5,
   "id": "2c323c27",
   "metadata": {},
   "outputs": [],
   "source": [
    "from sympy.ntheory import isprime\n",
    "from sympy.ntheory import primerange\n",
    "from sympy.ntheory import factorint \n",
    "from random import choice\n",
    "from random import randint\n",
    "import math\n",
    "\n",
    "def st(n):\n",
    "    s = 0\n",
    "    t = n - 1\n",
    "    while t % 2 == 0:\n",
    "        s += 1\n",
    "        t = t // 2\n",
    "    return s, t\n",
    "\n",
    "def WitnessQ(a, n, s = 0, t = 0):  \n",
    "    if n % 2 == 0:\n",
    "        return False\n",
    "    if s == 0:\n",
    "        s, t = st(n)    \n",
    "    if math.gcd(a,n) > 1:\n",
    "        return False\n",
    "    b = pow(a,t,n)\n",
    "    if b == 1 or b == n - 1:  # модуль - число положительное\n",
    "        return True\n",
    "    for _ in range(1,s):\n",
    "        b = b**2 % n\n",
    "        if b == n - 1:\n",
    "            return True\n",
    "    return False\n",
    "\n",
    "def MillerRabinTest(n, k = 10):\n",
    "    if n == 2:  # добавил\n",
    "        return True\n",
    "    if n % 2 == 0:\n",
    "        return False\n",
    "    s,t = st(n)\n",
    "    for _ in range(k):\n",
    "        a = randint(2,n - 1)\n",
    "        if not WitnessQ(a,n,s,t):\n",
    "            return False\n",
    "    return True\n",
    "\n",
    "def generates_prime_number(b):\n",
    "    while True:\n",
    "        n = randint(2**(b - 1),2**b - 1)\n",
    "        if MillerRabinTest(n):\n",
    "            return n\n",
    "        else:\n",
    "            continue\n",
    "\n",
    "def pollard_rho_minus_one(n: int, M: int, K: int) -> str:\n",
    "    B = list(primerange(K))\n",
    "    a = 2\n",
    "    for i in range(len(B)):\n",
    "        beta = int(math.log(M,B[i]))\n",
    "        a = pow(a,pow(B[i],beta), n)\n",
    "    d = math.gcd(a - 1,n)\n",
    "    if d == 1:\n",
    "        return 'делитель не найден, возьмите  𝑀,𝐾  большими'\n",
    "    if 1 < d < n:\n",
    "        return d\n",
    "    if d == n:\n",
    "        return 'делитель не найден, возьмите  𝑀,𝐾  меньшими'\n",
    "    \n",
    "# def is_element_generator(a: int, p: int, k: int) -> bool:\n",
    "    \n",
    "#     \"\"\" variable a < p, p is a prime number \"\"\"\n",
    "#     try:\n",
    "#         n = p - 1\n",
    "#         while not isprime(n):\n",
    "#             s = pollard_rho_minus_one(n, k, k)\n",
    "#             if pow(a, (p - 1)//s, p) == 1:  # поскольку n меняется в цикле, используем р - 1\n",
    "#                 return False\n",
    "#             n //= s\n",
    "#         else:\n",
    "#             if pow(a, (p - 1)//n, p) == 1:\n",
    "#                 return False\n",
    "#             else:\n",
    "#                 return True\n",
    "#     except:\n",
    "#         return s\n",
    "    \n",
    "def is_element_generator(a: int, p: int) -> bool:\n",
    "    \n",
    "    \"\"\" variable a < p, p is a prime number \"\"\"\n",
    "    \n",
    "    n = p - 1\n",
    "    factors = list(factorint(n).keys())\n",
    "    \n",
    "    for factor in factors:\n",
    "        if pow(a, n//factor, p) == 1:\n",
    "            return False\n",
    "    return True\n",
    "    \n",
    "def random_generator(p: int, k: int) -> int:\n",
    "    \n",
    "    \"\"\" p is a prime number \"\"\"\n",
    "    \n",
    "    while True:\n",
    "        a = randint(1, p - 1)\n",
    "        \n",
    "        if is_element_generator(a, p):\n",
    "            return a\n",
    "        else:\n",
    "            continue           \n",
    "            \n",
    "def key_generation(L: int, k: int) -> dict:\n",
    "    \n",
    "    \"\"\" L is the number of bits, k for pollard_rho_minus_one \"\"\"\n",
    "    \n",
    "    p = generates_prime_number(L)\n",
    "    g = random_generator(p, k)\n",
    "    x = randint(1 + 1, p - 1 - 1)\n",
    "    \n",
    "    y = pow(g, x, p)\n",
    "    \n",
    "    return {'k_e': (y, g, p), 'k_d': x}"
   ]
  },
  {
   "cell_type": "code",
   "execution_count": 6,
   "id": "5c20b9af",
   "metadata": {},
   "outputs": [
    {
     "name": "stdout",
     "output_type": "stream",
     "text": [
      "{'k_e': (321542405489308051288912041766, 45824787170831221886246563663, 937961374686879419158061411839), 'k_d': 10276588343558245388477745445}\n"
     ]
    }
   ],
   "source": [
    "keys = key_generation(100, 1_000_000)\n",
    "print(keys)"
   ]
  },
  {
   "cell_type": "code",
   "execution_count": 7,
   "id": "69a60c9a",
   "metadata": {},
   "outputs": [],
   "source": [
    "def ExtendedGCD(a, b):  # расширенный алгоритм Евклида\n",
    "    m11, m12 = 1, 0\n",
    "    m21, m22 = 0, 1\n",
    "    while b:\n",
    "        q = a // b\n",
    "        r = a % b\n",
    "        a, b = b, r\n",
    "        m11, m12 = m12, m11 - m12*q\n",
    "        m21, m22 = m22, m21 - m22*q \n",
    "    return (m11,m21)\n",
    "\n",
    "def signature_generation(k_e: tuple, k_d: int, m: bytes) -> tuple:\n",
    "    \n",
    "    \"\"\" k_e is the public key, k_d is the secret key, m is the bytes document \"\"\"\n",
    "    \n",
    "    h = OS2IP(H(m))\n",
    "    while True:\n",
    "        k = randint(1 + 1, k_e[2] - 1 - 1)\n",
    "        if math.gcd(k, k_e[2] - 1) == 1:\n",
    "            break\n",
    "            \n",
    "    a = pow(k_e[1], k, k_e[2])\n",
    "    k_, _ = ExtendedGCD(k, k_e[2] - 1)\n",
    "    b = k_ * (h - k_d*a) % (k_e[2] - 1)\n",
    "    \n",
    "    return (a, b)"
   ]
  },
  {
   "cell_type": "code",
   "execution_count": 8,
   "id": "ec494346",
   "metadata": {},
   "outputs": [
    {
     "name": "stdout",
     "output_type": "stream",
     "text": [
      "(305314512831667248384932227665, 700088477753832313686532257323)\n"
     ]
    }
   ],
   "source": [
    "s = signature_generation(keys['k_e'], keys['k_d'], b'Hello, KM!')\n",
    "print(s)"
   ]
  },
  {
   "cell_type": "code",
   "execution_count": 9,
   "id": "8710311d",
   "metadata": {},
   "outputs": [],
   "source": [
    "def signature_verification(k_e: tuple, m: bytes, s: tuple) -> bool:\n",
    "    \n",
    "    \"\"\" k_e is the public key, m is the bytes document, s is the signature \"\"\"\n",
    "    \n",
    "    h = OS2IP(H(m))\n",
    "    if (pow(k_e[0], s[0], k_e[2])*pow(s[0], s[1], k_e[2])) % k_e[2] == pow(k_e[1], h, k_e[2]):\n",
    "        return True\n",
    "    else:\n",
    "        return False"
   ]
  },
  {
   "cell_type": "code",
   "execution_count": 10,
   "id": "0f8a79e0",
   "metadata": {},
   "outputs": [
    {
     "data": {
      "text/plain": [
       "True"
      ]
     },
     "execution_count": 10,
     "metadata": {},
     "output_type": "execute_result"
    }
   ],
   "source": [
    "signature_verification(keys['k_e'], b'Hello, KM!', s)"
   ]
  },
  {
   "cell_type": "markdown",
   "id": "024bb3d3",
   "metadata": {},
   "source": [
    "Для того, чтобы ответить на вопрос о полиномиальности реализованных алгоритмов, необходимо подсчитать арифметические опреации, а также определить, ограничена ли длина чисел многочленом."
   ]
  },
  {
   "cell_type": "markdown",
   "id": "0d5216d3",
   "metadata": {},
   "source": [
    "Подсчитаем количество операций в алгоритме генерации ключей ЭЦП Эль-Гамаля.\n",
    "\n",
    "1. В алгоритме генерации простого числа по заданному количеству бит может быть от 1 до С операций, где С $-$ некоторая константа. При этом в теле алгоритма присутствует тест Миллера-Рабина, который является полиномиальным алгоритмом. Делаем вывод, что в этой части алгоритма генерации ключей полиномиальность сохранятеся.\n",
    "2. В алгоритме генерации случайного образующего элемента необходимо задействовать алгоритм проверки числа на то, является ли он примитивным для данной группы. В современной теории алгоритмов не найдено способов разложить большое число на простые множители за полиномиальное время, поэтому можем считать что это часть в алгоритме генерации ключей не является полиномиальной.\n",
    "\n",
    "Без рассмотрения последующих частей алгоритма можно сделать вывод, что алгоритм генерации ключей ЭЦП Эль-Гамаля не является полиномиальным."
   ]
  },
  {
   "cell_type": "markdown",
   "id": "118a5726",
   "metadata": {},
   "source": [
    "Подсчитаем количество операций в алгоритме генерации подписи ЭЦП Эль-Гамаля.\n",
    "\n",
    "1. В первой части алгоритма используется хеш-функция, которая, мы считаем, вычисляется за константное время. В функции `I2OSP` используются операции, максимальная вычислительная сложность которых равнятеся $О(n)$.\n",
    "2. C учётом того, что алгоритм Евклида, а также алгоритм быстрого возведения в степень полиномиальны, эта часть алгоритма также полиномиальна.\n",
    "\n",
    "Следовательно, алгоритме генерации подписи ЭЦП Эль-Гамаля является полиномиальным."
   ]
  },
  {
   "cell_type": "markdown",
   "id": "e7d7b23c",
   "metadata": {},
   "source": [
    "Алгоритм проверки ЭЦП является полиномиальным, так как все операции в него входящии выполняются за полиномиальное время."
   ]
  },
  {
   "cell_type": "markdown",
   "id": "828f87fe",
   "metadata": {
    "slideshow": {
     "slide_type": "skip"
    }
   },
   "source": [
    "## <font color='red'>Задание 2.</font>\n",
    "\n",
    "Реализовать полиномиальный алгоритм, который генерирует случайное $\\;L$-битовое простое число $\\;p,\\;$ а также список всех простых делителей числа $\\;p-1.\\;$ Например, простое число можно искать в виде $\\;2q+1,\\;$ где $\\;q\\;$ &ndash; простое."
   ]
  },
  {
   "cell_type": "markdown",
   "id": "450d75bc",
   "metadata": {},
   "source": [
    "Ранее нами уже был реализован полиномиальный алгоритм, который генерирует случайное $L$-битовое простое число $p$, поэтому напишем код, который генерирует список всех простых делителей числа $p-1$."
   ]
  },
  {
   "cell_type": "code",
   "execution_count": 13,
   "id": "9601e5f3",
   "metadata": {},
   "outputs": [],
   "source": [
    "def prime_divisors(L: int) -> tuple:\n",
    "    \n",
    "    q = generates_prime_number(L)\n",
    "    while True:\n",
    "        p = 2*q + 1\n",
    "        if isprime(p):\n",
    "            return (p, (2, q))\n",
    "        else:\n",
    "            q = generates_prime_number(L) "
   ]
  },
  {
   "cell_type": "code",
   "execution_count": 14,
   "id": "fccd27ea",
   "metadata": {},
   "outputs": [
    {
     "data": {
      "text/plain": [
       "(4314047523703598023280079005105124475813395208914225874067004717207884545899903374414717455805884114522084312087235681587379318934730872349941369616259,\n",
       " (2,\n",
       "  2157023761851799011640039502552562237906697604457112937033502358603942272949951687207358727902942057261042156043617840793689659467365436174970684808129))"
      ]
     },
     "execution_count": 14,
     "metadata": {},
     "output_type": "execute_result"
    }
   ],
   "source": [
    "prime_divisors(500)"
   ]
  },
  {
   "cell_type": "markdown",
   "id": "5c216d4b",
   "metadata": {
    "slideshow": {
     "slide_type": "skip"
    }
   },
   "source": [
    "## <font color='red'>Задание 3.</font>\n",
    "\n",
    "Если функция генерации ключей ЭЦП Эль-Гамаля из Задания 1 не является полиномиальной, то сделать ее такой."
   ]
  },
  {
   "cell_type": "code",
   "execution_count": 11,
   "id": "eca49e48",
   "metadata": {},
   "outputs": [],
   "source": [
    "def is_element_generator_poly(a: int, p: int, divisors: list) -> bool:\n",
    "    \n",
    "    \"\"\" p is a prime number \"\"\"\n",
    "    \n",
    "    n = p - 1\n",
    "    for elem in divisors:\n",
    "        if pow(a, n//elem, p) == 1:\n",
    "            return False\n",
    "    return True\n",
    "        \n",
    "def random_generator_poly(p: int, divisors: list) -> int:\n",
    "    \n",
    "    \"\"\" p is a prime number \"\"\"\n",
    "    \n",
    "    while True:\n",
    "        a = randint(1, p)\n",
    "        \n",
    "        if is_element_generator_poly(a, p, divisors):\n",
    "            return a\n",
    "        else:\n",
    "            continue\n",
    "\n",
    "def key_generation_poly(L: int) -> dict:\n",
    "    \n",
    "    \"\"\" L is the number of bits \"\"\"\n",
    "    \n",
    "    p, divisors = prime_divisors(L)\n",
    "    g = random_generator_poly(p, divisors)\n",
    "    x = randint(1 + 1, p - 1 - 1)\n",
    "    \n",
    "    y = pow(g, x, p)\n",
    "    \n",
    "    return {'k_e': (y, g, p), 'k_d': x}"
   ]
  },
  {
   "cell_type": "code",
   "execution_count": 12,
   "id": "2375f3dd",
   "metadata": {},
   "outputs": [
    {
     "ename": "NameError",
     "evalue": "name 'prime_divisors' is not defined",
     "output_type": "error",
     "traceback": [
      "\u001b[1;31m---------------------------------------------------------------------------\u001b[0m",
      "\u001b[1;31mNameError\u001b[0m                                 Traceback (most recent call last)",
      "\u001b[1;32m~\\AppData\\Local\\Temp/ipykernel_16328/338777400.py\u001b[0m in \u001b[0;36m<module>\u001b[1;34m\u001b[0m\n\u001b[1;32m----> 1\u001b[1;33m \u001b[0mkey_generation_poly\u001b[0m\u001b[1;33m(\u001b[0m\u001b[1;36m200\u001b[0m\u001b[1;33m)\u001b[0m\u001b[1;33m\u001b[0m\u001b[1;33m\u001b[0m\u001b[0m\n\u001b[0m",
      "\u001b[1;32m~\\AppData\\Local\\Temp/ipykernel_16328/1843170122.py\u001b[0m in \u001b[0;36mkey_generation_poly\u001b[1;34m(L)\u001b[0m\n\u001b[0;32m     25\u001b[0m     \u001b[1;34m\"\"\" L is the number of bits \"\"\"\u001b[0m\u001b[1;33m\u001b[0m\u001b[1;33m\u001b[0m\u001b[0m\n\u001b[0;32m     26\u001b[0m \u001b[1;33m\u001b[0m\u001b[0m\n\u001b[1;32m---> 27\u001b[1;33m     \u001b[0mp\u001b[0m\u001b[1;33m,\u001b[0m \u001b[0mdivisors\u001b[0m \u001b[1;33m=\u001b[0m \u001b[0mprime_divisors\u001b[0m\u001b[1;33m(\u001b[0m\u001b[0mL\u001b[0m\u001b[1;33m)\u001b[0m\u001b[1;33m\u001b[0m\u001b[1;33m\u001b[0m\u001b[0m\n\u001b[0m\u001b[0;32m     28\u001b[0m     \u001b[0mg\u001b[0m \u001b[1;33m=\u001b[0m \u001b[0mrandom_generator_poly\u001b[0m\u001b[1;33m(\u001b[0m\u001b[0mp\u001b[0m\u001b[1;33m,\u001b[0m \u001b[0mdivisors\u001b[0m\u001b[1;33m)\u001b[0m\u001b[1;33m\u001b[0m\u001b[1;33m\u001b[0m\u001b[0m\n\u001b[0;32m     29\u001b[0m     \u001b[0mx\u001b[0m \u001b[1;33m=\u001b[0m \u001b[0mrandint\u001b[0m\u001b[1;33m(\u001b[0m\u001b[1;36m1\u001b[0m \u001b[1;33m+\u001b[0m \u001b[1;36m1\u001b[0m\u001b[1;33m,\u001b[0m \u001b[0mp\u001b[0m \u001b[1;33m-\u001b[0m \u001b[1;36m1\u001b[0m \u001b[1;33m-\u001b[0m \u001b[1;36m1\u001b[0m\u001b[1;33m)\u001b[0m\u001b[1;33m\u001b[0m\u001b[1;33m\u001b[0m\u001b[0m\n",
      "\u001b[1;31mNameError\u001b[0m: name 'prime_divisors' is not defined"
     ]
    }
   ],
   "source": [
    "key_generation_poly(200)"
   ]
  },
  {
   "cell_type": "markdown",
   "id": "0f34cff2",
   "metadata": {
    "slideshow": {
     "slide_type": "slide"
    }
   },
   "source": [
    "# 3. ЭЦП Шнорра\n",
    "- Claus-Peter Schnorr (born 4 August 1943) is a German mathematician and cryptographer. \n",
    "\t\n",
    "    \n",
    "- Schnorr C.P. Efficient Identification and Signatures for Smart Cards. Advances in Cryptology - CRYPTO’89. "
   ]
  },
  {
   "cell_type": "markdown",
   "id": "cc452edb",
   "metadata": {
    "slideshow": {
     "slide_type": "subslide"
    }
   },
   "source": [
    "##  Генерация элемента порядка $\\;q$\n",
    "**Лемма.**  \n",
    "Пусть $\\;G\\;$ &ndash; мультипликативная группа, $\\;q\\;$ &ndash; простое, $\\;g\\in\n",
    "     G\\;$, $\\;g\\neq1,\\;$ $\\;g^q=1,\\;$ тогда $\\;g\\;$\n",
    "     имеет порядок $\\;q\\;$ в $\\;G.$\n",
    "\n",
    "**Доказательство.**  \n",
    "Пусть $\\;m\\;$ &ndash; порядок элемента $\\;g.\\;$ Докажем, что $\\;m=q.\\;$\n",
    "\n",
    "Разделим $\\;q\\;$ на $\\;m\\;$ с остатком: $\\;q=m Q +r,\\;$ где $\\;0\\leq\n",
    "     r<m.\\;$\n",
    "Тогда\n",
    "$$\n",
    "  1= g^q= (g^m)^Q g^r= 1^Q g^r= g^r.\n",
    "$$\n",
    "Получили, что $\\;r=0. \\;$ Так как $\\;q\\;$ &ndash; простое, то $\\;Q=1\\;$ и $\\;q=m.$\n",
    "  \n",
    "**Следствие.**  \n",
    "Пусть $\\;p,q\\;$ &ndash; простые, $\\;q|p-1,\\;$\n",
    "$$\n",
    "  g:=\\tilde     g^{\\frac{p-1}{q}}\\mod p,\\qquad g\\not\\equiv 1\\mod p.\n",
    "$$\n",
    "Тогда $\\;g\\;$ имеет порядок $\\;q\\;$ в $\\;\\mathbb{Z}_p^*.$  \n",
    "**Доказательство.**  \n",
    "По малой теореме Ферма $\\;g^q\\equiv \\tilde g^{p-1}\\equiv 1\\mod p.$"
   ]
  },
  {
   "cell_type": "markdown",
   "id": "0d96ae46",
   "metadata": {
    "slideshow": {
     "slide_type": "subslide"
    }
   },
   "source": [
    "##  Алгоритм генерации ключей\n",
    "**Input:**  $\\;L\\in\\mathbb{N}\\; - $ количество бит в модуле $\\;p;$\n",
    "\n",
    "$\\qquad N\\in\\mathbb{N}\\; - $ количество бит числа  $\\;q.$\n",
    "\n",
    "**Output:** $\\;k=(k_e,d_d)\\;$ \n",
    "\n",
    "$1.$  Выбираем простые числа $\\;q\\;$ ($N$-бит) и $\\;p\\;$ ($L$-бит) такие,  что $\\;q|p-1.$ \n",
    "\t\n",
    "$2.$  Выбираем $\\;\\tilde g\\in\\mathbb{Z}_p^*\\;$ такой, что \n",
    "$$\n",
    "  \\tilde g^{\\frac{p-1}{q}}\\not\\equiv 1\\mod p,\n",
    "$$\n",
    "$3.$\tВычисляем $$g:=\\tilde g^{\\frac{p-1}q}\\mod p.$$\n",
    "\t\n",
    "$4.$ Выбираем случайное $\\;x\\in\\mathbb{N},\\;$ $\\;1<x<q,\\;$ и вычисляем $\\;y:=g^{x}\\mod p.$\n",
    "\t\n",
    "$5.$ Выдаем результат:\n",
    " $\\;k_e:=(y,g,p,q)\\;$ &ndash; открытый ключ; \n",
    " $\\;k_d:=x\\;$  &ndash; секретный ключ."
   ]
  },
  {
   "cell_type": "markdown",
   "id": "9b6eb26c",
   "metadata": {
    "slideshow": {
     "slide_type": "subslide"
    }
   },
   "source": [
    "## Алгоритм генерации подписи\n",
    "**Input:**  $\\;k_e=(y,g,p,q)\\;$ &ndash; открытый ключ;\n",
    "\n",
    "$\\qquad k_d=x\\;$ &ndash; секретный ключ;\n",
    " \n",
    "\n",
    "\t \n",
    "$\\qquad m$ &ndash; подписываемое сообщение.\n",
    "\n",
    "**Output:**  $\\;s\\;$  &ndash; подпись.\n",
    "\t\n",
    "\n",
    "$1.$  Выбираем случайное число $\\;k\\in\\mathbb{N},\\;$ $\\;1<k<q.$ \n",
    "\n",
    "$2.$ Вычисляем $\\;a:=g^k\\mod p.$\n",
    "\t\n",
    "$3.$ Вычисляем $\\;h:=H(a||m),\\;$ \n",
    "\n",
    "$4.$ Вычисляем $\\;b:=(k - x h)\\mod q.$\n",
    "\t\n",
    "$5.$ Подписью является пара $\\;s:=(b,h).$"
   ]
  },
  {
   "cell_type": "markdown",
   "id": "ebae3fc0",
   "metadata": {
    "slideshow": {
     "slide_type": "subslide"
    }
   },
   "source": [
    "## Алгоритм проверки подлинности подписи\n",
    "**Input:**  $\\;k_e=(y,g,p,q)\\;$ &ndash; открытый ключ;\n",
    "\n",
    "$\\qquad m$ &ndash; подписываемое сообщение.\n",
    "\n",
    "$\\qquad s=(b,h)$ &ndash; подпись.\n",
    "\n",
    "**Output:**  $\\;True\\;$ или $\\;False.$  \n",
    "\t\n",
    "$1.$ Вычисляем \n",
    "$\\;a:=g^b y^h\\mod p.$\n",
    "\t\n",
    "$2.$ Если выполняется равенство \n",
    "$$\n",
    "\\;h\\equiv H(a||m) \\mod q,\\;\n",
    "$$\n",
    "то подпись принимается, иначе подпись отклоняется.\n",
    "\t\n",
    "**Обоснование**  \n",
    "$$\n",
    "  g^b y^h = g^{k - x h}g^{x h}\\equiv g^k\\equiv a \\mod p.\n",
    "$$  "
   ]
  },
  {
   "cell_type": "markdown",
   "id": "c06fe6c0",
   "metadata": {
    "slideshow": {
     "slide_type": "skip"
    }
   },
   "source": [
    "## <font color='red'>Задание 4.</font>\n",
    "\n",
    "Реализовать функции генерации ключей, формирования и проверки подписи ЭЦП Шнорра. Являются ли данные алгоритмы полиномиальными?"
   ]
  },
  {
   "cell_type": "code",
   "execution_count": 15,
   "id": "1decec6e",
   "metadata": {},
   "outputs": [],
   "source": [
    "def key_generation_schnorr(L: int) -> dict:\n",
    "    \n",
    "    \"\"\" L and N are numbers of bits \"\"\"\n",
    "    \n",
    "    p, divisors = prime_divisors(L)\n",
    "    q = divisors[1]\n",
    "    \n",
    "    while True:\n",
    "        g_ = randint(1, p - 1)\n",
    "        g = pow(g_, (p - 1)//q, p)\n",
    "        if g != 1:\n",
    "            break\n",
    "            \n",
    "    x = randint(1 + 1, q - 1)\n",
    "    y = pow(g, x, p)\n",
    "            \n",
    "    return {'k_e': (y, g, p, q), 'k_d': x}            "
   ]
  },
  {
   "cell_type": "code",
   "execution_count": 17,
   "id": "31964e12",
   "metadata": {},
   "outputs": [
    {
     "name": "stdout",
     "output_type": "stream",
     "text": [
      "{'k_e': (615984794476018126323166571392940002083203214709315896656736, 256657994697595310052776755628667929503192640870390001917974, 1902455674397475694775478338835202614983675802951355321686347, 951227837198737847387739169417601307491837901475677660843173), 'k_d': 547466949752873504318523450165527339392001581967463419647537}\n"
     ]
    }
   ],
   "source": [
    "keys = key_generation_schnorr(200)\n",
    "print(keys)"
   ]
  },
  {
   "cell_type": "code",
   "execution_count": 18,
   "id": "6a0c8e54",
   "metadata": {},
   "outputs": [],
   "source": [
    "def signature_generation_schnorr(k_e: tuple, k_d: int, m: bytes) -> tuple:\n",
    "    \n",
    "    \"\"\" k_e is the public key, k_d is the secret key, m is the bytes document \"\"\"\n",
    "    \n",
    "    while True:\n",
    "        k = randint(1 + 1, k_e[3] - 1)\n",
    "        a = pow(k_e[1], k, k_e[2])\n",
    "        h = OS2IP(H(I2OSP(a, Len(a)) + m))\n",
    "        if h > 0:\n",
    "            break\n",
    "        \n",
    "    b = (k - k_d*h) % k_e[3]\n",
    "    \n",
    "    return (b, h)"
   ]
  },
  {
   "cell_type": "code",
   "execution_count": 19,
   "id": "6e0b7a7b",
   "metadata": {},
   "outputs": [
    {
     "name": "stdout",
     "output_type": "stream",
     "text": [
      "(139615786602684568943351593084705596817102211271765433128221, 29020551258420244871744365963649477258184049130978474656289780497768856952107)\n"
     ]
    }
   ],
   "source": [
    "s = signature_generation_schnorr(keys['k_e'], keys['k_d'], b'It is hard.')\n",
    "print(s)"
   ]
  },
  {
   "cell_type": "code",
   "execution_count": 20,
   "id": "2b18d105",
   "metadata": {},
   "outputs": [],
   "source": [
    "def signature_verification_schnorr(k_e: tuple, m: bytes, s: tuple) -> bool:\n",
    "    \n",
    "    \"\"\" k_e is the public key, k_d is the secret key, s is the signature \"\"\"\n",
    "    \n",
    "    a = pow(k_e[1], s[0], k_e[2])*pow(k_e[0], s[1], k_e[2]) % k_e[2]\n",
    "    Hh = OS2IP(H(I2OSP(a, Len(a)) + m)) % k_e[3]\n",
    "    if (s[1] % k_e[3]) == Hh and Hh > 0:\n",
    "        return True\n",
    "    else:\n",
    "        return False"
   ]
  },
  {
   "cell_type": "code",
   "execution_count": 21,
   "id": "c9374153",
   "metadata": {},
   "outputs": [
    {
     "data": {
      "text/plain": [
       "True"
      ]
     },
     "execution_count": 21,
     "metadata": {},
     "output_type": "execute_result"
    }
   ],
   "source": [
    "signature_verification_schnorr(keys['k_e'], b'It is hard.', s)"
   ]
  },
  {
   "cell_type": "markdown",
   "id": "dc5586ca",
   "metadata": {
    "slideshow": {
     "slide_type": "subslide"
    }
   },
   "source": [
    "## Анализ ЭЦП Шнорра\n",
    "**Теорема.**  \n",
    "Пусть $\\;p,\\;q\\;$ &ndash; простые, $\\;q|p-1,\\;$  $\\;g,k,x_1,x_2,m\\in\\mathbb{N},\\;$ $\\;g^q\\equiv 1\\mod p,\\;$ $\\;g\\neq1,\\;$ $\\;1<k,x_1,x_2<q,\\;$ $\\;y:=g^{x_2}\\mod p,\\;$ $\\;a:=g^k\\mod p,\\;$  $\\;H:\\mathbb{N}\\rightarrow \\mathbb{Z}_q,\\;$ $\\;h:=H(a||m)>0,\\;$  $\\;b:=k-x_1 h\\mod q.$\n",
    "\n",
    "Тогда справедлива эквивалентность\n",
    "$$\n",
    "x_1\\equiv x_2\\mod q\\quad\\Leftrightarrow\\quad  a\\equiv g^b y^h \\mod p.\n",
    "$$\n",
    "\n",
    "**Доказательство.**  \n",
    "Пусть $\\;x_1\\equiv x_2\\mod q,\\;$ тогда\n",
    "$$\n",
    "  g^by^h\\equiv g^{k-x_1 h+x_2 h}\\equiv g^k\\equiv a\\mod p.\n",
    "$$\n",
    "\n",
    "Обратно, пусть $\\;a\\equiv g^b y^h \\mod p,\\;$ тогда\n",
    "$$\n",
    "  g^{k} \\equiv  g^{b+x_2 h} \\mod p,\n",
    "$$\n",
    "$$\n",
    "  h x_1 \\equiv h x_2   \\mod q,\n",
    "$$\n",
    "Так как $\\;(h,q)=1,\\;$ то $\\;x_1\\equiv x_2 \\mod q.$"
   ]
  },
  {
   "cell_type": "markdown",
   "id": "00a239ac",
   "metadata": {
    "slideshow": {
     "slide_type": "subslide"
    }
   },
   "source": [
    "##  Случай h=H(a||m)=0\n",
    "Согласно доказанной теореме при $\\;h=0\\;$ функция верификации подписи $\\;V\\;$ всегда будет выдавать $\\;True\\;$ вне зависимости от того, каков открытый ключ, поэтому в алгоритм формирования подписи стоит добавить проверку $\\;h>0,\\;$ и если она не выполняется, то выбирать другое $\\;k,\\;$ также данное условие $\\;h>0\\;$ необходимо добавить в алгоритм верификации подписи, и если оно не выполняется, то выдавать $\\;False.$"
   ]
  },
  {
   "cell_type": "markdown",
   "id": "dee7fc5d",
   "metadata": {
    "slideshow": {
     "slide_type": "skip"
    }
   },
   "source": [
    "## <font color='red'>Задание 5.</font>\n",
    "ЭЦП Шнорра задана параметрами $\\;g,\\;p,\\; q.\\;$  Для документа $\\;m\\;$ получена подпись $\\;s=(b,h).\\;$  Убедиться, что данная подпись подходит для любого открытого ключа $\\;y.\\;$ Хорошо это или плохо характеризует ЭЦП Шнорра с криптографической точки зрения? Какая особенность подписи повлияла на такой результат? "
   ]
  },
  {
   "cell_type": "code",
   "execution_count": 22,
   "id": "0913ce2c",
   "metadata": {
    "slideshow": {
     "slide_type": "skip"
    }
   },
   "outputs": [],
   "source": [
    "m = b'Document'\n",
    "g =  87865805339360\n",
    "p =  779315330133719\n",
    "q =  946249\n",
    "b =  695272\n",
    "h =  50218385796055670405835022421522946640006584409811402705092677453242058615991"
   ]
  },
  {
   "cell_type": "code",
   "execution_count": 30,
   "id": "7f563b4f",
   "metadata": {},
   "outputs": [
    {
     "data": {
      "text/plain": [
       "False"
      ]
     },
     "execution_count": 30,
     "metadata": {},
     "output_type": "execute_result"
    }
   ],
   "source": [
    "y = 18\n",
    "signature_verification_schnorr(((y, g, p, q)), m, (b, h))"
   ]
  },
  {
   "cell_type": "markdown",
   "id": "21f0ba5c",
   "metadata": {
    "slideshow": {
     "slide_type": "slide"
    }
   },
   "source": [
    "# 4. Digital Signature Standard\n",
    "-  FIPS PUB 186-4 (Federal information processing standards publication);\n",
    "   \n",
    "- National Institute of Standards and Technology;\n",
    "\t\n",
    "- 2013;\n",
    "\t\n",
    "- FIPS PUB 186-5 (Draft);\n",
    "\t\n",
    "- 2019;\n",
    "\t\n",
    "- Из стандарта исключена подпись DSA, основанная на подписи Шнорра.\t"
   ]
  },
  {
   "cell_type": "markdown",
   "id": "6521360d",
   "metadata": {
    "slideshow": {
     "slide_type": "subslide"
    }
   },
   "source": [
    "## DSA (Digital Signature Algorithm)\n",
    "\t\t\n",
    "- Содержится в FIPS 186, 1994 год;\n",
    "\t\n",
    "- Отсутствует в проекте стандарта FIPS 186-5;\n",
    "\t\t\n",
    "- Основан на подписи Шнорра;\n",
    "\t\t\n",
    "- Простые числа $\\;p, q\\;$ предлагается брать следующего размера:\n",
    "\t\t\n",
    "$$\n",
    "\\begin{array}{ |c|c|c| } \n",
    "\\hline\n",
    "& \\text{Количество бит } p & \\text{Количество бит }q \\\\ \n",
    "\\hline\n",
    " 1.& 1024 & 160 \\\\ \n",
    " 2.&2048 & 224 \\\\ \n",
    " 3.& 2048 & 256 \\\\ \n",
    " 4. & 3072 & 256 \\\\ \n",
    " \\hline\n",
    "\\end{array}\n",
    "$$\n",
    "\n",
    "согласно FIPS 186-4, 2013."
   ]
  },
  {
   "cell_type": "markdown",
   "id": "0c0da9a6",
   "metadata": {
    "slideshow": {
     "slide_type": "slide"
    }
   },
   "source": [
    "# 5. Анализ ЭЦП Эль-Гамаля\n",
    "**Теорема.**  \n",
    "Пусть $\\;p\\;$ &ndash; простое число, $\\;g\\;$ &ndash; образующий элемент группы    $\\;\\mathbb{Z}_p^*,\\;$ $\\;x,y,k,m\\in\\mathbb{N},\\;$ $\\;1<x,k<p-1,\\;$ $\\;0<m,y\\le p,\\;$\n",
    "   $\\;НОД(k,p-1)=1,\\;$  $\\;a:=g^k \\mod p,\\;$ $\\;НОД(a,p-1)=1,\\;$ $\\;b:=k^{-1}(m-x a)\\mod p-1.\\;$\n",
    "   Тогда\n",
    "\n",
    "$1.$ Справедлива эквивалентность\n",
    "$$\n",
    " y\\equiv g^x\\mod p\\quad\\Leftrightarrow\\quad  y^a a^b\\equiv g^m \\mod p.\n",
    "$$\n",
    "\n",
    "$2.$ При $\\;y\\equiv g^x\\mod p,\\;$ $\\;0<m_2\\le p,\\;$ справедливо   утверждение\n",
    "$$\n",
    "   m=m_2\\quad\\Leftrightarrow\\quad  y^a a^b\\equiv g^{m_2} \\mod p.\n",
    "$$"
   ]
  },
  {
   "cell_type": "markdown",
   "id": "3d3455ec",
   "metadata": {
    "slideshow": {
     "slide_type": "subslide"
    }
   },
   "source": [
    "## Доказательство 1.\n",
    "Пусть $\\;y\\equiv g^x\\mod p.$ Тогда\n",
    "$$\n",
    "  y^a a^b=g^{a x+k(k^{-1}(m-x a))}\\equiv g^m\\mod p.\n",
    "$$\n",
    "\n",
    "Пусть теперь $\\; y^a a^b\\equiv g^m \\mod p.\\;$ $\\;g\\;$ &ndash; образующий элемент, поэтому существует единственное натуральное число $\\;x_2,\\;$ $\\;1\\le x_2\\le p-1,\\;$ что $\\;y\\equiv g^{x_2}\\mod p,\\;$ после чего сравнение примет вид\n",
    "$$\n",
    "  g^{x_2 a +m- x a}\\equiv g^m \\mod p.\n",
    "$$\n",
    "Так как $\\;g\\;$ &ndash; образующий элемент, то из справедливости предыдущего     сравнения следует, что\n",
    "$$\n",
    "  x_2 a+m- x a\\equiv m\\mod p-1,\n",
    "$$\n",
    "или\n",
    "$$\n",
    "  (x_2-x)a\\equiv 0\\mod p-1.\n",
    "$$\n",
    "По условию $\\;НОД(a,p-1)=1.\\;$ Поэтому $\\;x_2\\equiv x\\mod p-1,\\;$ следовательно, $\\;y=g^{x_2}\\equiv g^x\\mod p.$\n"
   ]
  },
  {
   "cell_type": "markdown",
   "id": "6d7f5957",
   "metadata": {
    "slideshow": {
     "slide_type": "subslide"
    }
   },
   "source": [
    "## Доказательство 2.\n",
    "\n",
    "Пусть $\\;m=m_2,\\;$ тогда\n",
    "$$\n",
    "  y^a a^b=g^{x a}g^{k k^{-1}(m-xa)}\\equiv g^m=g^{m_2}\\mod p.\n",
    "$$\n",
    "Пусть теперь $\\;y^a a^b\\equiv g^{m_2}\\mod p,\\;$ из этого следует, что $\\;g^m\\equiv g^{m_2}\\mod p,\\;$ учитывая, что $\\;g\\;$ &ndash;    образующий элемент, получаем $\\;m\\equiv m_2\\mod p-1.$\n",
    "\n",
    "\n"
   ]
  }
 ],
 "metadata": {
  "celltoolbar": "Слайд-шоу",
  "kernelspec": {
   "display_name": "Python 3 (ipykernel)",
   "language": "python",
   "name": "python3"
  },
  "language_info": {
   "codemirror_mode": {
    "name": "ipython",
    "version": 3
   },
   "file_extension": ".py",
   "mimetype": "text/x-python",
   "name": "python",
   "nbconvert_exporter": "python",
   "pygments_lexer": "ipython3",
   "version": "3.9.7"
  }
 },
 "nbformat": 4,
 "nbformat_minor": 5
}
