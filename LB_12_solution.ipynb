{
 "cells": [
  {
   "cell_type": "markdown",
   "id": "e4b7f733",
   "metadata": {
    "slideshow": {
     "slide_type": "slide"
    }
   },
   "source": [
    "<H6 align=\"center\">Белорусский государственный университет </H6>\n",
    "<H6 align=\"center\">Механико-математический факультет </H6>\n",
    "<H6 align=\"center\">Кафедра дифференциальных уравнений  и системного анализа </H6>\n",
    "\n",
    "<H2 align=\"center\">  Математические основы защиты информации</H2>\n",
    "\n",
    "\n",
    "<H2 align=\"center\"> Лекция 14.  Эллиптическая кривая Монтгомери</H2>\n",
    "\n",
    "$ $\n",
    "\n",
    "<H4 align=\"center\">Чергинец Дмитрий Николаевич </H4>"
   ]
  },
  {
   "cell_type": "markdown",
   "id": "5efb0f29",
   "metadata": {
    "jp-MarkdownHeadingCollapsed": true,
    "slideshow": {
     "slide_type": "slide"
    },
    "tags": []
   },
   "source": [
    "## 1. Эллиптическая кривая в форме Вейерштрасса\n",
    "**Определение эллиптической кривой**  \n",
    "- \tПусть $\\;a,b\\in F.$ \n",
    "\n",
    "-  Эллиптической кривой $\\;\\mathcal{E}_{a,b}(F)\\;$ над полем $\\;F\\;$  называется множество точек $\\;(x,y)\\in F^2,\\;$ удовлетворяющих равенству\n",
    "\t$$\n",
    "\ty^2=x^3+ax+b.\n",
    "\t$$\n",
    "\t\n",
    "- Также к эллиптической кривой добавляют бесконечно удаленную точку $\\;O.$\n",
    "\n",
    "- Будем считать, что бесконечно удаленная точка принадлежит всем вертикальным прямым и не принадлежит невертикальным."
   ]
  },
  {
   "cell_type": "markdown",
   "id": "55909b33",
   "metadata": {
    "slideshow": {
     "slide_type": "subslide"
    }
   },
   "source": [
    "### Формулы вычисления координат суммы точек\n",
    "Если $\\;P=O\\;$ или $\\;Q=O,\\;$ то\n",
    "$$\n",
    "P+O=O+P=-(-P)=P.\n",
    "$$\n",
    " Пусть далее точки конечны \n",
    " $$\n",
    "P=(x_1,y_1),\\; Q=(x_2,y_2).\n",
    "$$\n",
    "\n",
    "Если $\\;x_1\\neq x_2,\\;$ то\n",
    "$$\n",
    "x_3:=k^2-x_1-x_2,\\quad y_3:=k(x_1-x_3)-y_1,\\qquad k:=\\frac{y_2-y_1}{x_2-x_1}.\n",
    "$$\n",
    "\n",
    "Если $\\;x_1=x_2,\\;$ $y_1=y_2\\neq0,\\;$ то\n",
    "$$\n",
    "x_3:=k^2-2x_1,\\quad   y_3:=k(x_1-x_3)-y_1,\\qquad k:=\\frac{3x_1^2+a}{2y_1}.\n",
    "$$\n",
    "\n",
    "Если $\\;x_1=x_2,\\;$ $y_1=y_2=0,\\;$ то \n",
    "$$\n",
    "P+Q:=O.\n",
    "$$\n",
    "\n",
    "Если $\\;x_1 = x_2,\\;$ $y_1\\neq y_2,\\;$ то\n",
    "$$\n",
    "P+Q:=O.\n",
    "$$\t"
   ]
  },
  {
   "cell_type": "markdown",
   "id": "d26b6b59",
   "metadata": {
    "slideshow": {
     "slide_type": "slide"
    }
   },
   "source": [
    "## 2. Кривая Монтгомери\n",
    "Кривой Монтгомери $\\;\\mathcal{M}_{A,B}(F)\\;$ над полем $\\;F\\;$  называется множество точек $\\;(x,y)\\in F^2,\\;$ удовлетворяющих равенству\n",
    "$$\n",
    "By^2=x^3+Ax^2+x.\n",
    "$$\n",
    "Здесь $\\;A,B\\in F,\\;$ $\\;B\\neq0,\\;$ $\\;A\\neq\\pm2.\\;$\t"
   ]
  },
  {
   "cell_type": "markdown",
   "id": "40c35e9a",
   "metadata": {
    "slideshow": {
     "slide_type": "subslide"
    }
   },
   "source": [
    "### Дискриминант эллиптической кривой Монтгомери\n",
    "\n",
    "\n",
    "Найдем точки эллиптической кривой, в  которых не выполняются условия теоремы о неявной функции, \n",
    "$$\n",
    "\\left\\{\\begin{array}{l}\n",
    "\t\\Phi(x,y)=0;\\\\\n",
    "\t\\frac{\\partial\\Phi}{\\partial x}(x,y)=0;\\\\\n",
    "\t\\frac{\\partial\\Phi}{\\partial y}(x,y)=0;\n",
    "\t\t\\end{array}\n",
    "\t\\right.\\qquad\n",
    "\t\\;\\;\\Leftrightarrow\\qquad\n",
    "\t\\left\\{\\begin{array}{l}\n",
    "x^3+Ax^2+x-By^2=0;\\\\\n",
    "3x^2+2Ax+1=0;\\\\\n",
    "2By=0;\n",
    "\\end{array}\n",
    "\\right.\\Leftrightarrow\n",
    "\t$$\n",
    "$$\n",
    "\\Leftrightarrow\\qquad\n",
    "\t\\left\\{\\begin{array}{l}\n",
    "x^2+Ax+1=0;\\\\\n",
    "3x^2+2Ax+1=0;\\\\\n",
    "y=0;\n",
    "\\end{array}\n",
    "\\right.\\quad\\Leftrightarrow\\quad\n",
    "\t\\left\\{\\begin{array}{l}\n",
    "Ax=-x^2-1;\\\\\n",
    "x^2-1=0;\\\\\n",
    "y=0;\n",
    "\\end{array}\n",
    "\\right.\\Leftrightarrow\\quad\n",
    "\t\\left\\{\\begin{array}{l}\n",
    "A=\\pm2;\\\\\n",
    "x=\\pm1;\\\\\n",
    "y=0.\n",
    "\\end{array}\n",
    "\\right.\n",
    "$$\n",
    "\n",
    "Будем считать, что $\\;B\\neq0\\;$ и $\\;A\\neq\\pm2.\\;$ Тогда особых точек не будет.\n",
    "\n"
   ]
  },
  {
   "cell_type": "code",
   "execution_count": 21,
   "id": "e3107e93",
   "metadata": {
    "slideshow": {
     "slide_type": "subslide"
    }
   },
   "outputs": [
    {
     "data": {
      "image/png": "[encoded data removed]",
      "text/plain": [
       "<Figure size 720x504 with 4 Axes>"
      ]
     },
     "metadata": {
      "needs_background": "light"
     },
     "output_type": "display_data"
    }
   ],
   "source": [
    "Plot()"
   ]
  },
  {
   "cell_type": "markdown",
   "id": "97a17f70",
   "metadata": {
    "slideshow": {
     "slide_type": "subslide"
    }
   },
   "source": [
    "### Пересечение кривой Монтгомери с невертикальной прямой\n",
    "\n",
    "Найдем, сколько общих точек имеет невертикальная прямая \n",
    "$$\n",
    "  \\mathcal{L}:\\; y = k(x-x_1)+y_1\n",
    "$$\n",
    "и эллиптическая кривая\n",
    "$$\n",
    "  \\mathcal{M}:\\; By^2 = x^3+Ax^2+x.\n",
    "$$\n",
    "Для этого необходимо решить систему над полем $\\;F$\n",
    "$$\n",
    "  \\left\\{\\begin{array}{l}\n",
    "  y = k(x-x_1)+y_1,\\\\\n",
    "  By^2 = x^3+Ax^2+x.\n",
    "  \\end{array}\\right.\\qquad\\Rightarrow\\qquad\n",
    "  \\left\\{\\begin{array}{l}\n",
    "  y = k(x-x_1)+y_1,\\\\\n",
    "  x^3+Ax^2+x - B(k(x-x_1)+y_1)^2=0.\n",
    "  \\end{array}\\right.\n",
    "$$\n",
    "Задача свелась к решению кубического уравнения\n",
    "$$\n",
    "   x^3+Ax^2+x - B(k(x-x_1)+y_1)^2=0.\n",
    "$$   "
   ]
  },
  {
   "cell_type": "markdown",
   "id": "98905d25",
   "metadata": {
    "slideshow": {
     "slide_type": "subslide"
    }
   },
   "source": [
    "### Пусть $\\;\\mathcal{L}\\;$ и $\\;\\mathcal{M}\\;$ имеют хотя бы 2 общих точки\n",
    "\n",
    "Предположим, что прямая $\\;\\mathcal{L}\\;$ и кривая $\\;\\mathcal{M}\\;$ имеют хотя бы 2 общих точки\n",
    "$$\n",
    "  P=(x_1,y_1),\\qquad Q=(x_2,y_2).\n",
    "$$\n",
    "Это эквивалентно тому, что кубическое уравнение \n",
    "$$\n",
    "  x^3+Ax^2+x - B(k(x-x_1)+y_1)^2=0\n",
    "$$\n",
    "имеет 2 корня $\\;x_1,x_2\\in F.$ \n",
    "\t\n",
    "Поэтому существует и третий корень $\\;x_3\\in F,\\;$ причем\n",
    "$$\n",
    "  x^3+Ax^2+x - B(k(x-x_1)+y_1)^2=(x-x_1)(x-x_2)(x-x_3).\n",
    "$$\n",
    "Откуда получаем $\\;x_3 := k^2B-x_1 - x_2-A.$"
   ]
  },
  {
   "cell_type": "markdown",
   "id": "324ddc79",
   "metadata": {
    "slideshow": {
     "slide_type": "subslide"
    }
   },
   "source": [
    "### Касательная\n",
    "Случай $\\;x_1=x_2\\;$ означает, что невертикальная прямая $\\;\\mathcal{L}\\;$ является касательной к  $\\;\\mathcal{M}\\;$ в точке $\\;(x_1,y_1).\\;$ \n",
    "\n",
    "Уравнение касательной имеет вид\n",
    "$$\n",
    "  y=y'(x_1)(x-x_1)+y_1.\n",
    "$$ \n",
    "То есть $\\;k=y'(x_1).$ \n",
    "\n",
    "При $\\;y_1\\neq 0\\;$ находим\n",
    "$$\n",
    "  2Byy'=3x^2+2Ax+1;\n",
    "$$\n",
    "$$\n",
    "  k = y'(x_1)=   \\frac{3x^2+2Ax+1}{2By_1}.\n",
    "$$"
   ]
  },
  {
   "cell_type": "markdown",
   "id": "7950cfda",
   "metadata": {
    "slideshow": {
     "slide_type": "subslide"
    }
   },
   "source": [
    "### Формулы вычисления координат суммы точек кривой $\\;\\mathcal{M}$\n",
    "Если $\\;P=O\\;$ или $\\;Q=O,\\;$ то\n",
    "$$\n",
    "P+O=O+P=-(-P)=P.\n",
    "$$\n",
    " Пусть далее точки конечны \n",
    " $$\n",
    "P=(x_1,y_1),\\; Q=(x_2,y_2).\n",
    "$$\n",
    "\n",
    "Если $\\;x_1\\neq x_2,\\;$ то\n",
    "$$\n",
    "\\color{red}{x_3 := k^2B-x_1 - x_2-A},\\quad y_3:=k(x_1-x_3)-y_1,\\qquad k:=\\frac{y_2-y_1}{x_2-x_1}.\n",
    "$$\n",
    "\n",
    "Если $\\;x_1=x_2,\\;$ $y_1=y_2\\neq0,\\;$ то\n",
    "$$\n",
    "\\color{red}{x_3 := k^2B-2x_1-A},\\quad   y_3:=k(x_1-x_3)-y_1,\\qquad \\color{red}{k:=\\frac{3x^2+2Ax+1}{2By_1}}.\n",
    "$$\n",
    "\n",
    "Если $\\;x_1=x_2,\\;$ $y_1=y_2=0,\\;$ то \n",
    "$$\n",
    "P+Q:=O.\n",
    "$$\n",
    "\n",
    "Если $\\;x_1 = x_2,\\;$ $y_1\\neq y_2,\\;$ то\n",
    "$$\n",
    "P+Q:=O.\n",
    "$$\t"
   ]
  },
  {
   "cell_type": "markdown",
   "id": "ad65fc6d",
   "metadata": {
    "slideshow": {
     "slide_type": "skip"
    }
   },
   "source": [
    "### <font color='red'>Задание 1.</font>\n",
    "Реализовать класс `MontgomeryCurve` с методами `__repr__`, `__eq__`, `InfinityPoint`, `points`, `order`, `randpoint`."
   ]
  },
  {
   "cell_type": "markdown",
   "id": "85f66f6e",
   "metadata": {
    "slideshow": {
     "slide_type": "skip"
    }
   },
   "source": [
    "### <font color='red'>Задание 2.</font>\n",
    "Реализовать класс `MontgomeryPoint` с методами `__repr__`, `__eq__`, `__add__`, `__neg__`, `__sub__`, `__rmul__`."
   ]
  },
  {
   "cell_type": "code",
   "execution_count": 1,
   "id": "cc8efaef",
   "metadata": {},
   "outputs": [],
   "source": [
    "import random\n",
    "\n",
    "def st(n):\n",
    "    s = 0\n",
    "    t = n\n",
    "    while t % 2 == 0:\n",
    "        s += 1\n",
    "        t = t // 2\n",
    "    return s, t\n",
    "\n",
    "def Jacobi(a,n):\n",
    "    if n < 0 or not n % 2:\n",
    "        raise ValueError(\"n should be an odd positive integer\") \n",
    "    j = 1\n",
    "    if n == 1:\n",
    "        return j\n",
    "    if a<0:\n",
    "        a = -a\n",
    "        if n%4 == 3:\n",
    "            j = -j\n",
    "    while n>1:\n",
    "        if a == 0:\n",
    "            return 0\n",
    "        s,t = st(a)\n",
    "        if (s%2 == 1) & (n%8 in [3, 5]):\n",
    "            j = -j\n",
    "        if 3 == n%4 == t%4:\n",
    "            j = -j\n",
    "        a = n%t\n",
    "        n = t\n",
    "    return j\n",
    "\n",
    "def Shanks(a, p):\n",
    "    if a % p == 0:\n",
    "        return 0\n",
    "    if not Jacobi(a, p) == 1:\n",
    "        raise ValueError(\"a should be a quadratic residue\")\n",
    "    s,t = st(p-1)\n",
    "    n = random.randint(2,p-2)\n",
    "    while Jacobi(n,p) == 1:\n",
    "        n = random.randint(2,p-2)\n",
    "    b = pow(n,t,p)\n",
    "    r = pow(a,(t+1)//2,p)\n",
    "    d = 0\n",
    "    f = pow(a,t,p)\n",
    "    b2 = b\n",
    "    for i in range(1,s):\n",
    "        b2 = b2*b2 % p\n",
    "        if not pow(f,2**(s-1-i),p) == 1:\n",
    "            d += 2**i\n",
    "            f = f*b2 % p \n",
    "    return r*pow(b,d//2,p) % p\n",
    "\n",
    "def ExtendedGCD(a, b):  # расширенный алгоритм Евклида\n",
    "    m11, m12 = 1, 0\n",
    "    m21, m22 = 0, 1\n",
    "    while b:\n",
    "        q = a // b\n",
    "        r = a % b\n",
    "        a, b = b, r\n",
    "        m11, m12 = m12, m11 - m12*q\n",
    "        m21, m22 = m22, m21 - m22*q \n",
    "    return (m11,m21)"
   ]
  },
  {
   "cell_type": "code",
   "execution_count": 2,
   "id": "3add1597",
   "metadata": {},
   "outputs": [],
   "source": [
    "class MontgomeryCurve:\n",
    "    def __init__(self, A, B, p):\n",
    "        A %= p\n",
    "        B %= p\n",
    "        if A != 2 or A != -2 or B != 0:\n",
    "            self.A = A\n",
    "            self.B = B\n",
    "            self.p = p\n",
    "        else:\n",
    "            print('Кривая имеет особые точки.')\n",
    "    \n",
    "    def __repr__(self):\n",
    "        return f'{B}y^2 = x^3 + {A}x^2 + x'"
   ]
  },
  {
   "cell_type": "code",
   "execution_count": 3,
   "id": "0b9a8091",
   "metadata": {},
   "outputs": [],
   "source": [
    "class MontgomeryPoint:\n",
    "    def __init__(self, MontgomeryCurve, x, y):\n",
    "        parameters = [MontgomeryCurve.A, MontgomeryCurve.B, MontgomeryCurve.p]\n",
    "        self.parameters = parameters\n",
    "        if x == y == None:\n",
    "            self.x = x\n",
    "            self.y = x\n",
    "        elif (parameters[1]*pow(y, 2, parameters[-1]) - pow(x, 3, parameters[-1]) - parameters[0]*pow(x, 2, parameters[-1]) - x) % parameters[-1] == 0:\n",
    "            self.x = x\n",
    "            self.y = y\n",
    "        else:\n",
    "            print('Точка не принадлежит кривой.')\n",
    "    \n",
    "    def __repr__(self):\n",
    "        return f'[{self.x}, {self.y}]'"
   ]
  },
  {
   "cell_type": "markdown",
   "id": "e28c11b7",
   "metadata": {},
   "source": [
    "Допишем методы для класса `MontgomeryCurve`."
   ]
  },
  {
   "cell_type": "code",
   "execution_count": 4,
   "id": "b2a3d0e6",
   "metadata": {},
   "outputs": [],
   "source": [
    "def __eq__(self, other: MontgomeryCurve):\n",
    "    return True if (self.A == other.A and self.B == other.B and self.p == other.p) else False\n",
    "\n",
    "def InfinityPoint(self) -> MontgomeryPoint:\n",
    "    return MontgomeryPoint(self, None, None)\n",
    "\n",
    "def points(self) -> list:\n",
    "    points = [MontgomeryPoint(self, None, None)]\n",
    "    p = self.p\n",
    "    for y in range(p):\n",
    "        for x in range(p):\n",
    "            if (self.B*pow(y, 2, p) % p) == (pow(x, 3, p) + self.A*pow(x, 2, p) + x) % p:\n",
    "                points.append(MontgomeryPoint(self, x, y))           \n",
    "    self.ord = len(points)\n",
    "\n",
    "    return points\n",
    "\n",
    "def points_shanks(self) -> list:\n",
    "    points = [MontgomeryPoint(self, None, None)]\n",
    "    p = self.p\n",
    "    for x in range(p):\n",
    "        value = (ExtendedGCD(self.B, p)[0]*(pow(x, 3, p) + self.A*pow(x, 2, p) + x)) % p\n",
    "        try:\n",
    "            y = Shanks(value, p)\n",
    "            points.append(MontgomeryPoint(self, x, y))\n",
    "            if y != -y % p:\n",
    "                points.append(MontgomeryPoint(self, x, -y % p))\n",
    "        except:\n",
    "            pass\n",
    "\n",
    "    return points\n",
    "\n",
    "def order(self) -> int:\n",
    "    return self.ord\n",
    "\n",
    "def randpoint(self) -> MontgomeryPoint:\n",
    "    return random.choice(self.points())\n",
    "\n",
    "MontgomeryCurve.__eq__ = __eq__\n",
    "MontgomeryCurve.InfinityPoint = InfinityPoint\n",
    "MontgomeryCurve.points = points\n",
    "MontgomeryCurve.points_shanks = points_shanks\n",
    "MontgomeryCurve.order = order\n",
    "MontgomeryCurve.randpoint = randpoint"
   ]
  },
  {
   "cell_type": "code",
   "execution_count": 5,
   "id": "622d0bb1",
   "metadata": {},
   "outputs": [
    {
     "name": "stdout",
     "output_type": "stream",
     "text": [
      "[[None, None], [0, 0], [2, 0], [4, 0], [5, 2], [3, 3], [3, 4], [5, 5]]\n",
      "[[None, None], [0, 0], [2, 0], [3, 4], [3, 3], [4, 0], [5, 2], [5, 5]]\n",
      "True\n",
      "8\n"
     ]
    }
   ],
   "source": [
    "MC = MontgomeryCurve(1, 2, 7)\n",
    "MC_points = MC.points()\n",
    "MC0 = MontgomeryCurve(15, 23, 7)\n",
    "print(MC_points, MC.points_shanks(), MC == MC0, MC.order(), sep='\\n')"
   ]
  },
  {
   "cell_type": "markdown",
   "id": "40d68e45",
   "metadata": {},
   "source": [
    "Допишем методы для класса `MontgomeryPoint`."
   ]
  },
  {
   "cell_type": "code",
   "execution_count": 6,
   "id": "71a84df7",
   "metadata": {},
   "outputs": [],
   "source": [
    "def __eq__(self, other: MontgomeryPoint):\n",
    "    if self.x == other.x == None:\n",
    "        return True\n",
    "    else:\n",
    "        return True if (self.parameters == other.parameters and (self.x - other.x) % self.parameters[-1] == (self.y - other.y) % self.parameters[-1] == 0) else False\n",
    "    \n",
    "def __add__(self, other: MontgomeryPoint):\n",
    "    A = self.parameters[0]\n",
    "    B = self.parameters[1]\n",
    "    p = self.parameters[2]\n",
    "    if self.x == self.y == other.x == other.y == None:\n",
    "        return MontgomeryPoint(MontgomeryCurve(A, B, p), None, None)\n",
    "    elif self.x == self.y == None:\n",
    "        return other\n",
    "    elif other.x == other.y == None:\n",
    "        return MontgomeryPoint(MontgomeryCurve(A, B, p), self.x, self.y)\n",
    "    else:\n",
    "        if self.x != other.x:\n",
    "            a, _ = ExtendedGCD(other.x - self.x, p)\n",
    "            k = (other.y - self.y)*a % p\n",
    "            x = (pow(k, 2, p)*B - self.x - other.x) % p\n",
    "            y = (k*(self.x - x) - self.y) % p\n",
    "        elif self.x == other.x and self.y == other.y and self.y != 0:\n",
    "            a, _ = ExtendedGCD(2*B*self.y, p)\n",
    "            k = (3*pow(self.x, 2, p) + 2*A*self.x + 1)*a % p\n",
    "            x = (pow(k, 2, p)*B - 2*self.x - A) % p\n",
    "            y = (k*(self.x - x) - self.y) % p\n",
    "        elif self.x == other.x and self.y == other.y == 0:\n",
    "            x = None\n",
    "            y = None\n",
    "        elif self.x == other.x and self.y != other.y:\n",
    "            x = None\n",
    "            y = None \n",
    "        \n",
    "        return MontgomeryPoint(MontgomeryCurve(A, B, p), x, y)\n",
    "    \n",
    "def __neg__(self):\n",
    "    A = self.parameters[0]\n",
    "    B = self.parameters[1]\n",
    "    p = self.parameters[2]\n",
    "    if self.x == self.y == None:\n",
    "        return MontgomeryPoint(MontgomeryCurve(A, B, p), None, None)\n",
    "    else:\n",
    "        return MontgomeryPoint(MontgomeryCurve(A, B, p), self.x, -self.y % p)\n",
    "    \n",
    "def __sub__(self, other: MontgomeryPoint):\n",
    "    return self + (-other)\n",
    "\n",
    "def __rmul__(self, m: int):\n",
    "    m = bin(m)[2:]\n",
    "    res = MontgomeryPoint(MontgomeryCurve(self.parameters[0], self.parameters[1], self.parameters[2]), None, None)\n",
    "    Q = self\n",
    "    for i in range(len(m)):\n",
    "        if int(m[i]) == 1:\n",
    "            res = res + Q\n",
    "        Q = Q + Q\n",
    "        \n",
    "    return res\n",
    "    \n",
    "MontgomeryPoint.__eq__ = __eq__\n",
    "MontgomeryPoint.__add__ = __add__\n",
    "MontgomeryPoint.__neg__ = __neg__\n",
    "MontgomeryPoint.__sub__ = __sub__\n",
    "MontgomeryPoint.__rmul__ = __rmul__"
   ]
  },
  {
   "cell_type": "code",
   "execution_count": 7,
   "id": "a4293fd5",
   "metadata": {
    "scrolled": true
   },
   "outputs": [
    {
     "name": "stdout",
     "output_type": "stream",
     "text": [
      "[5, 5]\n",
      "[5, 5]\n",
      "[None, None]\n"
     ]
    }
   ],
   "source": [
    "MCP1 = MC.randpoint()\n",
    "MCP2 = MC.randpoint()\n",
    "\n",
    "try:\n",
    "    print(MCP1 + MCP2)\n",
    "    print(MCP2 - MCP1)\n",
    "    print(6*MCP1) \n",
    "except:\n",
    "    print('Точка не принадлежит кривой.')"
   ]
  },
  {
   "cell_type": "markdown",
   "id": "a5233fd6",
   "metadata": {
    "slideshow": {
     "slide_type": "subslide"
    }
   },
   "source": [
    "### Порядок кривой Монтгомери\n",
    "Точка $\\;(0,0)\\in\\mathcal{M}_{A,B},\\;$ причем\n",
    "$$\n",
    "(0,0)+(0,0)=O.\n",
    "$$\n",
    "Порядок подгруппы делит порядок группы, поэтому $\\;|\\mathcal{M}_{A,B}(\\mathbb{Z}_p)|\\;$ делится на 2.\n",
    "\n",
    "Более того:\n",
    "\n",
    "**Теорема.**  \n",
    "Порядок $\\;|\\mathcal{M}_{A,B}(\\mathbb{Z}_p)|\\;$ делится на 4."
   ]
  },
  {
   "cell_type": "markdown",
   "id": "9a8b4d55",
   "metadata": {
    "slideshow": {
     "slide_type": "subslide"
    }
   },
   "source": [
    "### Приведение кривой Монтгомери к форме Вейерштрасса\n",
    "Разделим обе части уравнения Монтгомери\n",
    "$\\; By^2=x^3+Ax^2+x\\;$на $\\;B^3\\;$\n",
    "$$\n",
    "  \\left(\\frac{y}{B}\\right)^2=\\left(\\frac{x}{B}\\right)^3+\\frac{A}{B}\\left(\\frac{x}{B}\\right)^2+\\frac{1}{B^2}\\left(\\frac{x}{B}\\right).\n",
    "$$\n",
    "Обозначив\n",
    "$\\;\n",
    "  u:=\\frac{x}{B},\\quad v:=\\frac{y}{B},\n",
    "\\;$\n",
    "получаем\n",
    "$$\n",
    "  v^2=u^3+\\frac{A}{B}u^2+\\frac{1}{B^2}u.\n",
    "$$\n",
    "Сделаем замену $\\;u=t-\\frac{A}{3B}\\;$\n",
    "$$\n",
    "  v^2=\\left(t-\\frac{A}{3B}\\right)^3+\\frac{A}{B}\\left(t-\\frac{A}{3B}\\right)^2+\\frac{1}{B^2}\\left(t-\\frac{A}{3B}\\right).\n",
    "$$\n",
    "$$\n",
    "  v^2=t^3+\\left(\\frac{A^2}{3B^2}-\\frac{2A^2}{3B^2}+\\frac{1}{B^2}\\right)t+\\left(-\\frac{A^3}{27B^3}+\\frac{A^3}{9B^3}-\\frac{A}{3B^3}\\right);\n",
    "$$\n",
    "$$\n",
    "  v^2=t^3+\\left(\\frac{3-A^2}{3B^2}\\right)t+\\frac{2A^3-9A}{27B^3}.\n",
    "$$\n",
    "    "
   ]
  },
  {
   "cell_type": "markdown",
   "id": "8c2ecbe8",
   "metadata": {
    "slideshow": {
     "slide_type": "subslide"
    }
   },
   "source": [
    "### Монтгомери $\\;\\to\\;$ Вейерштрасс\n",
    "$$\n",
    " \\;\\mathcal{M}_{A,B}:\\; By^2=x^3+Ax^2+x\\qquad\\to\\qquad\\;\\mathcal{E}_{a,b}:\\; v^2=t^3+at+b.\n",
    "$$\n",
    "$$\n",
    "  v=\\frac{y}{B},\\quad t=\\frac{x}{B}+\\frac{A}{3B},\\quad a=\\frac{3-A^2}{3B^2},\\quad b=\\frac{2A^3-9A}{27B^3}.\n",
    "$$  "
   ]
  },
  {
   "cell_type": "markdown",
   "id": "297824b8",
   "metadata": {
    "slideshow": {
     "slide_type": "skip"
    }
   },
   "source": [
    "### <font color='red'>Задание 3.</font>\n",
    "Для класса `MontgomeryPoint` реализовать метод, который переводит точку кривой Монтгомери в точку эллиптической кривой в форме Вейерштрасса согласно приведенным выше формулам. Проверить выпорнение равенства:\n",
    "$$\n",
    "  \\varphi(P)+\\varphi(Q)=\\varphi(P+Q).\n",
    "$$ "
   ]
  },
  {
   "cell_type": "code",
   "execution_count": 8,
   "id": "d8d0bdcb",
   "metadata": {},
   "outputs": [],
   "source": [
    "class Curve:\n",
    "    def __init__(self, a, b, p):\n",
    "        a %= p\n",
    "        b %= p\n",
    "        if (27*b*b + 4*pow(a, 3, p)) % p != 0:\n",
    "            self.a = a\n",
    "            self.b = b \n",
    "            self.p = p\n",
    "        else:\n",
    "            print('Дискриминант < 0')\n",
    "    def __repr__(self):\n",
    "        return f'y^2 = x^3 + {self.a}x + {self.b}'"
   ]
  },
  {
   "cell_type": "code",
   "execution_count": 9,
   "id": "5c4cfe05",
   "metadata": {},
   "outputs": [],
   "source": [
    "class Point:\n",
    "    def __init__(self, Curve, x, y):\n",
    "        self.parameters = [Curve.a, Curve.b, Curve.p]\n",
    "        if x == y == None:\n",
    "            self.x = x\n",
    "            self.y = x\n",
    "        elif pow(y, 2, Curve.p) == (pow(x, 3, Curve.p) + Curve.a*x + Curve.b) % Curve.p:\n",
    "            self.x = x\n",
    "            self.y = y\n",
    "        else:\n",
    "            print('Точка не принадлежит кривой')\n",
    "    \n",
    "    def __str__(self):\n",
    "        return f'[{self.x}, {self.y}]'\n",
    "    \n",
    "    def __repr__(self):\n",
    "        return f'[{self.x}, {self.y}]'"
   ]
  },
  {
   "cell_type": "code",
   "execution_count": 10,
   "id": "3d68acf9",
   "metadata": {},
   "outputs": [],
   "source": [
    "def __add__(self, other) -> Point:\n",
    "    a = self.parameters[0]\n",
    "    b = self.parameters[1]\n",
    "    p = self.parameters[2]\n",
    "    if self.x == self.y == other.x == other.y == None:\n",
    "        return Point(Curve(a, b, p), None, None)\n",
    "    elif self.x == self.y == None:\n",
    "        return other\n",
    "    elif other.x == other.y == None:\n",
    "        return Point(Curve(a, b, p), self.x, self.y)\n",
    "    else:\n",
    "        if self.x != other.x:\n",
    "            i, _ = ExtendedGCD(other.x - self.x, p)\n",
    "            k = (other.y - self.y)*i % p\n",
    "            x = (k*k - self.x - other.x) % p\n",
    "            y = (k*(self.x - x) - self.y) % p\n",
    "        elif self.x == other.x and self.y == other.y and self.y != 0:\n",
    "            i, _ = ExtendedGCD(2*self.y, p)\n",
    "            k = (3*self.x*self.x + a)*i % p\n",
    "            x = (k*k - 2*self.x) % p\n",
    "            y = (k*(self.x - x) - self.y) % p\n",
    "        elif self.x == other.x and self.y == other.y == 0:\n",
    "            x = None\n",
    "            y = None\n",
    "        elif self.x == other.x and self.y != other.y:\n",
    "            x = None\n",
    "            y = None \n",
    "\n",
    "        return Point(Curve(a, b, p), x, y)\n",
    "    \n",
    "def __eq__(self, other) -> bool:\n",
    "    if self.x == other.x == None:\n",
    "        return True\n",
    "    else:\n",
    "        return True if (self.parameters == other.parameters and (self.x - other.x) % self.parameters[-1] == (self.y - other.y) % self.parameters[-1] == 0) else False\n",
    "    \n",
    "Point.__add__ = __add__\n",
    "Point.__eq__ = __eq__"
   ]
  },
  {
   "cell_type": "markdown",
   "id": "afe64cc4",
   "metadata": {
    "slideshow": {
     "slide_type": "subslide"
    }
   },
   "source": [
    "### Монтгомери $\\;\\to\\;$ Вейерштрасс\n",
    "$$\n",
    " \\;\\mathcal{M}_{A,B}:\\; By^2=x^3+Ax^2+x\\qquad\\to\\qquad\\;\\mathcal{E}_{a,b}:\\; v^2=t^3+at+b.\n",
    "$$\n",
    "$$\n",
    "  v=\\frac{y}{B},\\quad t=\\frac{x}{B}+\\frac{A}{3B},\\quad a=\\frac{3-A^2}{3B^2},\\quad b=\\frac{2A^3-9A}{27B^3}.\n",
    "$$  "
   ]
  },
  {
   "cell_type": "code",
   "execution_count": 11,
   "id": "5f202b53",
   "metadata": {},
   "outputs": [],
   "source": [
    "def M2W(self) -> Point:\n",
    "    A = self.parameters[0]\n",
    "    B = self.parameters[1]\n",
    "    p = self.parameters[2]\n",
    "    \n",
    "    i, _ = ExtendedGCD(B, p)\n",
    "    j, _ = ExtendedGCD(3*B, p)\n",
    "    k, _ = ExtendedGCD(3*pow(B, 2, p), p)\n",
    "    m, _ = ExtendedGCD(27*pow(B, 3, p), p)\n",
    "    \n",
    "    a = (3 - pow(A, 2, p))*k\n",
    "    b = (2*pow(A, 3, p) - 9*A)*m\n",
    "    \n",
    "    if self.x == self.y == None:\n",
    "        return Point(Curve(a, b, p), None, None)\n",
    "    else:\n",
    "        v = self.y*i % p\n",
    "        t = (self.x*i + A*j) % p\n",
    "\n",
    "        return Point(Curve(a, b, p), t, v)\n",
    "    \n",
    "MontgomeryPoint.M2W = M2W"
   ]
  },
  {
   "cell_type": "code",
   "execution_count": 12,
   "id": "b514d1a2",
   "metadata": {},
   "outputs": [
    {
     "data": {
      "text/plain": [
       "True"
      ]
     },
     "execution_count": 12,
     "metadata": {},
     "output_type": "execute_result"
    }
   ],
   "source": [
    "MCP1.M2W() + MCP2.M2W() == (MCP1 + MCP2).M2W()"
   ]
  },
  {
   "cell_type": "markdown",
   "id": "35075ad1",
   "metadata": {},
   "source": [
    "\n",
    "\n",
    "### Вейерштрасс $\\;\\to\\;$ Монтгомери\n",
    "Эллиптическую кривую в форме Вейерштрасса \n",
    "$$\n",
    "  \\mathcal{E}_{a,b}:\\; v^2=t^3+at+b\n",
    "$$\n",
    "можно привести к форме Монтгомери тогда и только тогда, когда\n",
    "\n",
    "$1.$ Порядк кривой $\\;|\\mathcal{E}_{a,b}(F)|\\;$ делится на 4.\n",
    "\n",
    "$2.$ У уравнения $\\;x^3+a x+b = 0\\;$  существует такой корень $\\alpha\\in F,\\;$ что $\\;3\\alpha^2+\\alpha\\;$ &ndash; квадратичный вычет в $\\;F.$ \n",
    "\n",
    "\n",
    "В этом случае\n",
    "$$\n",
    "  x = s(t-\\alpha),\\quad y= s v,\\quad A= 3\\alpha s,\\quad, B=s,\n",
    "$$\n",
    "где $\\;s=\\left(\\sqrt{3\\alpha^2+\\alpha}\\right)^{-1}.$\n",
    "\n",
    "  "
   ]
  },
  {
   "cell_type": "markdown",
   "id": "c831015c",
   "metadata": {
    "slideshow": {
     "slide_type": "slide"
    }
   },
   "source": [
    "## 3. Кривая Curve25519 как кривая Монтгомери\n",
    "$$\n",
    "v^2 = u^3+486662u^2+u\n",
    "$$\n",
    "Порядок кривой Curve25519 равен $\\;8q.$"
   ]
  },
  {
   "cell_type": "code",
   "execution_count": null,
   "id": "b994f6f4",
   "metadata": {
    "scrolled": true
   },
   "outputs": [],
   "source": [
    "A = 486662\n",
    "B = 1\n",
    "p = 2**255 - 19\n",
    "MCurve25519 = MontgomeryCurve(A, B, p)\n",
    "u = 9\n",
    "v = 14781619447589544791020593568409986887264606134616475288964881837755586237401\n",
    "GM = MontgomeryPoint(u, v, MCurve25519)\n",
    "q = 2**252 + 27742317777372353535851937790883648493\n",
    "q*GM"
   ]
  },
  {
   "cell_type": "markdown",
   "id": "0530ec40",
   "metadata": {
    "slideshow": {
     "slide_type": "subslide"
    }
   },
   "source": [
    "### Кривая Curve25519 в форме Вейерштрасса\n",
    "$$\n",
    "  y^2= x^3+ax+b\n",
    "$$  "
   ]
  },
  {
   "cell_type": "code",
   "execution_count": 38,
   "id": "15e4fc0f",
   "metadata": {
    "slideshow": {
     "slide_type": "-"
    }
   },
   "outputs": [
    {
     "name": "stdout",
     "output_type": "stream",
     "text": [
      "Weierstrass Curve Point = (19298681539552699237261830834781317975544997444273427339909597334652188435546,14781619447589544791020593568409986887264606134616475288964881837755586237401)\n",
      "y**2 = x**3 + 19298681539552699237261830834781317975544997444273427339909597334573241639236x + 55751746669818908907645289078257140818241103727901012315294400837956729358436   mod 57896044618658097711785492504343953926634992332820282019728792003956564819949\n"
     ]
    },
    {
     "data": {
      "text/plain": [
       "Weierstrass Curve Point = Infinity Point"
      ]
     },
     "execution_count": 38,
     "metadata": {},
     "output_type": "execute_result"
    }
   ],
   "source": [
    "GW = GM.MtoW()\n",
    "print(GW)\n",
    "print(GW.curve)\n",
    "q*GW"
   ]
  },
  {
   "cell_type": "markdown",
   "id": "9e49c669",
   "metadata": {
    "slideshow": {
     "slide_type": "subslide"
    }
   },
   "source": [
    "### Скорость обычного сложения точек кривых Монтгомери и Вейерштрасса"
   ]
  },
  {
   "cell_type": "code",
   "execution_count": 39,
   "id": "78675edd",
   "metadata": {
    "slideshow": {
     "slide_type": "-"
    }
   },
   "outputs": [
    {
     "name": "stdout",
     "output_type": "stream",
     "text": [
      "Montgomery Points: --- 1.243605613708496 seconds ---\n",
      "Weierstrass Points :--- 1.233701467514038 seconds ---\n"
     ]
    }
   ],
   "source": [
    "import time, random\n",
    "tries = 100\n",
    "start_time = time.time()\n",
    "for _ in range(tries):\n",
    "    m = random.randrange(q)\n",
    "    m*GM\n",
    "print(\"Montgomery Points: --- %s seconds ---\" % (time.time() - start_time))\n",
    "start_time = time.time()\n",
    "for _ in range(tries):\n",
    "    m = random.randrange(q)\n",
    "    m*GW\n",
    "print(\"Weierstrass Points :--- %s seconds ---\" % (time.time() - start_time))"
   ]
  },
  {
   "cell_type": "markdown",
   "id": "b32c1d0f",
   "metadata": {
    "slideshow": {
     "slide_type": "slide"
    }
   },
   "source": [
    "## 4. Кривая Эдвардса\n",
    "Кривой Эдвардса $\\;\\mathcal{ED}_d(K)\\;$ называется кривая четвертого порядка\n",
    "$$\n",
    "  x^2+y^2 =1+ d x^2y^2,\\qquad d\\not\\in\\{0,1\\}.\n",
    "$$\n",
    "Сумма двух точек $\\;(x_1,y_1),\\;$ $\\;(x_2,y_2)\\;$ задается формулой\n",
    "$$\n",
    "  (x_1,y_1)+(x_2,y_2):=\\left(\\frac{x_1y_2+y_1x_2}{1+dx_1x_2y_1y_2},\\frac{y_1y_2-x_1x_2}{1-dx_1x_2y_1y_2}\\right).\n",
    "$$  \n",
    "Точка $\\;(0,1)\\;$ является нейтральным элементом. Точка $\\;(0,-1)\\;$ имеет порядок 2. Точки  $\\;(\\pm1,0)\\;$ порядка 4.\n",
    "\n",
    "Обратной к точке $(x_1,y_1)$ является точка $(-x_1,y_1).$\n",
    "\n",
    "**Теорема?**  \n",
    "$\\;\\mathcal{ED}_d(\\mathbb{Z}_p)\\;$ &ndash; группа $\\qquad\\Leftrightarrow\\qquad$ $\\;d\\in\\mathbb{Z}_p\\;$ &ndash; квадратичный невычет."
   ]
  },
  {
   "cell_type": "code",
   "execution_count": 41,
   "id": "3e235cb1",
   "metadata": {
    "slideshow": {
     "slide_type": "subslide"
    }
   },
   "outputs": [
    {
     "data": {
      "image/png": "[encoded data removed]",
      "text/plain": [
       "<Figure size 720x504 with 4 Axes>"
      ]
     },
     "metadata": {
      "needs_background": "light"
     },
     "output_type": "display_data"
    }
   ],
   "source": [
    "Plot()"
   ]
  },
  {
   "cell_type": "markdown",
   "id": "69cb34ac",
   "metadata": {
    "slideshow": {
     "slide_type": "subslide"
    }
   },
   "source": [
    "### Скрученная кривая Эдвардса (Twisted Edwards curve)\n",
    "Скрученной кривой Эдвардса $\\;\\mathcal{TE}_{a,d}(K)\\;$ называется кривая \n",
    "$$\n",
    "  ax^2+y^2 =1+ d x^2y^2,\n",
    "$$\n",
    "$a,d\\neq0,\\;$ $a\\neq d.$\n",
    "\n",
    "Сумма двух точек $(x_1,y_1),$ $(x_2,y_2)$ задается формулой\n",
    "$$\n",
    "  (x_1,y_1)+(x_2,y_2):=\\left(\\frac{x_1y_2+y_1x_2}{1+dx_1x_2y_1y_2},\\frac{y_1y_2-ax_1x_2}{1-dx_1x_2y_1y_2}\\right).\n",
    "$$  \n",
    "Точка $\\;(0,1)\\;$ яыляется нейтральным элементом. Точка $\\;(0,-1)\\;$ имеет порядок 2. Точки  $\\;\\left(\\frac{\\pm1}{\\sqrt{a}},0\\right)\\;$ порядка 4?\n",
    "\n",
    "Обратной к точке $(x_1,y_1)$ является точка $(-x_1,y_1).$\n",
    "\n",
    "**Теорема?**  \n",
    "$\\;\\mathcal{TE}_{a,d}(\\mathbb{Z}_p)\\;$ &ndash; группа $\\qquad\\Leftrightarrow\\qquad$ $\\;d\\in\\mathbb{Z}_p\\;$ &ndash; квадратичный невычет, $\\;a\\in\\mathbb{Z}_p\\;$ &ndash; квадратичный вычет."
   ]
  },
  {
   "cell_type": "markdown",
   "id": "e5a7c3d6",
   "metadata": {
    "slideshow": {
     "slide_type": "skip"
    }
   },
   "source": [
    "### <font color='red'>Задание 4.</font>\n",
    "Реализовать класс `TwistedEdwardsCurve` с методами `__repr__`, `__eq__`, `InfinityPoint`, `points`, `order`, `randpoint`."
   ]
  },
  {
   "cell_type": "markdown",
   "id": "7d85ab8e",
   "metadata": {
    "slideshow": {
     "slide_type": "skip"
    }
   },
   "source": [
    "### <font color='red'>Задание 5.</font>\n",
    "Реализовать класс `TwistedEdwardsPoint` с методами `__repr__`, `__eq__`, `__add__`, `__neg__`, `__sub__`, `__rmul__`."
   ]
  },
  {
   "cell_type": "code",
   "execution_count": 13,
   "id": "c23133a4",
   "metadata": {},
   "outputs": [],
   "source": [
    "class TwistedEdwardsCurve:\n",
    "    def __init__(self, a, d, p):\n",
    "        a %= p\n",
    "        d %= p\n",
    "        if a != d != 0:\n",
    "            self.a = a\n",
    "            self.d = d\n",
    "            self.p = p\n",
    "        else:\n",
    "            print('Кривая не является скрученной кривой Эдвардса.')\n",
    "    \n",
    "    def __repr__(self):\n",
    "        return f'{self.a}x^2 + y^2 = 1 + {self.d}(x^2)y^2'"
   ]
  },
  {
   "cell_type": "code",
   "execution_count": 14,
   "id": "a762facb",
   "metadata": {},
   "outputs": [],
   "source": [
    "class TwistedEdwardsPoint:\n",
    "    def __init__(self, TwistedEdwardsCurve, x, y):\n",
    "        parameters = [TwistedEdwardsCurve.a, TwistedEdwardsCurve.d, TwistedEdwardsCurve.p]\n",
    "        self.parameters = parameters\n",
    "        p = self.parameters[-1]\n",
    "        if (parameters[0]*pow(x, 2, p) + pow(y, 2, p) - 1 - parameters[1]*pow(x, 2, p)*pow(y, 2, p)) % p == 0:\n",
    "            self.x = x\n",
    "            self.y = y\n",
    "        else:\n",
    "            print('Точка не принадлежит кривой.')\n",
    "    \n",
    "    def __repr__(self):\n",
    "        return f'[{self.x}, {self.y}]'"
   ]
  },
  {
   "cell_type": "markdown",
   "id": "89992ad1",
   "metadata": {},
   "source": [
    "Допишем методы для класса `TwistedEdwardsCurve`."
   ]
  },
  {
   "cell_type": "code",
   "execution_count": 15,
   "id": "e81553ef",
   "metadata": {},
   "outputs": [],
   "source": [
    "def __eq__(self, other: TwistedEdwardsCurve):\n",
    "    return True if (self.a == other.a and self.d == other.d and self.p == other.p) else False\n",
    "\n",
    "def InfinityPoint(self) -> TwistedEdwardsPoint:\n",
    "    return TwistedEdwardsPoint(self, 0, 1)\n",
    "\n",
    "def points(self) -> list:\n",
    "    points = list()\n",
    "    p = self.p\n",
    "    for y in range(p):\n",
    "        for x in range(p):\n",
    "            if (self.a*pow(x, 2, p) + pow(y, 2, p) - 1 - self.d*pow(x, 2, p)*pow(y, 2, p)) % p == 0:\n",
    "                points.append(TwistedEdwardsPoint(self, x, y))           \n",
    "    self.ord = len(points)\n",
    "\n",
    "    return points\n",
    "\n",
    "def points_shanks(self) -> list:  # какие-то проблемы с алгоритмом Гельфонда-Шенкса\n",
    "    points = list()\n",
    "    p = self.p\n",
    "    for x in range(p):\n",
    "        value = (ExtendedGCD(self.d*pow(x, 2, p) - 1, p)[0]*(self.a*pow(x, 2, p) - 1)) % p\n",
    "        try:\n",
    "            y = Shanks(value, p)\n",
    "            points.append(TwistedEdwardsPoint(self, x, y))\n",
    "            if x != -x % p:\n",
    "                points.append(TwistedEdwardsPoint(self, -x % p, y))\n",
    "        except:\n",
    "            pass\n",
    "\n",
    "    return points\n",
    "\n",
    "def order(self) -> int:\n",
    "    return self.ord\n",
    "\n",
    "def randpoint(self) -> TwistedEdwardsPoint:\n",
    "    return random.choice(self.points())\n",
    "\n",
    "TwistedEdwardsCurve.__eq__ = __eq__\n",
    "TwistedEdwardsCurve.InfinityPoint = InfinityPoint\n",
    "TwistedEdwardsCurve.points = points\n",
    "TwistedEdwardsCurve.points_shanks = points_shanks\n",
    "TwistedEdwardsCurve.order = order\n",
    "TwistedEdwardsCurve.randpoint = randpoint"
   ]
  },
  {
   "cell_type": "code",
   "execution_count": 20,
   "id": "c96ade3f",
   "metadata": {},
   "outputs": [
    {
     "name": "stdout",
     "output_type": "stream",
     "text": [
      "[[0, 1], [2, 2], [5, 2], [2, 5], [5, 5], [0, 6]]\n",
      "True\n",
      "6\n"
     ]
    }
   ],
   "source": [
    "TEC = TwistedEdwardsCurve(3, 4, 7)\n",
    "TEC_points = TEC.points()\n",
    "TEC0 = TwistedEdwardsCurve(17, 25, 7)\n",
    "print(TEC_points, TEC == TEC0, TEC.order(), sep='\\n')"
   ]
  },
  {
   "cell_type": "markdown",
   "id": "9ccccff3",
   "metadata": {
    "slideshow": {
     "slide_type": "subslide"
    }
   },
   "source": [
    "### Скрученная кривая Эдвардса (Twisted Edwards curve)\n",
    "Скрученной кривой Эдвардса $\\;\\mathcal{TE}_{a,d}(K)\\;$ называется кривая \n",
    "$$\n",
    "  ax^2+y^2 =1+ d x^2y^2,\n",
    "$$\n",
    "$a,d\\neq0,\\;$ $a\\neq d.$\n",
    "\n",
    "Сумма двух точек $(x_1,y_1),$ $(x_2,y_2)$ задается формулой\n",
    "$$\n",
    "  (x_1,y_1)+(x_2,y_2):=\\left(\\frac{x_1y_2+y_1x_2}{1+dx_1x_2y_1y_2},\\frac{y_1y_2-ax_1x_2}{1-dx_1x_2y_1y_2}\\right).\n",
    "$$  \n",
    "Точка $\\;(0,1)\\;$ яыляется нейтральным элементом. Точка $\\;(0,-1)\\;$ имеет порядок 2. Точки  $\\;\\left(\\frac{\\pm1}{\\sqrt{a}},0\\right)\\;$ порядка 4?\n",
    "\n",
    "Обратной к точке $(x_1,y_1)$ является точка $(-x_1,y_1).$\n",
    "\n",
    "**Теорема?**  \n",
    "$\\;\\mathcal{TE}_{a,d}(\\mathbb{Z}_p)\\;$ &ndash; группа $\\qquad\\Leftrightarrow\\qquad$ $\\;d\\in\\mathbb{Z}_p\\;$ &ndash; квадратичный невычет, $\\;a\\in\\mathbb{Z}_p\\;$ &ndash; квадратичный вычет."
   ]
  },
  {
   "cell_type": "markdown",
   "id": "ce740e85",
   "metadata": {},
   "source": [
    "Допишем методы для класса `TwistedEdwardsPoint`."
   ]
  },
  {
   "cell_type": "code",
   "execution_count": 21,
   "id": "f41db517",
   "metadata": {},
   "outputs": [],
   "source": [
    "def __eq__(self, other: TwistedEdwardsPoint):\n",
    "    return True if (self.parameters == other.parameters and (self.x - other.x) % self.parameters[-1] == (self.y - other.y) % self.parameters[-1] == 0) else False\n",
    "    \n",
    "def __add__(self, other: TwistedEdwardsPoint):\n",
    "    a = self.parameters[0]\n",
    "    d = self.parameters[1]\n",
    "    p = self.parameters[2]\n",
    "    \n",
    "    i, _ = ExtendedGCD(1 + d*self.x*other.x*self.y*other.y, p)\n",
    "    j, _ = ExtendedGCD(1 - d*self.x*other.x*self.y*other.y, p)\n",
    "    \n",
    "    x = (self.x*other.y + self.y*other.x)*i % p\n",
    "    y = (self.y*other.y - a*self.x*other.x)*j % p\n",
    "    \n",
    "    return TwistedEdwardsPoint(TwistedEdwardsCurve(a, d, p), x, y)\n",
    "    \n",
    "def __neg__(self):\n",
    "    a = self.parameters[0]\n",
    "    d = self.parameters[1]\n",
    "    p = self.parameters[2]\n",
    "    \n",
    "    return TwistedEdwardsPoint(TwistedEdwardsCurve(a, d, p), -self.x % p, self.y)\n",
    "    \n",
    "def __sub__(self, other: TwistedEdwardsPoint):\n",
    "    return self + (-other)\n",
    "\n",
    "def __rmul__(self, m: int):\n",
    "    m = bin(m)[2:]\n",
    "    res = TwistedEdwardsPoint(TwistedEdwardsCurve(self.parameters[0], self.parameters[1], self.parameters[2]), 0, 1)\n",
    "    Q = self\n",
    "    for i in range(len(m)):\n",
    "        if int(m[i]) == 1:\n",
    "            res = res + Q\n",
    "        Q = Q + Q\n",
    "        \n",
    "    return res\n",
    "    \n",
    "TwistedEdwardsPoint.__eq__ = __eq__\n",
    "TwistedEdwardsPoint.__add__ = __add__\n",
    "TwistedEdwardsPoint.__neg__ = __neg__\n",
    "TwistedEdwardsPoint.__sub__ = __sub__\n",
    "TwistedEdwardsPoint.__rmul__ = __rmul__"
   ]
  },
  {
   "cell_type": "code",
   "execution_count": 22,
   "id": "757d2941",
   "metadata": {},
   "outputs": [
    {
     "name": "stdout",
     "output_type": "stream",
     "text": [
      "[5, 5]\n",
      "[5, 5]\n",
      "Точка не принадлежит кривой.\n",
      "Точка не принадлежит кривой.\n"
     ]
    }
   ],
   "source": [
    "TEP1 = TEC.randpoint()\n",
    "TEP2 = TEC.randpoint()\n",
    "\n",
    "try:\n",
    "    print(TEP1 + TEP2)\n",
    "    print(TEP1 - TEP2)\n",
    "    print(6*TEP1)\n",
    "except:\n",
    "    print('Точка не принадлежит кривой.')"
   ]
  },
  {
   "cell_type": "markdown",
   "id": "67518298",
   "metadata": {
    "slideshow": {
     "slide_type": "skip"
    }
   },
   "source": [
    "### <font color='red'>Задание 6*.</font>\n",
    "Доказать или опровергнуть утверждение: \n",
    "\n",
    "$\\;\\mathcal{TE}_{a,d}(\\mathbb{Z}_p)\\;$ &ndash; группа $\\qquad\\Leftrightarrow\\qquad$ $\\;d\\in\\mathbb{Z}_p\\;$ &ndash; квадратичный невычет, $\\;a\\in\\mathbb{Z}_p\\;$ &ndash; квадратичный вычет."
   ]
  },
  {
   "cell_type": "markdown",
   "id": "08c8e219",
   "metadata": {
    "slideshow": {
     "slide_type": "subslide"
    }
   },
   "source": [
    "### $\\mathcal{M}_{A,B}(\\mathbb{Z}_p)\\;$ и $\\;\\mathcal{TE}_{a,d}(\\mathbb{Z}_p)\\;$ бирационально эквивалентны\n",
    "$$\n",
    "\\mathcal{TE}_{a,d}(\\mathbb{Z}_p):\\quad  ax^2+y^2 =1+ d x^2y^2,\n",
    "$$\n",
    "$$\n",
    "\\mathcal{M}_{A,B}(\\mathbb{Z}_p):\\quad  Bv^2 = u^3+ A u^2 + u.\n",
    "$$\n",
    "**Теорема.**  \n",
    "Каждая скрученная кривая Эдвардса бирационально эквивалентна кривой Монтгомери:\n",
    "\n",
    "$\\mathcal{TE}_{a,d}(\\mathbb{Z}_p)\\to \\mathcal{M}_{A,B}(\\mathbb{Z}_p)$\n",
    "$$\n",
    "  A=\\frac{2(a+d)}{a-d},\\quad B=\\frac{4}{a-d},\\quad u=\\frac{1+y}{1-y},\\quad v=\\frac{1+y}{(1-y)x}.\n",
    "$$\n",
    "$ \\mathcal{M}_{A,B}(\\mathbb{Z}_p)\\to \\mathcal{TE}_{a,d}(\\mathbb{Z}_p)$\n",
    "$$\n",
    "  a=\\frac{A+2}{B},\\quad d=\\frac{A-2}{B},\\quad x=\\frac{u}{v},\\quad y=\\frac{u-1}{u+1}.\n",
    "$$\n"
   ]
  },
  {
   "cell_type": "markdown",
   "id": "c4861d96",
   "metadata": {
    "slideshow": {
     "slide_type": "skip"
    }
   },
   "source": [
    "### <font color='red'>Задание 7.</font>\n",
    "Для класса `MontgomeryPoint` реализовать метод, который переводит точку кривой Монтгомери в точку скрученной кривой Эдвардса согласно приведенным выше формулам. Проверить выпорнение равенства:\n",
    "$$\n",
    "  \\varphi(P)+\\varphi(Q)=\\varphi(P+Q).\n",
    "$$\n",
    "Что произойдет, если $\\;a\\;$ окажется невычетом?"
   ]
  },
  {
   "cell_type": "code",
   "execution_count": 23,
   "id": "5161ea5b",
   "metadata": {},
   "outputs": [],
   "source": [
    "def M2TE(self) -> TwistedEdwardsPoint:\n",
    "    A = self.parameters[0]\n",
    "    B = self.parameters[1]\n",
    "    p = self.parameters[2]\n",
    "    \n",
    "    i, _ = ExtendedGCD(B, p)\n",
    "    a = (A + 2)*i % p\n",
    "    d = (A - 2)*i % p\n",
    "    \n",
    "    if self.x == self.y == None:\n",
    "        return TwistedEdwardsPoint(TwistedEdwardsCurve(a, d, p), 0, 1)\n",
    "    else:\n",
    "        j, _ = ExtendedGCD(self.y, p)\n",
    "        k, _ = ExtendedGCD(self.x + 1, p)\n",
    "        \n",
    "        x = self.x*j % p\n",
    "        y = (self.x - 1)*k % p\n",
    "\n",
    "        return TwistedEdwardsPoint(TwistedEdwardsCurve(a, d, p), x, y)\n",
    "\n",
    "MontgomeryPoint.M2TE = M2TE"
   ]
  },
  {
   "cell_type": "code",
   "execution_count": 24,
   "id": "ae84efa0",
   "metadata": {
    "scrolled": true
   },
   "outputs": [
    {
     "data": {
      "text/plain": [
       "True"
      ]
     },
     "execution_count": 24,
     "metadata": {},
     "output_type": "execute_result"
    }
   ],
   "source": [
    "MCP1.M2TE() + MCP2.M2TE() == (MCP1 + MCP2).M2TE()"
   ]
  },
  {
   "cell_type": "markdown",
   "id": "ef5a9c76",
   "metadata": {
    "slideshow": {
     "slide_type": "subslide"
    }
   },
   "source": [
    "###  Curve25519 как кривая Эдвардса\n",
    "**Бирациональная эквивалентность Curve25519**  \n",
    "$$\n",
    "\\mathcal{TE}_{a,d}(\\mathbb{Z}_p):\\quad  ax^2+y^2 =1+ d x^2y^2,\n",
    "$$\n",
    "$$\n",
    "\\mathcal{M}_{A,B}(\\mathbb{Z}_p):\\quad  Bv^2 = u^3+ A u^2 + u.\n",
    "$$\n",
    "$$\n",
    "  B=1,\\qquad  A= 486662, \\qquad a=-1,\\qquad d = \\frac{-121665}{121666}=-\\frac{A-2}{A+2}\n",
    "$$\n",
    "\n",
    "\n",
    "$ \\mathcal{M}_{A,B}(\\mathbb{Z}_p)\\to \\mathcal{TE}_{a,d}(\\mathbb{Z}_p)$\n",
    "$$\n",
    "  a=\\frac{-1}{B},\\quad d=\\frac{A-2}{-B(A+2)},\\quad x=\\frac{u}{v}\\sqrt{-A-2},\\quad y=\\frac{u-1}{u+1}.\n",
    "$$"
   ]
  },
  {
   "cell_type": "code",
   "execution_count": 54,
   "id": "1812db9b",
   "metadata": {
    "slideshow": {
     "slide_type": "subslide"
    }
   },
   "outputs": [
    {
     "name": "stdout",
     "output_type": "stream",
     "text": [
      "Edwards Curve Point = (15112221349535400772501151409588531511454012693041857206046113283949847762202,46316835694926478169428394003475163141307993866256225615783033603165251855960)\n",
      "57896044618658097711785492504343953926634992332820282019728792003956564819948 x**2 +y**2 = 1 + 37095705934669439343138083508754565189542113879843219016388785533085940283555 x**2 * y**2   mod 57896044618658097711785492504343953926634992332820282019728792003956564819949\n"
     ]
    }
   ],
   "source": [
    "def MtoE25519(self):\n",
    "    A = self.curve.A\n",
    "    B = self.curve.B\n",
    "    p = self.curve.p\n",
    "    u = self.x\n",
    "    v = self.y\n",
    "    B1= pow(B,-1,p)\n",
    "    A1= Shanks(-A-2,p)\n",
    "    return EdwardsPoint(A1*u*pow(v,-1,p), (u-1)*pow(u+1, -1, p), EdwardsCurve(-B1 % p,-(A-2)*B1*pow(A+2,-1,p) % p, p))\n",
    "MontgomeryPoint.MtoE25519 = MtoE25519\n",
    "GE = GM.MtoE25519()\n",
    "print(GE)\n",
    "ECurve25519 = GE.curve\n",
    "print(ECurve25519)"
   ]
  },
  {
   "cell_type": "markdown",
   "id": "3f666fee",
   "metadata": {
    "slideshow": {
     "slide_type": "slide"
    }
   },
   "source": [
    "## 5. Алгоритм Ленстры факторизации чисел\n",
    "В библиотеке `SymPy` есть функция `factorint`, которая раскладывает числа на множители. Данная функция использует алгоритм Ленстры факторизации чисел при помощи эллиптических кривых. \n",
    "\n",
    "Алгоритм Ленстры субэкспоненциальный и его скорость зависит от размера делителей раскладываемого на множители числа.\n",
    "\n",
    "Алгоритм Ленстры реализован в библиотеке `SymPy` и находится в модуле `ecm`. \n",
    "\n",
    "В его реализации используются проективные координаты, чтобы избежать деления, и алгоритм Монтгомери для быстрого умножения."
   ]
  },
  {
   "cell_type": "code",
   "execution_count": 61,
   "id": "9fe13624",
   "metadata": {
    "slideshow": {
     "slide_type": "subslide"
    }
   },
   "outputs": [
    {
     "name": "stdout",
     "output_type": "stream",
     "text": [
      "Factoring 31955776078503079013830469948315757775673\n",
      "Trial division with ints [2 ... 32768] and fail_max=600\n",
      "Check for termination\n",
      "Trial division with primes [1805 ... 3610]\n",
      "Pollard's p-1 with smoothness bound 1805 and seed 3610\n",
      "Pollard's rho with retries 1, max_steps 1805 and seed 3610\n",
      "Trial division with primes [3610 ... 7220]\n",
      "Pollard's p-1 with smoothness bound 3610 and seed 7220\n",
      "Pollard's rho with retries 1, max_steps 3610 and seed 7220\n",
      "Trial division with primes [7220 ... 14440]\n",
      "Pollard's p-1 with smoothness bound 7220 and seed 14440\n",
      "Pollard's rho with retries 1, max_steps 7220 and seed 14440\n",
      "Elliptic Curve with B1 bound 10000, B2 bound 1000000, num_curves 50\n",
      "Elliptic Curve with B1 bound 50000, B2 bound 5000000, num_curves 200\n",
      "Factoring 36373891026077034457\n",
      "Trial division with ints [2 ... 32768] and fail_max=600\n",
      "Check for termination\n",
      "Factorization is complete.\n",
      "Check for termination\n",
      "Factorization is complete.\n",
      "{36373891026077034457: 1, 878536092154492437089: 1}\n",
      "factorint: --- 42.452359676361084 seconds ---\n"
     ]
    }
   ],
   "source": [
    "from sympy.ntheory import factorint, randprime\n",
    "b = 70\n",
    "p1 = randprime(1<<b-1, 1<<b)\n",
    "b = 65\n",
    "p2 = randprime(1<<b-1, 1<<b)\n",
    "start_time = time.time()\n",
    "print(factorint(p1*p2, verbose=True))\n",
    "print(\"factorint: --- %s seconds ---\" % (time.time() - start_time))"
   ]
  },
  {
   "cell_type": "markdown",
   "id": "eda24c52",
   "metadata": {
    "slideshow": {
     "slide_type": "subslide"
    }
   },
   "source": [
    "### Алгоритм Ленстры\n",
    "Субэкспоненциальный алгоритм для нахождения небольших делителей числа $\\;n.\\;$  \n",
    "\n",
    "$1.$ Выбираем эллиптическую кривую;\n",
    "\n",
    "$2.$ Выбираем $\\;m;$\n",
    "\n",
    "$3.$ Вычисляем $\\;m P\\;$ и если нам повезет, то из-за того, что $\\;\\mathbb{Z}_n\\;$ не является полем, на каком-то этапе, возможно, мы не сможем найти обратный,  а найдем дилитель числа $\\;n.$\n",
    "\n",
    "\n",
    "На третьем шаге нужно быстро считать скалярное умножение. Монтгомери придумал специальные кривые (кривые Монтгомери) и вывел формулы сложения точек, причем формулы быстро вычисляются."
   ]
  },
  {
   "cell_type": "markdown",
   "id": "e530f5a3",
   "metadata": {
    "slideshow": {
     "slide_type": "subslide"
    }
   },
   "source": [
    "### Арифметика Монтгомери\n",
    "$$\n",
    "  By^2=x^3+Ax^2+x\n",
    "$$\n",
    "Пусть $\\;P_1=(x_1,y_1),\\;$ $\\;P_2=(x_2,y_2),\\;$ $\\;x_1\\neq x_2,\\;$ $\\;x_1x_2\\neq0,\\;$  $\\;P_3=(x_3,y_3)=P_1+P_2.$  Тогда\n",
    "\n",
    "$$\n",
    "  x_3=B\\left(\\frac{y_1-y_2}{x_1-x_2}\\right)^2-A-x_1-x_2\n",
    "$$\n",
    "$$\n",
    "  x_3(x_1-x_2)^2=B\\left(y_1-y_2\\right)^2-(A+x_1+x_2)(x_1-x_2)^2=\n",
    "$$\n",
    "$$\n",
    "  = -2By_1y_2+x_1^3+x_2^3+A(x_1^2+x_2^2)+x_1+x_2-(A+x_1+x_2)(x_1-x_2)^2=\n",
    "$$  \n",
    "$$\n",
    "  = -2By_1y_2+x_1+x_2+2Ax_1x_2-x_1(x_2^2-2x_1x_2)-x_2(x_1^2-2x_1x_2)=\n",
    "$$\n",
    "$$\n",
    "  = -2By_1y_2+(x_1+x_2+2A)x_1x_2+x_1+x_2=\n",
    "$$ \n",
    "$$\n",
    "  = -2By_1y_2+\\frac{x_2}{x_1}(x_1^3+Ax_1^2+x_1)+\\frac{x_1}{x_2}(x_2^3+Ax_2^2+x_2)=\n",
    "$$ \n",
    "$$\n",
    "  =B(x_2y_1-x_1y_2)^2/(x_1x_2).\n",
    "$$  \n"
   ]
  },
  {
   "cell_type": "markdown",
   "id": "710d31eb",
   "metadata": {
    "slideshow": {
     "slide_type": "subslide"
    }
   },
   "source": [
    "### $P_4=(x_4,y_4)=P_1-P_2$\n",
    "Так как $\\;-P_2=(x_2,-y_2),\\;$ то подставляя $\\;-y_2\\;$ в формулу \n",
    "$$\n",
    "   x_3(x_1-x_2)^2x_1x_2=B(x_2y_1-x_1y_2)^2\n",
    "$$   \n",
    "вместо $\\;y_2,\\;$ получаем \n",
    "$$\n",
    "  x_4(x_1-x_2)^2x_1x_2=B(x_2y_1+x_1y_2)^2.\n",
    "$$  \n",
    "Умножая левые и правые части формул для суммы и разности, получаем\n",
    "$$\n",
    "  x_3x_4(x_1-x_2)^4x_1^2x_2^2=B^2(x_2^2y_1^2-x_1^2y_2^2)^2;\n",
    "$$  \n",
    "$$\n",
    "  x_3x_4(x_1-x_2)^4x_1^2x_2^2=(x_2^2(x_1^3+Ax_1^2+x_1)-x_1^2(x_2^3+Ax_2^2+x_2))^2;\n",
    "$$  \n",
    "$$\n",
    "  x_3x_4(x_1-x_2)^4x_1^2x_2^2=((x_1^2x_2^2-x_1x_2)(x_1-x_2))^2;\n",
    "$$  \n",
    "Получили формулу $\\;\n",
    "  x_3x_4(x_1-x_2)^2=(x_1x_2-1)^2.\n",
    "$  \n",
    "\n"
   ]
  },
  {
   "cell_type": "markdown",
   "id": "33bb5f2e",
   "metadata": {
    "slideshow": {
     "slide_type": "subslide"
    }
   },
   "source": [
    "### $x_1=0 $\n",
    "Заметим, что при $\\;x_1=0\\; $ формула\n",
    "$$\n",
    "  x_3x_4(x_1-x_2)^2=(x_1x_2-1)^2\n",
    "$$  \n",
    "также справедлива. Действительно,\n",
    "$$\n",
    "  x_3(x_1-x_2)^2= -2By_1y_2+(x_1+x_2+2A)x_1x_2+x_1+x_2;\n",
    "$$ \n",
    "$$\n",
    "  x_3x_2^2= x_2;\n",
    "$$ \n",
    "$$\n",
    "  x_4x_2^2= x_2;\n",
    "$$ \n",
    "$$\n",
    "  x_3x_4x_2^4=x_2^2;\n",
    "$$ \n",
    "$$\n",
    "  x_3x_4x_2^2=1.\n",
    "$$ \n"
   ]
  },
  {
   "cell_type": "markdown",
   "id": "a6328cf3",
   "metadata": {
    "slideshow": {
     "slide_type": "subslide"
    }
   },
   "source": [
    "### Проективные координаты\n",
    "Пусть $\\;P_1=(X_1,Y_1,Z_1),\\;$ $\\;P_2=(X_2,Y_2,Z_2),\\;$ $\\;P_3=(x_3,y_3,z_3),\\;$ $\\;P_4=(x_4,y_4,z_4),\\;$\n",
    "$$\n",
    "  \\frac{X_3}{Z_3}\\frac{X_4}{Z_4}\\left(\\frac{X_1}{Z_1}-\\frac{X_2}{Z_2}\\right)^2=\\left(\\frac{X_1X_2}{Z_1Z_2}-1\\right)^2;\n",
    "$$\n",
    "$$\n",
    "  \\frac{X_3}{Z_3}=\\frac{Z_4(X_1X_2-Z_1Z_2)^2}{X_4(X_1Z_2-X_2Z_1)^2};\n",
    "$$\n",
    "$$\n",
    "  X_3=Z_4(X_1X_2-Z_1Z_2)^2;\\quad Z_3=X_4(X_1Z_2-X_2Z_1)^2.\n",
    "$$\n",
    "Для вычисления $\\;X_3,Z_3\\;$ необходимо 8 умножений и 2 вычитания. Однако, \n",
    "$$\n",
    "  X_3=Z_4(X_1X_2-Z_1Z_2)^2=Z_4((X_1-Z_1)(X_2+Z_2)+(X_1+Z_1)(X_2-Z_2))^2/4;\n",
    "$$\n",
    "$$\n",
    "  Z_3=X_4(X_1Z_2-X_2Z_1)^2=X_4((X_1-Z_1)(X_2+Z_2)-(X_1+Z_1)(X_2-Z_2))^2/4.\n",
    "$$\n",
    "Так как $\\;\\frac{4X_3}{4Z_3}=\\frac{X_3}{Z_3}, \\;$ то $\\;\n",
    "  X_3=Z_4((X_1-Z_1)(X_2+Z_2)+(X_1+Z_1)(X_2-Z_2))^2,\\;$\n",
    "\n",
    "$  \n",
    "  \\qquad \\qquad  Z_3=X_4((X_1-Z_1)(X_2+Z_2)-(X_1+Z_1)(X_2-Z_2))^2.\n",
    "$\n",
    "\n",
    "Теперь необходимо 6 умножений,  3 сложения и 3 вычитания.\n",
    "\n"
   ]
  },
  {
   "cell_type": "markdown",
   "id": "8618957c",
   "metadata": {
    "slideshow": {
     "slide_type": "subslide"
    }
   },
   "source": [
    "### Удвоение в проективных координатах\n",
    "Аналогично, для $\\;x_1=x_2\\;$ можно получить формулу\n",
    "$$\n",
    "  4x_1x_3(x_1^2+Ax_1+1)=(x_1^2-1)^2.\n",
    "$$\n",
    "Перейдем к проективным координатам\n",
    "$$\n",
    "  4\\frac{X_1}{Z_1}\\frac{X_3}{Z_3}\\left(\\frac{X_1^2}{Z_1^2}+A\\frac{X_1}{Z_1}+1\\right)=\\left(\\frac{X_1^2}{Z_1^2}-1\\right)^2;\n",
    "$$\n",
    "$$\n",
    "  \\frac{X_3}{Z_3}=\\frac{\\left(X_1^2-Z_1^2\\right)^2}{4X_1Z_1(X_1^2+A X_1Z_1+Z_1^2)};\n",
    "$$\n",
    "$$\n",
    "  X_3=\\left(X_1^2-Z_1^2\\right)^2,\\qquad Z_3=4X_1Z_1(X_1^2+A X_1Z_1+Z_1^2).\n",
    "$$\n",
    "Имеем 7 умножений. А если считать по формулам\n",
    "$$\n",
    "  X_3=(X_1+Z_1)^2(X_1-Z_1)^2,\\quad Z_3=4X_1Z_1\\left((X_1-Z_1)^2+((A+2)/4)(4X_1Z_1)\\right),\\quad 4X_1Z_1=(X_1+Z_1)^2-(X_1-Z_1)^2,\n",
    "$$\n",
    "то получаем 5 умножений.\n"
   ]
  },
  {
   "cell_type": "markdown",
   "id": "dc225a2d",
   "metadata": {
    "slideshow": {
     "slide_type": "subslide"
    }
   },
   "source": [
    " ### Умножение точки на скаляр или скалярное умножение\n",
    "<font color='blue'> Умножением точки $\\;P\\in\\mathcal{E}(\\mathbb{Z}_p)\\;$ на скаляр $\\;m\\in\\mathbb{N}\\;$</font> или <font color='blue'> скалярным умножением $\\;m P\\;$</font> называется сумма $\\;m\\;$ точек $\\;P$\n",
    "\n",
    "$$\n",
    "m P:=\\underbrace{P+P+\\dots+P.}_{\\text{сумма  } m \\text{  точек } P}\n",
    "$$ \n",
    "\n",
    "Если\n",
    "$$\n",
    "m=m_s2^s+m_{s-1}2^{s-1}+\\dots+m_{1}2+m_0,\\quad m_s=1,\n",
    "$$\n",
    "\n",
    "то, применяя свойство ассоциативности, имеем\n",
    "\n",
    "$$\n",
    "m P=m_s2^sP+m_{s-1}2^{s-1}P+\\dots+m_24P+m_{1}2P+m_0P.\n",
    "$$"
   ]
  },
  {
   "cell_type": "markdown",
   "id": "23bed841",
   "metadata": {
    "slideshow": {
     "slide_type": "subslide"
    }
   },
   "source": [
    "### Алгоритм вычисления $ m P\\in\\mathcal{E}(\\mathbb{Z}_p)$  \n",
    "\n",
    "**Input:** $m\\in\\mathbb{N},$   \n",
    "$\\qquad P\\in\\mathcal{E}(\\mathbb{Z}_p).$\n",
    "\n",
    "**Output:** $m P\\in\\mathcal E(\\mathbb{Z}_p).$\n",
    "\n",
    "1$.$ Представляем $\\;m\\;$ в двоичной системе счисления\n",
    "$$\n",
    "m=m_s2^s+m_{s-1}2^{s-1}+\\dots+m_{1}2+m_0,\\quad m_s=1.\n",
    "$$\n",
    "\n",
    "2$.$ Задаем начальные условия \n",
    "$$\n",
    "\\;result:=O,\\quad  Q:= P.  \\qquad (Q=2^iP)\n",
    "$$ \n",
    "\n",
    "3$.$ Для $\\;i=0,\\dots,s\\;$ выполняем шаги  3.1, 3.2:   \n",
    "$\\qquad$ 3.1. Если $\\;m_i=1,\\;$ то $result:=result+Q;$  \n",
    "$\\qquad$ 3.2. $Q:=Q+Q.$\n",
    "\n",
    "4$.$ Искомым элементом является $result.$"
   ]
  },
  {
   "cell_type": "markdown",
   "id": "0ac44b6b",
   "metadata": {
    "slideshow": {
     "slide_type": "subslide"
    }
   },
   "source": [
    "### Montgomery Ladder\n",
    "**Input:**     $P\\in\\mathcal{M};$  \n",
    "  $\n",
    "   m=m_02^s+m_{1}2^{s-1}+\\dots+m_{s-1}2+m_s,\\quad m_0=1,\n",
    "   $\n",
    "\n",
    "**Output:**\n",
    "$\n",
    "m P\n",
    "$\n",
    "\n",
    "$1.$ Инициализируем переменные $\\;R_0:=O,\\;$ $\\;R_1=P.$\n",
    "\n",
    "$2.$ Для $\\;i\\;$ от $\\;0\\;$ до $\\;s\\;$ вычисляем:  \n",
    "$\\qquad$ если $\\;m_i=0,$ то  \n",
    "$\\qquad\\qquad$ $R_1=R_0+R_1;$  \n",
    "$\\qquad\\qquad$ $R_0=2R_0;$  \n",
    "$\\qquad$ иначе   \n",
    "$\\qquad\\qquad$ $R_0=R_0+R_1;$  \n",
    "$\\qquad\\qquad$ $R_1=2R_1;$\n",
    "\n",
    "$3.$ return $R_0.$ \n",
    "\n",
    "\n",
    "В данном алгоритме на каждой итерации цикла $\\;R_0\\;$ есть текущий ответ:\n",
    "$$\n",
    "  R_0=(m_{0}2^{i}+\\dots+m_{i-1}2+m_{i})*P.\n",
    "$$\n",
    "Точка $\\;R_1\\;$ удовлетворяет условию\n",
    "$\\;\n",
    "  R_1-R_0=P.\n",
    "$  "
   ]
  },
  {
   "cell_type": "markdown",
   "id": "587d80e2",
   "metadata": {
    "slideshow": {
     "slide_type": "skip"
    }
   },
   "source": [
    "### Код из модуля sympy"
   ]
  },
  {
   "cell_type": "code",
   "execution_count": 55,
   "id": "184d93b9",
   "metadata": {
    "slideshow": {
     "slide_type": "skip"
    }
   },
   "outputs": [],
   "source": [
    "class ProjectiveMontgomeryPoint:\n",
    "\n",
    "    def __init__(self, x_cord, z_cord, a_24, mod):\n",
    "        self.x_cord = x_cord\n",
    "        self.z_cord = z_cord\n",
    "        self.a_24 = a_24\n",
    "        self.mod = mod\n",
    "\n",
    "    def add(self, Q, diff):\n",
    "\n",
    "        u = (self.x_cord - self.z_cord)*(Q.x_cord + Q.z_cord)\n",
    "        v = (self.x_cord + self.z_cord)*(Q.x_cord - Q.z_cord)\n",
    "        add, subt = u + v, u - v\n",
    "        x_cord = diff.z_cord * add * add % self.mod\n",
    "        z_cord = diff.x_cord * subt * subt % self.mod\n",
    "        return ProjectiveMontgomeryPoint(x_cord, z_cord, self.a_24, self.mod)\n",
    "\n",
    "    def double(self):\n",
    "\n",
    "        u, v = self.x_cord + self.z_cord, self.x_cord - self.z_cord\n",
    "        u, v = u*u, v*v\n",
    "        diff = u - v\n",
    "        x_cord = u*v % self.mod\n",
    "        z_cord = diff*(v + self.a_24*diff) % self.mod\n",
    "        return ProjectiveMontgomeryPoint(x_cord, z_cord, self.a_24, self.mod)\n",
    "\n",
    "    def mont_ladder(self, k):\n",
    "\n",
    "        Q = self\n",
    "        R = self.double()\n",
    "        for i in bin(k)[3:]:\n",
    "            if  i  == '1':\n",
    "                Q = R.add(Q, self)\n",
    "                R = R.double()\n",
    "            else:\n",
    "                R = Q.add(R, self)\n",
    "                Q = Q.double()\n",
    "        return Q"
   ]
  },
  {
   "cell_type": "code",
   "execution_count": 56,
   "id": "c978600f",
   "metadata": {
    "slideshow": {
     "slide_type": "subslide"
    }
   },
   "outputs": [
    {
     "name": "stdout",
     "output_type": "stream",
     "text": [
      "x =  12605791681893900415103019633334102769746421152375214035786337158362278180214\n"
     ]
    },
    {
     "data": {
      "text/plain": [
       "Montgomery Curve Point = (12605791681893900415103019633334102769746421152375214035786337158362278180214,6873572501972127763379947474514030683161574912570174395822580466672724056009)"
      ]
     },
     "execution_count": 56,
     "metadata": {},
     "output_type": "execute_result"
    }
   ],
   "source": [
    "def FastScalarMultiplication(P, m):\n",
    "    a24 = (P.curve.A+2)*pow(4,-1,P.curve.p) % P.curve.p\n",
    "    PP = ProjectiveMontgomeryPoint(P.x, 1, a24, P.curve.p)\n",
    "    SM = PP.mont_ladder(m)\n",
    "    if SM.z_cord == 0:\n",
    "        return None\n",
    "    return SM.x_cord*pow(SM.z_cord,-1,SM.mod)% SM.mod\n",
    "\n",
    "P = GM\n",
    "m = 2801\n",
    "print('x = ', FastScalarMultiplication(P, m))\n",
    "m*P"
   ]
  },
  {
   "cell_type": "code",
   "execution_count": 58,
   "id": "1c035b15",
   "metadata": {
    "slideshow": {
     "slide_type": "subslide"
    }
   },
   "outputs": [
    {
     "name": "stdout",
     "output_type": "stream",
     "text": [
      "Weierstrass Points :--- 1.2541275024414062 seconds ---\n",
      "Montgomery Points: --- 1.2647526264190674 seconds ---\n",
      "Edwards Points: --- 2.288771390914917 seconds ---\n",
      "Montgomery arithmetic: --- 0.2064502239227295 seconds ---\n",
      "ProjectiveWeierstrassPoints: --- 0.5447742938995361 seconds ---\n"
     ]
    }
   ],
   "source": [
    "import time, random\n",
    "tries = 100\n",
    "start_time = time.time()\n",
    "for _ in range(tries):\n",
    "    m = random.randrange(q)\n",
    "    m*GW\n",
    "print(\"Weierstrass Points :--- %s seconds ---\" % (time.time() - start_time))\n",
    "start_time = time.time()\n",
    "for _ in range(tries):\n",
    "    m = random.randrange(q)\n",
    "    m*GM\n",
    "print(\"Montgomery Points: --- %s seconds ---\" % (time.time() - start_time))\n",
    "start_time = time.time()\n",
    "for _ in range(tries):\n",
    "    m = random.randrange(q)\n",
    "    m*GE\n",
    "print(\"Edwards Points: --- %s seconds ---\" % (time.time() - start_time))\n",
    "start_time = time.time()\n",
    "for _ in range(tries):\n",
    "    m = random.randrange(q)\n",
    "    FastScalarMultiplication(GM, m)\n",
    "print(\"Montgomery arithmetic: --- %s seconds ---\" % (time.time() - start_time))\n",
    "PG = ProjectivePoint(GW.x, GW.y, 1, ProjectiveCurve(GW.curve.a, GW.curve.b, GW.curve.p))\n",
    "start_time = time.time()\n",
    "for _ in range(tries):\n",
    "    m = random.randrange(q)\n",
    "    m*PG\n",
    "print(\"ProjectiveWeierstrassPoints: --- %s seconds ---\" % (time.time() - start_time))"
   ]
  },
  {
   "cell_type": "markdown",
   "id": "6cdd9450",
   "metadata": {
    "slideshow": {
     "slide_type": "slide"
    }
   },
   "source": [
    "## 6. Группа точек окружности\n",
    "$ \n",
    "  (x_1,y_1)+(x_2,y_2)=(x_3,y_3)\n",
    "$\n",
    "\n",
    "Точки складываются по правилу $\\;\\alpha_3:=\\alpha_1+\\alpha_2.$\n",
    "\n",
    "$(0,1)\\;$ &ndash; нейтральный элемент."
   ]
  },
  {
   "cell_type": "code",
   "execution_count": 60,
   "id": "f1bcb2cf",
   "metadata": {
    "slideshow": {
     "slide_type": "-"
    }
   },
   "outputs": [
    {
     "data": {
      "image/png": "[encoded data removed]",
      "text/plain": [
       "<Figure size 432x288 with 1 Axes>"
      ]
     },
     "metadata": {
      "needs_background": "light"
     },
     "output_type": "display_data"
    }
   ],
   "source": [
    "Plot()"
   ]
  },
  {
   "cell_type": "markdown",
   "id": "26f7c0a7",
   "metadata": {
    "slideshow": {
     "slide_type": "subslide"
    }
   },
   "source": [
    "### Группа точек окружности\n",
    "Пусть задана окружность\n",
    "$$\n",
    "  x^2+y^2=1.\n",
    "$$\n",
    "Каждая точка $\\;P=(x,y)\\;$ на окружности задается углом $\\alpha$ между осью $\\;OY\\;$ и радиус-вектором $\\;(x,y)\\;$\n",
    "$$\n",
    "  P=(x,y)=(\\sin\\alpha,\\cos\\alpha).\n",
    "$$\n",
    "Зададим операцию сложения точек на окружности как сумму углов\n",
    "$$\n",
    "  P_1=(x_1,y_1)=(\\sin\\alpha_1,\\cos\\alpha_1),\\qquad  P_2=(x_2,y_2)=(\\sin\\alpha_2,\\cos\\alpha_2),\n",
    "$$  \n",
    "$$\n",
    "  P_1+P_2=P_3=(x_3,y_3)=(\\sin(\\alpha_1+\\alpha_2),\\cos(\\alpha_1+\\alpha_2))=\n",
    "$$  \n",
    "$$\n",
    "  =(\\sin\\alpha_1\\cos\\alpha_2+\\sin\\alpha_2\\cos\\alpha_1,\\cos\\alpha_1\\cos\\alpha_2-\\sin\\alpha_1\\sin\\alpha_2)=\n",
    "$$  \n",
    "$$\n",
    "  = (x_1y_2+x_2y_1, y_1y_2-x_1x_2).\n",
    "$$  "
   ]
  },
  {
   "cell_type": "markdown",
   "id": "30f1292c",
   "metadata": {
    "slideshow": {
     "slide_type": "subslide"
    }
   },
   "source": [
    "### Сравнение кривой Эдардса и окружности\n",
    "$$\n",
    "\\mathcal{ED}_d:\\qquad  x^2+y^2 =1+ d x^2y^2.\n",
    "$$\n",
    "Сумма двух точек $(x_1,y_1),$ $(x_2,y_2)$ задается формулой\n",
    "$$\n",
    "  (x_1,y_1)+(x_2,y_2):=\\left(\\frac{x_1y_2+y_1x_2}{1+dx_1x_2y_1y_2},\\frac{y_1y_2-x_1x_2}{1-dx_1x_2y_1y_2}\\right).\n",
    "$$  \n",
    "\n",
    "\n",
    "\n",
    "**При $\\;d=0\\;$ имеем:**  \n",
    "\n",
    "$$\n",
    "\\mathcal{С}:\\qquad  x^2+y^2 =1.\n",
    "$$\n",
    "Сумма двух точек $(x_1,y_1),$ $(x_2,y_2)$ задается формулой\n",
    "$$\n",
    "  (x_1,y_1)+(x_2,y_2):=\\left(x_1y_2+y_1x_2, y_1y_2-x_1x_2\\right).\n",
    "$$  \n",
    "\n",
    "**Можно ли решить проблему дискретного логарифма для оружности?**\n"
   ]
  }
 ],
 "metadata": {
  "celltoolbar": "Слайд-шоу",
  "kernelspec": {
   "display_name": "Python 3 (ipykernel)",
   "language": "python",
   "name": "python3"
  },
  "language_info": {
   "codemirror_mode": {
    "name": "ipython",
    "version": 3
   },
   "file_extension": ".py",
   "mimetype": "text/x-python",
   "name": "python",
   "nbconvert_exporter": "python",
   "pygments_lexer": "ipython3",
   "version": "3.9.7"
  }
 },
 "nbformat": 4,
 "nbformat_minor": 5
}
