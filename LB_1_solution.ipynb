{
 "cells": [
  {
   "cell_type": "markdown",
   "id": "30acc61d",
   "metadata": {},
   "source": [
    "# Тема 1. Эффективные инструменты в кольце классов вычетов\n",
    "## Лабораторная работа №1\n",
    "\n",
    "Гершов Михаил Дмитриевич\n",
    "\n",
    "$N$ - ограничение на длину входных данных"
   ]
  },
  {
   "cell_type": "code",
   "execution_count": 1,
   "id": "838c8a64",
   "metadata": {},
   "outputs": [],
   "source": [
    "import time, math\n",
    "\n",
    "a = 11122233344  # число\n",
    "m = 131  # модуль\n",
    "d = 10**5  # степень\n",
    "\n",
    "def FastPower(a, d, m):\n",
    "    b = 1\n",
    "    while d>0:\n",
    "        if d & 1:\n",
    "            b = b*a % m\n",
    "        a = a*a % m\n",
    "        d = d >> 1\n",
    "    return b"
   ]
  },
  {
   "cell_type": "markdown",
   "id": "a2cb906d",
   "metadata": {},
   "source": [
    "# Задание 1\n",
    "\n",
    "Реализовать Быстрый алгоритм возведения в степень \"слева направо\". Оценить количество арифметических операций. Оценить временную сложность алгоритма. Является ли он полиномиальным? Сравнить фактическое время вычисления с функциями FastPower и pow."
   ]
  },
  {
   "cell_type": "code",
   "execution_count": 2,
   "id": "29563cb8",
   "metadata": {},
   "outputs": [],
   "source": [
    "def fast_power_leftward(a, d, m):\n",
    "    \n",
    "    \"\"\" the 'left to right' algorithm \"\"\"\n",
    "    \n",
    "    b = a\n",
    "\n",
    "    for i in bin(d)[3:]:  # 0-я цифра не учитывается\n",
    "        b = b ** 2 * a ** int(i) % m\n",
    "        \n",
    "    return b"
   ]
  },
  {
   "cell_type": "code",
   "execution_count": 3,
   "id": "4d5cdafc",
   "metadata": {},
   "outputs": [
    {
     "name": "stdout",
     "output_type": "stream",
     "text": [
      "99\n"
     ]
    }
   ],
   "source": [
    "print(fast_power_leftward(a,d,m))\n"
   ]
  },
  {
   "cell_type": "code",
   "execution_count": 4,
   "id": "5a88282b",
   "metadata": {},
   "outputs": [
    {
     "name": "stdout",
     "output_type": "stream",
     "text": [
      "11122233344\n"
     ]
    }
   ],
   "source": [
    "print(fast_power_leftward(a,1,m))"
   ]
  },
  {
   "cell_type": "markdown",
   "id": "df6d3d19",
   "metadata": {},
   "source": [
    "Если считать возведение в любую степень арифметической операцией со значением 1, то количество арифметических операций, выполняемых на каждом шаге итерации, равно 4. Таким образом $f(a,d,m)=4k$.\n",
    "\n",
    "$T(N) := \\underset{\\langle a,d,m \\rangle \\leq N}{max} \\: f(a,d,m) = \\underset{\\langle a,d,m \\rangle \\leq N}{max} \\: 4k = \\underset{\\langle a,d,m \\rangle \\leq N}{max} \\: 4(\\langle d \\rangle-1) \\leq 4(N-1)$.\n",
    "\n",
    "Поскольку $T(N) = 4(N-1)$ и длина чисел, участвующих в вычислениях алгоритма, ограничена полиномом $p(\\langle a, d, m \\rangle)$, то алгоритм является полиномиальным."
   ]
  },
  {
   "cell_type": "code",
   "execution_count": 5,
   "id": "5fab57be",
   "metadata": {},
   "outputs": [
    {
     "name": "stdout",
     "output_type": "stream",
     "text": [
      "0.0\n"
     ]
    }
   ],
   "source": [
    "start_time = time.time()\n",
    "fast_power_leftward(a, 10**7, m)\n",
    "print(time.time() - start_time)"
   ]
  },
  {
   "cell_type": "code",
   "execution_count": 6,
   "id": "877adf38",
   "metadata": {},
   "outputs": [
    {
     "name": "stdout",
     "output_type": "stream",
     "text": [
      "0.0\n"
     ]
    }
   ],
   "source": [
    "start_time = time.time()\n",
    "FastPower(a, 10**7, m)\n",
    "print(time.time() - start_time)"
   ]
  },
  {
   "cell_type": "code",
   "execution_count": 7,
   "id": "8c0d8be6",
   "metadata": {},
   "outputs": [
    {
     "name": "stdout",
     "output_type": "stream",
     "text": [
      "0.0\n"
     ]
    }
   ],
   "source": [
    "start_time = time.time()\n",
    "pow(a, 10**7, m)\n",
    "print(time.time() - start_time)"
   ]
  },
  {
   "cell_type": "markdown",
   "id": "d7ed6705",
   "metadata": {},
   "source": [
    "Фактическое время вычисления алгоритмов практически совпадает."
   ]
  },
  {
   "cell_type": "markdown",
   "id": "3b4d41f8",
   "metadata": {},
   "source": [
    "# Задание 2\n",
    "\n",
    "При помощи Расширенного алгоритма Евклида найти обратные к элементам $a,b \\in \\mathbb{Z}_{m}$. Проверить результат. Сравнить с функцией pow(a,-1,m). Оценить количество арифметических операций в Расширенном алгоритме Евклида. Оценить временную сложность алгоритма. Является ли он полиномиальным?"
   ]
  },
  {
   "cell_type": "code",
   "execution_count": 8,
   "id": "c5bd2bb5",
   "metadata": {},
   "outputs": [],
   "source": [
    "m = 42530430997171493050900585519445269701954006270353944787367883\n",
    "a = -949014432282168334172\n",
    "b = 2847043296846505002513"
   ]
  },
  {
   "cell_type": "code",
   "execution_count": 9,
   "id": "18888c58",
   "metadata": {},
   "outputs": [],
   "source": [
    "def ExtendedGCD(a, b):  # расширенный алгоритм Евклида\n",
    "    \n",
    "    m11, m12 = 1, 0\n",
    "    m21, m22 = 0, 1\n",
    "    while b:\n",
    "        q = a // b\n",
    "        r = a % b\n",
    "        a, b = b, r\n",
    "        m11, m12 = m12, m11 - m12*q\n",
    "        m21, m22 = m22, m21 - m22*q\n",
    "    \n",
    "    return (m11,m21)\n",
    "\n",
    "#     if a >= 0:\n",
    "#         return (m11, m21)\n",
    "#     else:\n",
    "#         return (-m11,-m21)"
   ]
  },
  {
   "cell_type": "markdown",
   "id": "b9dcde75",
   "metadata": {},
   "source": [
    "Нахождение обратного элемента.  "
   ]
  },
  {
   "cell_type": "code",
   "execution_count": 10,
   "id": "4eaf59fc",
   "metadata": {},
   "outputs": [],
   "source": [
    "def looking_inverse_element(a, m):\n",
    "    if math.gcd(a, m) == 1:\n",
    "        return ExtendedGCD(a, m)[0] % m \n",
    "    else:\n",
    "        return 'Обратного элемента не существует'"
   ]
  },
  {
   "cell_type": "markdown",
   "id": "848f3ac9",
   "metadata": {},
   "source": [
    "Для элемента $a$."
   ]
  },
  {
   "cell_type": "code",
   "execution_count": 11,
   "id": "93af5559",
   "metadata": {},
   "outputs": [
    {
     "data": {
      "text/plain": [
       "5760015108553103353761330938423529954070592368675905375141312"
      ]
     },
     "execution_count": 11,
     "metadata": {},
     "output_type": "execute_result"
    }
   ],
   "source": [
    "looking_inverse_element(a, m)"
   ]
  },
  {
   "cell_type": "code",
   "execution_count": 12,
   "id": "19b47de2",
   "metadata": {},
   "outputs": [
    {
     "data": {
      "text/plain": [
       "5"
      ]
     },
     "execution_count": 12,
     "metadata": {},
     "output_type": "execute_result"
    }
   ],
   "source": [
    "looking_inverse_element(3,7)"
   ]
  },
  {
   "cell_type": "markdown",
   "id": "785519d7",
   "metadata": {},
   "source": [
    "Проверка."
   ]
  },
  {
   "cell_type": "code",
   "execution_count": 13,
   "id": "34e4be78",
   "metadata": {},
   "outputs": [
    {
     "data": {
      "text/plain": [
       "1"
      ]
     },
     "execution_count": 13,
     "metadata": {},
     "output_type": "execute_result"
    }
   ],
   "source": [
    "looking_inverse_element(a, m) * a % m"
   ]
  },
  {
   "cell_type": "markdown",
   "id": "5c5d03e5",
   "metadata": {},
   "source": [
    "Сравнение с функцией pow(a,-1,m)."
   ]
  },
  {
   "cell_type": "code",
   "execution_count": 14,
   "id": "8a306555",
   "metadata": {},
   "outputs": [
    {
     "data": {
      "text/plain": [
       "True"
      ]
     },
     "execution_count": 14,
     "metadata": {},
     "output_type": "execute_result"
    }
   ],
   "source": [
    "pow(a,-1,m) == looking_inverse_element(a, m)"
   ]
  },
  {
   "cell_type": "markdown",
   "id": "30b7e024",
   "metadata": {},
   "source": [
    "Для элемента $b$."
   ]
  },
  {
   "cell_type": "code",
   "execution_count": 15,
   "id": "fb66412a",
   "metadata": {},
   "outputs": [
    {
     "data": {
      "text/plain": [
       "'Обратного элемента не существует'"
      ]
     },
     "execution_count": 15,
     "metadata": {},
     "output_type": "execute_result"
    }
   ],
   "source": [
    "looking_inverse_element(b, m)"
   ]
  },
  {
   "cell_type": "markdown",
   "id": "46f4506f",
   "metadata": {},
   "source": [
    "Сравнение с функцией pow(b,-1,m)."
   ]
  },
  {
   "cell_type": "code",
   "execution_count": 16,
   "id": "21052666",
   "metadata": {},
   "outputs": [
    {
     "ename": "ValueError",
     "evalue": "base is not invertible for the given modulus",
     "output_type": "error",
     "traceback": [
      "\u001b[1;31m---------------------------------------------------------------------------\u001b[0m",
      "\u001b[1;31mValueError\u001b[0m                                Traceback (most recent call last)",
      "\u001b[1;32m~\\AppData\\Local\\Temp/ipykernel_12800/3935100376.py\u001b[0m in \u001b[0;36m<module>\u001b[1;34m\u001b[0m\n\u001b[1;32m----> 1\u001b[1;33m \u001b[0mpow\u001b[0m\u001b[1;33m(\u001b[0m\u001b[0mb\u001b[0m\u001b[1;33m,\u001b[0m\u001b[1;33m-\u001b[0m\u001b[1;36m1\u001b[0m\u001b[1;33m,\u001b[0m\u001b[0mm\u001b[0m\u001b[1;33m)\u001b[0m\u001b[1;33m\u001b[0m\u001b[1;33m\u001b[0m\u001b[0m\n\u001b[0m",
      "\u001b[1;31mValueError\u001b[0m: base is not invertible for the given modulus"
     ]
    }
   ],
   "source": [
    "pow(b,-1,m)"
   ]
  },
  {
   "cell_type": "markdown",
   "id": "4316f126",
   "metadata": {},
   "source": [
    "Количество арифметических операций на одной итерации равно 6. При этом, если число $b = НОД(a,b)$, то возможна лишь одна итерация, поэтому нижняя граница функции $f(a,b)$ равна 6. Если же $НОД(a,b)$ является $k$-й остаток, то необходимо выполнить $k+1$ итерацию. Таким образом верхняя граница функции $f(a,b)$ равна $6(k+1)$ или в виде неравенства $6 \\leq f(a,b) \\leq 6(k+1)$.\n",
    "\n",
    "Для временной сложности справедливо: $T(N) = \\underset{\\langle a, b \\rangle \\leq N}{max} \\: f(a,b) = 6(N+1)$.\n",
    "\n",
    "Поскольку $T(N) = 6(N+1)$ и длина чисел, участвующих в вычислениях алгоритма, ограничена полиномом $p(\\langle a, b \\rangle)$, то алгоритм является полиномиальным."
   ]
  },
  {
   "cell_type": "markdown",
   "id": "1adf9a5f",
   "metadata": {},
   "source": [
    "# Задание 3\n",
    "\n",
    "Реализовать Алгоритм переполнения памяти умножением. Быстро ли работает данный алгоритм? Сколько арифметических операций выполняет данный алгоритм? Чему равна $T(N)$? Является ли он полиномиальным?"
   ]
  },
  {
   "cell_type": "code",
   "execution_count": 17,
   "id": "7d4a8f1b",
   "metadata": {},
   "outputs": [],
   "source": [
    "def multiplication_memory_overflow(n):\n",
    "    a = 2\n",
    "    for _ in range(1, math.floor(math.log2(n)) + 1 + 1):  # добавляем ещё одну 1-цу из-за особенностей функции range\n",
    "        a = a * a\n",
    "    return a"
   ]
  },
  {
   "cell_type": "code",
   "execution_count": 18,
   "id": "11a25441",
   "metadata": {},
   "outputs": [
    {
     "name": "stdout",
     "output_type": "stream",
     "text": [
      "0.0\n"
     ]
    }
   ],
   "source": [
    "start_time = time.time()\n",
    "multiplication_memory_overflow(1024)\n",
    "print(time.time() - start_time)"
   ]
  },
  {
   "cell_type": "markdown",
   "id": "dbe98497",
   "metadata": {},
   "source": [
    "Да, алгоритм работатет достаточно быстро.\n",
    "\n",
    "Данный алгоритм выполняет ровно $f(n) = floor(\\log_{2}{n}) + 1 = ceil(\\log_{2}{(n+1)}) = \\langle n \\rangle$ арифметических операций.\n",
    "\n",
    "$T(N) = \\underset{\\langle n \\rangle \\leq N}{max} \\: f(n) = N$.\n",
    "\n",
    "Поскольку результатом алгоритма является число, длина которого равна $\\langle 2^{2^{\\langle n \\rangle}} \\rangle = \\lceil \\log_{2}{(2^{2^{\\langle n \\rangle}} + 1)} \\rceil = 2^{\\langle n \\rangle} + 1$, что выражается через экспоненту от длины входных данных и не может быть ограничено полиномом от $\\langle n \\rangle$, то алгоритм не является полиномиальным."
   ]
  },
  {
   "cell_type": "markdown",
   "id": "c560cc08",
   "metadata": {},
   "source": [
    "# Задание 4\n",
    "\n",
    "Пусть временная сложность алгоритма $A_{1}$ имеет вид $$T_{1}(N) = 2^{N},$$ а алгоритма $A_{2}$ $$T_{2}(N) = N.$$\n",
    "\n",
    "Пусть за один час работы компьютера $C_{1}$ можно выполнить алгоритм $A_{1}$ с длиной входных данных $N_{1}$, а алгоритм $A_{2}$ с длиной входных данных $N_{2}$.  С какой длиной данных можно за 1 час выполнить алгоритмы $A_{1}$ и $A_{2}$ на компьютере $C_{2}$, производительность которого в два раза больше, чем $C_{1}$?\n",
    "\n",
    "В данной задаче считать, что все арифметические операции алгоритмов выполняются за одинаковое время, хоть в жизни это и не так, потому что с ростом входных данных приходиться проводить арифметические операции над числами большей длины."
   ]
  },
  {
   "cell_type": "markdown",
   "id": "5acdbb88",
   "metadata": {},
   "source": [
    "Для эспоненциального алгоритма $A_{1}$."
   ]
  },
  {
   "cell_type": "markdown",
   "id": "a77a1ceb",
   "metadata": {},
   "source": [
    "Так как компьютер $C_{1}$ за 1 час выполнил алгоритм $A_{1}$ с длиной данных $2^{N_{1}}$, то его производительность равна $2^{N_{1}}$ данных/час. По условию компьютер $C_{2}$ мощнее в 2 раза, значит его производительность равна $2*2^{N_{1}}=2^{N_{1}+1}$ данных/час. Таким образом за 1 час работы на компьютере $C_{2}$ можно выполнить алгоритм $A_{1}$ с длиной данных $N_{1}+1$."
   ]
  },
  {
   "cell_type": "markdown",
   "id": "4e8c8872",
   "metadata": {},
   "source": [
    "Для полиномиального алгоритма $A_{2}$."
   ]
  },
  {
   "cell_type": "markdown",
   "id": "94f9be3c",
   "metadata": {},
   "source": [
    "Поскольку компьютер $C_{2}$ производительнее компьютера $C_{1}$ в 2 раза и график функции $T_{2}(N)$ представляет собой прямую, проходящую через координатный центр, то за 1 час работы на компьютере $C_{2}$ можно выполнить алгоритм $A_{2}$ с длиной данных $2*N_{2}=2N_{2}$."
   ]
  },
  {
   "cell_type": "markdown",
   "id": "f274c6d5",
   "metadata": {},
   "source": [
    "# Задание 5\n",
    "\n",
    "Выполнить компьютерное моделирование кольца вычетов средствами ООП, перегрузив операторы `__add__, __sub__, __mul__, __truediv__, __pow__, __neg__.` Реализовать `__repr__, __eq__`. Проверить, обладает ли построенная модель свойствами:\n",
    "1. $(\\mathbb{Z}_m,+)$ - абелева группа:  \n",
    "    1.1. Коммутативность сложения  \n",
    "    $\\qquad\\qquad\n",
    "      a + b = b + a.\n",
    "    $  \n",
    "    1.2. Ассоциативность сложения  \n",
    "    $\\qquad\\qquad\n",
    "      (a + b) + с = a + (b + c).\n",
    "    $  \n",
    "    1.3. Существование нейтрального элемента относительно сложения  \n",
    "    $\\qquad\\qquad\n",
    "      \\exists0\\in R \\quad(a+0= 0+a = a).\n",
    "    $  \n",
    "    1.4. Существование противоположного элемента относительно сложения  \n",
    "    $\\qquad\\qquad\n",
    "      \\forall a\\in R\\quad\\exists b\\in R \\quad(a+b= b+a = 0).\n",
    "    $\n",
    "2. Ассоциативность умножения      \n",
    "    $\\qquad\\qquad\n",
    "      (a * b) * с = a * (b * c).\n",
    "    $ \n",
    "3. Дистрибутивность    \n",
    "$\\qquad\\qquad\n",
    "  a*(b+c)=a*b+a*c\\quad и\\quad (b+c)*a=b*a+c*a.\n",
    "$\n",
    "4. Коммутативность умножения  \n",
    "    $\\qquad\\qquad\n",
    "      a * b = b * a.\n",
    "    $  \n",
    "5. Существование нейтрального элемента относительно умножения  \n",
    "    $\\qquad\\qquad\n",
    "      \\exists1\\in R \\quad(1*a= a*1 = a).\n",
    "    $  \n",
    "\n",
    "6. Существование обратного элемента для ненулевых элементов  \n",
    "$\\qquad\\qquad\n",
    "      \\forall a\\in R\\setminus \\{0\\} \\quad\\exists a^{-1}\\in R \\quad(a*a^{-1}= 1).\n",
    "$"
   ]
  },
  {
   "cell_type": "code",
   "execution_count": 19,
   "id": "ffd98c04",
   "metadata": {},
   "outputs": [],
   "source": [
    "class Deduction_ring:\n",
    "    m = 6  # модуль\n",
    "    \n",
    "    def __init__(self, number):  # для отрицательных чисел всё в порядке, так как остаток вычисляется правильно\n",
    "        self.remains = number % Deduction_ring.m  # остаток от деления на модуль\n",
    "    \n",
    "    def __add__(self, other):\n",
    "        if isinstance(other, Deduction_ring):\n",
    "            if self.remains + other.remains < Deduction_ring.m:\n",
    "                return self.remains + other.remains\n",
    "            else:\n",
    "                return (self.remains + other.remains) % Deduction_ring.m\n",
    "        else:\n",
    "            if self.remains + other % Deduction_ring.m < Deduction_ring.m:\n",
    "                return self.remains + other % Deduction_ring.m\n",
    "            else:\n",
    "                return (self.remains + other.remains % Deduction_ring.m) % Deduction_ring.m\n",
    "    \"\"\"        \n",
    "    def __radd__(self, other):\n",
    "        if self.remains + other % Deduction_ring.m < Deduction_ring.m:\n",
    "            return self.remains + other % Deduction_ring.m\n",
    "        else:\n",
    "            return (self.remains + other % Deduction_ring.m) % Deduction_ring.m\n",
    "    \"\"\"\n",
    "    \n",
    "    def __sub__(self, other):\n",
    "        if isinstance(other, Deduction_ring):\n",
    "            if (self.remains + other.remains) % Deduction_ring.m == 0:\n",
    "                return 0\n",
    "            else:\n",
    "                return 'Числа не являются обратными'\n",
    "        else:\n",
    "            if (self.remains + pow(other,-1,Deduction_ring.m)) % Deduction_ring.m == 0:\n",
    "                return 0\n",
    "            else:\n",
    "                return 'Числа не являются обратными'\n",
    "        \n",
    "    def __mul__(self, other):\n",
    "        if isinstance(other, Deduction_ring):\n",
    "            if self.remains * other.remains < Deduction_ring.m:\n",
    "                return self.remains * other.remains\n",
    "            else:\n",
    "                return (self.remains * other.remains) % Deduction_ring.m\n",
    "        else:\n",
    "            if self.remains * other % Deduction_ring.m < Deduction_ring.m:\n",
    "                return self.remains * other % Deduction_ring.m\n",
    "            else:\n",
    "                return (self.remains * other % Deduction_ring.m) % Deduction_ring.m\n",
    "    \n",
    "    def __truediv__(self, other):\n",
    "        quantity = 0  # количество \"частных\"\n",
    "        if isinstance(other, Deduction_ring):\n",
    "            for x in range(Deduction_ring.m):\n",
    "                if (other.remains * x) % Deduction_ring.m == self.remains:\n",
    "                    result = x\n",
    "                    quantity += 1\n",
    "            if quantity == 1:\n",
    "                return result\n",
    "            else:\n",
    "                return 'Деление невозможно'\n",
    "        else:\n",
    "            for x in range(Deduction_ring.m):\n",
    "                if (other % Deduction_ring.m * x) % Deduction_ring.m == self.remains:\n",
    "                    result = x\n",
    "                    quantity += 1\n",
    "            if quantity == 1:\n",
    "                return result\n",
    "            else:\n",
    "                return 'Деление невозможно'\n",
    "    \n",
    "    def __pow__(self, degree):\n",
    "        if degree == 0:\n",
    "            return 1\n",
    "        elif degree == -1:\n",
    "            return looking_inverse_element(self.remains, Deduction_ring.m)\n",
    "        elif degree < -1:\n",
    "            return looking_inverse_element((self.remains ** (-1)), abs(degree), Deduction_ring.m)\n",
    "        else:\n",
    "            return fast_power_leftward(self.remains, degree, Deduction_ring.m)\n",
    "    \n",
    "    def __neg__(self):  # поскольку в кольце не может быть отрицательных чисел, будем возвращать просто остаток\n",
    "        return self.remains\n",
    "    \n",
    "    def __repr__(self):\n",
    "        return f'{self.remains}'\n",
    "    \n",
    "    def __eq__(self, other):\n",
    "        if isinstance(other, Deduction_ring):\n",
    "            return self.remains == other.remains\n",
    "        else:\n",
    "            return self.remains == (other % Deduction_ring.m)\n",
    "    "
   ]
  },
  {
   "cell_type": "code",
   "execution_count": 20,
   "id": "98248247",
   "metadata": {},
   "outputs": [],
   "source": [
    "a = Deduction_ring(9)\n",
    "b = Deduction_ring(25)\n",
    "c = Deduction_ring(5)\n",
    "null = Deduction_ring(0)\n",
    "neutral_element = Deduction_ring(1)"
   ]
  },
  {
   "cell_type": "markdown",
   "id": "a453e362",
   "metadata": {},
   "source": [
    "Коммутативность сложения:"
   ]
  },
  {
   "cell_type": "code",
   "execution_count": 21,
   "id": "1e0e61be",
   "metadata": {},
   "outputs": [
    {
     "data": {
      "text/plain": [
       "True"
      ]
     },
     "execution_count": 21,
     "metadata": {},
     "output_type": "execute_result"
    }
   ],
   "source": [
    "a + b == b + a"
   ]
  },
  {
   "cell_type": "markdown",
   "id": "e7e755e8",
   "metadata": {},
   "source": [
    "Ассоциативность сложения:"
   ]
  },
  {
   "cell_type": "code",
   "execution_count": 22,
   "id": "fbe9725f",
   "metadata": {},
   "outputs": [
    {
     "data": {
      "text/plain": [
       "True"
      ]
     },
     "execution_count": 22,
     "metadata": {},
     "output_type": "execute_result"
    }
   ],
   "source": [
    "Deduction_ring(a + b) + c == a + Deduction_ring(b + c)"
   ]
  },
  {
   "cell_type": "markdown",
   "id": "7fab80c6",
   "metadata": {},
   "source": [
    "Существование нейтрального элемента относительно сложения:"
   ]
  },
  {
   "cell_type": "code",
   "execution_count": 23,
   "id": "044dc674",
   "metadata": {},
   "outputs": [
    {
     "data": {
      "text/plain": [
       "True"
      ]
     },
     "execution_count": 23,
     "metadata": {},
     "output_type": "execute_result"
    }
   ],
   "source": [
    "a + null == a and null + a == a"
   ]
  },
  {
   "cell_type": "markdown",
   "id": "d257011a",
   "metadata": {},
   "source": [
    "Существование противоположного элемента относительно сложения:"
   ]
  },
  {
   "cell_type": "code",
   "execution_count": 24,
   "id": "698e755e",
   "metadata": {},
   "outputs": [
    {
     "data": {
      "text/plain": [
       "True"
      ]
     },
     "execution_count": 24,
     "metadata": {},
     "output_type": "execute_result"
    }
   ],
   "source": [
    "b + c == null and c + b == null"
   ]
  },
  {
   "cell_type": "markdown",
   "id": "241e6f88",
   "metadata": {},
   "source": [
    "Ассоциативность умножения:"
   ]
  },
  {
   "cell_type": "code",
   "execution_count": 25,
   "id": "7e890210",
   "metadata": {},
   "outputs": [
    {
     "data": {
      "text/plain": [
       "True"
      ]
     },
     "execution_count": 25,
     "metadata": {},
     "output_type": "execute_result"
    }
   ],
   "source": [
    "Deduction_ring(a * b) * c == a * Deduction_ring(b * c)"
   ]
  },
  {
   "cell_type": "markdown",
   "id": "502d7f1e",
   "metadata": {},
   "source": [
    "Дистрибутивность:"
   ]
  },
  {
   "cell_type": "code",
   "execution_count": 26,
   "id": "592760d9",
   "metadata": {},
   "outputs": [
    {
     "data": {
      "text/plain": [
       "True"
      ]
     },
     "execution_count": 26,
     "metadata": {},
     "output_type": "execute_result"
    }
   ],
   "source": [
    "Deduction_ring(a * (b + c)) == Deduction_ring(a * b + a * c)"
   ]
  },
  {
   "cell_type": "code",
   "execution_count": 27,
   "id": "fd7cb0f5",
   "metadata": {},
   "outputs": [
    {
     "data": {
      "text/plain": [
       "True"
      ]
     },
     "execution_count": 27,
     "metadata": {},
     "output_type": "execute_result"
    }
   ],
   "source": [
    "Deduction_ring(Deduction_ring(b + c) * a) == Deduction_ring(b * a + c * a)"
   ]
  },
  {
   "cell_type": "markdown",
   "id": "7213576f",
   "metadata": {},
   "source": [
    "Коммутативность умножения:"
   ]
  },
  {
   "cell_type": "code",
   "execution_count": 28,
   "id": "2c228f7c",
   "metadata": {},
   "outputs": [
    {
     "data": {
      "text/plain": [
       "True"
      ]
     },
     "execution_count": 28,
     "metadata": {},
     "output_type": "execute_result"
    }
   ],
   "source": [
    "a * b == b * a"
   ]
  },
  {
   "cell_type": "markdown",
   "id": "372552e2",
   "metadata": {},
   "source": [
    "Существование нейтрального элемента относительно умножения:"
   ]
  },
  {
   "cell_type": "code",
   "execution_count": 29,
   "id": "e5d90ea5",
   "metadata": {},
   "outputs": [
    {
     "data": {
      "text/plain": [
       "True"
      ]
     },
     "execution_count": 29,
     "metadata": {},
     "output_type": "execute_result"
    }
   ],
   "source": [
    "neutral_element * a == a and a * neutral_element == a"
   ]
  },
  {
   "cell_type": "markdown",
   "id": "a9ee248b",
   "metadata": {},
   "source": [
    "Существование обратного элемента для ненулевых элементов:"
   ]
  },
  {
   "cell_type": "code",
   "execution_count": 30,
   "id": "ec6c82a7",
   "metadata": {},
   "outputs": [
    {
     "data": {
      "text/plain": [
       "1"
      ]
     },
     "execution_count": 30,
     "metadata": {},
     "output_type": "execute_result"
    }
   ],
   "source": [
    "b * pow(b,-1)"
   ]
  }
 ],
 "metadata": {
  "kernelspec": {
   "display_name": "Python 3 (ipykernel)",
   "language": "python",
   "name": "python3"
  },
  "language_info": {
   "codemirror_mode": {
    "name": "ipython",
    "version": 3
   },
   "file_extension": ".py",
   "mimetype": "text/x-python",
   "name": "python",
   "nbconvert_exporter": "python",
   "pygments_lexer": "ipython3",
   "version": "3.9.7"
  }
 },
 "nbformat": 4,
 "nbformat_minor": 5
}
