{
 "cells": [
  {
   "cell_type": "markdown",
   "id": "e4b7f733",
   "metadata": {
    "slideshow": {
     "slide_type": "slide"
    }
   },
   "source": [
    "$$\n",
    "Белорусский\\;государственный\\; университет\n",
    "$$\n",
    "$$\n",
    "Механико-математический\\;факультет\n",
    "$$\n",
    "$$\n",
    "Кафедра\\;дифференциальных\\;уравнений\\; и\\; системного\\; анализа\n",
    "$$\n",
    "$ $\n",
    "\n",
    "$$\n",
    " \\Large\\bf Математические\\; основы\\; защиты\\; информации\n",
    "$$\n",
    "\n",
    "# Тема 4. Алгебраические уравнения в кольце вычетов\n",
    "\n",
    "$ $\n",
    "\n",
    "доцент Чергинец Дмитрий Николаевич"
   ]
  },
  {
   "cell_type": "markdown",
   "id": "8f7cbb20",
   "metadata": {
    "slideshow": {
     "slide_type": "slide"
    }
   },
   "source": [
    "# 1. Уравнение первой степени в кольце вычетов\n",
    "\n",
    "Пусть $n\\in\\mathbb{N},$ $a,b\\in\\mathbb{Z}_n.$ Необходимо найти $x\\in\\mathbb{Z}_n,$ удовлетворяющие уравнению\n",
    "$$\\label{lineq}\n",
    "   a x\\equiv b\\mod n.   \\qquad(1)\n",
    "$$\n",
    "\n",
    "\n",
    "Предположим, что $НОД(a,n)=1,$ тогда  $\\exists a^{-1}\\in\\mathbb{Z}_n$ и уравнение (1) имеет единственное в $\\mathbb{Z}_n$ решение\n",
    "$$\n",
    " x\\equiv a^{-1}b\\mod n.\n",
    "$$\n"
   ]
  },
  {
   "cell_type": "markdown",
   "id": "dcc10e33",
   "metadata": {
    "slideshow": {
     "slide_type": "subslide"
    }
   },
   "source": [
    "## Случай  $НОД(a,n)=d>1$ \n",
    "\n",
    "Предположим, что уравнение (1) имеет решение $x,$ тогда найдется такое $z\\in\\mathbb{Z},$ что \n",
    "$$\n",
    "  a x = b + zn.\n",
    "$$\n",
    "Перегруппируем\n",
    "$$    \n",
    "  ax-zn = b.\n",
    "$$\n",
    "  Так как $ax-zn$ делится на $d,$ то и $b$ делится на $d.$ \n",
    "  \n",
    "**Теорема.** Если линейное уравнение имеет решение, то $b$ делится на $d =НОД(a,n).$  "
   ]
  },
  {
   "cell_type": "markdown",
   "id": "33659cd2",
   "metadata": {
    "slideshow": {
     "slide_type": "subslide"
    }
   },
   "source": [
    "## Достаточное условие разрешимости\n",
    "\n",
    "Предположим, что $b$ делится на $d=НОД(a,n).$ \n",
    "  \n",
    "  Пусть\n",
    "  $a=\\tilde a d,$   $b=\\tilde b d,$   $n=\\tilde n d.\\;$   Тогда $x\\in\\mathbb{Z}$ удовлетворяет сравнению\n",
    "  $$\n",
    "    \\tilde a d x\\equiv \\tilde b d\\mod \\tilde n d\n",
    "  $$\n",
    "  тогда и только тогда, когда   \n",
    "  $$\n",
    "    \\tilde a x\\equiv \\tilde b \\mod \\tilde n .\n",
    "  $$\n",
    "  Причем $\\gcd(\\tilde a,\\tilde n)=1.$ Поэтому \n",
    " $$x\\equiv \\tilde a^{-1} \\tilde{b}\\mod \\tilde n,\n",
    "  $$   \n",
    "  а линейное уравнение (1) имеет $d$ решений в $\\mathbb{Z}_n:$\n",
    "$$\n",
    "  \\tilde a^{-1} \\tilde{b}, \\;\\;  \\tilde a^{-1} \\tilde{b}+\\tilde{n}, \\;\\;  \\tilde a^{-1} \\tilde{b}+2\\tilde{n},\\;\\dots, \\; \\tilde a^{-1} \\tilde{b}+(d-1)\\tilde{n}.  \n",
    "$$"
   ]
  },
  {
   "cell_type": "markdown",
   "id": "adc01351",
   "metadata": {
    "slideshow": {
     "slide_type": "slide"
    }
   },
   "source": [
    "# 2. Китайская теорема об остатках\n",
    "**Теорема.**  \n",
    "Пусть $\\;n_1,\\dots,n_k\\in\\mathbb{N},$ $\\;\\gcd(n_i,n_j)=1\\;$ при      $\\;i\\neq j,$ $\\;b_1,\\dots,b_k\\in\\mathbb{Z}.\\;$ Тогда система      уравнений\n",
    " $$\n",
    "   \\left\\{\\begin{array}{llll}\n",
    "      x & \\equiv  & b_1 & \\mod n_1,\\\\\n",
    "      x & \\equiv  & b_2 & \\mod n_2,\\\\\n",
    "        & \\vdots & &\\\\\n",
    "     x & \\equiv  & b_k & \\mod n_k,\n",
    "     \\end{array}\\right.\\qquad (2)   \n",
    " $$\n",
    " имеет единственное в кольце $\\mathbb{Z}_n$ решение\n",
    "$$\n",
    " x_0=\\sum\\limits_{i=1}^{k} b_i N_i C_i, \\qquad (*)\n",
    "$$\n",
    "где ${n=n_1\\dots n_k,}$ ${N_i=\\frac{n}{n_i},}$ $C_i$ --- обратный к $N_i$ в $\\mathbb{Z}_{n_i}^*.$\n",
    "\n",
    "**Алгоритм Гаусса.**  \n",
    "Нахождение решения системы (2) при помощи формулы $(*)$ иногда называют алгоритмом Гаусса."
   ]
  },
  {
   "cell_type": "markdown",
   "id": "d68060c2",
   "metadata": {
    "slideshow": {
     "slide_type": "subslide"
    }
   },
   "source": [
    "## Доказательство\n",
    "$x_0$ **определено корректно?**  \n",
    " $$\\gcd(n_i,n_j)=1\\qquad\\Rightarrow\\qquad\\gcd(n_i,N_i)=1\\qquad\\Rightarrow\\qquad\\exists C_i=N_i^{-1}\\mod n_i.\n",
    "  $$\n",
    "\n",
    "$x_0$ **является решением системы?**  \n",
    "Для каждого $j,$ $1\\le j\\le k,$ справедливо сравнение\n",
    "$$\n",
    "  x_0=\\sum\\limits_{i=1}^k b_i N_i C_i\\equiv b_j N_j C_j \\equiv  b_j\\mod n_j,\n",
    "$$\n",
    "следовательно, $x_0$ --- решение.\n",
    "\n",
    "**Единственность решения**  \n",
    "Предположим, что существуют два   решения системы \n",
    "$\n",
    "  {x_1,x_2\\in\\mathbb{Z}_n.}\n",
    "$\n",
    "  \n",
    "Для сравнений справедливо следующее свойство\n",
    "  $$\n",
    "  \\left\\{\\begin{array}{l}\n",
    " x_1\\equiv x_2\\mod n_1,\\\\\n",
    "x_1\\equiv x_2\\mod n_2,\\\\\n",
    "\\gcd(n_1,n_2)=1;\n",
    "      \\end{array}\\right.\n",
    "   \\qquad\\Rightarrow\\qquad x_1\\equiv x_2\\mod n_1 n_2.\n",
    " $$  \n",
    "Применяя его$\\;k-1\\;$ раз, получаем $\\qquad x_1\\equiv x_2\\mod n.$"
   ]
  },
  {
   "cell_type": "markdown",
   "id": "e2b92447",
   "metadata": {
    "slideshow": {
     "slide_type": "subslide"
    }
   },
   "source": [
    "## Библиотечная функция `crt` (Chinese Remainder Theorem)"
   ]
  },
  {
   "cell_type": "code",
   "execution_count": 1,
   "id": "66ad79f3",
   "metadata": {
    "slideshow": {
     "slide_type": "-"
    }
   },
   "outputs": [
    {
     "name": "stdout",
     "output_type": "stream",
     "text": [
      "Help on function crt in module sympy.ntheory.modular:\n",
      "\n",
      "crt(m, v, symmetric=False, check=True)\n",
      "    Chinese Remainder Theorem.\n",
      "    \n",
      "    The moduli in m are assumed to be pairwise coprime.  The output\n",
      "    is then an integer f, such that f = v_i mod m_i for each pair out\n",
      "    of v and m. If ``symmetric`` is False a positive integer will be\n",
      "    returned, else \\|f\\| will be less than or equal to the LCM of the\n",
      "    moduli, and thus f may be negative.\n",
      "    \n",
      "    If the moduli are not co-prime the correct result will be returned\n",
      "    if/when the test of the result is found to be incorrect. This result\n",
      "    will be None if there is no solution.\n",
      "    \n",
      "    The keyword ``check`` can be set to False if it is known that the moduli\n",
      "    are coprime.\n",
      "    \n",
      "    Examples\n",
      "    ========\n",
      "    \n",
      "    As an example consider a set of residues ``U = [49, 76, 65]``\n",
      "    and a set of moduli ``M = [99, 97, 95]``. Then we have::\n",
      "    \n",
      "       >>> from sympy.ntheory.modular import crt\n",
      "    \n",
      "       >>> crt([99, 97, 95], [49, 76, 65])\n",
      "       (639985, 912285)\n",
      "    \n",
      "    This is the correct result because::\n",
      "    \n",
      "       >>> [639985 % m for m in [99, 97, 95]]\n",
      "       [49, 76, 65]\n",
      "    \n",
      "    If the moduli are not co-prime, you may receive an incorrect result\n",
      "    if you use ``check=False``:\n",
      "    \n",
      "       >>> crt([12, 6, 17], [3, 4, 2], check=False)\n",
      "       (954, 1224)\n",
      "       >>> [954 % m for m in [12, 6, 17]]\n",
      "       [6, 0, 2]\n",
      "       >>> crt([12, 6, 17], [3, 4, 2]) is None\n",
      "       True\n",
      "       >>> crt([3, 6], [2, 5])\n",
      "       (5, 6)\n",
      "    \n",
      "    Note: the order of gf_crt's arguments is reversed relative to crt,\n",
      "    and that solve_congruence takes residue, modulus pairs.\n",
      "    \n",
      "    Programmer's note: rather than checking that all pairs of moduli share\n",
      "    no GCD (an O(n**2) test) and rather than factoring all moduli and seeing\n",
      "    that there is no factor in common, a check that the result gives the\n",
      "    indicated residuals is performed -- an O(n) operation.\n",
      "    \n",
      "    See Also\n",
      "    ========\n",
      "    \n",
      "    solve_congruence\n",
      "    sympy.polys.galoistools.gf_crt : low level crt routine used by this routine\n",
      "\n"
     ]
    }
   ],
   "source": [
    "from sympy.ntheory.modular import crt \n",
    "help(crt)"
   ]
  },
  {
   "cell_type": "markdown",
   "id": "c4833b38",
   "metadata": {
    "slideshow": {
     "slide_type": "subslide"
    }
   },
   "source": [
    "## Пример работы функции `crc`"
   ]
  },
  {
   "cell_type": "code",
   "execution_count": 2,
   "id": "9e7d1bbf",
   "metadata": {
    "slideshow": {
     "slide_type": "-"
    }
   },
   "outputs": [
    {
     "name": "stdout",
     "output_type": "stream",
     "text": [
      "x =  366\n",
      "n =  385\n"
     ]
    }
   ],
   "source": [
    "ni = [5, 7, 11]\n",
    "bi = [1, 2, 3]\n",
    "\n",
    "x, n = crt(ni, bi)\n",
    "\n",
    "print('x = ',x)\n",
    "print('n = ',n)"
   ]
  },
  {
   "cell_type": "markdown",
   "id": "0a12aeb0",
   "metadata": {
    "slideshow": {
     "slide_type": "-"
    }
   },
   "source": [
    "**Проверка.**   \n",
    "Вычислим остатки от деления $x$ на $x_i$ и сравним с $b_i$"
   ]
  },
  {
   "cell_type": "code",
   "execution_count": 3,
   "id": "68c1f791",
   "metadata": {
    "slideshow": {
     "slide_type": "-"
    }
   },
   "outputs": [
    {
     "data": {
      "text/plain": [
       "True"
      ]
     },
     "execution_count": 3,
     "metadata": {},
     "output_type": "execute_result"
    }
   ],
   "source": [
    "[x % i for i in ni] == bi"
   ]
  },
  {
   "cell_type": "markdown",
   "id": "1245c542",
   "metadata": {
    "slideshow": {
     "slide_type": "subslide"
    }
   },
   "source": [
    "## Выбор представителя класса вычетов\n",
    "Решение системы принадлежит кольцу $\\mathbb{Z}_n.$ По умолчанию (`symmetric=False`) в качестве представителя класса вычетов выдается число из промежутка \n",
    "$$\n",
    "0\\leq x<n.\n",
    "$$\n",
    "Но можно выдавать представитель, удовлетворяющий условию \n",
    "$$\\|x\\|\\rightarrow \\min.\n",
    "$$\n",
    "То есть будет возвращаться представитель класса вычетов из промежутка \n",
    "$$ -\\frac n2<x\\leq\\frac n2.\n",
    "$$"
   ]
  },
  {
   "cell_type": "code",
   "execution_count": 4,
   "id": "ca9a3da0",
   "metadata": {
    "slideshow": {
     "slide_type": "-"
    }
   },
   "outputs": [
    {
     "name": "stdout",
     "output_type": "stream",
     "text": [
      "x = -19,  n = 385\n"
     ]
    }
   ],
   "source": [
    "ni = [5,7,11]\n",
    "bi = [1, 2, 3] \n",
    "print('x = %d,  n = %d'% crt(ni, bi, symmetric = True))"
   ]
  },
  {
   "cell_type": "markdown",
   "id": "fd7d1a87",
   "metadata": {
    "slideshow": {
     "slide_type": "subslide"
    }
   },
   "source": [
    "## Не взаимно простые модули\n",
    "Предположим, что модули не взаимнопростые\n",
    "$$\n",
    "    \\left\\{\\begin{array}{l}\n",
    " x\\equiv b_1\\mod d*n_1,\\\\\n",
    "x\\equiv b_2\\mod d*n_2,\\\\\n",
    "\\gcd(n_1,n_2)=1;\n",
    "      \\end{array}\\right.\\quad\\Rightarrow\\quad\n",
    "     \\left\\{\\begin{array}{l}\n",
    " x\\equiv b_1\\mod n_1,\\\\\n",
    " x\\equiv b_1\\mod d,\\\\\n",
    "x\\equiv b_2\\mod n_2,\\\\\n",
    "x\\equiv b_2\\mod d.\n",
    "      \\end{array}\\right.\\quad\\Rightarrow       \n",
    "$$\n",
    "Если $b_1\\not\\equiv b_2\\mod d,\\;\\;$ то система не имеет решений."
   ]
  },
  {
   "cell_type": "markdown",
   "id": "3a0b6aad",
   "metadata": {
    "slideshow": {
     "slide_type": "subslide"
    }
   },
   "source": [
    "Четвертый аргумент функции `crt(m, v, symmetric=False, check=True)` сообщает, нужно ли проверять на взаимную простоту модули.   \n",
    "**Функция `crt` находит решение при не взаимно простых модулях:**"
   ]
  },
  {
   "cell_type": "code",
   "execution_count": 5,
   "id": "79fdeabb",
   "metadata": {
    "slideshow": {
     "slide_type": "-"
    }
   },
   "outputs": [
    {
     "name": "stdout",
     "output_type": "stream",
     "text": [
      "x = 36,  n = 110\n"
     ]
    }
   ],
   "source": [
    "ni = [5,10,11]\n",
    "bi = [1, 6, 3] \n",
    "print('x = %d,  n = %d'% crt(ni, bi))"
   ]
  },
  {
   "cell_type": "markdown",
   "id": "e28e1c71",
   "metadata": {
    "slideshow": {
     "slide_type": "-"
    }
   },
   "source": [
    "**Для некоторых систем решение не существует:**"
   ]
  },
  {
   "cell_type": "code",
   "execution_count": 6,
   "id": "96b976c2",
   "metadata": {
    "slideshow": {
     "slide_type": "-"
    }
   },
   "outputs": [
    {
     "name": "stdout",
     "output_type": "stream",
     "text": [
      "None\n"
     ]
    }
   ],
   "source": [
    "ni = [5,10,11]\n",
    "bi = [1, 7, 3] \n",
    "print(crt(ni, bi))"
   ]
  },
  {
   "cell_type": "markdown",
   "id": "a94cb19f",
   "metadata": {
    "slideshow": {
     "slide_type": "-"
    }
   },
   "source": [
    "**Если отключить проверку, то функция может выдавать неверный ответ:**"
   ]
  },
  {
   "cell_type": "code",
   "execution_count": 7,
   "id": "4e3781d6",
   "metadata": {
    "slideshow": {
     "slide_type": "-"
    }
   },
   "outputs": [
    {
     "name": "stdout",
     "output_type": "stream",
     "text": [
      "False\n"
     ]
    }
   ],
   "source": [
    "ni = [5,10,11]\n",
    "bi = [1, 7, 3] \n",
    "x, n = crt(ni, bi, check = False)\n",
    "print(x % ni[0] == bi[0])"
   ]
  },
  {
   "cell_type": "markdown",
   "id": "2f4609ba",
   "metadata": {
    "slideshow": {
     "slide_type": "slide"
    }
   },
   "source": [
    "## Идея алгоритма Гарнера\n",
    "Формула $(*)$, указанная в теореме, хороша, но есть более быстрый алгоритм. \n",
    "\n",
    "Пусть $x_i\\in\\mathbb{Z},$ $ 0\\leq x_i<n_1\\dots n_i,$ -- решение системы, составленной из первых $i$ уравнений:\n",
    "$$\n",
    "  \\left\\{\\begin{array}{llll}\n",
    "      x & \\equiv  & b_1 & \\mod n_1,\\\\\n",
    "      x & \\equiv  & b_2 & \\mod n_2,\\\\\n",
    "        & \\vdots & &\\\\\n",
    "     x & \\equiv  & b_i & \\mod n_i.\n",
    "     \\end{array}\\right.\n",
    "$$\n",
    "Методом математической индукции получим формулы для нахождения $x_i.$ \n",
    "\n",
    "При $\\;i=1\\;$ в качестве $\\;x_1\\;$ возьмем остаток от деления $\\;b_1\\;$ на $\\;n_1.$                "
   ]
  },
  {
   "cell_type": "markdown",
   "id": "a2757c88",
   "metadata": {
    "slideshow": {
     "slide_type": "subslide"
    }
   },
   "source": [
    "Пусть известно $x_{i-1},$ найдем $x_{i}.$\n",
    "Решение будем искать в виде\n",
    "$$ \n",
    "  x_{i}=x_{i-1}+N_{i}y_{i},\n",
    "$$\n",
    "где $N_{i}=n_1n_2\\dots n_{i-1}.$\n",
    "\n",
    "За счет данного вида число $x_{i}$ уже является решением $j=1,\\dots,i-1$ уравнения:\n",
    "$$\n",
    "  x_{i}\\equiv x_{i-1}+N_{i}y_{i}\\equiv x_{i-1}\\equiv b_j \\mod n_j.\n",
    " $$ \n",
    " Число $y_{i}, 0\\leq y_{i}<n_{i},$ подберем таким образом, чтобы $x_{i}$ удовлетворяло уравнению\n",
    "$$\n",
    "  x\\equiv b_{i}\\mod n_{i}.\n",
    "$$\n",
    "Подставив $x_{i}$ в уравнение, получим\n",
    "$$\n",
    "  x_{i-1}+N_{i}y_{i}\\equiv b_{i}\\mod n_{i};\n",
    "$$\n",
    "$$\n",
    "  N_{i}y_{i}\\equiv (b_{i}-x_{i-1})\\mod n_{i};\n",
    "$$\n",
    "$$\n",
    "  y_{i}:=C_{i}(b_{i}-x_{i-1})\\mod n_{i},\n",
    "$$\n",
    "где $C_{i}:= N_{i}^{-1}\\mod n_{i}$.\n",
    "\n",
    "Отметим, что найденное решение удовлетворяет неравенству\n",
    "$$\n",
    "  x_{i}=x_{i-1}+N_iy_i<N_{i}+N_i(n_{i}-1)=N_{i+1}.\n",
    "$$  "
   ]
  },
  {
   "cell_type": "markdown",
   "id": "3c7ccbfa",
   "metadata": {
    "slideshow": {
     "slide_type": "subslide"
    }
   },
   "source": [
    "## Алгоритм Гарнера\n",
    "Input: $b_1,\\dots,b_k\\in\\mathbb{Z},$   \n",
    "$\\qquad n_1,\\dots,n_k\\in\\mathbb{N}$ -- взаимно простые.  \n",
    "\n",
    "Output: $x,$ $0\\leq x<n_1\\dots n_k,$ -- решение системы (2).  \n",
    "\n",
    "1$.\\;$ Задаем начальные значения переменных:  \n",
    "$\\qquad   N:=1,$  \n",
    "$\\qquad x:=b_1\\mod n_1.$    \n",
    "\n",
    "2$.\\;$ For $\\;i:=2,3,\\dots,k$   \n",
    "$ \\qquad N:=N*n_{i-1}  $    \n",
    "$\\qquad C:=N^{-1}\\mod n_i$    \n",
    "$\\qquad y:=C*(b_i-x)\\mod n_i$  \n",
    "$\\qquad  x:=N y+x$\n",
    "\n",
    "3$.\\;$ Выдаем результат: $x.$    "
   ]
  },
  {
   "cell_type": "markdown",
   "id": "efccfbbf",
   "metadata": {
    "slideshow": {
     "slide_type": "skip"
    }
   },
   "source": [
    "## <font color='red'>Задание 1.</font>\n",
    "\n",
    "Реализовать алгоритмы Гаусса и Гарнера. Сравнить скорость вычислений. Посчитать количество арифметических операций. Какие из данных алгоритмов являются полиномиальными?"
   ]
  },
  {
   "cell_type": "markdown",
   "id": "15465aa6",
   "metadata": {},
   "source": [
    "Алгоритм Гаусса:"
   ]
  },
  {
   "cell_type": "code",
   "execution_count": 8,
   "id": "2c70ce4c",
   "metadata": {},
   "outputs": [],
   "source": [
    "def gauss_algorithm(ni: list, bi: list):\n",
    "    n = 1  \n",
    "    for element in ni:\n",
    "        n *= element\n",
    "        \n",
    "    x = 0\n",
    "    for index in range(len(ni)):\n",
    "        Ni = n // ni[index]\n",
    "        x += (bi[index] * Ni * pow(Ni,-1,ni[index]))\n",
    "        \n",
    "    return x"
   ]
  },
  {
   "cell_type": "markdown",
   "id": "ed4b2779",
   "metadata": {},
   "source": [
    "Вычислим количество арифметических операций в алгоритме Гаусса, считая $k$ — количество уравнений.\n",
    "\n",
    "1. В 1-м цикле совершается $k + 1$ умножение.\n",
    "2. Во 2-м цикле будет $k$ делений, $2k$ умножений, $k$ возведений в степень и $k$ сложений.\n",
    "\n",
    "Получим, что общее количество операций в алгоритме Гаусса будет равняться:\n",
    "$$\n",
    "f(n,b) = k + 1 + k + 2k + k + k = 6k + 1.\n",
    "$$\n",
    "\n",
    "Для временной сложности справедлива оценка:\n",
    "$$\n",
    "  T(N):=\\max\\limits_{\\left<n_{i},b_{i}\\right>\\leq N} f(n,b) \\leq \\max\\limits_{\\left<n_{i},b_{i}\\right>\\leq N} 6k + 1 = 6N + 1.\n",
    "$$\n",
    "\n",
    "Длина чисел, участвующих в вычислениях алгоритма, ограничена числом $N$, кроме того, для $x$ выполнено условие:\n",
    "$$\n",
    "0\\leq x<n,\n",
    "$$\n",
    "поэтому *алгоритм Гаусса является полиномиальным алгоритмом*."
   ]
  },
  {
   "cell_type": "markdown",
   "id": "da8c2a43",
   "metadata": {},
   "source": [
    "Алгоритм Гарненра:"
   ]
  },
  {
   "cell_type": "code",
   "execution_count": 9,
   "id": "d099c4e1",
   "metadata": {},
   "outputs": [],
   "source": [
    "def garner_algorithm(ni: list, bi: list):\n",
    "    N = 1\n",
    "    x = bi[0] % ni[0]\n",
    "    \n",
    "    for index in range(1, len(ni)):\n",
    "        N *= ni[index - 1]\n",
    "        C = pow(N, -1, ni[index])\n",
    "        y = C * (bi[index] - x) % ni[index]\n",
    "        x += N * y\n",
    "        \n",
    "    return x"
   ]
  },
  {
   "cell_type": "markdown",
   "id": "c2a3a578",
   "metadata": {},
   "source": [
    "Вычислим количество арифметических операций в алгоритме Гарнера, считая $k$ — количество уравнений.\n",
    "\n",
    "1. При вычислении $b_{1} \\: mod \\: n_{1} $ совершается 1 операция.\n",
    "2. На каждой итерации цикла будем иметь $3$ умножения, $1$ возведение в степень, $3$ сложения и $1$ деление с остатком, то есть $3 + 1 + 3 + 1 = 8$ операций. Поскольку цикл действует $k-1$ раз, суммарное количество операций в цикле будет: $8(k-1) = 8k-8$.\n",
    "\n",
    "Получим, что общее количество операций в алгоритме Гарнера будет равняться:\n",
    "$$\n",
    "f(n,b) = 1 + 8k - 8 = 8k - 7.\n",
    "$$\n",
    "\n",
    "Для временной сложности справедлива оценка:\n",
    "$$\n",
    "  T(N):=\\max\\limits_{\\left<n_{i},b_{i}\\right>\\leq N} f(n,b) \\leq \\max\\limits_{\\left<n_{i},b_{i}\\right>\\leq N} 8k - 7 = 8N - 7.\n",
    "$$\n",
    "\n",
    "Длина чисел, участвующих в вычислениях алгоритма, ограничена числом $N$, кроме того, для $x$ выполнено условие:\n",
    "$$\n",
    "0\\leq x<n_1\\dots n_k,\n",
    "$$\n",
    "поэтому *алгоритм Гарнера является полиномиальным алгоритмом*."
   ]
  },
  {
   "cell_type": "code",
   "execution_count": 10,
   "id": "7a6a421d",
   "metadata": {},
   "outputs": [
    {
     "name": "stdout",
     "output_type": "stream",
     "text": [
      "--- 0.3808417320251465 seconds ---\n",
      "--- 0.2814817428588867 seconds ---\n"
     ]
    }
   ],
   "source": [
    "import time\n",
    "\n",
    "ni = [99, 97, 95]\n",
    "bi = [49, 76, 65]\n",
    "\n",
    "start_time = time.time()\n",
    "for _ in range(100_000):\n",
    "    gauss_algorithm(ni,bi)\n",
    "print(\"--- %s seconds ---\" % (time.time() - start_time))\n",
    "\n",
    "start_time = time.time()\n",
    "for _ in range(100_000):\n",
    "    garner_algorithm(ni,bi)\n",
    "print(\"--- %s seconds ---\" % (time.time() - start_time))"
   ]
  },
  {
   "cell_type": "markdown",
   "id": "171aff5c",
   "metadata": {},
   "source": [
    "Из вышеприведенного можно заключить, что скорость вычисления алгоритма Гарнера выше, чем алгоритма Гаусса."
   ]
  },
  {
   "cell_type": "markdown",
   "id": "a8e574b4",
   "metadata": {
    "slideshow": {
     "slide_type": "slide"
    }
   },
   "source": [
    "# 3. Квадратичный вычет\n",
    "Пусть задано натуральное нечетное число $n,$  $a\\in\\mathbb{Z}_n^*.$ Вычет $a$ называется <font color=blue>квадратичным вычетом</font> по\n",
    "    модулю $n,$ если уравнение\n",
    "$$\n",
    "      x^2\\equiv a\\mod n\\qquad(3)\n",
    "$$\n",
    "имеет решение. В противном случае $a$ называется <font color=blue>квадратичным невычетом</font> по модулю $n.$ Множество всех вычетов обозначим через $Q_n.$ Множество квадратичных невычетов -- через $\\overline{Q}_n.$ Заметим, что $0\\not\\in Q_n$ и $0\\not\\in\\overline{ Q}_n$"
   ]
  },
  {
   "cell_type": "markdown",
   "id": "5190af0a",
   "metadata": {
    "slideshow": {
     "slide_type": "subslide"
    }
   },
   "source": [
    " ## Количество корней\n",
    "**Теорема.**  \n",
    "Пусть $p$ нечетное простое, $\\;a\\in\\mathbb{Z}_p^*.$ \n",
    "\n",
    "Тогда уравнение (3) имеет либо два корня, либо ни одного.  \n",
    "\n",
    "**Доказательство.**  \n",
    "Пусть $x_0$ -- корень уравнения $(3)$ $\\qquad\\Rightarrow\\qquad$ $a\\equiv x_0^2\\mod p.$ \n",
    "   $$\n",
    "   (3)\\qquad\\Leftrightarrow\\qquad (x-x_0)(x+x_0)\\equiv 0\\mod p,\n",
    "  $$\n",
    "  так как$\\;\\mathbb{Z}_p\\;$ поле, то \n",
    "  $$\n",
    "   (3)\\qquad\\Leftrightarrow\\qquad     x\\equiv \\pm x_0\\mod p.\n",
    "  $$\n",
    "Если предположить, что \n",
    "$$\\;x_0\\equiv-x_0\\mod p,\\;\n",
    "$$\n",
    "то получаем\n",
    "  $$\n",
    "  2x_0\\equiv0\\mod p\\qquad\\Rightarrow\\qquad  x_0\\equiv0\\mod p\\qquad\\Rightarrow\\qquad a\\equiv0\\mod p.\n",
    "  $$ \n",
    "Противоречие, поэтому уравнение (3) не может иметь 1 корень. "
   ]
  },
  {
   "cell_type": "markdown",
   "id": "6cf8cdc4",
   "metadata": {
    "slideshow": {
     "slide_type": "subslide"
    }
   },
   "source": [
    "## Количество квадратичных вычетов\n",
    "**Теорема.**  \n",
    "Пусть $p$ нечетное простое, $\\;a\\in\\mathbb{Z}_p^*.$ \n",
    "\n",
    "Тогда  число $p$ имеет $\\frac{p-1}{2}$ квадратичных вычетов и столько же квадратичных невычетов.  \n",
    "**Доказательство.**  \n",
    "Каждый вычет $x_0\\in\\mathbb{Z}_p^*$ является решением только одного уравнения (3) при $a=x_0^2,$ \n",
    " \n",
    " Группа $\\mathbb{Z}_p^*$ содержит $p-1$ элемент, \n",
    " \n",
    " поэтому для $\\;\\frac{p-1}2\\;$ вычетов $\\;a\\in\\mathbb{Z}_p^*\\;$ найдутся 2 решения $\\;\\pm x_0\\in\\mathbb{Z}_p^*\\;$ уравнения (3) и вычеты $\\;a\\;$ будут квадратичными вычетами, а для остальных классов вычетов корней не найдется и они будут квадратичными невычетами."
   ]
  },
  {
   "cell_type": "markdown",
   "id": "8b6c2234",
   "metadata": {
    "slideshow": {
     "slide_type": "subslide"
    }
   },
   "source": [
    "## Критерий квадратичного вычета\n",
    "**Теорема.**  \n",
    "Пусть $p$ нечетное простое, $\\;a\\in\\mathbb{Z}_p^*.$ \n",
    "\n",
    "Тогда  $a$ является квадратичным вычетом тогда и только тогда, когда $$a^{(p-1)/2}\\equiv1\\mod p.$$  \n",
    "\n",
    "**Доказательство.**  \n",
    "Пусть $a$ квадратичный вычет и $x_0$ корень (3):\n",
    "$$\n",
    "  x_0^2\\equiv a\\mod p\\qquad\\Rightarrow\\qquad   x_0^{p-1}\\equiv a^{\\frac{p-1}2}\\mod p.\n",
    "$$\n",
    "по малой теореме Ферма получаем, что \n",
    "$$\n",
    "  x_0^{p-1}\\equiv 1\\mod p\\qquad\\Rightarrow\\qquad\n",
    " a^{\\frac{p-1}2}\\equiv1\\mod p.$$\n",
    " \n",
    "  Каждый квадратичный вычет является корнем уравнения\n",
    "  $\n",
    "    \\;\\;x^{\\frac{p-1}2}\\equiv1\\mod p.\n",
    "  $\n",
    "  \n",
    "  Всего квадратичных вычетов $\\;(p-1)/2.\\;$  И так как многочлен степени $\\;(p-1)/2\\;$ не может иметь более $\\;(p-1)/2\\;$ корней в $\\;\\mathbb{Z}_p,\\;$ то\n",
    " \n",
    "$$ \n",
    "  a \\quad \\text{ -- кв. вычет} \\quad \\Leftrightarrow \\quad a^{\\frac{p-1}2}\\equiv1\\mod p.\n",
    "$$"
   ]
  },
  {
   "cell_type": "markdown",
   "id": "6925a090",
   "metadata": {
    "slideshow": {
     "slide_type": "-"
    }
   },
   "source": [
    "## <font color='red'>Задание 2.</font>\n",
    "\n",
    "Доказать, что множество квадратичных вычетов по модулю $p$ образует мультипликативную группу."
   ]
  },
  {
   "cell_type": "markdown",
   "id": "ebb53b3d",
   "metadata": {},
   "source": [
    "**Доказательство.**\n",
    "\n",
    "Аксиомы группы:\n",
    "1. $\\forall (a,b,c \\in G): a*(b*c) = (a*b)*c$.\n",
    "2. $\\exists e \\in G \\;\\; \\forall a \\in G: (a*e = e*a = a)$\n",
    "3. $\\forall a \\in G \\;\\; \\exists a^{-1} \\in G: (a*a^{-1} = a^{-1}*a = e)$"
   ]
  },
  {
   "cell_type": "code",
   "execution_count": 11,
   "id": "9ff939cc",
   "metadata": {},
   "outputs": [
    {
     "name": "stdout",
     "output_type": "stream",
     "text": [
      "[1, 3, 4, 9, 10, 12]\n"
     ]
    }
   ],
   "source": [
    "p = 13\n",
    "elements_group = list()\n",
    "\n",
    "for i in range(14):\n",
    "    if pow(i,(p - 1)//2,p) == 1:\n",
    "        elements_group.append(i)\n",
    "        \n",
    "print(elements_group)"
   ]
  },
  {
   "cell_type": "markdown",
   "id": "94662c06",
   "metadata": {},
   "source": [
    "Для элементов из предполагаемой группы проверим аксиомы группы."
   ]
  },
  {
   "cell_type": "code",
   "execution_count": 12,
   "id": "17225574",
   "metadata": {},
   "outputs": [],
   "source": [
    "a = 3\n",
    "b = 4\n",
    "c = 10\n",
    "e = 1"
   ]
  },
  {
   "cell_type": "code",
   "execution_count": 13,
   "id": "9bf346af",
   "metadata": {},
   "outputs": [
    {
     "data": {
      "text/plain": [
       "True"
      ]
     },
     "execution_count": 13,
     "metadata": {},
     "output_type": "execute_result"
    }
   ],
   "source": [
    "a * (b * c) == (a * b) * c "
   ]
  },
  {
   "cell_type": "code",
   "execution_count": 14,
   "id": "e4cc4121",
   "metadata": {},
   "outputs": [
    {
     "data": {
      "text/plain": [
       "True"
      ]
     },
     "execution_count": 14,
     "metadata": {},
     "output_type": "execute_result"
    }
   ],
   "source": [
    "s = 0\n",
    "for elem in elements_group:\n",
    "    if e * elem == elem * e == elem:\n",
    "        s += 1\n",
    "        \n",
    "s == len(elements_group)"
   ]
  },
  {
   "cell_type": "code",
   "execution_count": 15,
   "id": "97967ecf",
   "metadata": {},
   "outputs": [
    {
     "data": {
      "text/plain": [
       "True"
      ]
     },
     "execution_count": 15,
     "metadata": {},
     "output_type": "execute_result"
    }
   ],
   "source": [
    "s = 0\n",
    "for elem in elements_group:\n",
    "    for elem_reverse in elements_group:\n",
    "        if (elem * elem_reverse) % p == (elem_reverse * elem) % p == e:\n",
    "            s += 1\n",
    "        \n",
    "s == len(elements_group)"
   ]
  },
  {
   "cell_type": "markdown",
   "id": "5080c3fb",
   "metadata": {},
   "source": [
    "Так как аксиомы группы выполняются, то множество квадратичных вычетов по модулю $p$ образует мультипликативную группу."
   ]
  },
  {
   "cell_type": "markdown",
   "id": "f1065e3b",
   "metadata": {
    "slideshow": {
     "slide_type": "subslide"
    }
   },
   "source": [
    "## Символ Лежандра\n",
    "<font color=blue>Символом Лежандра</font> $\\left(\\frac ap\\right),$ где $\\;p\\;$ --- нечетное простое, $\\;a\\in\\mathbb{Z},\\;$ называется функция\n",
    "$$\n",
    "      \\left(\\frac ap\\right):=\n",
    "      \\left\\{\\begin{array}{rll}\n",
    "        -1, && \\text{если } a \\text{ квадратичный невычет } p;\\\\\n",
    "        0,  && \\text{если } p\\mid a; \\\\\n",
    "        1,  && \\text{если } a \\text{ квадратичный вычет  } p.\\\\\n",
    "      \\end{array}\n",
    "      \\right.\n",
    "    $$\n",
    "    \n",
    "Согласно предыдущей теореме символ Лежандра можно вычислять по формуле\n",
    "$$\n",
    "    \\left(\\frac ap\\right):=a^{\\frac{p-1}2}\\mod p.\n",
    "$$"
   ]
  },
  {
   "cell_type": "markdown",
   "id": "313caacd",
   "metadata": {
    "slideshow": {
     "slide_type": "skip"
    }
   },
   "source": [
    "Функция `legendre_symbol(a, p)` из модуля `sympy.ntheory.residue_ntheory` имеет следующий вид"
   ]
  },
  {
   "cell_type": "code",
   "execution_count": 16,
   "id": "5460b82a",
   "metadata": {
    "slideshow": {
     "slide_type": "skip"
    }
   },
   "outputs": [
    {
     "data": {
      "text/plain": [
       "-1"
      ]
     },
     "execution_count": 16,
     "metadata": {},
     "output_type": "execute_result"
    }
   ],
   "source": [
    "from sympy.core.compatibility import as_int\n",
    "from sympy.ntheory import isprime\n",
    "\n",
    "def legendre_symbol(a, p):\n",
    "    r\"\"\"\n",
    "    Returns the Legendre symbol `(a / p)`.\n",
    "\n",
    "    For an integer ``a`` and an odd prime ``p``, the Legendre symbol is\n",
    "    defined as\n",
    "\n",
    "    .. math ::\n",
    "        \\genfrac(){}{}{a}{p} = \\begin{cases}\n",
    "             0 & \\text{if } p \\text{ divides } a\\\\\n",
    "             1 & \\text{if } a \\text{ is a quadratic residue modulo } p\\\\\n",
    "            -1 & \\text{if } a \\text{ is a quadratic nonresidue modulo } p\n",
    "        \\end{cases}\n",
    "\n",
    "    Parameters\n",
    "    ==========\n",
    "\n",
    "    a : integer\n",
    "    p : odd prime\n",
    "\n",
    "    Examples\n",
    "    ========\n",
    "\n",
    "    >>> from sympy.ntheory import legendre_symbol\n",
    "    >>> [legendre_symbol(i, 7) for i in range(7)]\n",
    "    [0, 1, 1, -1, 1, -1, -1]\n",
    "    >>> sorted(set([i**2 % 7 for i in range(7)]))\n",
    "    [0, 1, 2, 4]\n",
    "\n",
    "    See Also\n",
    "    ========\n",
    "\n",
    "    is_quad_residue, jacobi_symbol\n",
    "\n",
    "    \"\"\"\n",
    "    a, p = as_int(a), as_int(p)\n",
    "    if not isprime(p) or p == 2:\n",
    "        raise ValueError(\"p should be an odd prime\")\n",
    "    a = a % p\n",
    "    if not a:\n",
    "        return 0\n",
    "    if pow(a, (p - 1) // 2, p) == 1:\n",
    "        return 1\n",
    "    return -1 \n",
    "\n",
    "legendre_symbol(2, 11)"
   ]
  },
  {
   "cell_type": "markdown",
   "id": "59c1fef0",
   "metadata": {
    "slideshow": {
     "slide_type": "subslide"
    }
   },
   "source": [
    "## Свойства символа Лежандра\n",
    "Из формулы $\\quad\\left(\\frac ap\\right)=a^{\\frac{p-1}2}\\mod p\\quad  $\n",
    "следуют свойства:\n",
    "\n",
    "\n",
    "  $1.$ $\\left(\\frac{ab}p\\right)=\\left(\\frac ap\\right)\\left(\\frac bp\\right).$\n",
    " \n",
    "  $2.$ Если $\\;a\\equiv b\\mod p,\\;$ то $\\;\\left(\\frac ap\\right)=\\left(\\frac bp\\right).$\n",
    "  \n",
    "  \n",
    "  $3.$ Если $\\;p\\equiv 3 \\mod 4,\\;$ то $\\;\\left(\\frac{-1}p\\right)=-1.$\n",
    "\n",
    "\n",
    " $4. \\left(\\frac{2}{p}\\right)=(-1)^\\frac{p^2-1}{8},$ то есть\n",
    "$$\n",
    "  \\left(\\frac{2}{p}\\right)=\\left\\{\\begin{array}{lll}\n",
    "    1, & \\text{при} & p\\equiv\\pm1\\mod 8;\\\\\n",
    "        -1, & \\text{при} & p\\equiv\\pm3\\mod 8.\n",
    "    \\end{array}\n",
    "    \\right.\n",
    "$$  \n"
   ]
  },
  {
   "cell_type": "markdown",
   "id": "475c1074",
   "metadata": {
    "slideshow": {
     "slide_type": "subslide"
    }
   },
   "source": [
    "## Квадратичный закон взаимности Гаусса\n",
    "Пусть $\\;p,q\\;$ -- нечетные простые числа. Тогда если $\\;p\\equiv1\\mod 4\\;$ или $\\;q\\equiv1\\mod 4,\\;$  то уравнения\n",
    "$$\n",
    "    \\begin{array}{lllll}\n",
    "    x^2 & \\equiv & p & & \\mod q,\\\\\n",
    "    x^2 & \\equiv & q & & \\mod p,\\\\\n",
    "  \\end{array}\n",
    "$$\n",
    "разрешимы (и неразрешимы) одновременно.\n",
    " \n",
    "Если же   $\\;p\\equiv q\\equiv3\\mod 4,\\;$ то из уравнений\n",
    "  $$\n",
    "    \\begin{array}{lllll}\n",
    "    x^2 & \\equiv & p & & \\mod q,\\\\\n",
    "    x^2 & \\equiv & q & & \\mod p,\\\\\n",
    "  \\end{array}\n",
    " $$\n",
    " разрешимо лишь одно."
   ]
  },
  {
   "cell_type": "markdown",
   "id": "abbe3510",
   "metadata": {
    "slideshow": {
     "slide_type": "subslide"
    }
   },
   "source": [
    "В терминах символа Лежандра данный закон выглядит следующим образом:\n",
    "$$\n",
    "  \\left(\\frac{p}{q}\\right)   \\left(\\frac{q}{p}\\right) =(-1)^{\\frac{p-1}{2}\\times \\frac{q-1}{2}}.\n",
    "$$\n",
    "\n",
    "Так как   \n",
    "$$  \\left(\\frac{p}{q}\\right)  \\left(\\frac{p}{q}\\right)=1,$$\n",
    " то\n",
    "$$\n",
    "  \\left(\\frac{q}{p}\\right) =(-1)^{\\frac{p-1}{2}\\times \\frac{q-1}{2}}\n",
    "  \\left(\\frac{p}{q}\\right).\n",
    "$$\n"
   ]
  },
  {
   "cell_type": "markdown",
   "id": "bb4ab487",
   "metadata": {
    "slideshow": {
     "slide_type": "subslide"
    }
   },
   "source": [
    "## Символ Якоби\n",
    "Пусть $n$ -- нечетное, большее единицы число, разложение на простые множители которого имеет вид \n",
    "$$\n",
    "n=p_1p_2\\dots p_k,\n",
    "$$ \n",
    "где среди простых чисел $\\;p_i\\;$ могут быть одинаковые. \n",
    "\n",
    "<font color=blue>Символом Якоби</font>  произвольного целого числа $\\;a\\;$ называется число\n",
    "  $$\n",
    "    \\left(\\frac an\\right):=\\left(\\frac a{p_1}\\right)\\left(\\frac\n",
    "    a{p_2}\\right)\\dots\\left(\\frac a{p_k}\\right),\n",
    "  $$\n",
    "  где $\\left(\\frac a{p_i}\\right)$ --- символ Лежандра. \n",
    "  \n",
    "   Будем считать, что \n",
    "  $\n",
    "    \\left(\\frac a1\\right):=1.\n",
    "  $"
   ]
  },
  {
   "cell_type": "markdown",
   "id": "531fc9bb",
   "metadata": {
    "slideshow": {
     "slide_type": "subslide"
    }
   },
   "source": [
    "## Свойства символа Якоби\n",
    "$1.$ $\\left(\\frac an\\right)=0$ $\\qquad\\Leftrightarrow\\qquad$ $\\gcd(a,n)>1.$\n",
    "\n",
    "\n",
    " $2.$ $\\left(\\frac{ab}n\\right)=\\left(\\frac an\\right)\\left(\\frac bn\\right).$\n",
    " \n",
    " $3.$ $\\left(\\frac{a}{mn}\\right)=\\left(\\frac {a}{m}\\right)\\left(\\frac an\\right).$ \n",
    " \n",
    " \n",
    "  $4.$ Если $\\;a\\equiv b\\mod n,\\;$ то $\\;\\left(\\frac an\\right)=\\left(\\frac bn\\right).$\n",
    "\n",
    "\n",
    "$5.$ $\\left(\\frac{1}{n}\\right)=1.$\n",
    "\n",
    "\n",
    "$6.$ $\\left(\\frac{-1}{n}\\right)=(-1)^\\frac{n-1}{2}.$\n",
    "\n",
    "$7.$ Если $\\;\\left(\\frac{a}{n}\\right)=-1,\\;$ то уравнение $\\;x^2\\equiv a\\mod n\\;$ не имеет решений. Но обратное не верно."
   ]
  },
  {
   "cell_type": "markdown",
   "id": "b299f48e",
   "metadata": {
    "slideshow": {
     "slide_type": "subslide"
    }
   },
   "source": [
    "$8.$ $ \\left(\\frac{2}{n}\\right)=(-1)^\\frac{n^2-1}{8},$ то есть\n",
    "$$\n",
    "  \\left(\\frac{2}{n}\\right)=\\left\\{\\begin{array}{lll}\n",
    "    1, & \\text{при} & n\\equiv\\pm1\\mod 8;\\\\\n",
    "        -1, & \\text{при} & n\\equiv\\pm3\\mod 8.\n",
    "    \\end{array}\n",
    "    \\right.\n",
    "$$ \n",
    "\n",
    "\n",
    "$9.$  Если  $a,n\\in\\mathbb{N}$ -- нечетные, тогда\n",
    "$$\n",
    "  \\left(\\frac{a}{n}\\right) =(-1)^{\\frac{a-1}{2}\\times \\frac{n-1}{2}}\n",
    "  \\left(\\frac{n}{a}\\right).\n",
    "$$\n",
    "\n",
    "$10.$ Если $a=2^s t,$ $t,n\\in\\mathbb{N}$ -- нечетные,  то\n",
    "$$\n",
    "  \\left(\\frac{a}{n}\\right)=  \\left(\\frac{2^s}{n}\\right)  \\left(\\frac{t}{n}\\right) =(-1)^{\\frac{t-1}{2}\\times \\frac{n-1}{2}}\n",
    "  \\left(\\frac{n\\mod t}{t}\\right)\\left(\\frac{2^s}{n}\\right).\n",
    "$$"
   ]
  },
  {
   "cell_type": "markdown",
   "id": "7e4cfa90",
   "metadata": {
    "slideshow": {
     "slide_type": "subslide"
    }
   },
   "source": [
    "## Алгоритм вычисления символа Якоби\n",
    "Input: $\\;a\\;$ -- целое, $\\;n\\;$ - нечетное натуральное.\n",
    "\n",
    "Output: $\\left(\\frac{a}{n}\\right)$ -- символ Якоби.\n",
    "\n",
    "\n",
    "1. Инициализация $J:=1.$\n",
    "\n",
    "2. Если $\\;n=1,\\;$ то выдаем результат: $J,$ конец алгоритма.\n",
    "\n",
    "3. Если $\\;a<0,\\;$ то $\\;a:=-a,$ $J=(-1)^{\\frac{n-1}{2}}J.$\n",
    "\n",
    "4. Если $\\;n=1,\\;$ то выдаем результат: $\\;J,\\;$ конец алгоритма.\n",
    "\n",
    "5. Если $\\;a=0,\\;$ выдаем результат: 0, конец алгоритма.\n",
    "\n",
    "6. Методом  пробных делений представляем число $\\;a\\;$ в виде $\\;  a=2^{s}t,\\;$\n",
    "где $\\;t$ -- нечетное.\n",
    "\n",
    "7. Если $\\;s\\;$ -- нечетное и  $\\;n\\equiv\\pm 3\\mod 8,\\;$ то $\\;J:=-J.$\n",
    "\n",
    "8. Если $\\;n\\equiv 3\\mod 4\\;$ и $\\;t\\equiv 3\\mod 4,\\;$ то $\\;J:=-J.$\n",
    "\n",
    "9. Вычисляем $\\;a:=n\\mod t,$ $\\quad n:=t,\\;$ переходим к шагу 4.    "
   ]
  },
  {
   "cell_type": "markdown",
   "id": "ba943cd9",
   "metadata": {
    "slideshow": {
     "slide_type": "subslide"
    }
   },
   "source": [
    "## Сложность алгоритма\n",
    "В связи с тем, что на 8 шаге числа $\\;a, n\\;$ уменьшаются, алгоритм закончит работу. \n",
    "\n",
    "Оценим количество операций. \n",
    "\n",
    "Пусть $k$ -- количество итераций в цикле алгоритма, $\\;k\\;$ не больше, чем в алгоритме Евклида  \n",
    "$$\n",
    "  k<2M,\\qquad M:=\\max\\{\\left<a\\right>, \\left<n\\right>\\}.\n",
    "$$  \n",
    "\n",
    "\n",
    "\n",
    "Итого алгоритм выполняет не более\n",
    "$$\n",
    "  f(a,n)<1+ k\\left(\\left<a\\right>+5\\right)\n",
    "$$\n",
    "арифметических операций.  Поэтому\n",
    "$$\n",
    "T(N)=\\max\\limits_{\\left<a\\right>+\\left<n\\right>\\leq N}f(a,n)=O(N^2).\n",
    "$$"
   ]
  },
  {
   "cell_type": "markdown",
   "id": "4df09d48",
   "metadata": {
    "slideshow": {
     "slide_type": "skip"
    }
   },
   "source": [
    "## <font color='red'>Задание 3*.</font>\n",
    "Доказать, что количество итераций в цикле алгоритма вычисления символа Якоби не больше, чем количество итераций в цикле алгоритма Евклида. Первому решившему +1 балл к экзаменационной оценке.\n"
   ]
  },
  {
   "cell_type": "code",
   "execution_count": 17,
   "id": "64874fb3",
   "metadata": {
    "slideshow": {
     "slide_type": "skip"
    }
   },
   "outputs": [
    {
     "data": {
      "text/plain": [
       "1"
      ]
     },
     "execution_count": 17,
     "metadata": {},
     "output_type": "execute_result"
    }
   ],
   "source": [
    "# для представленя числа в виде произведения (2^s)*t\n",
    "def st(n):\n",
    "    s = 0\n",
    "    t = n\n",
    "    while t % 2 == 0:\n",
    "        s += 1\n",
    "        t = t // 2\n",
    "    return s, t\n",
    "\n",
    "def Jacobi(a,n):\n",
    "    if n < 0 or not n % 2:\n",
    "        raise ValueError(\"n should be an odd positive integer\") \n",
    "    j = 1\n",
    "    if n == 1:\n",
    "        return j\n",
    "    if a<0:\n",
    "        a = -a\n",
    "        if n%4 == 3:\n",
    "            j = -j\n",
    "    while n>1:\n",
    "        if a == 0:\n",
    "            return 0\n",
    "        s,t = st(a)\n",
    "        if (s%2 == 1) & (n%8 in [3, 5]):\n",
    "            j = -j\n",
    "        if 3 == n%4 == t%4:\n",
    "            j = -j\n",
    "        a = n%t\n",
    "        n = t\n",
    "    return j\n",
    "Jacobi(2,15)"
   ]
  },
  {
   "cell_type": "markdown",
   "id": "7c6a9581",
   "metadata": {
    "slideshow": {
     "slide_type": "skip"
    }
   },
   "source": [
    "Функция `jacobi_symbol(a, p)` из модуля `sympy.ntheory.residue_ntheory` имеет следующий вид"
   ]
  },
  {
   "cell_type": "code",
   "execution_count": 18,
   "id": "7a898662",
   "metadata": {
    "slideshow": {
     "slide_type": "skip"
    }
   },
   "outputs": [],
   "source": [
    "from sympy.core.compatibility import as_int\n",
    "from sympy.core.numbers import igcd\n",
    "\n",
    "def jacobi_symbol(m, n):\n",
    "    r\"\"\"\n",
    "    Returns the Jacobi symbol `(m / n)`.\n",
    "\n",
    "    For any integer ``m`` and any positive odd integer ``n`` the Jacobi symbol\n",
    "    is defined as the product of the Legendre symbols corresponding to the\n",
    "    prime factors of ``n``:\n",
    "\n",
    "    .. math ::\n",
    "        \\genfrac(){}{}{m}{n} =\n",
    "            \\genfrac(){}{}{m}{p^{1}}^{\\alpha_1}\n",
    "            \\genfrac(){}{}{m}{p^{2}}^{\\alpha_2}\n",
    "            ...\n",
    "            \\genfrac(){}{}{m}{p^{k}}^{\\alpha_k}\n",
    "            \\text{ where } n =\n",
    "                p_1^{\\alpha_1}\n",
    "                p_2^{\\alpha_2}\n",
    "                ...\n",
    "                p_k^{\\alpha_k}\n",
    "\n",
    "    Like the Legendre symbol, if the Jacobi symbol `\\genfrac(){}{}{m}{n} = -1`\n",
    "    then ``m`` is a quadratic nonresidue modulo ``n``.\n",
    "\n",
    "    But, unlike the Legendre symbol, if the Jacobi symbol\n",
    "    `\\genfrac(){}{}{m}{n} = 1` then ``m`` may or may not be a quadratic residue\n",
    "    modulo ``n``.\n",
    "\n",
    "    Parameters\n",
    "    ==========\n",
    "\n",
    "    m : integer\n",
    "    n : odd positive integer\n",
    "\n",
    "    Examples\n",
    "    ========\n",
    "\n",
    "    >>> from sympy.ntheory import jacobi_symbol, legendre_symbol\n",
    "    >>> from sympy import S\n",
    "    >>> jacobi_symbol(45, 77)\n",
    "    -1\n",
    "    >>> jacobi_symbol(60, 121)\n",
    "    1\n",
    "\n",
    "    The relationship between the ``jacobi_symbol`` and ``legendre_symbol`` can\n",
    "    be demonstrated as follows:\n",
    "\n",
    "    >>> L = legendre_symbol\n",
    "    >>> S(45).factors()\n",
    "    {3: 2, 5: 1}\n",
    "    >>> jacobi_symbol(7, 45) == L(7, 3)**2 * L(7, 5)**1\n",
    "    True\n",
    "\n",
    "    See Also\n",
    "    ========\n",
    "\n",
    "    is_quad_residue, legendre_symbol\n",
    "    \"\"\"\n",
    "    m, n = as_int(m), as_int(n)\n",
    "    if n < 0 or not n % 2:\n",
    "        raise ValueError(\"n should be an odd positive integer\")\n",
    "    if m < 0 or m > n:\n",
    "        m %= n\n",
    "    if not m:\n",
    "        return int(n == 1)\n",
    "    if n == 1 or m == 1:\n",
    "        return 1\n",
    "    if igcd(m, n) != 1:\n",
    "        return 0\n",
    "\n",
    "    j = 1\n",
    "    if m < 0:\n",
    "        m = -m\n",
    "        if n % 4 == 3:\n",
    "            j = -j\n",
    "    while m != 0:\n",
    "        while m % 2 == 0 and m > 0:\n",
    "            m >>= 1\n",
    "            if n % 8 in [3, 5]:\n",
    "                j = -j\n",
    "        m, n = n, m\n",
    "        if m % 4 == n % 4 == 3:\n",
    "            j = -j\n",
    "        m %= n\n",
    "    if n != 1:\n",
    "        j = 0\n",
    "    return j"
   ]
  },
  {
   "cell_type": "markdown",
   "id": "8435c250",
   "metadata": {
    "slideshow": {
     "slide_type": "subslide"
    }
   },
   "source": [
    "## Сравнение скорости функций `legendre_symbol(a,p)` и `jacobi_symbol(a, p)` "
   ]
  },
  {
   "cell_type": "code",
   "execution_count": 19,
   "id": "f2acd89b",
   "metadata": {
    "slideshow": {
     "slide_type": "-"
    }
   },
   "outputs": [
    {
     "name": "stdout",
     "output_type": "stream",
     "text": [
      "legendre_symbol:--- 2.0656850337982178 seconds ---\n",
      "jacobi_symbol:--- 0.06470799446105957 seconds ---\n"
     ]
    }
   ],
   "source": [
    "import random\n",
    "import time\n",
    "from sympy import randprime \n",
    "s = 7\n",
    "b = 1000\n",
    "p = randprime(1<<b-1, 1<<b)\n",
    "a = random.randint(-p,p)\n",
    "\n",
    "start_time = time.time()\n",
    "for _ in range(2**s):\n",
    "    legendre_symbol(a,p)\n",
    "print(\"legendre_symbol:--- %s seconds ---\" % (time.time() - start_time))\n",
    "start_time = time.time()\n",
    "for _ in range(2**s):\n",
    "    jacobi_symbol(a, p) \n",
    "print(\"jacobi_symbol:--- %s seconds ---\" % (time.time() - start_time))"
   ]
  },
  {
   "cell_type": "markdown",
   "id": "f37c3171",
   "metadata": {
    "slideshow": {
     "slide_type": "skip"
    }
   },
   "source": [
    "## <font color='red'>Задание 4.</font>\n",
    "\n",
    "Изучить код функции `jacobi_symbol(a, n)`. Какие 4 строки в нём лишние?"
   ]
  },
  {
   "cell_type": "code",
   "execution_count": null,
   "id": "2bd7b1cf",
   "metadata": {},
   "outputs": [],
   "source": [
    "if m < 0:\n",
    "    m = -m\n",
    "    if n % 4 == 3:\n",
    "        j = -j"
   ]
  },
  {
   "cell_type": "markdown",
   "id": "e84f5e57",
   "metadata": {},
   "source": [
    "Вышепреведенные строки являются лишними, поскольку до них в коде была проверка на отрицательность $m$."
   ]
  },
  {
   "cell_type": "markdown",
   "id": "f7eb709b",
   "metadata": {
    "slideshow": {
     "slide_type": "skip"
    }
   },
   "source": [
    "## <font color='red'>Задание 5.</font>\n",
    "\n",
    "Если подбирать числа $a,$ $n$ специальным образом, то функция `jacobi_symbol(a,n)` работает значительно медленнее. Какие строки кода функции `jacobi_symbol(a,n)` на это влияют?"
   ]
  },
  {
   "cell_type": "code",
   "execution_count": 20,
   "id": "0a3c823b",
   "metadata": {
    "slideshow": {
     "slide_type": "skip"
    }
   },
   "outputs": [
    {
     "name": "stdout",
     "output_type": "stream",
     "text": [
      "jacobi_symbol:--- 4.146282911300659 seconds ---\n",
      "Jacobi:--- 2.2418746948242188 seconds ---\n"
     ]
    }
   ],
   "source": [
    "import random\n",
    "import time\n",
    "s = 5\n",
    "sa = s\n",
    "b = 10000\n",
    "start_time = time.time()\n",
    "for _ in range(10**s):\n",
    "    a = random.randint(-2**sa, 0)\n",
    "    n = (random.randrange(1 << b - 1, 1 << b) << 1) + 1\n",
    "    jacobi_symbol(a,n)\n",
    "print(\"jacobi_symbol:--- %s seconds ---\" % (time.time() - start_time))\n",
    "start_time = time.time()\n",
    "for _ in range(10**s):\n",
    "    a = random.randint(-2**sa, 0)\n",
    "    n = (random.randrange(1 << b - 1, 1 << b) << 1) + 1\n",
    "    Jacobi(a,n) \n",
    "print(\"Jacobi:--- %s seconds ---\" % (time.time() - start_time))"
   ]
  },
  {
   "cell_type": "markdown",
   "id": "f5a92801",
   "metadata": {},
   "source": [
    "Существенная разница в теле функций наблюдается только в том обстоятельстве, что"
   ]
  },
  {
   "cell_type": "code",
   "execution_count": null,
   "id": "14e286cc",
   "metadata": {},
   "outputs": [],
   "source": [
    "if n % 8 in [3, 5]:\n",
    "    j = -j"
   ]
  },
  {
   "cell_type": "markdown",
   "id": "51c84b2f",
   "metadata": {},
   "source": [
    "совершается в теле цикла.\n",
    "\n",
    "Однако, числа $a,n$ подбираются специальным образом, поэтому стоит на них посмотреть, чтобы определить дополнительные замечания."
   ]
  },
  {
   "cell_type": "code",
   "execution_count": 21,
   "id": "47991b5d",
   "metadata": {},
   "outputs": [
    {
     "name": "stdout",
     "output_type": "stream",
     "text": [
      "-1\n",
      "32176100316168617327396922042068688339886001969053838787169395216857343011419497091022514924600881876330334023464158913520115921570649727607654231794390054857545923325129998651885648224856808558623501433339366215580311353879262546158066425660865758717888275102771268656922708501147291091413155487280005968583394333089927221259169232253520735012399020575082029963720980014575044626170605608894056047916816283774180724746846829049252753674175160018527567221835306787350635112959876896350860504751986927070833773992706308863526418293988320129553777091802228323096143643751893371003506157670434557358026396279125637361920152733357745078658224916866759310680794038181342167737048173340149866354383654371878682640969756483612517906984888309177890838650490281951623169615485630413242167839430468117031335721309405746585012657087978387572998243618408581363319785390102494351616047871056482905278434681710741258989265796402200947309025888146014163604842292598571796382608388424008771927980862018427247916044181448394659519826810453708834566884290276987802910098538690144828829062659606540200843546643029610173503014183206801241006946327003785072333282969750760566405079656866843711438700171998343060650579486343361804619423871150481845737026299479543997905580465983915478586100464487321121929144141433761604523974096628306266094934906386344545257274466801235619859737664296139374715153312241045920818049417305018521179561411943263817074256182953741646321015019077643340534691216365712211908323723073823480158435434311353651695937611526438033070392288202646610819725778982093307102387126211874162645581694950359107454296689468696096834854831218040161397535521513060583839457757611693603438372852572378489754727841225898870111804250304863382438648917272125471359105822131049943851772731568511577580785201574336674763615483521128362411183834475580011923888474431570818950247152325934317094021353409222595065136026382229512231348961279996839419973091981864238431050566594752261361935076836225026145641965190203201149213257595425658434255946197005255774262773480691493888118322358557770975497182363631140252501089400832072297335440877977533545425679434731650391203584659918253213890283585692606405122477551301218587352082485146600984566910745540405288298536900218462621478794912352065285471059129064426667953929821727793645767987437530530977548205267330967701475957145583838761803146761549183828378576812761886124871560597316924958692433974303378960819138467952644177051315349102108107186557228487306516904332159171078659450634137629219828405898439097991350337820353449650177610494506943758396509231350136158324501651962503112238818478380502502619686192552504493300354614252589583234252774073960270117332077774570968423289234875007924773574036043683866975363400980988264622060555373089672652358425360886195970825942597580673294679795053779013139212228320081611215704586000962291386731352959143333322401836430069461063110789710209608336079835433927292418603743922466997331577295647292254847066278125305304453637706591258825757\n"
     ]
    }
   ],
   "source": [
    "a = random.randint(-2**5, 0)\n",
    "n = (random.randrange(1 << b - 1, 1 << b) << 1) + 1\n",
    "print(a,n, sep = '\\n')"
   ]
  },
  {
   "cell_type": "markdown",
   "id": "aa8096fb",
   "metadata": {},
   "source": [
    "Видим, что число $a$ является отрицательным, а число $n$ очень большим. Посмотрим на те места в функциях, где это может вызывать особенную задержку. Так, например, в функции `jacobi_symbol(a,n)`:"
   ]
  },
  {
   "cell_type": "code",
   "execution_count": null,
   "id": "a306ab80",
   "metadata": {},
   "outputs": [],
   "source": [
    "if m < 0 or m > n:\n",
    "    m %= n\n",
    "if igcd(m, n) != 1:\n",
    "    return 0"
   ]
  },
  {
   "cell_type": "markdown",
   "id": "814fa816",
   "metadata": {},
   "source": [
    "При вычислении остатка от деления"
   ]
  },
  {
   "cell_type": "code",
   "execution_count": 22,
   "id": "e1ac1771",
   "metadata": {},
   "outputs": [
    {
     "data": {
      "text/plain": [
       "32176100316168617327396922042068688339886001969053838787169395216857343011419497091022514924600881876330334023464158913520115921570649727607654231794390054857545923325129998651885648224856808558623501433339366215580311353879262546158066425660865758717888275102771268656922708501147291091413155487280005968583394333089927221259169232253520735012399020575082029963720980014575044626170605608894056047916816283774180724746846829049252753674175160018527567221835306787350635112959876896350860504751986927070833773992706308863526418293988320129553777091802228323096143643751893371003506157670434557358026396279125637361920152733357745078658224916866759310680794038181342167737048173340149866354383654371878682640969756483612517906984888309177890838650490281951623169615485630413242167839430468117031335721309405746585012657087978387572998243618408581363319785390102494351616047871056482905278434681710741258989265796402200947309025888146014163604842292598571796382608388424008771927980862018427247916044181448394659519826810453708834566884290276987802910098538690144828829062659606540200843546643029610173503014183206801241006946327003785072333282969750760566405079656866843711438700171998343060650579486343361804619423871150481845737026299479543997905580465983915478586100464487321121929144141433761604523974096628306266094934906386344545257274466801235619859737664296139374715153312241045920818049417305018521179561411943263817074256182953741646321015019077643340534691216365712211908323723073823480158435434311353651695937611526438033070392288202646610819725778982093307102387126211874162645581694950359107454296689468696096834854831218040161397535521513060583839457757611693603438372852572378489754727841225898870111804250304863382438648917272125471359105822131049943851772731568511577580785201574336674763615483521128362411183834475580011923888474431570818950247152325934317094021353409222595065136026382229512231348961279996839419973091981864238431050566594752261361935076836225026145641965190203201149213257595425658434255946197005255774262773480691493888118322358557770975497182363631140252501089400832072297335440877977533545425679434731650391203584659918253213890283585692606405122477551301218587352082485146600984566910745540405288298536900218462621478794912352065285471059129064426667953929821727793645767987437530530977548205267330967701475957145583838761803146761549183828378576812761886124871560597316924958692433974303378960819138467952644177051315349102108107186557228487306516904332159171078659450634137629219828405898439097991350337820353449650177610494506943758396509231350136158324501651962503112238818478380502502619686192552504493300354614252589583234252774073960270117332077774570968423289234875007924773574036043683866975363400980988264622060555373089672652358425360886195970825942597580673294679795053779013139212228320081611215704586000962291386731352959143333322401836430069461063110789710209608336079835433927292418603743922466997331577295647292254847066278125305304453637706591258825756"
      ]
     },
     "execution_count": 22,
     "metadata": {},
     "output_type": "execute_result"
    }
   ],
   "source": [
    "a % n"
   ]
  },
  {
   "cell_type": "markdown",
   "id": "681163ca",
   "metadata": {},
   "source": [
    "получается очень большое число, котрое потом в цикле будет делиться на 2, что существенно замедлит цикл.\n",
    "\n",
    "Резюмируя, получим, что задержи функции `jacobi_symbol(a,n)` вызваны тем, что во втором цикле `while` делится на 2 большое число и есть один оператор  `if`."
   ]
  },
  {
   "cell_type": "markdown",
   "id": "2a0528b3",
   "metadata": {
    "slideshow": {
     "slide_type": "skip"
    }
   },
   "source": [
    "## <font color='red'>Задание 6.</font>\n",
    "\n",
    "Сравнить скорость работы функций `legendre_symbol(a,n)` и `jacobi_symbol(a,n)`. Как скорость связана с алгоритмом быстрого возведения в степень и алгоритмом Евклида? Сравнить временную сложность алгоритмов быстрого возведения в степень и Евклида. Можно ли символ Лежандра вычислять при помощи символа Якоби?"
   ]
  },
  {
   "cell_type": "code",
   "execution_count": 23,
   "id": "467825cf",
   "metadata": {
    "slideshow": {
     "slide_type": "-"
    }
   },
   "outputs": [
    {
     "name": "stdout",
     "output_type": "stream",
     "text": [
      "5798055532900007030047576076634641519064454819011826237806366670468827985683937397636647767703101708974259244305756232466415825724649068823193184118575043546510446735451512747105515777786465580163994651150517393845909370488867578420975810661778263983723421987093437672639267913324952697798109370160209\n",
      "\n",
      "-2652412713780420751429998246220605399590514827840943817404533738077736465773242945478219710641272334385203806469529319572383540210965349232992987826059601363864672159126919702964263536779498930014727638438048372198150692230187579132819655842546641736758872768650828910374151963710078490157591711367847\n"
     ]
    }
   ],
   "source": [
    "import random\n",
    "import time\n",
    "from sympy import randprime \n",
    "s = 7\n",
    "b = 1000\n",
    "p = randprime(1<<b-1, 1<<b)\n",
    "a = random.randint(-p,p)\n",
    "print(p,a,sep='\\n\\n')"
   ]
  },
  {
   "cell_type": "code",
   "execution_count": 24,
   "id": "2eecc5bd",
   "metadata": {
    "slideshow": {
     "slide_type": "-"
    }
   },
   "outputs": [
    {
     "name": "stdout",
     "output_type": "stream",
     "text": [
      "legendre_symbol:--- 2.4437451362609863 seconds ---\n",
      "jacobi_symbol:--- 0.07415318489074707 seconds ---\n"
     ]
    }
   ],
   "source": [
    "start_time = time.time()\n",
    "for _ in range(2**s):\n",
    "    legendre_symbol(a,p)\n",
    "print(\"legendre_symbol:--- %s seconds ---\" % (time.time() - start_time))\n",
    "start_time = time.time()\n",
    "for _ in range(2**s):\n",
    "    jacobi_symbol(a, p) \n",
    "print(\"jacobi_symbol:--- %s seconds ---\" % (time.time() - start_time))"
   ]
  },
  {
   "cell_type": "markdown",
   "id": "9dfa6c1a",
   "metadata": {},
   "source": [
    "Поскольку в функциях `legendre_symbol(a,n)` и `jacobi_symbol(a,n)` используется и возведение в степень при помощи встроенной функции `pow`, и алгоритм Евклида (без помощи встроенной функции) соответственно, то скорость вычисления связана с этими алгоритмами непосредственно. \n",
    "\n",
    "Для алгоритма быстрого возведения в степень справедливо: \n",
    "$$\n",
    "f(a,d,m)=4k.\n",
    "$$\n",
    "\n",
    "$$\n",
    "T(N) := \\underset{\\langle a,d,m \\rangle \\leq N}{max} \\: f(a,d,m) = \\underset{\\langle a,d,m \\rangle \\leq N}{max} \\: 4k = \\underset{\\langle a,d,m \\rangle \\leq N}{max} \\: 4(\\langle d \\rangle-1) \\leq 4(N-1) = O(N).\n",
    "$$\n",
    "\n",
    "Временная сложность алгоритма Евклида была установлена ранее:\n",
    "$$\n",
    "  T(N):=\\max\\limits_{\\left<a,b\\right>\\leq N} f(a,b)< \\frac{N}{\\log_2G}+1 = O(N).\n",
    "$$\n",
    "\n",
    "Видим, что временные сложности этих алгоритмов являются функциями одного порядка (эквивалентны), так как $O(N) \\sim O(N)$."
   ]
  },
  {
   "cell_type": "markdown",
   "id": "4c583f58",
   "metadata": {},
   "source": [
    "Да, сивол Лежандра можно вычислить при помощи символа Якоби."
   ]
  },
  {
   "cell_type": "markdown",
   "id": "c2a2eecd",
   "metadata": {
    "slideshow": {
     "slide_type": "slide"
    }
   },
   "source": [
    "# 4. Вычисление корня в случае простого модуля\n",
    "Вернемся к уравнению (3)\n",
    "$$\n",
    "  x^2\\equiv a\\mod p.\n",
    "$$\n",
    "\n",
    "**Случай $\\bf p\\equiv 3 \\mod 4$**\n",
    "\n",
    " При $$p\\equiv 3 \\mod 4,$$ уравнение (3)\n",
    "    имеет корни $$\\pm a^{(p+1)/4}.$$ \n",
    "Действительно,\n",
    "    $$\n",
    "      \\left(\\pm a^{(p+1)/4}\\right)^2\\equiv  a^{(p+1)/2}\\equiv a\n",
    "      a^{(p-1)/2}\\equiv a \\mod p.\n",
    "    $$"
   ]
  },
  {
   "cell_type": "markdown",
   "id": "f15b122a",
   "metadata": {
    "slideshow": {
     "slide_type": "subslide"
    }
   },
   "source": [
    "##    Теорема\n",
    "\n",
    "Пусть $p$ нечетное простое, $\\;p-1=2^s t,\\;$ $\\;t\\;$ --- нечетное, $\\;n\\;$ --- квадратичный невычет числа $p,$ \n",
    "$$\n",
    "  b:=n^t\\mod p.\n",
    "$$ \n",
    "    \n",
    "Тогда \n",
    "    \n",
    "    \n",
    "1. $b$ имеет порядок $2^s$ в мультипликативной группе $\\mathbb{Z}_p^*.$\n",
    "    \n",
    "2. Решением уравнения \n",
    "    $$\n",
    "      x^{2^s}\\equiv1\\mod p\n",
    "    $$\n",
    "    являются элементы подгруппы\n",
    "    $$\n",
    "      <b>:=\\{b,b^2,b^3,\\dots,b^{2^s}=1\\}.\n",
    "    $$   "
   ]
  },
  {
   "cell_type": "markdown",
   "id": "6efa65b1",
   "metadata": {
    "slideshow": {
     "slide_type": "subslide"
    }
   },
   "source": [
    "## Доказательство утверждения 1\n",
    "Элемент $b$ порождает циклическую подгруппу \n",
    "$$\n",
    "  <b>:=\\{b,b^2,\\dots,b^{m}=1\\},\n",
    "$$\n",
    "здесь $b^i\\neq 1$ при $i<m.$ \n",
    "\n",
    "Так как \n",
    "$$\n",
    "  b^{2^s}\\equiv n^{p-1}\\equiv 1\\mod p,\n",
    "$$\n",
    "то $m$ делит $2^s.$ Поэтому $m=2^{s_0},$ $0\\leq s_0\\leq s.$\n",
    "\n",
    "Если предположить, что $s_0<s,$ то \n",
    "$$\n",
    "  -1\\equiv n^\\frac{p-1}2\\equiv b^{2^{s-1}}= (b^{2^{s_0}})^{2^{s-s_0-1}}\\equiv 1^{2^{s-s_0-1}}\\equiv 1 \\mod p.\n",
    "$$\n",
    "Противоречие, поэтому порядок  $b$ равен $2^s.$\n"
   ]
  },
  {
   "cell_type": "markdown",
   "id": "0a98cc8b",
   "metadata": {
    "slideshow": {
     "slide_type": "subslide"
    }
   },
   "source": [
    "## Доказательство утверждения 2\n",
    "Непосредственной подстановкой в уравнение \n",
    "     $$\n",
    "      x^{2^s}\\equiv1\\mod p\n",
    "    $$\n",
    "убеждаемся, что все элементы циклической группы \n",
    "$$\n",
    "  <b>:=\\{b,b^2,\\dots,b^{2^s}=1\\}\n",
    "$$\n",
    "являются корнями \n",
    "$$\n",
    "  (b^i)^{2^s}\\equiv(b^{2^s})^i\\equiv 1^i\\equiv 1\\mod p.\n",
    "$$\n",
    "Всего корней у данного уравнения не более $2^s,$ поэтому все они имеют вид\n",
    "$$\n",
    "  b^d,\\qquad 0\\leq d < 2^s.\n",
    "$$   "
   ]
  },
  {
   "cell_type": "markdown",
   "id": "3766ea22",
   "metadata": {
    "slideshow": {
     "slide_type": "subslide"
    }
   },
   "source": [
    "## Алгоритм Тонелли-Шенкса. Обзор.\n",
    "\n",
    "- На данный момент существуют лишь вероятностные полиномиальные алгоритмы вычисления квадратного корня в случае простого модуля. \n",
    "    \n",
    "- Рассмотрим алгоритм Тонелли-Шенкса, который является вероятностным, так как в нем методом перебора находится невычет по модулю $p.$ \n",
    "    \n",
    "- Каждое второе число является невычетом, поэтому на практике данного алгоритма вполне достаточно, чтобы быстро вычислить квадратный корень по простому модулю.\n"
   ]
  },
  {
   "cell_type": "markdown",
   "id": "6f59607f",
   "metadata": {
    "slideshow": {
     "slide_type": "subslide"
    }
   },
   "source": [
    "## Алгоритм Тонелли-Шенкса. Обоснование.\n",
    "Пусть $\\;p-1=2^st,\\;$ $\\;t\\;$ -- нечетное.\n",
    "\n",
    " Справедливо равенство\n",
    "$\n",
    " \\; \\left(a^{\\frac{t+1}2}\\right)^2= a a^t,\\;$ откуда\n",
    "$$\n",
    "  a=\\left(a^{\\frac{t+1}2}\\right)^2a^{-t}.\n",
    "$$\n",
    "Задача свелась к нахождению $\\sqrt{a^{-t}}.$\n",
    "\n",
    "Так как \n",
    "$$\\left(a^{-t}\\right)^{2^s}\\equiv(a^{p-1})^{-1}\\equiv1\\mod p,\n",
    "$$\n",
    "то $a^{-t}\\in <b>.$ \n",
    "$$\n",
    "a^{-t}\\in <b>\\qquad\\Rightarrow\\qquad\\exists d \\; (a^{-t}\\equiv b^d\\mod p),\n",
    "$$\n",
    "где\n",
    "    $$\n",
    "      d=d_0+d_12+\\dots+d_{s-1}2^{s-1},\\qquad d_i\\in\\{0,\\,1\\}.\n",
    "    $$\n",
    "Найдем $d_i.$ \n"
   ]
  },
  {
   "cell_type": "markdown",
   "id": "3dafa2b8",
   "metadata": {
    "slideshow": {
     "slide_type": "subslide"
    }
   },
   "source": [
    "## Доказательство того, что $d_0=0$\n",
    "Множество квадратичных вычетов по модулю $p$ образует мультипликативную группу, поэтому $\\;a^{-t}\\;$ -- квадратичный вычет.\n",
    "\n",
    "Из доказанной ранее теоремы \n",
    "$$n - квадратичный\\; невычет \\quad\\Leftrightarrow\\quad n^{(p-1)/2}\\equiv-1\\mod p,\\;\n",
    "$$\n",
    "поэтому   \n",
    "$n^{2i}$ -- квадратичный вычет,   \n",
    "$n^{2i+1}$ -- квадратичный невычет. \n",
    "\n",
    "Так как $\\;a^{-t}\\equiv b^d\\mod p,\\;$ то $\\;b^d\\;$ квадратичный вычет и $\\;d\\;$ -- четное, то есть $\\;d_0=0.$"
   ]
  },
  {
   "cell_type": "markdown",
   "id": "fc7c4a5b",
   "metadata": {
    "slideshow": {
     "slide_type": "subslide"
    }
   },
   "source": [
    "## Вычисление $d_i$\n",
    "Для $\\;i:=1,\\dots,s-1,\\;$ последовательно находим $\\;d_i.$\n",
    "\n",
    " Пусть $\\;d_1,\\dots,d_{i-1}\\;$ уже найдены, найдем $\\;d_i.$\n",
    "\n",
    "$$\n",
    "a^{-t}\\equiv b^d\\mod p\\qquad\\Rightarrow\\qquad  a^t b^d\\equiv 1 \\mod p.\n",
    "$$  \n",
    "\n",
    "С одной стороны\n",
    "$\n",
    "\\left(a^t b^d\\right)^{2^{s-1-i}}\\equiv 1\\mod p,\n",
    "$ \n",
    "\n",
    "С другой стороны   \n",
    "$$\n",
    "1\\equiv\\left(a^t b^d\\right)^{2^{s-1-i}}\\equiv\n",
    "\\left(a^t b^{d_12+\\dots+d_i2^i}\\right)^{2^{s-1-i}}\\equiv\\left(a^t b^{d_12+\\dots+d_{i-1}2^{i-1}}\\right)^{2^{s-1-i}}b^{d_i2^{s-1}} \\mod p.\n",
    "$$ \n",
    "Поэтому, если\n",
    "$$\n",
    "\\left(a^t b^{d_12+\\dots+d_{i-1}2^{i-1}}\\right)^{2^{s-1-i}}\\equiv1 \\mod p,\n",
    "$$\n",
    "то $\\;d_i=0,\\;$ иначе $\\;d_i=1.$\n",
    "\n",
    "После того как все $\\;d_i\\;$ будут найдены, получим\n",
    "$$\n",
    "  \\sqrt{a^{-t}}\\equiv b^{d/2}\\mod p.\n",
    "$$"
   ]
  },
  {
   "cell_type": "markdown",
   "id": "c96c3d0c",
   "metadata": {
    "slideshow": {
     "slide_type": "subslide"
    }
   },
   "source": [
    "## Алгоритм Тонелли-Шенкса\n",
    "Input: $p$  -- простое, $\\quad a$ -- квадратичный вычет по модулю $p.$\n",
    "  \n",
    "Output: $x$ -- корень уравнения $x^2\\equiv a\\mod p.$\n",
    "\n",
    " 1$.$ Находим такие $\\;s,t\\in\\mathbb{N},\\;$ $\\;t\\;$ -- нечетное, что $\\;p-1=2^st.$\n",
    "  \n",
    "2$.$ Случайным образом выбираем невычет $\\;n\\;$  числа $\\;p\\;$  при помощи условия  $\\;Jacobi(n,p)=-1.$\n",
    "  \n",
    "3$.$ Вычисляем $\\;b:=n^t\\mod p,$ $\\qquad r:=a^\\frac{t+1}{2}\\mod p.$ \n",
    "  \n",
    "4$.$ Задаем начальные значения параметров \n",
    "  $$ \n",
    "    d:=0,\\qquad f:=a^t \\mod p,\\qquad \\tilde{b}:=b.\n",
    "  $$\n",
    "  \n",
    "5$.$ Для $\\;i:=1,\\dots,s-1,\\;$  выполняем шаги 5.1, 5.2:  \n",
    "  $\\qquad$ 5.1. Вычисляем $\\;\\tilde{b}:=\\tilde{b}^2\\mod p.$  \n",
    " $\\qquad$  5.2. Если $\\;f^{2^{s-1-i}}\\not\\equiv 1\\mod p,$ то   \n",
    "  $\\qquad$  $\\qquad$ $d:=d+2^i,$  \n",
    "  $\\qquad$  $\\qquad$  $f:=f \\tilde{b}\\mod p.$\n",
    "  \n",
    "6$.$ Выдаем результат  $\\;x:=r b^{d/2}\\mod p.$ "
   ]
  },
  {
   "cell_type": "code",
   "execution_count": 25,
   "id": "d0fbb2eb",
   "metadata": {
    "slideshow": {
     "slide_type": "subslide"
    }
   },
   "outputs": [
    {
     "name": "stdout",
     "output_type": "stream",
     "text": [
      "x =  5\n",
      "True\n"
     ]
    }
   ],
   "source": [
    "def Shanks(a, p):\n",
    "    if not Jacobi(a, p) == 1:\n",
    "        raise ValueError(\"a should be a quadratic residue\")\n",
    "    s,t = st(p-1)\n",
    "    import random\n",
    "    n = random.randint(2,p-2)\n",
    "    while Jacobi(n,p) == 1:\n",
    "        n = random.randint(2,p-2)\n",
    "    b = pow(n,t,p)\n",
    "    r = pow(a,(t+1)//2,p)\n",
    "    d = 0\n",
    "    f = pow(a,t,p)\n",
    "    b2 = b\n",
    "    for i in range(1,s):\n",
    "        b2 = b2*b2 % p\n",
    "        if not pow(f,2**(s-1-i),p) == 1:\n",
    "            d += 2**i\n",
    "            f = f*b2 % p \n",
    "    return r*pow(b,d//2,p) % p\n",
    "a = 3\n",
    "p = 11 \n",
    "x = Shanks(a, p)\n",
    "print('x = ',x)\n",
    "print(x**2 % p == a)"
   ]
  },
  {
   "cell_type": "markdown",
   "id": "dd4ad927",
   "metadata": {
    "slideshow": {
     "slide_type": "subslide"
    }
   },
   "source": [
    "## Алгоритм Лас-Вегас\n",
    "Алгоритм Лас-Вегас — вид вероятностного алгоритма.\n",
    "\n",
    "Если у нас есть некий вероятностный алгоритм $A,$ который с определенной вероятностью дает верный результат, и существует возможность алгоритмически проверить результат алгоритма $A$ на корректность (скажем, с помощью алгоритма $K$), то можно выполнять алгоритм $A$ до тех пор, пока проверка не установит, что результат верен.\n",
    "\n",
    "$$\n",
    "Выполнить\\; алгоритм\\;\\; A \\;\\;с\\; результатом\\;\\; r\\;\\; до\\; тех\\; пор,\\; пока\\;\\; K(r)\\;\\; не\\; будет\\; истиной.\n",
    "$$\n"
   ]
  },
  {
   "cell_type": "markdown",
   "id": "00017a7a",
   "metadata": {
    "slideshow": {
     "slide_type": "subslide"
    }
   },
   "source": [
    "Функция `_sqrt_mod_tonelli_shanks(a, p)` из модуля `sympy.ntheory.residue_ntheory` имеет следующий вид:"
   ]
  },
  {
   "cell_type": "code",
   "execution_count": 26,
   "id": "803c0d95",
   "metadata": {
    "slideshow": {
     "slide_type": "-"
    }
   },
   "outputs": [],
   "source": [
    "from sympy.ntheory.factor_ import trailing\n",
    "from random import randint\n",
    "def _sqrt_mod_tonelli_shanks(a, p):\n",
    "    \"\"\"\n",
    "    Returns the square root in the case of ``p`` prime with ``p == 1 (mod 8)``\n",
    "\n",
    "    References\n",
    "    ==========\n",
    "\n",
    "    .. [1] R. Crandall and C. Pomerance \"Prime Numbers\", 2nt Ed., page 101\n",
    "\n",
    "    \"\"\"\n",
    "    s = trailing(p - 1)  # определяет наибольшую степень 2, которая делит число p - 1\n",
    "    t = p >> s\n",
    "    # find a non-quadratic residue\n",
    "    while 1:\n",
    "        d = randint(2, p - 1)   #d=n\n",
    "        r = legendre_symbol(d, p)\n",
    "        if r == -1:\n",
    "            break\n",
    "    #assert legendre_symbol(d, p) == -1\n",
    "    A = pow(a, t, p)      \n",
    "    D = pow(d, t, p)     # D = b \n",
    "    m = 0                # m = d          \n",
    "    for i in range(s):\n",
    "        adm = A*pow(D, m, p) % p\n",
    "        adm = pow(adm, 2**(s - 1 - i), p)\n",
    "        if adm % p == p - 1:\n",
    "            m += 2**i\n",
    "    #assert A*pow(D, m, p) % p == 1\n",
    "    x = pow(a, (t + 1)//2, p)*pow(D, m//2, p) % p\n",
    "    return x "
   ]
  },
  {
   "cell_type": "code",
   "execution_count": 27,
   "id": "5369d13a",
   "metadata": {
    "slideshow": {
     "slide_type": "subslide"
    }
   },
   "outputs": [
    {
     "name": "stdout",
     "output_type": "stream",
     "text": [
      "Shanks:--- 1.2799718379974365 seconds ---\n",
      "_sqrt_mod_tonelli_shanks:--- 4.334371328353882 seconds ---\n"
     ]
    }
   ],
   "source": [
    "import random\n",
    "import time\n",
    "from sympy import randprime \n",
    "s = 2\n",
    "sa = 10\n",
    "b = 1000\n",
    "p = randprime(1<<b-1, 1<<b)\n",
    "while 1:\n",
    "    a = random.randint(-2**sa,2**sa)\n",
    "    if Jacobi(a,p) == 1:\n",
    "        break\n",
    "start_time = time.time()\n",
    "for _ in range(10**s):\n",
    "    Shanks(a,p)\n",
    "print(\"Shanks:--- %s seconds ---\" % (time.time() - start_time))\n",
    "start_time = time.time()\n",
    "for _ in range(10**s):\n",
    "    _sqrt_mod_tonelli_shanks(a, p) \n",
    "print(\"_sqrt_mod_tonelli_shanks:--- %s seconds ---\" % (time.time() - start_time))"
   ]
  },
  {
   "cell_type": "markdown",
   "id": "d0e3a706",
   "metadata": {
    "slideshow": {
     "slide_type": "skip"
    }
   },
   "source": [
    "## <font color='red'>Задание 7.</font>\n",
    "Оценить количество арифметических операций в функции `Shanks(a, p)` и `_sqrt_mod_tonelli_shanks(a, p)`. Почему функция `_sqrt_mod_tonelli_shanks(a, p)` работает медленнее (есть как минимум 2 причины)?"
   ]
  },
  {
   "cell_type": "markdown",
   "id": "2c10129c",
   "metadata": {},
   "source": [
    "Оценим количество арифметических операций в функции `Shanks(a, p)`:\n",
    "\n",
    "1. В первом операторе `if` работает функция `Jacobi`, которая выполняет не более $f(a,p)<1+ k\\left(\\left<a\\right>+5\\right)$ арифметических операций, где $a$ - квадратичный вычет по модулю $p$, $p$ - простое, $k$ - количество итераций в цикле алгоритма, $k$ не больше, чем в алгоритме Евклида $k<2M, M:=\\max\\{\\left<a\\right>, \\left<n\\right>\\}$.\n",
    "2. В функции `st(n)` может быть от $5$ до $3s + 2$ операций, где $s$ - число из соотношения $p-1=2^st$. Чтобы оценить количество арифметических операций в этой функции, используя введённые ранее переменные, выразим $s$ через $p$: $s = \\log_{2}{(\\frac{p - 1}{t})} = \\log_{2}{(p - 1)} - \\log_{2}{t} \\leq \\log_{2}{(p - 1)}$. Таким образом, количество операций в функции `st(n)` через переменную $p$ равно: $f(p) \\leq \\log_{2}{(p - 1)}$.\n",
    "3. $2$ операции разности (в random и при передаче фактического параметра в функцию `st`).\n",
    "4. Цикл `while` может как итерироваться несколько раз, так и не итерироваться вовсе. В результате многочисленных проверок мной было обнаружено, что среднее количество итераций в цикле равняется $1$. Для оценки возьмём число $10$.\n",
    "5. Будем считать, что количество операций во встронной функции `pow` совпадает с количеством операций в функции быстрого возведения в степень, реализованной в 1-й лабораторной работе: $f(n) \\leq 4(\\langle n \\rangle-1)$. Так как в коде присутствует 3 возведения, то общее количество арифметических операций на данно участке будет: $8(\\langle a \\rangle-1) + 4(\\langle n \\rangle-1)$. Для оценки возьмём максимально возможное количество операций. С учётом того, что $M:=\\max\\{\\left<a\\right>, \\left<n\\right>\\}$, имеем: $12(M - 1)$\n",
    "6. В цикле `for` может быть от $0$ до $7 + 4(\\langle f \\rangle-1) + 2$ (возведения в степень) арифметических операций за одну итерацию. Всего $s + 1$ итерация, следовательно, общее количество операций ограничено числом: $(s + 1)(7 + 12(M - 1)) \\leq (\\log_{2}{(p - 1)} + 1)(7 + 12(M - 1))$.\n",
    "7. $2 + 12(M - 1)$ in return.\n",
    "\n",
    "Таким образом, общее количество арифметических операций в функции `Shanks(a, p)` равно: \n",
    "$$\n",
    "f(M,p) = 1+ k\\left(\\left<a\\right>+5\\right) + \\log_{2}{(p - 1)} + 2 + 10 + 12(M - 1) + (\\log_{2}{(p - 1)} + 1)(7 + 12(M - 1)) + 2 + 12(M - 1) =\n",
    "$$\n",
    "$$\n",
    "= 1 + 2M(M + 5) + \\log_{2}{(p - 1)} + 2 + 10 + 12(M - 1) + (\\log_{2}{(p - 1)} + 1)(7 + 12(M - 1)) + 2 + 12(M - 1) = \n",
    "$$\n",
    "$$\n",
    "= 2M^{2} + 2M(23 + 6\\log_{2}{(p - 1)}) - 2(2\\log_{2}{(p - 1)} + 7).\n",
    "$$\n",
    "\n",
    "Оценим количество арифметических операций в функции `_sqrt_mod_tonelli_shanks(a, p)`:\n",
    "\n",
    "1. Функция `trailing(p - 1)` аналогична функции `st(p - 1)`, поэтому можем считать, что количество арифметических операций, которые они выполняют, одинаковы и равны: $f(p) \\leq \\log_{2}{(p - 1)}$.\n",
    "2. Количество итераций в `while` и вычисление символа Лежандра.\n",
    "3. Будем считать, что количество операций во встронной функции `pow` совпадает с количеством операций в функции быстрого возведения в степень, реализованной в 1-й лабораторной работе: $f(n) \\leq 4(\\langle n \\rangle-1)$. На этом этапе присутствует 2 возведения в степень, поэтому количество операций будет: $4(\\langle a \\rangle-1) + 4(\\langle d \\rangle-1)$.\n",
    "4. В цикле `for` может быть от $0$ до $9 + 4(\\langle D \\rangle-1) + 4(\\langle adm \\rangle-1)$. \n",
    "$$\n",
    "D = d^{t} \\; mod \\; p,\n",
    "$$\n",
    "$$\n",
    "adm = ((a^{t} \\; mod \\; p)(D^{m} \\; mod \\; p) \\; mod \\; p)^{2^{s - 1 - i}} \\; mod \\; p.\n",
    "$$\n",
    "Таким образом, количество можем оценить так: $9 + 8(\\langle p \\rangle-1)$.\n",
    "5. $5 + 2$ возведения в степень, то есть $5 + 4(\\langle a \\rangle-1) + 4(\\langle d \\rangle-1)$.\n",
    "\n",
    "Посчитаем общее количество арифметических операций в функции `_sqrt_mod_tonelli_shanks(a, p)`:\n",
    "$$\n",
    "f(p) = \\log_{2}{(p - 1)} + 4(\\langle a \\rangle-1) + 4(\\langle d \\rangle-1) + 9 + 8(\\langle p \\rangle-1) + 5 + 4(\\langle a \\rangle-1) + 4(\\langle d \\rangle-1) =\n",
    "$$\n",
    "$$\n",
    "= \\log_{2}{(p - 1)} + 4(\\langle p \\rangle-1) + 4(\\langle p \\rangle-1) + 9 + 8(\\langle p \\rangle-1) + 5 + 4(\\langle p \\rangle-1) + 4(\\langle p \\rangle-1) \\leq\n",
    "$$\n",
    "$$\n",
    "\\leq \\log_{2}{(p - 1)} + 4(p - 1) + 4(p - 1) + 9 + 8(p - 1) + 5 + 4(p - 1) + 4(p - 1) \\leq \n",
    "$$\n",
    "$$\n",
    "\\leq \\log_{2}{(p - 1)} + 24p - 10.\n",
    "$$"
   ]
  },
  {
   "cell_type": "markdown",
   "id": "772d3dab",
   "metadata": {},
   "source": [
    "Как было показано выше, вычисление символа Лежандра менее эффективно по сравнению с символом Якоби. Это одна из причин. Вторая причина заключается в том, что в цикле `for` итерации могут начинаться не с 0, а с 1."
   ]
  },
  {
   "cell_type": "markdown",
   "id": "e053cb7b",
   "metadata": {
    "slideshow": {
     "slide_type": "slide"
    }
   },
   "source": [
    "# 5. Случай составного модуля\n",
    "Пусть $\\;n=p_1p_2\\dots p_k,$ \n",
    "    \n",
    "$p_i$ --- простые нечетные числа, $p_i\\neq p_j,$\n",
    "    \n",
    "$a$ --- квадратичный вычет по модулю $n.$ \n",
    "     \n",
    "Тогда\n",
    " $$\n",
    "   x^2\\equiv a\\mod n\\qquad\\Leftrightarrow\\qquad\\left\\{\\begin{array}{ll}\n",
    "   x^2\\equiv a & \\mod p_1,\\\\\n",
    "   x^2\\equiv a & \\mod p_2,\\\\\n",
    "   \\dots\\\\\n",
    "   x^2\\equiv a & \\mod p_k.\n",
    "          \\end{array}      \\right.\n",
    "$$\n",
    " \n",
    " Из чего следует, что\n",
    " $$\n",
    "  a\\in Q_n\\qquad\\Leftrightarrow\\qquad a\\in Q_{p_1}, a\\in Q_{p_2},\\dots,a\\in Q_{p_k}.\n",
    "$$      \n"
   ]
  },
  {
   "cell_type": "markdown",
   "id": "731fe7f4",
   "metadata": {
    "slideshow": {
     "slide_type": "subslide"
    }
   },
   "source": [
    "## Решение уравнения (3) для составного модуля\n",
    "Уравнение (3) при\n",
    "$$\n",
    "  n=p_1p_2\\dots p_k,\\qquad p_i - простые, \\quad p_i\\neq p_j,\n",
    "$$\n",
    "решается следующим образом.\n",
    "\n",
    "1$.$ Находятся корни $\\;\\pm x_i\\;$ уравнения $\\;x^2\\equiv a\\mod p_i,\\;$\n",
    "    $\\quad i=1,2,\\dots,k.$\n",
    "\n",
    "\n",
    "2$.$ Решения уравнения (3) находятся при помощи Китайской теоремы об остатках из $2^k$ систем\n",
    "  $$\\left\\{\\begin{array}{l}\n",
    "      x\\equiv\\pm x_1\\mod p_1,\\\\\n",
    "      x\\equiv\\pm x_2\\mod p_2,\\\\\n",
    "      \\vdots\\\\\n",
    "           x\\equiv\\pm x_k\\mod p_k.\\end{array}\\right.\n",
    "  $$"
   ]
  },
  {
   "cell_type": "markdown",
   "id": "fa4eb850",
   "metadata": {
    "slideshow": {
     "slide_type": "skip"
    }
   },
   "source": [
    "## <font color='red'>Задание 8.</font>\n",
    "Известно, что $\\;n\\;$ является произведением двух простых чисел. Вычислить символы Якоби $\\left(\\frac{a_i}{n}\\right).\\;$ Указать, где это возможно, сколько корней имеет уравнение\n",
    "$$\n",
    "  x^2\\equiv a_i  \\mod  n.\n",
    "$$\n",
    "Найти хотя бы один из корней, где это просто сделать. "
   ]
  },
  {
   "cell_type": "markdown",
   "id": "216962d5",
   "metadata": {
    "slideshow": {
     "slide_type": "skip"
    }
   },
   "source": [
    "### Случай а)"
   ]
  },
  {
   "cell_type": "code",
   "execution_count": 28,
   "id": "92dca875",
   "metadata": {
    "slideshow": {
     "slide_type": "skip"
    }
   },
   "outputs": [],
   "source": [
    "n = 53755402068945102962038228439068083014423612837651481062655492870005726837352462542596810964784246516187679262846798334777472460357255452107191557394689286985858206235468310213909826725763492975323073413254952692443565097079047715391929675603704227610901278109948567712408336744822744461218997673857400939380399436761850216494399888378117921795723761231005830303164852571440902591351994940597371053290901762160275694286500824360830737233921122220874755403967356743147026929699282188113190848348865430711323328388887078882343214121186104662145382762105298211850907575710133092356677572068190619286564271\n",
    "a1 = 9\n",
    "a2 = 11\n",
    "a3 = 13"
   ]
  },
  {
   "cell_type": "code",
   "execution_count": 29,
   "id": "0c4272ae",
   "metadata": {},
   "outputs": [
    {
     "name": "stdout",
     "output_type": "stream",
     "text": [
      "1\t1\t-1\n"
     ]
    }
   ],
   "source": [
    "j1 = Jacobi(a1,n)\n",
    "j2 = Jacobi(a2,n)\n",
    "j3 = Jacobi(a3,n)\n",
    "\n",
    "print(j1,j2,j3,sep = '\\t')"
   ]
  },
  {
   "cell_type": "markdown",
   "id": "d6e79c39",
   "metadata": {},
   "source": [
    "Символ Якоби вычисляется через символ Лежандра, а последний определяет, является ли число квадратичным вычетом данного простого или нет. В случае, если символ Лежандра имеет значение, отличное от 1, число не будет являться квадратичным вычетом — и, следовательно, уравнение не будет разрешимо.\n",
    "\n",
    "Таким образом, всего может быть как 4, так и ни одного решения. \n",
    "\n",
    "Поскольку $1 = 1*1 = (-1)(-1)$, то уравнение для вычетов $а_{1}$ и $а_{2}$ будет или иметь 4 корня, или не иметь вовсе. Для вычета $а_{3}$ уравнение неразрешимо."
   ]
  },
  {
   "cell_type": "markdown",
   "id": "8e5dbea8",
   "metadata": {
    "slideshow": {
     "slide_type": "skip"
    }
   },
   "source": [
    "### Случай b)"
   ]
  },
  {
   "cell_type": "code",
   "execution_count": 2,
   "id": "a83e3831",
   "metadata": {
    "slideshow": {
     "slide_type": "skip"
    }
   },
   "outputs": [],
   "source": [
    "n = 84465165943537472644871233827821170521698982386777129038509406235539601394863117334243136244406775598178462906500679565575101566913566239033668209235147612034907335477169946376115426104178595157279646965760136496669065203633582348560712541165974736351205798637131996488608286578462768905693610957570394648844274389507842799818002460590659255413178340680139004481311757461901824341359084620140184161212224695726947329311796586747903199386421982058367230266245732183427118371695029245357790322420342384842799567398196322270636343388910284535949118645227372823982778040165350224033891107581853040384969113\n",
    "a1 = 11\n",
    "a2 = 13\n",
    "a3 = 22\n",
    "a4 = 85389779562588085920762793624136585261431288997902867649919257020785853242136102033669044931486264301908119853683326769420316417409910847399918173495884699322920353276810519062389339724092699096071191944117247413424398626064636258919783617266583464697953282614276202019540668125595286296308087099624082123539753533521149899918750661846227163701343155895585979052124697981257307962913057834421461965057483424657861433212872880193469780230599920739707539879353498641470546256942521605842617431904722472855505249768929693623327122569044140666024125506896431466014271818110978227484908688166584556002791533 "
   ]
  },
  {
   "cell_type": "code",
   "execution_count": 31,
   "id": "aae01c7a",
   "metadata": {},
   "outputs": [
    {
     "name": "stdout",
     "output_type": "stream",
     "text": [
      "1\t-1\t1\t0\n"
     ]
    }
   ],
   "source": [
    "j1 = Jacobi(a1,n)\n",
    "j2 = Jacobi(a2,n)\n",
    "j3 = Jacobi(a3,n)\n",
    "j4 = Jacobi(a4,n)\n",
    "\n",
    "print(j1,j2,j3,j4,sep = '\\t')"
   ]
  },
  {
   "cell_type": "markdown",
   "id": "60d216c3",
   "metadata": {},
   "source": [
    "Из вышеприведенной информации видно, что для вычета $а_{2}$ уравнение неразрешимо, вычеты $а_{1}$ и $а_{3}$ могут иметь или 4 корня, или не иметь вовсе, а вычет $а_{4}$ является числом, которое делится на один из простых делителей числа $n$."
   ]
  },
  {
   "cell_type": "code",
   "execution_count": 3,
   "id": "192ea4f9",
   "metadata": {},
   "outputs": [],
   "source": [
    "import math\n",
    "k = math.gcd(n,a4)"
   ]
  },
  {
   "cell_type": "markdown",
   "id": "80d867bb",
   "metadata": {},
   "source": [
    "**Примечание**: если взять в случае а) для $a_{1}$ квадратный корень, то получим решение $x = \\pm 3$. В случае б) после разложения числа на простые множители, находим корни с помощью алгоритма Тоннели-Шенкса."
   ]
  },
  {
   "cell_type": "code",
   "execution_count": 5,
   "id": "964a7306",
   "metadata": {},
   "outputs": [
    {
     "data": {
      "text/plain": [
       "True"
      ]
     },
     "execution_count": 5,
     "metadata": {},
     "output_type": "execute_result"
    }
   ],
   "source": [
    "k * (n // k) == n"
   ]
  }
 ],
 "metadata": {
  "celltoolbar": "Необработанный формат ячейки",
  "kernelspec": {
   "display_name": "Python 3 (ipykernel)",
   "language": "python",
   "name": "python3"
  },
  "language_info": {
   "codemirror_mode": {
    "name": "ipython",
    "version": 3
   },
   "file_extension": ".py",
   "mimetype": "text/x-python",
   "name": "python",
   "nbconvert_exporter": "python",
   "pygments_lexer": "ipython3",
   "version": "3.9.7"
  }
 },
 "nbformat": 4,
 "nbformat_minor": 5
}
