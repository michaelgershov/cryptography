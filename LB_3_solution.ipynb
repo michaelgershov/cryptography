{
 "cells": [
  {
   "cell_type": "markdown",
   "id": "bf95aabc",
   "metadata": {
    "slideshow": {
     "slide_type": "slide"
    }
   },
   "source": [
    "$$\n",
    "Белорусский\\;государственный\\; университет\n",
    "$$\n",
    "$$\n",
    "Механико-математический\\;факультет\n",
    "$$\n",
    "$$\n",
    "Кафедра\\;дифференциальных\\;уравнений\\; и\\; системного\\; анализа\n",
    "$$\n",
    "$ $\n",
    "\n",
    "$$\n",
    " \\Large\\bf Математические\\; основы\\; защиты\\; информации\n",
    "$$\n",
    "\n",
    "# Тема 3. Функции хеширования\n",
    "\n",
    "$ $\n",
    "\n",
    "доцент Чергинец Дмитрий Николаевич"
   ]
  },
  {
   "cell_type": "markdown",
   "id": "282ca1ce",
   "metadata": {
    "slideshow": {
     "slide_type": "slide"
    }
   },
   "source": [
    "# Функция хеширования\n",
    "<font color='blue'>Хеш-функцией (hash function)</font> называется отображение $h:\\mathcal{A^*}\\rightarrow\\mathcal B^n$ слов произвольной конечной длины над алфавитом $\\mathcal{A}$ в слова **фиксированной длины $\\bf n$** над алфавитом $\\mathcal{B}.$\n",
    "\n",
    "Как правило $\\mathcal{A}=\\mathcal{B}=\\{0,1\\}.$\n",
    "\n",
    "Значение функции $h(m)$ называется <font color='blue'>хешем</font>, <font color='blue'>хеш-кодом</font>, <font color='blue'>хеш-значением</font> или <font color='blue'>дайджестом</font> сообщения $m.$ \n",
    "\n",
    "\n",
    "Сообщения $m_1$ и $m_2$ называются <font color='blue'>коллизиями</font> (colliding), если\n",
    "они имеют одинаковые дайджесты $h(m_1)=h(m_2).$"
   ]
  },
  {
   "cell_type": "markdown",
   "id": "bc172f6f",
   "metadata": {
    "slideshow": {
     "slide_type": "subslide"
    }
   },
   "source": [
    "## Криптографические функции хеширования\n",
    "Хеш-функция $h:X\\rightarrow Y$ называется криптографической, если не существует полиномиальных алгоритмов решения следующих задач.\n",
    "\n",
    "**1. Восстановление прообраза**  \n",
    "По заданному $y\\in h(X)$ найти такой $x\\in X,$ что $$h(x)=y.$$\n",
    " \n",
    "**2. Нахождение второго прообраза**   \n",
    " Для данного $x_1\\in X$       найти такой $x_2\\in X,$ $x_2\\neq x_1,$ что  $$h(x_1)=h(x_2).$$\n",
    "\n",
    "**3. Нахождение коллизий**  \n",
    " Найти такие $x_1,x_2\\in X,$ что     $x_1\\neq x_2$ и $h(x_1)=h(x_2).$"
   ]
  },
  {
   "cell_type": "markdown",
   "id": "2001d356",
   "metadata": {
    "slideshow": {
     "slide_type": "subslide"
    }
   },
   "source": [
    "## Функция hash в python\n",
    "В python есть встроенная функция hash"
   ]
  },
  {
   "cell_type": "code",
   "execution_count": 1,
   "id": "f5158505",
   "metadata": {
    "slideshow": {
     "slide_type": "-"
    }
   },
   "outputs": [
    {
     "name": "stdout",
     "output_type": "stream",
     "text": [
      "-6955808404130074611\n",
      "245628843807239283\n"
     ]
    }
   ],
   "source": [
    "print(hash('a'))\n",
    "print(hash('KM'))"
   ]
  },
  {
   "cell_type": "code",
   "execution_count": 2,
   "id": "bab25d9f",
   "metadata": {
    "slideshow": {
     "slide_type": "-"
    }
   },
   "outputs": [
    {
     "name": "stdout",
     "output_type": "stream",
     "text": [
      "12\n",
      "-12\n"
     ]
    }
   ],
   "source": [
    "print(hash(12))\n",
    "print(hash(-12))"
   ]
  },
  {
   "cell_type": "code",
   "execution_count": 3,
   "id": "25654370",
   "metadata": {
    "slideshow": {
     "slide_type": "-"
    }
   },
   "outputs": [
    {
     "name": "stdout",
     "output_type": "stream",
     "text": [
      "hash( 2305843009213693950 ) = 2305843009213693950\n",
      "hash( 2305843009213693951 ) = 0\n"
     ]
    }
   ],
   "source": [
    "i = 2**61 - 2\n",
    "print('hash(',i,') =',hash(i))\n",
    "print('hash(',i + 1,') =',hash(i + 1))"
   ]
  },
  {
   "cell_type": "markdown",
   "id": "dc1b3e29",
   "metadata": {
    "slideshow": {
     "slide_type": "-"
    }
   },
   "source": [
    "## <font color='red'>Задание 1.</font>\n",
    "Найти три целых числа, которые являются коллизиями для функции `hash`.\n",
    "\n",
    "Для целых чисел у хеш-функции есть период равный $i = 2^{61} - 1$."
   ]
  },
  {
   "cell_type": "code",
   "execution_count": 4,
   "id": "9e9b8f8b",
   "metadata": {},
   "outputs": [
    {
     "data": {
      "text/plain": [
       "True"
      ]
     },
     "execution_count": 4,
     "metadata": {},
     "output_type": "execute_result"
    }
   ],
   "source": [
    "hash(0) == hash(i + 1) == hash(2*i + 2)"
   ]
  },
  {
   "cell_type": "markdown",
   "id": "6c671e20",
   "metadata": {
    "slideshow": {
     "slide_type": "subslide"
    }
   },
   "source": [
    "# Применение функций хеширования\n",
    "## Контроль целостности данных   \n",
    " Вместе с данными передается их хеш-значение\n",
    " $$\n",
    "   (message, Hash(message)).\n",
    " $$\n",
    " При получении данных вычисляется хеш, если вычисленный хеш совпадает с хешем, переданным с данными, то данные скорее всего переданы без ошибок.\n",
    "  \n",
    "   Например, такая проверка используется в торрентах. \n",
    "\n"
   ]
  },
  {
   "cell_type": "markdown",
   "id": "265c7dd3",
   "metadata": {
    "slideshow": {
     "slide_type": "subslide"
    }
   },
   "source": [
    "##  Имитовставка\n",
    "**MAC (message authentication code)**  \n",
    "<font color='blue'>Имитовставка</font> это специальный набор символов, который добавляется к сообщению и предназначен для обеспечения его целостности и аутентификации источника данных. \n",
    "\n",
    "Алгоритм вычисления имитовставки использует симметричную криптосистему. \n",
    "\n",
    "Криптостойкость имитовставки основана на использовании секретного ключа, известного только отправителю и получателю.\n",
    "\n",
    "**HMAC (hash-based message authentication code)**  \n",
    "HMAC - имитовставка, в которой вместо симметричной криптосистемы используется хеш-функция\n",
    "$$\n",
    "  (message, Hash(message\\;||\\;key))\n",
    "$$  \n",
    "\n",
    "\n",
    "Использование функции хеширования связано с тем, что она как правило работает быстрее симметричной криптосистемы.\n",
    "\n",
    "HMAC(key, msg, digestmod):\n",
    "\n",
    "- msg - message, пересылаемое сообщение;\n",
    "\n",
    "- key - секретный ключ, известный только отправителю и получателю сообщения;\n",
    "\n",
    "- digestmod - название функции хеширования. \n",
    " "
   ]
  },
  {
   "cell_type": "markdown",
   "id": "f0ef411b",
   "metadata": {
    "slideshow": {
     "slide_type": "subslide"
    }
   },
   "source": [
    "### Хранение данных\n",
    "\n",
    "Хеш-таблица - это структура данных, предназначенная для хранения   информации. \n",
    "    \n",
    "Перед тем как поместить информацию $m$ в хеш-таблицу,     вычисляется индекс $i:=h(m),$ являющийся значением   хеш-функции $h,$ и информация $m$ помещается в ячейку таблицы     с индексом $i$.\n",
    "    \n",
    "Для хеш-таблиц реализованы три операции:  \n",
    "- добавление, \n",
    "- поиск, \n",
    "- удаление данных.\n",
    "\n",
    "<font color='red'>В Python  ключами в словарях могут быть только хешируемые объекты.</font>"
   ]
  },
  {
   "cell_type": "code",
   "execution_count": 5,
   "id": "faae239b",
   "metadata": {
    "slideshow": {
     "slide_type": "-"
    }
   },
   "outputs": [
    {
     "ename": "TypeError",
     "evalue": "unhashable type: 'list'",
     "output_type": "error",
     "traceback": [
      "\u001b[1;31m---------------------------------------------------------------------------\u001b[0m",
      "\u001b[1;31mTypeError\u001b[0m                                 Traceback (most recent call last)",
      "\u001b[1;32m~\\AppData\\Local\\Temp/ipykernel_8024/1215157389.py\u001b[0m in \u001b[0;36m<module>\u001b[1;34m\u001b[0m\n\u001b[1;32m----> 1\u001b[1;33m \u001b[0mdic\u001b[0m \u001b[1;33m=\u001b[0m \u001b[1;33m{\u001b[0m\u001b[1;36m1\u001b[0m\u001b[1;33m:\u001b[0m\u001b[1;36m2\u001b[0m\u001b[1;33m,\u001b[0m \u001b[1;33m(\u001b[0m\u001b[1;36m1\u001b[0m\u001b[1;33m,\u001b[0m\u001b[1;36m2\u001b[0m\u001b[1;33m)\u001b[0m\u001b[1;33m:\u001b[0m\u001b[1;33m[\u001b[0m\u001b[1;36m2\u001b[0m\u001b[1;33m,\u001b[0m\u001b[1;36m3\u001b[0m\u001b[1;33m]\u001b[0m\u001b[1;33m,\u001b[0m \u001b[1;34m'sda'\u001b[0m\u001b[1;33m:\u001b[0m\u001b[1;36m12\u001b[0m\u001b[1;33m,\u001b[0m \u001b[1;33m[\u001b[0m\u001b[1;36m1\u001b[0m\u001b[1;33m]\u001b[0m\u001b[1;33m:\u001b[0m\u001b[1;36m1\u001b[0m\u001b[1;33m}\u001b[0m\u001b[1;33m\u001b[0m\u001b[1;33m\u001b[0m\u001b[0m\n\u001b[0m",
      "\u001b[1;31mTypeError\u001b[0m: unhashable type: 'list'"
     ]
    }
   ],
   "source": [
    "dic = {1:2, (1,2):[2,3], 'sda':12, [1]:1}"
   ]
  },
  {
   "cell_type": "markdown",
   "id": "8f74bbf0",
   "metadata": {
    "slideshow": {
     "slide_type": "subslide"
    }
   },
   "source": [
    "### Хранение паролей\n",
    " \n",
    "При регистрации пользователя на сервере вместо того чтобы хранить в базе данных сервера пароль, хранят хеш-значение пароля. В этом случае при попадании базы данных к злоумышленнику он не сможет пройти аутентификацию на сервере, так как не будет знать пароль, а будет знать лишь дайджест пароля.\n",
    "\n",
    "Но и на дайждест пароля есть атаки:  \n",
    "- Brute Force Attack;  \n",
    "- Dictionary Attack;  \n",
    "- Lookup Tables (The general idea is to pre-compute the hashes);  \n",
    "- Rainbow Tables (техника уменьшения размеров Lookup Tables).  \n",
    "\n",
    "Добавление соли:  \n",
    "1. Генерируем случайные биты  Salt;  \n",
    "2. Храним на сервере:      \n",
    "  ID или login;  \n",
    "  Hash(Password || Salt);  \n",
    "  Salt.  \n",
    "3. Использование KDF (про KDF написано на следующем слайде)."
   ]
  },
  {
   "cell_type": "markdown",
   "id": "27666105",
   "metadata": {
    "slideshow": {
     "slide_type": "subslide"
    }
   },
   "source": [
    "## Функция формирования ключа \n",
    "**KDF(key derivation function)**   \n",
    "Функция формирования ключа это функция, формирующая один или несколько секретных ключей на основе секретного значения (главный ключ, пароль или парольная фраза) с помощью псевдослучайной функции.\n",
    "\n",
    "Часто в качестве псевдослучайной функции для формирования ключа используются криптографические хеш-функции.\n",
    "\n",
    "**PBKDF2 (password-based key derivation function)**  \n",
    "PBKDF2 это стандарт формирования ключа на основе пароля.\n",
    "\n",
    "`pbkdf2_hmac(hash_name, password, salt, iterations, dklen=None)`:\n",
    " - `hash_name` - название функции хеширования;  \n",
    " - `password` - пароль;\n",
    " - `salt` - соль;\n",
    " - `iterations` - количество итераций, необходимо для замедления скорости работы;\n",
    " - `dklen` - длина формируемого ключа, если `dklen = None`, то длина ключа равна длине дайджеста хеш-функции."
   ]
  },
  {
   "cell_type": "markdown",
   "id": "46791228",
   "metadata": {
    "slideshow": {
     "slide_type": "subslide"
    }
   },
   "source": [
    "### Генерация случайных параметров\n",
    "\n",
    "  В функциях, генерирующих случайные параметры, необходимо исключить возможность создания параметров специальным образом.\n",
    " \n",
    " Для этого параметр создают по формуле:\n",
    "    $$\n",
    "      p:=h(seed),\n",
    "    $$\n",
    "где $seed$ -- случайная величина, которую публикуют вместе с параметром:\n",
    "$(p, seed).$"
   ]
  },
  {
   "cell_type": "markdown",
   "id": "898e4e6d",
   "metadata": {
    "slideshow": {
     "slide_type": "subslide"
    }
   },
   "source": [
    "### Формирование цепочки блоков\n",
    "\n",
    "![blockchain](images/block.jpg)\n"
   ]
  },
  {
   "cell_type": "markdown",
   "id": "60e26534",
   "metadata": {
    "slideshow": {
     "slide_type": "subslide"
    }
   },
   "source": [
    "### Формирование адреса в криптовалютах\n",
    "\n",
    "Токены в криптовалютах переводят на так называемый адрес\n",
    "$$\n",
    "  address:=h(key_{public}).\n",
    "$$\n",
    "\n",
    "В этом случае злоумышленник не знает не только секретный, но даже открытый ключ.\n"
   ]
  },
  {
   "cell_type": "markdown",
   "id": "33fa1c42",
   "metadata": {
    "slideshow": {
     "slide_type": "subslide"
    }
   },
   "source": [
    "## Merkle–Damgård construction\n",
    "\n",
    "Структура Меркля-Дамгора -- метод построения криптографических хеш-функций, 1979 год.\n",
    "\n",
    "1. Приведение сообщения $m$ к блочному виду\n",
    "$$       m\\rightarrow M=(M_1, M_2, \\dots, M_{L(m)}),$$\n",
    "$M_k$ -- блоки одинаковой длины.\n",
    "\n",
    "2. Применение функции сжатия\n",
    "  $$h_k:=f(h_{k-1},M_k),\\qquad  k=1, \\dots, L,$$\n",
    "  $h_0$ --  константа.  \n",
    "3. Результат алгоритма $H(m):=h_L.$"
   ]
  },
  {
   "cell_type": "markdown",
   "id": "5387c2da",
   "metadata": {
    "slideshow": {
     "slide_type": "subslide"
    }
   },
   "source": [
    "## MD5\n",
    "\n",
    "MD5 (англ. Message Digest 5) — 128-битный алгоритм хеширования, разработанный профессором Рональдом Л. Ривестом из Массачусетского технологического института (Massachusetts Institute of Technology, MIT) в 1991 году.\n",
    "\n",
    "128 - длина дайджеста.\n",
    "\n",
    "512 - длина блока. \n",
    "\n",
    "\n",
    "2004, 2005, Ван Сяоюнь,  Юй Хунбо. Нашли алгоритм, который вычисляет двухблочные коллизии.\n",
    "\n",
    "\n",
    "2006,  Властимил Клима, улучшил алгоритм, «туннелирование».\n",
    "\n",
    "2012, Марк Стивенс, одноблочные коллизии."
   ]
  },
  {
   "cell_type": "markdown",
   "id": "c06210ff",
   "metadata": {
    "slideshow": {
     "slide_type": "subslide"
    }
   },
   "source": [
    "## SHA-1\n",
    "\n",
    "Secure Hash Algorithm 1 — алгоритм криптографического хеширования. \n",
    "\n",
    "160 - длина дайджеста.\n",
    "\n",
    "512 - длина блока. \n",
    "\n",
    " Разработчики:\tNSA (Агентство национальной безопасности) совместно с NIST (Национальный институт стандартов и технологий США), 1995.\n",
    "\n",
    "**Атака SHAttered**  \n",
    "23 февраля 2017 года специалисты из Google и CWI объявили о практическом взломе алгоритма, опубликовав 2 PDF-файла с одинаковым хешем SHA-1. "
   ]
  },
  {
   "cell_type": "markdown",
   "id": "24907f38",
   "metadata": {
    "slideshow": {
     "slide_type": "subslide"
    }
   },
   "source": [
    "## SHA-2\n",
    "SHA-2 (англ. Secure Hash Algorithm  Version 2) — семейство криптографических алгоритмов, включающее в себя алгоритмы SHA-224, SHA-256, SHA-384, SHA-512, SHA-512/256 и SHA-512/224.\n",
    "  \n",
    "512 - длина блока (SHA‑256, SHA‑224, длина слова 32).  \n",
    "\n",
    "1024 - длина блока (SHA‑512, SHA‑384, SHA‑512/256, SHA‑512/224, длина слова 64).  \n",
    "  \n",
    "  Разработчики:\tNSA (Агентство национальной безопасности) совместно с NIST (Национальный институт стандартов и технологий США).\n",
    "  \n",
    "     \n",
    "  2002, 2004, 2012.\n",
    "     "
   ]
  },
  {
   "cell_type": "markdown",
   "id": "6468683c",
   "metadata": {
    "slideshow": {
     "slide_type": "subslide"
    }
   },
   "source": [
    "## SHA-3\n",
    "\n",
    "SHA-3 (Keccak — произносится как «кечак») — алгоритм хеширования переменной разрядности, разработанный группой авторов во главе с Йоаном Дайменом;\n",
    "\t\t\n",
    "2007 -- объявлен конкурс;\n",
    "\n",
    " 2008 -- создан;\n",
    "\t\t\n",
    "  2015 -- утвержден;\n",
    "\n",
    " Sponge function (\"криптографическая губка\").\n",
    "\t\t"
   ]
  },
  {
   "cell_type": "markdown",
   "id": "7602aaf6",
   "metadata": {
    "slideshow": {
     "slide_type": "slide"
    }
   },
   "source": [
    "## Криптографические хеш-функции в Python\n",
    "\n",
    "В Python криптографические функции хеширования собраны в библиотеке `hashlib`. Имена хеш-функций, которые гарантированно поддерживаются этим модулем на всех платформах, хранятся в атрибуте `hashlib.algorithms_guaranteed`"
   ]
  },
  {
   "cell_type": "code",
   "execution_count": 6,
   "id": "5ec68128",
   "metadata": {
    "slideshow": {
     "slide_type": "-"
    }
   },
   "outputs": [
    {
     "name": "stdout",
     "output_type": "stream",
     "text": [
      "{'sha3_512', 'blake2b', 'sha3_224', 'sha3_256', 'sha384', 'shake_256', 'sha1', 'md5', 'sha512', 'sha224', 'blake2s', 'shake_128', 'sha256', 'sha3_384'}\n"
     ]
    }
   ],
   "source": [
    "import hashlib\n",
    "print(hashlib.algorithms_guaranteed)"
   ]
  },
  {
   "cell_type": "markdown",
   "id": "d83546e5",
   "metadata": {
    "slideshow": {
     "slide_type": "-"
    }
   },
   "source": [
    "`hashlib.algorithms_available`  - множество, содержащее имена хэш-алгоритмов, доступных в работающем интерпретаторе Python."
   ]
  },
  {
   "cell_type": "code",
   "execution_count": 7,
   "id": "24923ff3",
   "metadata": {
    "slideshow": {
     "slide_type": "-"
    }
   },
   "outputs": [
    {
     "name": "stdout",
     "output_type": "stream",
     "text": [
      "{'md4', 'sha3_512', 'shake_256', 'sha3_256', 'sha512_256', 'sha3_224', 'sha512', 'whirlpool', 'mdc2', 'sha3_384', 'blake2b', 'sha1', 'md5', 'sha224', 'blake2s', 'ripemd160', 'sm3', 'sha512_224', 'sha384', 'md5-sha1', 'shake_128', 'sha256'}\n"
     ]
    }
   ],
   "source": [
    "print(hashlib.algorithms_available)"
   ]
  },
  {
   "cell_type": "markdown",
   "id": "02a0d276",
   "metadata": {
    "slideshow": {
     "slide_type": "subslide"
    }
   },
   "source": [
    "## Вычисление дайджеста\n",
    "Дайджест может выводиться в байтах или в шестнадцатеричной системе счисления"
   ]
  },
  {
   "cell_type": "code",
   "execution_count": 8,
   "id": "dd4d7e9f",
   "metadata": {
    "scrolled": true,
    "slideshow": {
     "slide_type": "-"
    }
   },
   "outputs": [
    {
     "name": "stdout",
     "output_type": "stream",
     "text": [
      "хеш в байтах =  b\"p\\xe0w<\\xfa&\\xeel\\xd7\\xe2\\xed\\x9c/\\xb8r\\x87(\\xa6\\xbdh'\\xbe\\x9e\\xe2\\xe0t\\x7fg\\xbc\\x9f\\xa9\\\\\"\n",
      "хеш в hex =  70e0773cfa26ee6cd7e2ed9c2fb8728728a6bd6827be9ee2e0747f67bc9fa95c\n"
     ]
    }
   ],
   "source": [
    "print('хеш в байтах = ',hashlib.sha3_256(b\"KM\").digest())\n",
    "print('хеш в hex = ', hashlib.sha3_256(b\"KM\").hexdigest())"
   ]
  },
  {
   "cell_type": "markdown",
   "id": "c799138c",
   "metadata": {},
   "source": [
    "Функции хеширования работают с байтами, а не с текстом, поэтому дайджест текста зависит от того, как мы переведем текст в байты."
   ]
  },
  {
   "cell_type": "code",
   "execution_count": 9,
   "id": "e1c7f300",
   "metadata": {
    "slideshow": {
     "slide_type": "-"
    }
   },
   "outputs": [
    {
     "name": "stdout",
     "output_type": "stream",
     "text": [
      "70e0773cfa26ee6cd7e2ed9c2fb8728728a6bd6827be9ee2e0747f67bc9fa95c\n",
      "bf30cd3411704f88bc9480463ac41f4b4c4598c6528db978c416e810ddbf0521\n"
     ]
    }
   ],
   "source": [
    "print(hashlib.sha3_256(bytes(\"KM\",encoding='utf-8')).hexdigest())\n",
    "print(hashlib.sha3_256(bytes(\"KM\",encoding='utf-16')).hexdigest())"
   ]
  },
  {
   "cell_type": "markdown",
   "id": "25cccec1",
   "metadata": {
    "slideshow": {
     "slide_type": "subslide"
    }
   },
   "source": [
    "## \"Хеширование частями\"\n",
    "Если сообщение, дайджест которого нужно вычислить, не доступно целиком, то его можно отправлять на хеширование частями"
   ]
  },
  {
   "cell_type": "code",
   "execution_count": 10,
   "id": "6c653910",
   "metadata": {
    "slideshow": {
     "slide_type": "-"
    }
   },
   "outputs": [
    {
     "name": "stdout",
     "output_type": "stream",
     "text": [
      "0d3f42b61f28a2034d214bea47bf205ca57aec2e\n"
     ]
    }
   ],
   "source": [
    "part1 = b\"Spartak\"\n",
    "part2 = b\"Champion\"\n",
    "h = hashlib.sha1()\n",
    "h.update(part1)\n",
    "h.update(part2)\n",
    "print(h.hexdigest())"
   ]
  },
  {
   "cell_type": "code",
   "execution_count": 11,
   "id": "bd1fe0d5",
   "metadata": {
    "slideshow": {
     "slide_type": "-"
    }
   },
   "outputs": [
    {
     "data": {
      "text/plain": [
       "'0d3f42b61f28a2034d214bea47bf205ca57aec2e'"
      ]
     },
     "execution_count": 11,
     "metadata": {},
     "output_type": "execute_result"
    }
   ],
   "source": [
    "hashlib.sha1(part1+part2).hexdigest()"
   ]
  },
  {
   "cell_type": "markdown",
   "id": "2105ffe9",
   "metadata": {
    "slideshow": {
     "slide_type": "subslide"
    }
   },
   "source": [
    "## Длина блока и дайджеста "
   ]
  },
  {
   "cell_type": "code",
   "execution_count": 12,
   "id": "49998bb2",
   "metadata": {
    "slideshow": {
     "slide_type": "-"
    }
   },
   "outputs": [
    {
     "data": {
      "text/plain": [
       "32"
      ]
     },
     "execution_count": 12,
     "metadata": {},
     "output_type": "execute_result"
    }
   ],
   "source": [
    "h = hashlib.sha3_256()\n",
    "h.digest_size"
   ]
  },
  {
   "cell_type": "code",
   "execution_count": 13,
   "id": "91a8d6c9",
   "metadata": {
    "slideshow": {
     "slide_type": "-"
    }
   },
   "outputs": [
    {
     "data": {
      "text/plain": [
       "136"
      ]
     },
     "execution_count": 13,
     "metadata": {},
     "output_type": "execute_result"
    }
   ],
   "source": [
    "h.block_size"
   ]
  },
  {
   "cell_type": "code",
   "execution_count": 14,
   "id": "5221bebd",
   "metadata": {
    "slideshow": {
     "slide_type": "-"
    }
   },
   "outputs": [
    {
     "data": {
      "text/plain": [
       "1088"
      ]
     },
     "execution_count": 14,
     "metadata": {},
     "output_type": "execute_result"
    }
   ],
   "source": [
    "h.block_size*8"
   ]
  },
  {
   "cell_type": "code",
   "execution_count": 15,
   "id": "ae1af614",
   "metadata": {
    "slideshow": {
     "slide_type": "-"
    }
   },
   "outputs": [
    {
     "data": {
      "text/plain": [
       "'sha3_256'"
      ]
     },
     "execution_count": 15,
     "metadata": {},
     "output_type": "execute_result"
    }
   ],
   "source": [
    "h.name"
   ]
  },
  {
   "cell_type": "markdown",
   "id": "064acc62",
   "metadata": {
    "slideshow": {
     "slide_type": "subslide"
    }
   },
   "source": [
    "## Формирование ключа\n",
    "`pbkdf2_hmac(hash_name, password, salt, iterations, dklen=None)`:\n",
    " - `hash_name` - название функции хеширования;  \n",
    " - `password` - пароль;\n",
    " - `salt` - соль;\n",
    " - `iterations` - количество итераций, необходимо для замедления скорости работы;\n",
    " - `dklen` - длина формируемого ключа, если `dklen = None`, то длина ключа равна длине дайджеста хеш-функции."
   ]
  },
  {
   "cell_type": "code",
   "execution_count": 16,
   "id": "5267a662",
   "metadata": {
    "slideshow": {
     "slide_type": "-"
    }
   },
   "outputs": [
    {
     "name": "stdout",
     "output_type": "stream",
     "text": [
      "32\n"
     ]
    },
    {
     "data": {
      "text/plain": [
       "'632c2812e46d4604102ba7618e9d6d7d2f8128f6266b4a03264d2a0460b7dcb3'"
      ]
     },
     "execution_count": 16,
     "metadata": {},
     "output_type": "execute_result"
    }
   ],
   "source": [
    "dk = hashlib.pbkdf2_hmac('sha256', b'password', b'salt', 10**3)\n",
    "print(len(dk))\n",
    "dk.hex()"
   ]
  },
  {
   "cell_type": "code",
   "execution_count": 17,
   "id": "57e0acaa",
   "metadata": {
    "slideshow": {
     "slide_type": "-"
    }
   },
   "outputs": [
    {
     "name": "stdout",
     "output_type": "stream",
     "text": [
      "--- 0.2912294864654541 seconds ---\n"
     ]
    }
   ],
   "source": [
    "import time\n",
    "start_time = time.time()\n",
    "dk = hashlib.pbkdf2_hmac('sha256', b'password', b'salt', 10**6)\n",
    "print(\"--- %s seconds ---\" % (time.time() - start_time))"
   ]
  },
  {
   "cell_type": "markdown",
   "id": "a4c7d87a",
   "metadata": {
    "slideshow": {
     "slide_type": "slide"
    }
   },
   "source": [
    "# Моделирование SHA-3 на Python\n",
    "## Перевод текста в биты\n",
    "Мы будем моделировать SHA-3 согласно стандарту [FIPS PUB 202](https://nvlpubs.nist.gov/nistpubs/fips/nist.fips.202.pdf \"Ссылка на стандарт\").\n",
    "Однако, перевод текста в биты в стандарте не регламентирован. При переводе  байта в биты мы будем использовать порядок следования битов от младшего к старшему (little-endian) "
   ]
  },
  {
   "cell_type": "code",
   "execution_count": 18,
   "id": "25958b36",
   "metadata": {
    "slideshow": {
     "slide_type": "-"
    }
   },
   "outputs": [
    {
     "name": "stdout",
     "output_type": "stream",
     "text": [
      "[1, 1, 0, 1, 0, 0, 1, 0]\n",
      "[1, 1, 0, 1, 0, 0, 1, 0, 1, 0, 1, 1, 0, 0, 1, 0]\n"
     ]
    }
   ],
   "source": [
    "def ord2(alpha):\n",
    "    bits = [int(i) for i in bin(ord(alpha))[2:]]\n",
    "    bits = [0]*(8 - len(bits)) + bits  # добавляем необходимое количество нулей\n",
    "    bits.reverse()\n",
    "    return bits\n",
    "\n",
    "def Text2Bits(text):\n",
    "    bits = []\n",
    "    for i in text:\n",
    "        bits += ord2(i)\n",
    "    return bits\n",
    "\n",
    "print(ord2(\"K\"))\n",
    "print(Text2Bits(\"KM\"))        "
   ]
  },
  {
   "cell_type": "markdown",
   "id": "fb3ac438",
   "metadata": {
    "slideshow": {
     "slide_type": "subslide"
    }
   },
   "source": [
    "## SHA-3 как часть функции Keccak\n",
    "В конкурсе на новый стандарт хеширования участвовала функция Keccak. Часть её режимов вошли в стандарт. Например, SHA3_256 определяется через функцию $Keccak(c,N,d)$\n",
    "$$\n",
    "  SHA3\\_256(M) = Keccak(512,Text2Bits(M)+[0,1],256)\n",
    "$$\n",
    "Здесь  \n",
    "$d =  256$ - `digest_size`, длина дайджеста;  \n",
    "$c=512$ - параметр функции Sponge (The capacity of a sponge function);  \n",
    "$N=Text2Bits(M)\\; ||\\; [0,1]$ - дополненное сообщение в битах."
   ]
  },
  {
   "cell_type": "code",
   "execution_count": 19,
   "id": "e9574fbf",
   "metadata": {
    "slideshow": {
     "slide_type": "-"
    }
   },
   "outputs": [],
   "source": [
    "def SHA3_256(M):\n",
    "    return Keccak(512,Text2Bits(M)+[0,1],256)"
   ]
  },
  {
   "cell_type": "markdown",
   "id": "84940fd3",
   "metadata": {
    "slideshow": {
     "slide_type": "subslide"
    }
   },
   "source": [
    "## Функция Keccak\n",
    "Функция $Keccak(c,N,d)$ задается при помощи функции Sponge (Губка)\n",
    "$$\n",
    "  Keccak(c,N,d)=Sponge(b-c,N,d)\n",
    "$$ \n",
    "Здесь $b=1600= 25*64$ - параметр, равный длине переменной S (State) в алгоритме $Sponge.$"
   ]
  },
  {
   "cell_type": "code",
   "execution_count": 20,
   "id": "74bbe110",
   "metadata": {
    "slideshow": {
     "slide_type": "-"
    }
   },
   "outputs": [],
   "source": [
    "def Keccak(c,N,d):\n",
    "    return Sponge(1600-c,N,d)"
   ]
  },
  {
   "cell_type": "markdown",
   "id": "03d5cbdb",
   "metadata": {
    "slideshow": {
     "slide_type": "subslide"
    }
   },
   "source": [
    "## Algorithm 9: pad10*1(r, m)  \n",
    "*Input:* $r = b-c\\in\\mathbb{N}$ - block_size, количество бит сообщения $N,$ которые будут хешироваться за одну итерацию в функции $Sponge;$   \n",
    "$\\qquad m\\in\\mathbb{N}$ - длина хешируемого сообщения $N.$ \n",
    "\n",
    "*Output:* $P$ - список бит, которыми мы дополним $N,$ чтобы длина дополненного сообщения $N\\;||\\;P$ делилась на $r.$\n",
    "\n",
    "1.  Let \n",
    "$$\n",
    "  j = (– m – 2) \\mod r.\n",
    "$$\n",
    "2.  Return \n",
    "  $$\n",
    "    P = 1 \\:|| \\: 0^{j} \\: || \\: 1.\n",
    "  $$  "
   ]
  },
  {
   "cell_type": "code",
   "execution_count": 21,
   "id": "e63d193f",
   "metadata": {
    "slideshow": {
     "slide_type": "-"
    }
   },
   "outputs": [
    {
     "data": {
      "text/plain": [
       "[1, 0, 0, 0, 1]"
      ]
     },
     "execution_count": 21,
     "metadata": {},
     "output_type": "execute_result"
    }
   ],
   "source": [
    "def pad101(r, m):\n",
    "    j = (-m-2) % r\n",
    "    return [1] + [0]*j + [1]\n",
    "pad101(10,15)"
   ]
  },
  {
   "cell_type": "markdown",
   "id": "0b1e0353",
   "metadata": {
    "slideshow": {
     "slide_type": "subslide"
    }
   },
   "source": [
    "##  Algorithm 8: 𝐒𝐏𝐎𝐍𝐆𝐄(𝐫,𝐍,𝐝)\n",
    "*Input:* $N$ - список бит, хешируемое сообщение;   \n",
    "$\\qquad d\\in\\mathbb{N}$ - длина дайджеста;  \n",
    "$\\qquad r\\in\\mathbb{N}$ - rate, block_size, количество бит $N$, используемых в одной итерации; $\\;(r+c=b)$  \n",
    "*Output:* $Z$ - список бит, дайджест сообщения $N,$ $len(Z)=d.$ \n",
    "![sponge](images/sponge.png)"
   ]
  },
  {
   "cell_type": "markdown",
   "id": "4cbfab31",
   "metadata": {
    "slideshow": {
     "slide_type": "subslide"
    }
   },
   "source": [
    "## Merkle–Damgård construction $ $  VS $ $  sponge function\n",
    "\n",
    "**Выжимание (squeezing)**  \n",
    "Для всех функций SHA3 (SHA3-224, SHA3-256, SHA3-384, SHA3-512) справедливо неравенство\n",
    "$$\n",
    "  r<d\n",
    "$$\n",
    "поэтому процесс \"выжимания\" в  sponge function для функций SHA-3 по факту состоит лишь из одной итерации, как и в конструкции Меркля-Дамгора.\n",
    "\n",
    "**Переменная c**   \n",
    "У функции губки появилась переменная $c$, которая значительно увеличивает длину переменной состояния $S$ до $b=1600,$ что на практике значительно усложняет вычисление коллизий.\n",
    "\n",
    "**Вывод**  \n",
    "С точки зрения идеологии в функции губки не придумано ничего принципиально нового по сравнению с конструкцией Меркля-Дамгора, но за счет значительного увеличения длины переменной состояния $S$ до $b=1600$ бит построение специальных алгоритмов вычисления коллизий стало проблематичным, а метод грубой силы за счет большой длины $d$ дайджеста на данный момент также практически невозможен."
   ]
  },
  {
   "cell_type": "markdown",
   "id": "18642870",
   "metadata": {
    "slideshow": {
     "slide_type": "subslide"
    }
   },
   "source": [
    "## Algorithm 8: $\\bf SPONGE(r,N,d)$  \n",
    "*Input:* $N$ - список бит, хешируемое сообщение;   \n",
    "$\\qquad d\\in\\mathbb{N}$ - длина дайджеста;  \n",
    "$\\qquad r\\in\\mathbb{N}$ - rate, количество бит $N$, используемых в одной итерации;  \n",
    "*Output:* $Z$ - список бит, дайджест сообщения $N,$ $len(Z)=d.$ \n",
    "\n",
    "1.  Let $\\;P = N || pad101(r, len(N))$. (Для того, чтобы за целое количество итераций обработать всё хешируемое сообщение).\n",
    "2.  Let $\\;n = len(P)/r.$\n",
    "3.  Let $\\;c = b - r.$\n",
    "4.  Let $\\;P_0, \\dots, P_{n-1}\\;$ be the unique sequence of strings of length $r$ such that \n",
    "$$\n",
    " P = P_0|| \\dots || P_{n-1}.\n",
    "$$ \n",
    "5.  Let $\\;S = 0^b.$  \n",
    "6.  For i from 0 to n-1, let $S = f (S ⊕ (P_i|| 0^c)).$  $\\qquad(f=KECCAK_p(S))$    \n",
    "7.  Let $\\;Z=[]\\;$ be the empty list.\n",
    "8.  Let $\\;Z = Z || Trunc_r (S).$\n",
    "9.  If $\\;d ≤ |Z|,\\;$ then return $Trunc_d (Z);$ else continue.\n",
    "10.  Let $\\;S = f(S),\\;$ and continue with Step 8."
   ]
  },
  {
   "cell_type": "code",
   "execution_count": 22,
   "id": "49ff062e",
   "metadata": {
    "slideshow": {
     "slide_type": "subslide"
    }
   },
   "outputs": [],
   "source": [
    "def Sponge(r,N,d):\n",
    "    P = N + pad101(r,len(N))\n",
    "    n = len(P)//r\n",
    "    c = b - r\n",
    "    S =[0]*b\n",
    "    for i in range(n):\n",
    "        Pi = P[i*r:(i+1)*r]\n",
    "        for j in range(r):\n",
    "            S[j] = S[j]^Pi[j]\n",
    "        S = KECCAK_p(S)\n",
    "    Z = S[:r]\n",
    "    while d>len(Z):\n",
    "        S = KECCAK_p(S)\n",
    "        Z = Z+S[:r]\n",
    "    Z = Reverse(Z)    \n",
    "    return Z[:d]"
   ]
  },
  {
   "cell_type": "markdown",
   "id": "2c14d665",
   "metadata": {
    "slideshow": {
     "slide_type": "subslide"
    }
   },
   "source": [
    "## little-endian\n",
    "При переводе 8 бит в байт мы опять используем Порядок следования битов от младшего к старшему. Поэтому разбиваем список на подсписки по 8 бит и в каждом подсписке из 8 бит делаем реверс  "
   ]
  },
  {
   "cell_type": "code",
   "execution_count": 23,
   "id": "f6c3e415",
   "metadata": {
    "slideshow": {
     "slide_type": "-"
    }
   },
   "outputs": [
    {
     "data": {
      "text/plain": [
       "[0, 0, 0, 0, 1, 1, 1, 1, 1, 1, 1, 1, 0, 0, 1, 1]"
      ]
     },
     "execution_count": 23,
     "metadata": {},
     "output_type": "execute_result"
    }
   ],
   "source": [
    "def Reverse(Z):\n",
    "    n = len(Z)//8\n",
    "    partition = [Z[i*8:(i+1)*8] for i in range(n)]\n",
    "    out = []\n",
    "    for i in range(n):\n",
    "        partition[i].reverse()\n",
    "        out += partition[i]\n",
    "    return out\n",
    "Reverse([1,1,1,1,0,0,0,0,1,1,0,0,1,1,1,1])"
   ]
  },
  {
   "cell_type": "markdown",
   "id": "ed4e16c4",
   "metadata": {
    "slideshow": {
     "slide_type": "subslide"
    }
   },
   "source": [
    "## $\\bf f=KECCAK_p(S)$\n",
    "**Параметры функции $KECCAK_p(S)$**  \n",
    "\n",
    "$l=6;$  \n",
    "$b=1600$ - длина состояния $S;$  \n",
    "$n_r=24$ - количество итераций в цикле алгоритма $KECCAK_p(S);$  \n",
    "$w = 64$  - состояние $S$ состоит из 25 строк длины $w,$ алгоритм $SHA-3$ разрабатывался под 64-х разрядный процессор;\n",
    "\n",
    "**Algorithm 7: $KECCAK_p(S)$**  \n",
    "*Input:* $S$ - список из $b$ бит;  \n",
    "\n",
    "*Output:* $S'$ - список из $b$ бит;  \n",
    "\n",
    "1.  Convert $S$ into a state array $A$  \n",
    "\n",
    "2.  For $\\;round\\;$ from $0$ to $23,$ let \n",
    "$$\n",
    "  A = Rnd(A, round).\n",
    "$$\n",
    "3.  Convert $A$ into a string $S′$ of length b\n",
    "4.  Return   $S′.$\n"
   ]
  },
  {
   "cell_type": "code",
   "execution_count": 24,
   "id": "b855a40a",
   "metadata": {
    "slideshow": {
     "slide_type": "subslide"
    }
   },
   "outputs": [],
   "source": [
    "def Rnd(A, round):\n",
    "    return iota(chi(pi(rho(theta(A)))),round)\n",
    "\n",
    "def KECCAK_p(𝑆):\n",
    "    A = Transform1Dto3D(S)\n",
    "    for round in range(24):\n",
    "        A = Rnd(A,round)\n",
    "    return Transform3Dto1D(A)"
   ]
  },
  {
   "cell_type": "markdown",
   "id": "e1d8cf7b",
   "metadata": {
    "slideshow": {
     "slide_type": "subslide"
    }
   },
   "source": [
    "##  Переменная состояния S (State)\n",
    "$S$ называется State, это список, состоящий из $b=1600$ бит;\n",
    "\n",
    "$A$ - state array, трехмерный массив размерности $5\\times 5\\times 64.$\n",
    "\n",
    "Мы будем представлять одномерный список $S$ в виде трехмерного массива $A$\n",
    "$$\n",
    "  A(x,y,z):=S(w(5y+x)+z),\\qquad 0\\leq x<5,\\; 0\\leq y<5,\\; 0\\leq z<64.\n",
    "$$  "
   ]
  },
  {
   "cell_type": "markdown",
   "id": "c3622882",
   "metadata": {
    "slideshow": {
     "slide_type": "subslide"
    }
   },
   "source": [
    "## Геометрическое представление\n",
    "![slice](images/slice.png)"
   ]
  },
  {
   "cell_type": "markdown",
   "id": "1e1002be",
   "metadata": {
    "slideshow": {
     "slide_type": "subslide"
    }
   },
   "source": [
    "## Геометрическое представление\n",
    "![lane](images/lane.png)\n",
    "\n",
    "lane -- переулок."
   ]
  },
  {
   "cell_type": "code",
   "execution_count": 25,
   "id": "06d7aeb8",
   "metadata": {
    "slideshow": {
     "slide_type": "subslide"
    }
   },
   "outputs": [],
   "source": [
    "l = 6 \n",
    "b = 25*(2**l) \n",
    "w = 2**l\n",
    "def Transform1Dto3D(S):\n",
    "    A = [[[0]*w for _ in range(5)] for _ in range(5)]  # создали 3-мерный массив 5*5*64\n",
    "    for x in range(5):\n",
    "        for y in range(5):\n",
    "            for z in range(w):\n",
    "                A[x][y][z] = S[w*(5*y + x)+z]  # заполняем массив битами\n",
    "    return A\n",
    "\n",
    "def Transform3Dto1D(A):\n",
    "    S = [0]*(5*5*w)\n",
    "    for x in range(5):\n",
    "        for y in range(5):\n",
    "            for z in range(w):\n",
    "                S[w*(5*y + x)+z] = A[x][y][z]\n",
    "    return S"
   ]
  },
  {
   "cell_type": "code",
   "execution_count": 26,
   "id": "0236857a",
   "metadata": {
    "slideshow": {
     "slide_type": "-"
    }
   },
   "outputs": [
    {
     "data": {
      "text/plain": [
       "True"
      ]
     },
     "execution_count": 26,
     "metadata": {},
     "output_type": "execute_result"
    }
   ],
   "source": [
    "import random\n",
    "S = [random.randint(0,1) for _ in range(b)]\n",
    "A = Transform1Dto3D(S)\n",
    "S == Transform3Dto1D(A)"
   ]
  },
  {
   "cell_type": "markdown",
   "id": "53cc79d5",
   "metadata": {
    "slideshow": {
     "slide_type": "subslide"
    }
   },
   "source": [
    "## Algorithm 1: θ(A)  \n",
    "*Input:* $A$ - state array  \n",
    "*Output:* $A'$ - state array  \n",
    "\n",
    "1. For all pairs (x, z) such that $0 ≤ x < 5$ and $0 ≤ z < w,$ let\n",
    "$$\n",
    "C[x, z] = A[x, 0, z] \\oplus A[x, 1, z] \\oplus A[x, 2, z] \\oplus A[x, 3, z] \\oplus A[x, 4, z].\n",
    "$$\n",
    "2. For all pairs (x, z) such that $0 ≤ x < 5$ and $0 ≤ z < w$ let \n",
    "$$\n",
    "D[x, z] = C[(x-1) \\mod 5, z] ⊕ C[(x+1) \\mod 5, (z – 1) \\mod w].\n",
    "$$\n",
    "3. For all triples $(x, y, z)$ such that $0 ≤ x < 5,$ $0 ≤ y < 5,$ and $0 ≤ z < w,$ let\n",
    "$$\n",
    "A′[x, y, z] = A[x, y, z] ⊕ D[x, z]. \n",
    "$$"
   ]
  },
  {
   "cell_type": "markdown",
   "id": "0c11da95",
   "metadata": {},
   "source": [
    "Алгоритм $\\theta(A)$ как-то преобразовывает 3-мерный массив $A$. "
   ]
  },
  {
   "cell_type": "code",
   "execution_count": 27,
   "id": "835d82a7",
   "metadata": {
    "slideshow": {
     "slide_type": "-"
    }
   },
   "outputs": [],
   "source": [
    "def theta(A):\n",
    "    A_out = [[[0]*w for _ in range(5)] for _ in range(5)]\n",
    "    C = [[0]*w for _ in range(5)]\n",
    "    D = [[0]*w for _ in range(5)]\n",
    "    for x in range(5):\n",
    "        for z in range(w):\n",
    "            C[x][z] = A[x][0][z]^A[x][1][z]^A[x][2][z]^A[x][3][z]^A[x][4][z] \n",
    "    for x in range(5):\n",
    "        for z in range(w):\n",
    "            D[x][z] = C[x-1][z] ^ C[(x+1)%5][z-1]\n",
    "    for x in range(5):\n",
    "        for y in range(5):\n",
    "            for z in range(w):            \n",
    "                A_out[x][y][z] = A[x][y][z] ^ D[x][z]\n",
    "    return A_out"
   ]
  },
  {
   "cell_type": "markdown",
   "id": "fe45d3e1",
   "metadata": {
    "slideshow": {
     "slide_type": "subslide"
    }
   },
   "source": [
    "## Линейная функция\n",
    "Пусть $X$ - векторное пространство над полем $K.$ Тогда функцию $f:X\\rightarrow K$ называют <font color=blue>линейной</font>, если $\\forall x,y\\in X$ $\\forall \\alpha,\\beta\\in K$  справедливо равенство\n",
    "$$\n",
    "  f(\\alpha x+\\beta y)=\\alpha f(x)+\\beta f(y).\n",
    "$$  \n",
    " \n",
    "Булеву функцию $f(S)$ назовем <font color=blue>линейной</font>, если для любых двух векторов $S_1,$ $S_2\\in\\{0,1\\}^b$  справедливо равенство\n",
    "$$\n",
    "f(S_1\\oplus S_2)=f(S_1)\\oplus f(S_2).\n",
    "$$"
   ]
  },
  {
   "cell_type": "markdown",
   "id": "943e7da1",
   "metadata": {
    "slideshow": {
     "slide_type": "subslide"
    }
   },
   "source": [
    "## Линейная функция как функция от базисных векторов\n",
    "Рассмотрим базис \n",
    "$$\n",
    "e_0=[1,0,0,\\dots,0,0]\n",
    "$$\n",
    "$$\n",
    "e_1=[0,1,0,\\dots,0,0]\n",
    "$$\n",
    "$$\\vdots$$\n",
    "$$\n",
    "e_{b-1}=[0,0,0,\\dots,0,1]\n",
    "$$\n",
    "\n",
    "Любой вектор $S\\in\\{0,1\\}^b$ можно представить в виде\n",
    "$$\n",
    "  S = (S[0]\\cdot e_0) \\oplus(S[1]\\cdot e_1)\\oplus\\dots\\oplus(S[b-1]\\cdot e_{b-1}),\n",
    "$$\n",
    "где умножение $\\cdot=\\wedge$ и константа $S[i]\\in\\{0,1\\}$ умножается на все координы вектора $e_i$ по аналогии с умножением вектора на скаляр.\n",
    "\n",
    "Подействуем на $S$ линейной функцией $f$\n",
    "$$\n",
    "  f(S)=(S[0]\\cdot f( e_0)) \\oplus (S[1]\\cdot f(e_1))\\oplus\\dots\\oplus(S[b-1]\\cdot f(e_{b-1}))\n",
    "$$\n",
    "Оказывается, что линейная функция однозначно задается своими значениями $f(e_i)$ на базисных векторах!"
   ]
  },
  {
   "cell_type": "markdown",
   "id": "cd4c3deb",
   "metadata": {
    "slideshow": {
     "slide_type": "subslide"
    }
   },
   "source": [
    "Нетрудно проверить, что $\\theta(A)$ - линейная. Определим её через значения на базисных векторах.\n",
    "Пусть\n",
    "$$\n",
    "thetaBasis:\\{0,1\\}^b\\rightarrow\\{0,1\\}^b\n",
    "$$"
   ]
  },
  {
   "cell_type": "code",
   "execution_count": 28,
   "id": "aa4de027",
   "metadata": {
    "slideshow": {
     "slide_type": "-"
    }
   },
   "outputs": [
    {
     "name": "stdout",
     "output_type": "stream",
     "text": [
      "True\n"
     ]
    }
   ],
   "source": [
    "e = [0]*b\n",
    "thetae = [0]*b\n",
    "for i in range(b):\n",
    "    e[i] = [0]*b\n",
    "    e[i][i] = 1  # создаём матрицу, состоящую из b базисных векторов \n",
    "    thetae[i] = Transform3Dto1D(theta(Transform1Dto3D(e[i])))\n",
    "\n",
    "# в thetae[i] хранится преобразованное при помощи функции thete(A) значение базисного вектора\n",
    "\n",
    "def XOR1D(S1,S2):\n",
    "    b = len(S1)\n",
    "    S = [0]*b \n",
    "    for x in range(b):\n",
    "        S[x] = S1[x] ^ S2[x]\n",
    "    return S\n",
    "\n",
    "# XOR1D(S1,S2) возвращает список, составленную из перемноженных битов S1[i] ^ S2[i]\n",
    "\n",
    "def thetaBasis(S):\n",
    "    S_out = [0]*b \n",
    "    for x in range(b):\n",
    "        if S[x] == 1:\n",
    "            S_out = XOR1D(S_out, thetae[x])            \n",
    "    return S_out\n",
    "\n",
    "S = [random.randint(0,1) for _ in range(b)]\n",
    "A = Transform1Dto3D(S)\n",
    "print(theta(A) == Transform1Dto3D(thetaBasis(S)))"
   ]
  },
  {
   "cell_type": "markdown",
   "id": "7e5a7ebf",
   "metadata": {
    "slideshow": {
     "slide_type": "subslide"
    }
   },
   "source": [
    "**Является ли функция theta(A) сюръекцией и как вычислить $theta^{-1}(A)$?**  \n",
    "Будем решать уравнение \n",
    "$$\n",
    "  thetaBasis(X) = S\n",
    "$$\n",
    "Которое эквивалентно системе\n",
    "$$\n",
    "\\begin{pmatrix} f(e_0) & f(e_1) & \\dots & f(e_{b-1})\\end{pmatrix}\\begin{pmatrix} X[0] \\\\ X[1] \\\\ \\vdots \\\\ X[b-1]\\end{pmatrix}=\\begin{pmatrix} A[0] \\\\ S[1] \\\\ \\vdots \\\\ S[b-1]\\end{pmatrix},\n",
    "$$\n",
    "где $M=\\begin{pmatrix} f(e_0) & f(e_1) & \\dots & f(e_{b-1})\\end{pmatrix}$ - матрица $b\\times b,$ столбцами которой являются вектора $f(e_i).$\n",
    "\n",
    "Для того чтобы система имела решение для всех $S$ необходимо, чтобы матрица $M$ имела определитель, отличный от нуля."
   ]
  },
  {
   "cell_type": "markdown",
   "id": "12ce91a0",
   "metadata": {
    "slideshow": {
     "slide_type": "subslide"
    }
   },
   "source": [
    "## Вычисление определителя\n",
    "Наша задача посчитать определитель матрицы $M,$ состоящей из 0 и 1. Можно считать, что элементы матрицы принадлежат полю $\\mathbb{Z}_2$ и при вычислении определителя операции сложения и умножения тоже стоит брать из данного поля. \n",
    "\n",
    "Проблема в том, что функция `sympy.det` не умеет считать определитель в поле $\\mathbb{Z}_2,$  поэтому можно вычислить определитель матрицы $M$ в кольце $\\mathbb{Z},$ а потом от результата вычислить остаток от деления на 2. Но матрица $M$ слишком большая и `sympy.det` не может посчитать определитель. Или я просто не дождался ответа. Даже `print` загибается от матрицы $M$"
   ]
  },
  {
   "cell_type": "code",
   "execution_count": 29,
   "id": "fe4d0195",
   "metadata": {
    "slideshow": {
     "slide_type": "-"
    }
   },
   "outputs": [
    {
     "name": "stdout",
     "output_type": "stream",
     "text": [
      "--- 2.8332927227020264 seconds ---\n"
     ]
    },
    {
     "name": "stderr",
     "output_type": "stream",
     "text": [
      "IOPub data rate exceeded.\n",
      "The notebook server will temporarily stop sending output\n",
      "to the client in order to avoid crashing it.\n",
      "To change this limit, set the config variable\n",
      "`--NotebookApp.iopub_data_rate_limit`.\n",
      "\n",
      "Current values:\n",
      "NotebookApp.iopub_data_rate_limit=1000000.0 (bytes/sec)\n",
      "NotebookApp.rate_limit_window=3.0 (secs)\n",
      "\n"
     ]
    }
   ],
   "source": [
    "import sympy\n",
    "import time\n",
    "start_time = time.time()\n",
    "M = sympy.Matrix([thetae[i] for i in range(b)])\n",
    "print(\"--- %s seconds ---\" % (time.time() - start_time))\n",
    "print(M)"
   ]
  },
  {
   "cell_type": "markdown",
   "id": "c70043c5",
   "metadata": {
    "slideshow": {
     "slide_type": "subslide"
    }
   },
   "source": [
    "## Приведение матрицы к диагональному виду\n",
    "Попытаемся привести матрицу $M$ к диагональной матрице в поле $\\mathbb{Z}_2,$ если это не удастся, то тогда это будет означать, что $det(M)=0,$ иначе $det(M)=1.$"
   ]
  },
  {
   "cell_type": "code",
   "execution_count": 30,
   "id": "3cef0e31",
   "metadata": {
    "slideshow": {
     "slide_type": "-"
    }
   },
   "outputs": [
    {
     "name": "stdout",
     "output_type": "stream",
     "text": [
      "('не приводится', 1, [[1, 1], [0, 0]])\n",
      "0\n",
      "[[1, 0, 0], [0, 1, 0], [0, 0, 1]]\n",
      "1\n"
     ]
    }
   ],
   "source": [
    "def diag(M):\n",
    "    b = len(M)\n",
    "    for i in range(b):\n",
    "        j=i\n",
    "        while M[j][i] == 0:\n",
    "            j+=1\n",
    "            if j>=b:\n",
    "                return ('не приводится', i, M)\n",
    "        M[i],M[j] = M[j],M[i]    \n",
    "        for k in range(i):\n",
    "            if M[k][i] == 1:\n",
    "                M[k]=XOR1D(M[k],M[j])\n",
    "        for k in range(i+1,b):\n",
    "            if M[k][i] == 1:\n",
    "                M[k]=XOR1D(M[k],M[j])        \n",
    "    return M\n",
    "m = [[1,1],[1,1]]\n",
    "print(diag(m))\n",
    "print(sympy.Matrix(m).det())\n",
    "m = [[1,1,0],[0,1,0],[1,1,1]]\n",
    "print(diag(m))\n",
    "print(sympy.Matrix(m).det())"
   ]
  },
  {
   "cell_type": "markdown",
   "id": "c9e44365",
   "metadata": {
    "slideshow": {
     "slide_type": "subslide"
    }
   },
   "source": [
    "## Приведение к диагональному виду матрицы M\n",
    "На маленьких матрицах код работает, применим его к матрице $M$"
   ]
  },
  {
   "cell_type": "code",
   "execution_count": 31,
   "id": "473eb5dc",
   "metadata": {
    "slideshow": {
     "slide_type": "-"
    }
   },
   "outputs": [
    {
     "name": "stdout",
     "output_type": "stream",
     "text": [
      "('не приводится', 448)\n",
      "--- 25.163520336151123 seconds ---\n"
     ]
    }
   ],
   "source": [
    "def diag(M):\n",
    "    b = len(M)\n",
    "    for i in range(b):\n",
    "        j=i\n",
    "        while M[j][i] == 0:\n",
    "            j+=1\n",
    "            if j>=b:\n",
    "                return ('не приводится', i)\n",
    "        M[i],M[j] = M[j],M[i]    \n",
    "        for k in range(i):\n",
    "            if M[k][i] == 1:\n",
    "                M[k] = XOR1D(M[k],M[j])\n",
    "        for k in range(i+1,b):\n",
    "            if M[k][i] == 1:\n",
    "                M[k] = XOR1D(M[k],M[j])        \n",
    "    return ('приводится',i)   \n",
    "M = [thetae[i] for i in range(b)]\n",
    "start_time = time.time()\n",
    "print(diag(M))\n",
    "print(\"--- %s seconds ---\" % (time.time() - start_time))"
   ]
  },
  {
   "cell_type": "markdown",
   "id": "497d1ab2",
   "metadata": {
    "slideshow": {
     "slide_type": "skip"
    }
   },
   "source": [
    "## <font color='red'>Задание 2.</font>\n",
    "Является ли функция $\\theta(A)$ линейной?"
   ]
  },
  {
   "cell_type": "markdown",
   "id": "e89e7c5b",
   "metadata": {},
   "source": [
    "Функцию $f:X\\rightarrow K$ называют <font color=blue>линейной</font>, если $\\forall x,y\\in X$ $\\forall \\alpha,\\beta\\in K$  справедливо равенство\n",
    "$$\n",
    "  f(\\alpha x+\\beta y)=\\alpha f(x)+\\beta f(y).\n",
    "$$ \n",
    "Так как установить линейность для всех значений $x, y \\in X$ и для всех $\\alpha,\\beta \\in K$ невозможно, проверим выполнение свойства для случайных значений $x, y$ и для случайных $\\alpha,\\beta$.\n",
    "\n",
    "Используя представленные выше функции для преобразования строк в 3-мерные массивы (*Transform1Dto3D*) и для обратного преобразования в 1-мерные (*Transform3Dto1D*), а также функцию *XOR1D*, получим равенство, доказывающее то, что функция является линейной."
   ]
  },
  {
   "cell_type": "code",
   "execution_count": 32,
   "id": "dc5870ce",
   "metadata": {},
   "outputs": [
    {
     "data": {
      "text/plain": [
       "True"
      ]
     },
     "execution_count": 32,
     "metadata": {},
     "output_type": "execute_result"
    }
   ],
   "source": [
    "alpha = random.randint(1,100)\n",
    "beta = random.randint(1,100)\n",
    "\n",
    "x = [random.randint(0,1) for _ in range(b)]\n",
    "y = [random.randint(0,1) for _ in range(b)]\n",
    "\n",
    "alpha_x = [alpha * elem for elem in x]\n",
    "beta_y = [beta * elem for elem in y]\n",
    "\n",
    "arr_alpha_beta = Transform3Dto1D(theta(Transform1Dto3D(XOR1D(alpha_x,beta_y))))\n",
    "\n",
    "arr_alpha = [alpha * elem for elem in Transform3Dto1D(theta(Transform1Dto3D(x)))]\n",
    "arr_beta = [beta * elem for elem in Transform3Dto1D(theta(Transform1Dto3D(y)))]\n",
    "\n",
    "arr = XOR1D(arr_alpha, arr_beta)\n",
    "\n",
    "arr == arr_alpha_beta"
   ]
  },
  {
   "cell_type": "markdown",
   "id": "1519e9f7",
   "metadata": {
    "slideshow": {
     "slide_type": "skip"
    }
   },
   "source": [
    "## <font color='red'>Задание 3*.</font>\n",
    "Найти коллизии функции $\\theta(A).$ Первому решившему +1 балл к экзаменационной оценке. "
   ]
  },
  {
   "cell_type": "markdown",
   "id": "3e50da26",
   "metadata": {
    "slideshow": {
     "slide_type": "skip"
    }
   },
   "source": [
    "## <font color='red'>Задание 4.</font>\n",
    "\n",
    "Рассмотрим две функции `theta(A)` и `theta2(A)`, код которых указан ниже. Они отличаются тем, что в `theta(A)` результат записывается в новую переменную $A\\_out,$ а в функции `theta2(A)` результат записывается во входящую переменную $A.$ Объяснить, почему  \n",
    "`print(theta(A) == theta2(A))`  \n",
    "`True`  \n",
    "но если поменять очередность функций, то результат сравнения иной  \n",
    "`print(theta2(A) == theta(A))`  \n",
    "`False`\n",
    "\n",
    "\n"
   ]
  },
  {
   "cell_type": "code",
   "execution_count": 33,
   "id": "0ddb4aa0",
   "metadata": {
    "slideshow": {
     "slide_type": "skip"
    }
   },
   "outputs": [
    {
     "name": "stdout",
     "output_type": "stream",
     "text": [
      "True\n",
      "False\n"
     ]
    }
   ],
   "source": [
    "def theta(A):\n",
    "    A_out = [[[0]*w for _ in range(5)] for _ in range(5)]\n",
    "    C = [[0]*w for _ in range(5)]\n",
    "    D = [[0]*w for _ in range(5)]\n",
    "    for x in range(5):\n",
    "        for z in range(w):\n",
    "            C[x][z] = A[x][0][z]^A[x][1][z]^A[x][2][z]^A[x][3][z]^A[x][4][z] \n",
    "    for x in range(5):\n",
    "        for z in range(w):\n",
    "            D[x][z] = C[x-1][z] ^ C[(x+1)%5][z-1]\n",
    "    for x in range(5):\n",
    "        for y in range(5):\n",
    "            for z in range(w):            \n",
    "                A_out[x][y][z] = A[x][y][z] ^ D[x][z]\n",
    "    return A_out\n",
    "\n",
    "def theta2(A):\n",
    "    C = [[0]*w for _ in range(5)]\n",
    "    D = [[0]*w for _ in range(5)]\n",
    "    for x in range(5):\n",
    "        for z in range(w):\n",
    "            C[x][z] = A[x][0][z]^A[x][1][z]^A[x][2][z]^A[x][3][z]^A[x][4][z] \n",
    "    for x in range(5):\n",
    "        for z in range(w):\n",
    "            D[x][z] = C[x-1][z] ^ C[(x+1)%5][z-1]\n",
    "    for x in range(5):\n",
    "        for y in range(5):\n",
    "            for z in range(w):            \n",
    "                A[x][y][z] = A[x][y][z] ^ D[x][z]\n",
    "    return A\n",
    "\n",
    "S = [random.randint(0,1) for _ in range(b)]\n",
    "A = Transform1Dto3D(S)\n",
    "\n",
    "print(theta(A) == theta2(A))\n",
    "print(theta2(A) == theta(A))"
   ]
  },
  {
   "cell_type": "markdown",
   "id": "80b47f08",
   "metadata": {},
   "source": [
    "Для объяснения удобно привести пример."
   ]
  },
  {
   "cell_type": "code",
   "execution_count": 34,
   "id": "41012e51",
   "metadata": {},
   "outputs": [],
   "source": [
    "array = [0,0]\n",
    "\n",
    "def th(array):\n",
    "    array_copy = array.copy()\n",
    "    array_copy[0] += 1\n",
    "    return array_copy\n",
    "\n",
    "def th2(array):\n",
    "    array[0] += 1\n",
    "    return array\n",
    "\n",
    "array_1 = th(array)  # array == [0,0], array_1 == [1,0]\n",
    "array_2 = th2(array)  # array == array_1 == array_2 == [1,0]"
   ]
  },
  {
   "cell_type": "markdown",
   "id": "486cc971",
   "metadata": {},
   "source": [
    "Таким образом после первого применения функций будем иметь следующее."
   ]
  },
  {
   "cell_type": "code",
   "execution_count": 35,
   "id": "8d717c5b",
   "metadata": {},
   "outputs": [
    {
     "data": {
      "text/plain": [
       "True"
      ]
     },
     "execution_count": 35,
     "metadata": {},
     "output_type": "execute_result"
    }
   ],
   "source": [
    "array_1 == array_2"
   ]
  },
  {
   "cell_type": "markdown",
   "id": "4468853a",
   "metadata": {},
   "source": [
    "В дальнейшем, так как массив не переопределялся, работаем с преобразованным массивом, равным $array = [1,0]$."
   ]
  },
  {
   "cell_type": "code",
   "execution_count": 36,
   "id": "6d252027",
   "metadata": {},
   "outputs": [
    {
     "data": {
      "text/plain": [
       "False"
      ]
     },
     "execution_count": 36,
     "metadata": {},
     "output_type": "execute_result"
    }
   ],
   "source": [
    "array_3 = th2(array)  # array == array_3 == [2,0]\n",
    "array_4 = th(array)  # array == [2,0], array_4 == [3,0]\n",
    "\n",
    "array_3 == array_4"
   ]
  },
  {
   "cell_type": "markdown",
   "id": "33b9e877",
   "metadata": {},
   "source": [
    "Из приведённого выше примера видна зависимость от порядка применения функций и значения переменной, объясняющая результат, представленный в условии задания."
   ]
  },
  {
   "cell_type": "markdown",
   "id": "f55b3bde",
   "metadata": {
    "slideshow": {
     "slide_type": "slide"
    }
   },
   "source": [
    "## Algorithm 2: ρ(A)  \n",
    "*Input:* $A$ - state array  \n",
    "*Output:* $A'$ - state array  \n",
    "\n",
    "1.  For all z such that $0 ≤ z < w,$ let \n",
    "$$\n",
    "  A′ [0, 0, z] = A[0, 0, z].\n",
    "$$  \n",
    "2.  Let \n",
    "$$(x, y) = (1, 0).$$\n",
    "3.   For t from 0 to 23:  \n",
    "$\\qquad a.$  for all z such that $0 ≤ z < w,$ let \n",
    "$$\n",
    "  A′[x, y, z] =  A[x, y, (z – (t + 1)(t + 2)/2) \\mod w];\n",
    "$$  \n",
    "$\\qquad b.$  let \n",
    "$$\n",
    "  (x, y) = (y, (2x + 3y) \\mod 5).\n",
    "$$  \n",
    "4. Return $A′.$"
   ]
  },
  {
   "cell_type": "markdown",
   "id": "11c3b238",
   "metadata": {},
   "source": [
    "Функция $\\rho(A)$ каким-то образом преобразовывает 3-мерный массив."
   ]
  },
  {
   "cell_type": "code",
   "execution_count": 37,
   "id": "5937c970",
   "metadata": {
    "slideshow": {
     "slide_type": "subslide"
    }
   },
   "outputs": [],
   "source": [
    "def rho(A_in):\n",
    "    A_out = [[[0]*w for _ in range(5)] for _ in range(5)]\n",
    "    for z in range(w):\n",
    "        A_out[0][0][z] = A_in[0][0][z]\n",
    "    (x,y) = (1,0)\n",
    "    for t in range(24):\n",
    "        for z in range(w):\n",
    "            A_out[x][y][z] = A_in[x][y][(z - (t+1)*(t+2)//2) % w]\n",
    "        (x, y) = (y, (2*x + 3*y) % 5)\n",
    "    return A_out"
   ]
  },
  {
   "cell_type": "markdown",
   "id": "ba5e294c",
   "metadata": {
    "slideshow": {
     "slide_type": "subslide"
    }
   },
   "source": [
    "Посмотрим, как изменяется в Алгоритме 2 переменные $(x,y)$ при изменении t от 0 до 23"
   ]
  },
  {
   "cell_type": "code",
   "execution_count": 38,
   "id": "a963b764",
   "metadata": {
    "scrolled": true,
    "slideshow": {
     "slide_type": "-"
    }
   },
   "outputs": [
    {
     "name": "stdout",
     "output_type": "stream",
     "text": [
      "[(1, 0), (0, 2), (2, 1), (1, 2), (2, 3), (3, 3), (3, 0), (0, 1), (1, 3), (3, 1), (1, 4), (4, 4), (4, 0), (0, 3), (3, 4), (4, 3), (3, 2), (2, 2), (2, 0), (0, 4), (4, 2), (2, 4), (4, 1), (1, 1), (1, 0)]\n"
     ]
    }
   ],
   "source": [
    "(x,y) = (1,0)\n",
    "xy = [(x,y)]\n",
    "for t in range(24):\n",
    "    (x, y) = (y, (2*x + 3*y) % 5)\n",
    "    xy.append((x,y))\n",
    "#print(len(set(xy)))\n",
    "print(xy)"
   ]
  },
  {
   "cell_type": "markdown",
   "id": "b8536934",
   "metadata": {
    "slideshow": {
     "slide_type": "-"
    }
   },
   "source": [
    "Мы получили 24 различных комбинации вида \n",
    "$$(x,y),\\quad 0\\leq x,y<5.\n",
    "$$\n",
    "Всего таких комбинаций $5\\times 5 = 25$ штук. Не хватает лишь комбинации $(0,0).$\n",
    "\n",
    "В алгоритме $\\rho(A)$ происходит перестановка элементов массива A по правилу  \n",
    "`A'[x][y][z] = A[x][y][(z - (t+1)*(t+2) // 2) % w]`  \n",
    "\n",
    "Найдем для каждой пары $(x,y)$ величину\n",
    "$$\n",
    "  ((t+1)*(t+2) / 2) \\mod w\n",
    "$$\n",
    "и запишем её в матрицу rhoMatrix"
   ]
  },
  {
   "cell_type": "code",
   "execution_count": 39,
   "id": "276719be",
   "metadata": {
    "slideshow": {
     "slide_type": "subslide"
    }
   },
   "outputs": [
    {
     "data": {
      "text/plain": [
       "[[0, 36, 3, 41, 18],\n",
       " [1, 44, 10, 45, 2],\n",
       " [62, 6, 43, 15, 61],\n",
       " [28, 55, 25, 21, 56],\n",
       " [27, 20, 39, 8, 14]]"
      ]
     },
     "execution_count": 39,
     "metadata": {},
     "output_type": "execute_result"
    }
   ],
   "source": [
    "rhoMatrix = [[0]*5 for _ in range(5)]\n",
    "(x,y) = (1,0)\n",
    "for t in range(24):\n",
    "    rhoMatrix[x][y] = (t+1)*(t+2)//2 % w \n",
    "    (x, y) = (y, (2*x + 3*y) % 5)\n",
    "\n",
    "rhoMatrix"
   ]
  },
  {
   "cell_type": "markdown",
   "id": "5540c170",
   "metadata": {
    "slideshow": {
     "slide_type": "subslide"
    }
   },
   "source": [
    "Теперь алгоритм $\\rho(A)$ можно переписать в виде\n",
    "## Algorithm 2: ρ(A)  \n",
    "*Input:* $A$ - state array  \n",
    "*Output:* $A'$ - state array  \n",
    "\n",
    "1.  For all triples $(x, y, z)$ such that $0 ≤ x < 5,$ $0 ≤ y < 5,$ and $0 ≤ z < w,$ let\n",
    "$$\n",
    "  A′[x, y, z]= A[x, y, z -rhoMatrix[x,y]].\n",
    "$$  \n",
    "2.  Return $A′.$ \n",
    "\n",
    "В каждом \n",
    "$$\n",
    "  Lane(x,y):=A(x,y,0)||A(x,y,1)||\\dots||A(x,y,w-1)\n",
    "$$\n",
    "происходит циклический сдвиг элементов на на величину $rhoMatrix[x,y].$"
   ]
  },
  {
   "cell_type": "code",
   "execution_count": 40,
   "id": "242b786c",
   "metadata": {
    "slideshow": {
     "slide_type": "subslide"
    }
   },
   "outputs": [
    {
     "data": {
      "text/plain": [
       "True"
      ]
     },
     "execution_count": 40,
     "metadata": {},
     "output_type": "execute_result"
    }
   ],
   "source": [
    "S = [random.randint(0,1) for _ in range(b)]\n",
    "A = Transform1Dto3D(S)\n",
    "\n",
    "def rho2(A_in):\n",
    "    A_out = [[[0]*w for _ in range(5)] for _ in range(5)]\n",
    "    for x in range(5):\n",
    "        for y in range(5):\n",
    "            for z in range(w):\n",
    "                A_out[x][y][z] = A_in[x][y][z - rhoMatrix[x][y]]\n",
    "\n",
    "    return A_out\n",
    "rho2(A) == rho(A)"
   ]
  },
  {
   "cell_type": "code",
   "execution_count": 41,
   "id": "dba6c69d",
   "metadata": {
    "scrolled": true,
    "slideshow": {
     "slide_type": "-"
    }
   },
   "outputs": [
    {
     "name": "stdout",
     "output_type": "stream",
     "text": [
      "--- 0.824211597442627 seconds ---\n",
      "--- 0.602708101272583 seconds ---\n"
     ]
    }
   ],
   "source": [
    "import time\n",
    "start_time = time.time()\n",
    "for _ in range(3000):\n",
    "    rho(A) \n",
    "print(\"--- %s seconds ---\" % (time.time() - start_time))\n",
    "start_time = time.time()\n",
    "for _ in range(3000):\n",
    "    rho2(A)\n",
    "print(\"--- %s seconds ---\" % (time.time() - start_time))"
   ]
  },
  {
   "cell_type": "markdown",
   "id": "e91199bf",
   "metadata": {
    "slideshow": {
     "slide_type": "-"
    }
   },
   "source": [
    "Видим, что с использованием вычисленной заранее функции rhoMatrix алгоритм работает быстрее"
   ]
  },
  {
   "cell_type": "markdown",
   "id": "c409456b",
   "metadata": {
    "slideshow": {
     "slide_type": "subslide"
    }
   },
   "source": [
    "## Шифр перестановки\n",
    "Шифр перестано́вки — это метод симметричного шифрования, в котором элементы исходного открытого текста меняют местами."
   ]
  },
  {
   "cell_type": "code",
   "execution_count": 42,
   "id": "bce91782",
   "metadata": {
    "slideshow": {
     "slide_type": "-"
    }
   },
   "outputs": [
    {
     "name": "stdout",
     "output_type": "stream",
     "text": [
      "Message =  message\n",
      "key =  [6, 1, 0, 5, 4, 2, 3]\n",
      "Chiper =  eemgass\n",
      "Wort = message\n"
     ]
    }
   ],
   "source": [
    "Message = 'message'\n",
    "print('Message = ', Message)\n",
    "\n",
    "from random import shuffle\n",
    "key = list(range(len(Message)))\n",
    "shuffle(key)  # перемешивание \n",
    "print('key = ', key)\n",
    "\n",
    "Chiper = ''\n",
    "for i in key:\n",
    "    Chiper += Message[i]\n",
    "print('Chiper = ',Chiper)\n",
    "\n",
    "key.sort()  # в этом примере для дешифровки достаточно восстановить порядок следования букв\n",
    "wort = ''\n",
    "\n",
    "for i in key:\n",
    "    wort += Message[i]\n",
    "    \n",
    "print(f'Wort = {wort}')"
   ]
  },
  {
   "cell_type": "markdown",
   "id": "c6f05a54",
   "metadata": {
    "slideshow": {
     "slide_type": "skip"
    }
   },
   "source": [
    "## <font color='red'>Задание 5.</font>\n",
    "\n",
    "Является ли $\\;rho(A)\\;$ шифром перестановки? Как расшифровать шифротекст $\\;Chiper$\n",
    "$$\n",
    "  Chiper = rho(A)?\n",
    "$$  "
   ]
  },
  {
   "cell_type": "markdown",
   "id": "36cd710e",
   "metadata": {},
   "source": [
    "$rho(A)$ является шифром перестановки, поскольку элементы исходного открытого 3-мерного массива меняются местами по определённому закону.\n",
    "\n",
    "Рассмотрим наглядный пример работы функции $rho2(A)$, а именно в тот момент, когда $x = 0, y = 1, z = 0, ..., 63$. Получим, что элементы в строке $z$ меняются следующим образом: $0 \\rightarrow (-36), ..., 63 \\rightarrow 27$. Для того, чтобы расшифровать сообщение необходимо изменить порядок шествия элементов. То есть в выходной строке z_out (-36)-й элемент будет взят с 0-й позиции в зашифрованной строке $z$. Действуя так для всех строк $z \\in [0,63]$, получим исходную (расшифрованную) строку. \n",
    "\n",
    "Начальное сообщение получается соответствующими перестановками для всех $x, y \\in [0,5]$."
   ]
  },
  {
   "cell_type": "code",
   "execution_count": 43,
   "id": "a018e135",
   "metadata": {},
   "outputs": [
    {
     "data": {
      "text/plain": [
       "True"
      ]
     },
     "execution_count": 43,
     "metadata": {},
     "output_type": "execute_result"
    }
   ],
   "source": [
    "S = [random.randint(0,1) for _ in range(b)]\n",
    "A = Transform1Dto3D(S)\n",
    "\n",
    "Chiper = rho2(A)\n",
    "\n",
    "def rho_reverse(Chiper):\n",
    "    Chiper_out = [[[0]*w for _ in range(5)] for _ in range(5)]  # задаём выходной массив\n",
    "\n",
    "    for x in range(5):\n",
    "        for y in range(5):\n",
    "            for z in range(w):\n",
    "                Chiper_out[x][y][z - rhoMatrix[x][y]] = Chiper[x][y][z]\n",
    "                \n",
    "    return Chiper_out\n",
    "            \n",
    "rho_reverse(Chiper) == A"
   ]
  },
  {
   "cell_type": "markdown",
   "id": "ba9965d9",
   "metadata": {
    "slideshow": {
     "slide_type": "subslide"
    }
   },
   "source": [
    "## Algorithm 3: $\\bf\\pi(A)$  \n",
    "Функция $\\pi(A)$ является перестановкой списков $A[x][y]$ длины $w=64.$\n",
    "\n",
    "\n",
    "*Input:* $A$ - state array  \n",
    "*Output:* $A'$ - state array  \n",
    "\n",
    "1.  For all triples $(x, y, z)$ such that $0 ≤ x < 5,$ $0 ≤ y < 5,$ and $0 ≤ z < w,$ let\n",
    "$$\n",
    "  A′[x, y, z]= A[(x + 3y) \\mod 5, x, z].\n",
    "$$  \n",
    "2.  Return $A′.$ "
   ]
  },
  {
   "cell_type": "code",
   "execution_count": 44,
   "id": "361f8c72",
   "metadata": {
    "slideshow": {
     "slide_type": "-"
    }
   },
   "outputs": [],
   "source": [
    "def pi(A_in):\n",
    "    A_out = [[[0]*w for _ in range(5)] for _ in range(5)]\n",
    "    for x in range(5):\n",
    "        for y in range(5):\n",
    "            for z in range(w):\n",
    "                A_out[x][y][z] = A_in[(x + 3*y) % 5][x][z]\n",
    "    return A_out"
   ]
  },
  {
   "cell_type": "markdown",
   "id": "ecc88c7f",
   "metadata": {
    "slideshow": {
     "slide_type": "skip"
    }
   },
   "source": [
    "## <font color='red'>Задание 6.</font>\n",
    "\n",
    "Является ли функция $\\pi(A)$ линейной?  Найти функцию $\\pi^{-1}(A).$\n",
    "\n"
   ]
  },
  {
   "cell_type": "markdown",
   "id": "744908e7",
   "metadata": {},
   "source": [
    "Функцию $f:X\\rightarrow K$ называют <font color=blue>линейной</font>, если $\\forall x,y\\in X$ $\\forall \\alpha,\\beta\\in K$  справедливо равенство\n",
    "$$\n",
    "  f(\\alpha x+\\beta y)=\\alpha f(x)+\\beta f(y).\n",
    "$$ \n",
    "Так как установить линейность для всех значений $x, y \\in X$ и для всех $\\alpha,\\beta \\in K$ невозможно, проверим выполнение свойства для случайных значений $x, y$ и для случайных $\\alpha,\\beta$."
   ]
  },
  {
   "cell_type": "code",
   "execution_count": 45,
   "id": "fe28cd60",
   "metadata": {},
   "outputs": [
    {
     "data": {
      "text/plain": [
       "True"
      ]
     },
     "execution_count": 45,
     "metadata": {},
     "output_type": "execute_result"
    }
   ],
   "source": [
    "alpha = random.randint(1,100)\n",
    "beta = random.randint(1,100)\n",
    "\n",
    "x = [random.randint(0,1) for _ in range(b)]\n",
    "y = [random.randint(0,1) for _ in range(b)]\n",
    "\n",
    "alpha_x = [alpha * elem for elem in x]\n",
    "beta_y = [beta * elem for elem in y]\n",
    "\n",
    "arr_alpha_beta = Transform3Dto1D(pi(Transform1Dto3D(XOR1D(alpha_x,beta_y))))\n",
    "\n",
    "arr_alpha = [alpha * elem for elem in Transform3Dto1D(pi(Transform1Dto3D(x)))]\n",
    "arr_beta = [beta * elem for elem in Transform3Dto1D(pi(Transform1Dto3D(y)))]\n",
    "\n",
    "arr = XOR1D(arr_alpha, arr_beta)\n",
    "\n",
    "arr == arr_alpha_beta"
   ]
  },
  {
   "cell_type": "markdown",
   "id": "8ee3802d",
   "metadata": {},
   "source": [
    "Функция $\\pi^{-1}(A)$ возвращает расшифрованое сообщение, зашифрованое функцией $\\pi(A)$."
   ]
  },
  {
   "cell_type": "code",
   "execution_count": 46,
   "id": "6097bf93",
   "metadata": {},
   "outputs": [
    {
     "data": {
      "text/plain": [
       "True"
      ]
     },
     "execution_count": 46,
     "metadata": {},
     "output_type": "execute_result"
    }
   ],
   "source": [
    "S = [random.randint(0,1) for _ in range(b)]\n",
    "A = Transform1Dto3D(S)\n",
    "\n",
    "Chiper = pi(A)\n",
    "\n",
    "def pi_reverse(Chiper):\n",
    "    Chiper_out = [[[0]*w for _ in range(5)] for _ in range(5)]\n",
    "    \n",
    "    for x in range(5):\n",
    "        for y in range(5):\n",
    "            for z in range(w):\n",
    "                Chiper_out[(x + 3*y) % 5][x][z] = Chiper[x][y][z]\n",
    "                \n",
    "    return Chiper_out\n",
    "    \n",
    "pi_reverse(Chiper) == A"
   ]
  },
  {
   "cell_type": "markdown",
   "id": "8d0f0cf8",
   "metadata": {
    "slideshow": {
     "slide_type": "subslide"
    }
   },
   "source": [
    "## Algorithm 4: $\\bf \\chi(A) $ \n",
    "*Input:* $A$ - state array  \n",
    "*Output:* $A'$ - state array  \n",
    "\n",
    "1.  For all triples $(x, y, z)$ such that $0 ≤ x < 5,$ $0 ≤ y < 5,$ and $0 ≤ z < w,$ let\n",
    "$$\n",
    "A′ [x, y, z] = A[x, y, z] ⊕ ((A[(x+1) \\mod 5, y, z] ⊕ 1) ⋅  A[(x+2) \\mod 5, y, z]).\n",
    "$$\n",
    "2.  Return $A′.$\n",
    "\n",
    "The dot in the right side of the assignment for Step 1 indicates integer multiplication, which in this case is equivalent to the intended Boolean “AND” operation."
   ]
  },
  {
   "cell_type": "code",
   "execution_count": 47,
   "id": "f636738a",
   "metadata": {
    "slideshow": {
     "slide_type": "-"
    }
   },
   "outputs": [],
   "source": [
    "def chi(A):\n",
    "    A_out = [[[0]*w for _ in range(5)] for _ in range(5)]\n",
    "    for x in range(5):\n",
    "        for y in range(5):\n",
    "            for z in range(w):\n",
    "                A_out[x][y][z] = A[x][y][z] ^ ((A[(x+1)%5][y][z] ^ 1) & A[(x+2)%5][y][z]) \n",
    "    return A_out"
   ]
  },
  {
   "cell_type": "markdown",
   "id": "fd09814b",
   "metadata": {
    "slideshow": {
     "slide_type": "skip"
    }
   },
   "source": [
    "## <font color='red'>Задание 7.</font>\n",
    "\n",
    "Является ли функция $\\chi(A)$ линейной?"
   ]
  },
  {
   "cell_type": "markdown",
   "id": "ed975632",
   "metadata": {},
   "source": [
    "Функцию $f:X\\rightarrow K$ называют <font color=blue>линейной</font>, если $\\forall x,y\\in X$ $\\forall \\alpha,\\beta\\in K$  справедливо равенство\n",
    "$$\n",
    "  f(\\alpha x+\\beta y)=\\alpha f(x)+\\beta f(y).\n",
    "$$ \n",
    "Так как установить линейность для всех значений $x, y \\in X$ и для всех $\\alpha,\\beta \\in K$ невозможно, проверим выполнение свойства для случайных значений $x, y$ и для случайных $\\alpha,\\beta$."
   ]
  },
  {
   "cell_type": "code",
   "execution_count": 48,
   "id": "b819686e",
   "metadata": {},
   "outputs": [
    {
     "data": {
      "text/plain": [
       "False"
      ]
     },
     "execution_count": 48,
     "metadata": {},
     "output_type": "execute_result"
    }
   ],
   "source": [
    "alpha = random.randint(1,100)\n",
    "beta = random.randint(1,100)\n",
    "\n",
    "x = [random.randint(0,1) for _ in range(b)]\n",
    "y = [random.randint(0,1) for _ in range(b)]\n",
    "\n",
    "alpha_x = [alpha * elem for elem in x]\n",
    "beta_y = [beta * elem for elem in y]\n",
    "\n",
    "arr_alpha_beta = Transform3Dto1D(chi(Transform1Dto3D(XOR1D(alpha_x,beta_y))))\n",
    "\n",
    "arr_alpha = [alpha * elem for elem in Transform3Dto1D(chi(Transform1Dto3D(x)))]\n",
    "arr_beta = [beta * elem for elem in Transform3Dto1D(chi(Transform1Dto3D(y)))]\n",
    "\n",
    "arr = XOR1D(arr_alpha, arr_beta)\n",
    "\n",
    "arr == arr_alpha_beta"
   ]
  },
  {
   "cell_type": "markdown",
   "id": "a998b49e",
   "metadata": {
    "slideshow": {
     "slide_type": "subslide"
    }
   },
   "source": [
    "## Гаммирование\n",
    "Гамми́рование, или Шифр XOR, — метод симметричного шифрования, заключающийся в «наложении» последовательности, состоящей из случайных чисел, на открытый текст. Последовательность случайных чисел называется гамма-последовательностью и используется для зашифровывания и расшифровывания данных.\n",
    "\n",
    "**Шифрование**\n",
    "$$\n",
    "  cipher=Encryption(message,\\gamma)=message\\oplus\\gamma\n",
    "$$  \n",
    "\n",
    "**Дешифрование**\n",
    "$$\n",
    "  Decryption(cipher,\\gamma)=cipher\\oplus\\gamma=message\\oplus\\gamma\\oplus\\gamma=message\n",
    "$$\n",
    "\n",
    "Так как $\\gamma\\oplus\\gamma = 0,$ $\\quad message\\oplus 0 = message$"
   ]
  },
  {
   "cell_type": "markdown",
   "id": "72e440bd",
   "metadata": {
    "slideshow": {
     "slide_type": "subslide"
    }
   },
   "source": [
    "## Algorithm 5:  rc(t)  \n",
    "\n",
    "Рассмотрим вспомогательную функцию $rc(t),$ которая будет гамма-последовательностью  для функции $\\iota(A, round)$\n",
    "\n",
    "*Input:* $t\\in\\mathbb{N}$  \n",
    "*Output:* $rc(t)\\in\\{0,1\\}.$\n",
    "\n",
    "1.$ $  If $\\;t \\mod 255 = 0,$ return 1.  \n",
    "2.$ $  Let $R = \"10000000\".$    \n",
    "3.$ $  For i from 1 to $t \\mod 255,$ let:       \n",
    "$\\qquad a.$  $R = 0 || R;$  \n",
    "$\\qquad b.$  $R[0] = R[0] ⊕ R[8];$  \n",
    "$\\qquad c.$  $R[4] = R[4] ⊕ R[8];$  \n",
    "$\\qquad d.$  $R[5] = R[5] ⊕ R[8];$  \n",
    "$\\qquad e.$  $R[6] = R[6] ⊕ R[8];$  \n",
    "$\\qquad f.$  $R =Trunc_8[R].$  \n",
    "4.$ $  Return $R[0].$\n",
    "\n"
   ]
  },
  {
   "cell_type": "code",
   "execution_count": 49,
   "id": "47f8b559",
   "metadata": {
    "slideshow": {
     "slide_type": "subslide"
    }
   },
   "outputs": [],
   "source": [
    "def Rc(t):\n",
    "    if t%255 == 0:\n",
    "        return 1\n",
    "    R = [1,0,0,0,0,0,0,0]\n",
    "    for i in range(1,(t%255)+1):\n",
    "        R = [0]+R\n",
    "        R[0] = R[0]^R[8]\n",
    "        R[4] = R[4]^R[8]\n",
    "        R[5] = R[5]^R[8]\n",
    "        R[6] = R[6]^R[8]\n",
    "        R = R[:8]\n",
    "    return R[0]       "
   ]
  },
  {
   "cell_type": "markdown",
   "id": "c2e7223b",
   "metadata": {
    "slideshow": {
     "slide_type": "subslide"
    }
   },
   "source": [
    "## Algorithm 6: $\\bf\\iota(A, round)$  \n",
    "*Input:* $A$ - state array;  \n",
    "$\\qquad round\\in\\mathbb{Z}$ - значение итерационной переменной из функции $Sponge.$         \n",
    "\n",
    "*Output:* $A'$ - state array  \n",
    "\n",
    "1.  For all triples $(x, y, z)$ such that $0 ≤ x < 5,$ $0 ≤ y < 5,$ and $0 ≤ z < w,$ let \n",
    "$$\n",
    "  A′[x, y, z] = A[x, y, z].\n",
    "$$  \n",
    "2.  Let $RC = 0^w.$  \n",
    "3.  For j from 0 to $l=6,$ let \n",
    "$$\n",
    "  RC[2^j – 1] = rc(j + 7i_r).\n",
    "$$  \n",
    "4.  For all z such that $0 ≤ z < w,$ let \n",
    "$$\n",
    "  A′ [0, 0, z] = A′ [0, 0, z] ⊕ RC[z].\n",
    "$$\n",
    "5.  Return $A′.$\n"
   ]
  },
  {
   "cell_type": "code",
   "execution_count": 50,
   "id": "fe085819",
   "metadata": {
    "slideshow": {
     "slide_type": "subslide"
    }
   },
   "outputs": [],
   "source": [
    "def iota2(A_in, round):\n",
    "    A_out = A_in.copy()\n",
    "    \n",
    "    # следующие 3 строки - вычисление гамма-последовательности\n",
    "    RC = [0]*w\n",
    "    for j in range(l+1):\n",
    "        RC[2**j-1] = Rc(j+7*round)\n",
    "    \n",
    "    for z in range(w):\n",
    "        A_out[0][0][z] = A_out[0][0][z] ^ RC[z]\n",
    "    return A_out"
   ]
  },
  {
   "cell_type": "markdown",
   "id": "7d6f265d",
   "metadata": {
    "slideshow": {
     "slide_type": "subslide"
    }
   },
   "source": [
    "Функция $\\iota(A,round)$ это наложение гаммы на строку $A(0,0).$\n",
    "При этом на каждом раунде берутся разные значения гаммы, но гамма не зависит от $A,$ поэтому вычислим её заранее  "
   ]
  },
  {
   "cell_type": "code",
   "execution_count": 51,
   "id": "24cce96f",
   "metadata": {
    "slideshow": {
     "slide_type": "-"
    }
   },
   "outputs": [
    {
     "name": "stdout",
     "output_type": "stream",
     "text": [
      "[1, 0, 0, 0, 0, 0, 0, 0, 1, 0, 1, 1, 0, 0, 0, 1, 1, 1, 1, 0, 1, 0, 0, 0, 0, 1, 1, 1, 1, 1, 1, 1, 1, 0, 0, 1, 0, 0, 0, 0, 1, 0, 1, 0, 0, 1, 1, 1, 1, 1, 0, 1, 0, 1, 0, 1, 0, 1, 1, 1, 0, 0, 0, 0, 0, 1, 1, 0, 0, 0, 1, 0, 1, 0, 1, 1, 0, 0, 1, 1, 0, 0, 1, 0, 1, 1, 1, 1, 1, 1, 0, 1, 1, 1, 1, 0, 0, 1, 1, 0, 1, 1, 1, 0, 1, 1, 1, 0, 0, 1, 0, 1, 0, 1, 0, 0, 1, 0, 1, 0, 0, 0, 1, 0, 0, 1, 0, 1, 1, 0, 1, 0, 0, 0, 1, 1, 0, 0, 1, 1, 1, 0, 0, 1, 1, 1, 1, 0, 0, 0, 1, 1, 0, 1, 1, 0, 0, 0, 0, 1, 0, 0, 0, 1, 0, 1, 1, 1, 0, 1, 0, 1, 1, 1, 1, 0, 1, 1, 0, 1, 1, 1, 1, 1, 0, 0, 0, 0, 1, 1, 0, 1, 0, 0, 1, 1, 0, 1, 0, 1, 1, 0, 1, 1, 0, 1, 0, 1, 0, 0, 0, 0, 0, 1, 0, 0, 1, 1, 1, 0, 1, 1, 0, 0, 1, 0, 0, 1, 0, 0, 1, 1, 0, 0, 0, 0, 0, 0, 1, 1, 1, 0, 1, 0, 0, 1, 0, 0, 0, 1, 1, 1, 0, 0, 0]\n"
     ]
    }
   ],
   "source": [
    "R = [1,0,0,0,0,0,0,0]\n",
    "rc = [1]\n",
    "for i in range(1,255):\n",
    "        R = [0]+R\n",
    "        R[0] = R[0]^R[8]\n",
    "        R[4] = R[4]^R[8]\n",
    "        R[5] = R[5]^R[8]\n",
    "        R[6] = R[6]^R[8]\n",
    "        R = R[:8]\n",
    "        rc.append(R[0])\n",
    "print(rc)   "
   ]
  },
  {
   "cell_type": "markdown",
   "id": "02eff0e5",
   "metadata": {
    "slideshow": {
     "slide_type": "subslide"
    }
   },
   "source": [
    "После чего функция $\\iota(A,round)$ примет вид"
   ]
  },
  {
   "cell_type": "code",
   "execution_count": 52,
   "id": "1c40e109",
   "metadata": {
    "slideshow": {
     "slide_type": "-"
    }
   },
   "outputs": [],
   "source": [
    "def iota(A, round):\n",
    "    rc = [1,0,0,0,0,0,0,0,1,0,1,1,0,0,0,1,1,\n",
    "          1,1,0,1,0,0,0,0,1,1,1,1,1,1,1,1,0,\n",
    "          0,1,0,0,0,0,1,0,1,0,0,1,1,1,1,1,0,\n",
    "          1,0,1,0,1,0,1,1,1,0,0,0,0,0,1,1,0,\n",
    "          0,0,1,0,1,0,1,1,0,0,1,1,0,0,1,0,1,\n",
    "          1,1,1,1,1,0,1,1,1,1,0,0,1,1,0,1,1,\n",
    "          1,0,1,1,1,0,0,1,0,1,0,1,0,0,1,0,1,\n",
    "          0,0,0,1,0,0,1,0,1,1,0,1,0,0,0,1,1,\n",
    "          0,0,1,1,1,0,0,1,1,1,1,0,0,0,1,1,0,\n",
    "          1,1,0,0,0,0,1,0,0,0,1,0,1,1,1,0,1,\n",
    "          0,1,1,1,1,0,1,1,0,1,1,1,1,1,0,0,0,\n",
    "          0,1,1,0,1,0,0,1,1,0,1,0,1,1,0,1,1,\n",
    "          0,1,0,1,0,0,0,0,0,1,0,0,1,1,1,0,1,\n",
    "          1,0,0,1,0,0,1,0,0,1,1,0,0,0,0,0,0,\n",
    "          1,1,1,0,1,0,0,1,0,0,0,1,1,1,0,0,0]\n",
    "    \n",
    "    for j in range(l+1):\n",
    "        A[0][0][2**j-1] = A[0][0][2**j-1] ^ rc[(j+7*round)%255] \n",
    "    return A"
   ]
  },
  {
   "cell_type": "markdown",
   "id": "5eab9102",
   "metadata": {
    "slideshow": {
     "slide_type": "-"
    }
   },
   "source": [
    "  ## <font color='red'>Задание 8.</font>\n",
    "\n",
    "Является ли функция $\\iota(A)$ линейной?  Как найти обратную к $\\iota(A)$? "
   ]
  },
  {
   "cell_type": "markdown",
   "id": "c5519996",
   "metadata": {},
   "source": [
    "Функцию $f:X\\rightarrow K$ называют <font color=blue>линейной</font>, если $\\forall x,y\\in X$ $\\forall \\alpha,\\beta\\in K$  справедливо равенство\n",
    "$$\n",
    "  f(\\alpha x+\\beta y)=\\alpha f(x)+\\beta f(y).\n",
    "$$ \n",
    "Так как установить линейность для всех значений $x, y \\in X$ и для всех $\\alpha,\\beta \\in K$ невозможно, проверим выполнение свойства для случайных значений $x, y$ и для случайных $\\alpha,\\beta$."
   ]
  },
  {
   "cell_type": "code",
   "execution_count": 53,
   "id": "ac18c13f",
   "metadata": {},
   "outputs": [
    {
     "data": {
      "text/plain": [
       "False"
      ]
     },
     "execution_count": 53,
     "metadata": {},
     "output_type": "execute_result"
    }
   ],
   "source": [
    "round = random.randint(0,99)  \n",
    "\n",
    "alpha = random.randint(1,100)\n",
    "beta = random.randint(1,100)\n",
    "\n",
    "x = [random.randint(0,1) for _ in range(b)]\n",
    "y = [random.randint(0,1) for _ in range(b)]\n",
    "\n",
    "alpha_x = [alpha * elem for elem in x]\n",
    "beta_y = [beta * elem for elem in y]\n",
    "\n",
    "arr_alpha_beta = Transform3Dto1D(iota(Transform1Dto3D(XOR1D(alpha_x,beta_y)),round))\n",
    "\n",
    "arr_alpha = [alpha * elem for elem in Transform3Dto1D(iota(Transform1Dto3D(x),round))]\n",
    "arr_beta = [beta * elem for elem in Transform3Dto1D(iota(Transform1Dto3D(y),round))]\n",
    "\n",
    "arr = XOR1D(arr_alpha, arr_beta)\n",
    "\n",
    "arr == arr_alpha_beta"
   ]
  },
  {
   "cell_type": "markdown",
   "id": "634f6cc0",
   "metadata": {},
   "source": [
    "Так как функция $\\iota(A,round)$ это наложение гаммы на строку $A(0,0)$ и на каждом раунде берутся разные значения гаммы, но гамма не зависит от $A,$ поэтому для того, чтобы получить исходный массив необходимо применить функцию дважды при одном и том же раунде."
   ]
  },
  {
   "cell_type": "code",
   "execution_count": 54,
   "id": "743b1645",
   "metadata": {},
   "outputs": [
    {
     "data": {
      "text/plain": [
       "True"
      ]
     },
     "execution_count": 54,
     "metadata": {},
     "output_type": "execute_result"
    }
   ],
   "source": [
    "x_new = iota(iota(Transform1Dto3D(x),round),round)\n",
    "Transform1Dto3D(x) == x_new"
   ]
  },
  {
   "cell_type": "markdown",
   "id": "bd662088",
   "metadata": {
    "slideshow": {
     "slide_type": "skip"
    }
   },
   "source": [
    " ## <font color='red'>Задание 9*.</font>\n",
    "Есть и альтернативный способ вычисления гамма-последовательности $rc,$ представленный ниже. Объяснить математически, почему rc=rc2. Первому решившему +1 балл к экзаменационной оценке.  "
   ]
  },
  {
   "cell_type": "code",
   "execution_count": 55,
   "id": "cbe0978e",
   "metadata": {
    "slideshow": {
     "slide_type": "skip"
    }
   },
   "outputs": [],
   "source": [
    "v=[1,0,0,0,0,0,0,0]\n",
    "rc2 = [v[0]]\n",
    "\n",
    "for _ in range(1,255):\n",
    "    v=[v[1],v[2],v[3],v[4],v[5],v[6],v[7],v[0] ^ v[4] ^ v[5] ^ v[6]];\n",
    "    rc2.append(v[0])\n",
    "\n",
    "    rc == rc2"
   ]
  },
  {
   "cell_type": "markdown",
   "id": "e6185037",
   "metadata": {
    "slideshow": {
     "slide_type": "skip"
    }
   },
   "source": [
    "## Соберем весь код функции SHA-3_256 в одну ячейку"
   ]
  },
  {
   "cell_type": "code",
   "execution_count": 56,
   "id": "2bf10e1b",
   "metadata": {
    "slideshow": {
     "slide_type": "skip"
    }
   },
   "outputs": [],
   "source": [
    "l = 6 \n",
    "b = 25*(2**l) \n",
    "w = 2**l\n",
    "\n",
    "def Transform1Dto3D(S):\n",
    "    A = [[[0]*w for _ in range(5)] for _ in range(5)]\n",
    "    for x in range(5):\n",
    "        for y in range(5):\n",
    "            for z in range(w):\n",
    "                A[x][y][z] = S[w*(5*y + x)+z]\n",
    "    return A\n",
    "\n",
    "def Transform3Dto1D(A):\n",
    "    S = [0]*(5*5*w)\n",
    "    for x in range(5):\n",
    "        for y in range(5):\n",
    "            for z in range(w):\n",
    "                S[w*(5*y + x)+z] = A[x][y][z]\n",
    "    return S\n",
    "\n",
    "def theta(A):\n",
    "    A_out = [[[0]*w for _ in range(5)] for _ in range(5)]\n",
    "    C = [[0]*w for _ in range(5)]\n",
    "    D = [[0]*w for _ in range(5)]\n",
    "    for x in range(5):\n",
    "        for z in range(w):\n",
    "            C[x][z] = A[x][0][z]^A[x][1][z]^A[x][2][z]^A[x][3][z]^A[x][4][z] \n",
    "    for x in range(5):\n",
    "        for z in range(w):\n",
    "            D[x][z] = C[x-1][z] ^ C[(x+1)%5][z-1]\n",
    "    for x in range(5):\n",
    "        for y in range(5):\n",
    "            for z in range(w):            \n",
    "                A_out[x][y][z] = A[x][y][z] ^ D[x][z]\n",
    "    return A_out\n",
    "\n",
    "def rho(A_in):\n",
    "    rhoMatrix = [[0, 36, 3, 41, 18], [1, 44, 10, 45, 2], [62, 6, 43, 15, 61], [28, 55, 25, 21, 56], [27, 20, 39, 8, 14]]\n",
    "    A_out = [[[0]*w for _ in range(5)] for _ in range(5)]\n",
    "    for x in range(5):\n",
    "        for y in range(5):\n",
    "            for z in range(w):\n",
    "                A_out[x][y][z] = A_in[x][y][z - rhoMatrix[x][y]]\n",
    "\n",
    "    return A_out\n",
    "\n",
    "def pi(A_in):\n",
    "    A_out = [[[0]*w for _ in range(5)] for _ in range(5)]\n",
    "    for x in range(5):\n",
    "        for y in range(5):\n",
    "            for z in range(w):\n",
    "                A_out[x][y][z] = A_in[(x + 3*y) % 5][x][z]\n",
    "    return A_out\n",
    "\n",
    "def chi(A):\n",
    "    A_out = [[[0]*w for _ in range(5)] for _ in range(5)]\n",
    "    for x in range(5):\n",
    "        for y in range(5):\n",
    "            for z in range(w):\n",
    "                A_out[x][y][z] = A[x][y][z] ^ ((A[(x+1)%5][y][z] ^ 1) & A[(x+2)%5][y][z]) \n",
    "    return A_out\n",
    "\n",
    "def iota(A, round):\n",
    "    rc = [1,0,0,0,0,0,0,0,1,0,1,1,0,0,0,1,1,\n",
    "          1,1,0,1,0,0,0,0,1,1,1,1,1,1,1,1,0,\n",
    "          0,1,0,0,0,0,1,0,1,0,0,1,1,1,1,1,0,\n",
    "          1,0,1,0,1,0,1,1,1,0,0,0,0,0,1,1,0,\n",
    "          0,0,1,0,1,0,1,1,0,0,1,1,0,0,1,0,1,\n",
    "          1,1,1,1,1,0,1,1,1,1,0,0,1,1,0,1,1,\n",
    "          1,0,1,1,1,0,0,1,0,1,0,1,0,0,1,0,1,\n",
    "          0,0,0,1,0,0,1,0,1,1,0,1,0,0,0,1,1,\n",
    "          0,0,1,1,1,0,0,1,1,1,1,0,0,0,1,1,0,\n",
    "          1,1,0,0,0,0,1,0,0,0,1,0,1,1,1,0,1,\n",
    "          0,1,1,1,1,0,1,1,0,1,1,1,1,1,0,0,0,\n",
    "          0,1,1,0,1,0,0,1,1,0,1,0,1,1,0,1,1,\n",
    "          0,1,0,1,0,0,0,0,0,1,0,0,1,1,1,0,1,\n",
    "          1,0,0,1,0,0,1,0,0,1,1,0,0,0,0,0,0,\n",
    "          1,1,1,0,1,0,0,1,0,0,0,1,1,1,0,0,0]\n",
    "    for j in range(l+1):\n",
    "        A[0][0][2**j-1] = A[0][0][2**j-1] ^ rc[(j+7*round)%255] \n",
    "    return A\n",
    "\n",
    "def Rnd(A, round):\n",
    "    return iota(chi(pi(rho(theta(A)))),round)\n",
    "\n",
    "def KECCAK_p(𝑆):\n",
    "    A = Transform1Dto3D(S)\n",
    "    for round in range(24):\n",
    "        A = Rnd(A,round)\n",
    "    return Transform3Dto1D(A)\n",
    "\n",
    "def Reverse(Z):\n",
    "    n = len(Z)//8\n",
    "    partition = [Z[i*8:(i+1)*8] for i in range(n)]\n",
    "    out = []\n",
    "    for i in range(n):\n",
    "        partition[i].reverse()\n",
    "        out += partition[i]\n",
    "    return out\n",
    "\n",
    "def pad101(r, m):\n",
    "    j = (-m-2) % r\n",
    "    return [1] + [0]*j + [1]\n",
    "\n",
    "def Sponge(r,N,d):\n",
    "    P = N + pad101(r,len(N))\n",
    "    n = len(P)//r\n",
    "    c = b - r\n",
    "    S =[0]*b\n",
    "    for i in range(n):\n",
    "        Pi = P[i*r:(i+1)*r]\n",
    "        for j in range(r):\n",
    "            S[j] = S[j]^Pi[j]\n",
    "        S = KECCAK_p(S)\n",
    "    Z = S[:r]\n",
    "    while d>len(Z):\n",
    "        S = KECCAK_p(S)\n",
    "        Z = Z+S[:r]\n",
    "    Z = Reverse(Z)    \n",
    "    return Z[:d]\n",
    "\n",
    "def Keccak(c,N,d):\n",
    "    return Sponge(1600-c,N,d)\n",
    "\n",
    "\n",
    "def ord2(alpha):\n",
    "    bits = [int(i) for i in bin(ord(alpha))[2:]]\n",
    "    bits = [0]*(8-len(bits))+bits\n",
    "    bits.reverse()\n",
    "    return bits\n",
    "\n",
    "def Text2Bits(text):\n",
    "    bits = []\n",
    "    for i in text:\n",
    "        bits += ord2(i)\n",
    "    return bits\n",
    "\n",
    "def SHA3_256(M):\n",
    "    return Keccak(512,Text2Bits(M)+[0,1],256)\n",
    "\n",
    "def Hex(list4):\n",
    "    s = 0\n",
    "    for i in range(4):\n",
    "        s += list4[-(i+1)]*2**i\n",
    "    return hex(s)[-1]    \n",
    "\n",
    "def List2Hex(h):\n",
    "    s = ''\n",
    "    for i in range(len(h)//4):\n",
    "        s+= Hex(h[4*i:4*(i+1)])\n",
    "    return s    "
   ]
  },
  {
   "cell_type": "markdown",
   "id": "bbce6460",
   "metadata": {
    "slideshow": {
     "slide_type": "subslide"
    }
   },
   "source": [
    "## Сравнение со встроенной функцией"
   ]
  },
  {
   "cell_type": "code",
   "execution_count": 57,
   "id": "bce07700",
   "metadata": {
    "slideshow": {
     "slide_type": "-"
    }
   },
   "outputs": [
    {
     "data": {
      "text/plain": [
       "'70e0773cfa26ee6cd7e2ed9c2fb8728728a6bd6827be9ee2e0747f67bc9fa95c'"
      ]
     },
     "execution_count": 57,
     "metadata": {},
     "output_type": "execute_result"
    }
   ],
   "source": [
    "List2Hex(SHA3_256(\"KM\"))"
   ]
  },
  {
   "cell_type": "code",
   "execution_count": 58,
   "id": "ee875a71",
   "metadata": {
    "slideshow": {
     "slide_type": "-"
    }
   },
   "outputs": [
    {
     "data": {
      "text/plain": [
       "'70e0773cfa26ee6cd7e2ed9c2fb8728728a6bd6827be9ee2e0747f67bc9fa95c'"
      ]
     },
     "execution_count": 58,
     "metadata": {},
     "output_type": "execute_result"
    }
   ],
   "source": [
    "import hashlib\n",
    "hashlib.sha3_256(b\"KM\").hexdigest()"
   ]
  },
  {
   "cell_type": "code",
   "execution_count": 59,
   "id": "49d9ad37",
   "metadata": {
    "slideshow": {
     "slide_type": "skip"
    }
   },
   "outputs": [
    {
     "data": {
      "text/plain": [
       "'d7f5d43b768ab94ba07d4c0bf65f8154ff5c40da4aeda002f2c85f194d9775f5'"
      ]
     },
     "execution_count": 59,
     "metadata": {},
     "output_type": "execute_result"
    }
   ],
   "source": [
    "text = \"KM\"*2022\n",
    "List2Hex(SHA3_256(text))"
   ]
  },
  {
   "cell_type": "code",
   "execution_count": 60,
   "id": "a483d587",
   "metadata": {
    "scrolled": true,
    "slideshow": {
     "slide_type": "skip"
    }
   },
   "outputs": [
    {
     "data": {
      "text/plain": [
       "'d7f5d43b768ab94ba07d4c0bf65f8154ff5c40da4aeda002f2c85f194d9775f5'"
      ]
     },
     "execution_count": 60,
     "metadata": {},
     "output_type": "execute_result"
    }
   ],
   "source": [
    "hashlib.sha3_256(bytes(text, encoding = 'utf-8')).hexdigest()"
   ]
  },
  {
   "cell_type": "code",
   "execution_count": 61,
   "id": "ccb7e910",
   "metadata": {
    "slideshow": {
     "slide_type": "-"
    }
   },
   "outputs": [
    {
     "name": "stdout",
     "output_type": "stream",
     "text": [
      "--- 0.9281997680664062 seconds ---\n",
      "--- 0.0 seconds ---\n"
     ]
    }
   ],
   "source": [
    "import time\n",
    "start_time = time.time()\n",
    "List2Hex(SHA3_256(text))\n",
    "print(\"--- %s seconds ---\" % (time.time() - start_time))\n",
    "start_time = time.time()\n",
    "hashlib.sha3_256(bytes(text, encoding = 'utf-8')).hexdigest()\n",
    "print(\"--- %s seconds ---\" % (time.time() - start_time))\n"
   ]
  },
  {
   "cell_type": "markdown",
   "id": "1aefbeef",
   "metadata": {
    "slideshow": {
     "slide_type": "skip"
    }
   },
   "source": [
    "## <font color='red'>Задание 10.</font>\n",
    "\n",
    "Реализовать согласно стандарту [FIPS PUB 202](https://nvlpubs.nist.gov/nistpubs/fips/nist.fips.202.pdf \"Ссылка на стандарт\")\n",
    "функции sha3_224, sha3_384,  sha3_512. Сравнить их работу со встроенными."
   ]
  },
  {
   "cell_type": "code",
   "execution_count": 62,
   "id": "c148be3b",
   "metadata": {},
   "outputs": [],
   "source": [
    "def SHA3_224(M):\n",
    "    return Keccak(448,Text2Bits(M)+[0,1],224)\n",
    "def SHA3_384(M):\n",
    "    return Keccak(768,Text2Bits(M)+[0,1],384)\n",
    "def SHA3_512(M):\n",
    "    return Keccak(1024,Text2Bits(M)+[0,1],512)"
   ]
  },
  {
   "cell_type": "markdown",
   "id": "5b50d80b",
   "metadata": {},
   "source": [
    "Сравнение функции SHA3_224 со встроенной:"
   ]
  },
  {
   "cell_type": "code",
   "execution_count": 63,
   "id": "f5a58063",
   "metadata": {},
   "outputs": [
    {
     "data": {
      "text/plain": [
       "'12705b1020cfe06249d2143647f43bbf6aa4e5e26bd835ec70defb63'"
      ]
     },
     "execution_count": 63,
     "metadata": {},
     "output_type": "execute_result"
    }
   ],
   "source": [
    "List2Hex(SHA3_224(\"KM\"))"
   ]
  },
  {
   "cell_type": "code",
   "execution_count": 64,
   "id": "7c9ff728",
   "metadata": {},
   "outputs": [
    {
     "data": {
      "text/plain": [
       "'12705b1020cfe06249d2143647f43bbf6aa4e5e26bd835ec70defb63'"
      ]
     },
     "execution_count": 64,
     "metadata": {},
     "output_type": "execute_result"
    }
   ],
   "source": [
    "import hashlib\n",
    "hashlib.sha3_224(b\"KM\").hexdigest()"
   ]
  },
  {
   "cell_type": "code",
   "execution_count": 65,
   "id": "bcf92f8e",
   "metadata": {},
   "outputs": [
    {
     "data": {
      "text/plain": [
       "'d073d54f42f7b3c66baaa64eb12f6f30be2d3ee382c3f5a83b35d76c'"
      ]
     },
     "execution_count": 65,
     "metadata": {},
     "output_type": "execute_result"
    }
   ],
   "source": [
    "text = \"KM\"*2022\n",
    "List2Hex(SHA3_224(text))"
   ]
  },
  {
   "cell_type": "code",
   "execution_count": 66,
   "id": "ef322f06",
   "metadata": {},
   "outputs": [
    {
     "data": {
      "text/plain": [
       "'d073d54f42f7b3c66baaa64eb12f6f30be2d3ee382c3f5a83b35d76c'"
      ]
     },
     "execution_count": 66,
     "metadata": {},
     "output_type": "execute_result"
    }
   ],
   "source": [
    "hashlib.sha3_224(bytes(text, encoding = 'utf-8')).hexdigest()"
   ]
  },
  {
   "cell_type": "code",
   "execution_count": 67,
   "id": "6620fc90",
   "metadata": {},
   "outputs": [
    {
     "name": "stdout",
     "output_type": "stream",
     "text": [
      "--- 0.8935608863830566 seconds ---\n",
      "--- 0.0 seconds ---\n"
     ]
    }
   ],
   "source": [
    "import time\n",
    "start_time = time.time()\n",
    "List2Hex(SHA3_224(text))\n",
    "print(\"--- %s seconds ---\" % (time.time() - start_time))\n",
    "start_time = time.time()\n",
    "hashlib.sha3_224(bytes(text, encoding = 'utf-8')).hexdigest()\n",
    "print(\"--- %s seconds ---\" % (time.time() - start_time))"
   ]
  },
  {
   "cell_type": "markdown",
   "id": "b6f1cf3a",
   "metadata": {},
   "source": [
    "Сравнение функции SHA3_384 со встроенной:"
   ]
  },
  {
   "cell_type": "code",
   "execution_count": 68,
   "id": "dc10bdf5",
   "metadata": {},
   "outputs": [
    {
     "data": {
      "text/plain": [
       "'a5c23191e9bf1c9725913c6ac290d3de9e5071c959a848c084b926a4c5f001ec46b59f8d10655b0e0b72e01a5516748b'"
      ]
     },
     "execution_count": 68,
     "metadata": {},
     "output_type": "execute_result"
    }
   ],
   "source": [
    "List2Hex(SHA3_384(\"KM\"))"
   ]
  },
  {
   "cell_type": "code",
   "execution_count": 69,
   "id": "2c955c69",
   "metadata": {},
   "outputs": [
    {
     "data": {
      "text/plain": [
       "'a5c23191e9bf1c9725913c6ac290d3de9e5071c959a848c084b926a4c5f001ec46b59f8d10655b0e0b72e01a5516748b'"
      ]
     },
     "execution_count": 69,
     "metadata": {},
     "output_type": "execute_result"
    }
   ],
   "source": [
    "import hashlib\n",
    "hashlib.sha3_384(b\"KM\").hexdigest()"
   ]
  },
  {
   "cell_type": "code",
   "execution_count": 70,
   "id": "8e23b98e",
   "metadata": {},
   "outputs": [
    {
     "data": {
      "text/plain": [
       "'e4717aaa35097f012e42f64efc11c5468528371764d0fb46ba8295f2b6e1e3697e1502b131317e1aa4789224ca782a76'"
      ]
     },
     "execution_count": 70,
     "metadata": {},
     "output_type": "execute_result"
    }
   ],
   "source": [
    "text = \"KM\"*2022\n",
    "List2Hex(SHA3_384(text))"
   ]
  },
  {
   "cell_type": "code",
   "execution_count": 71,
   "id": "111c66e5",
   "metadata": {},
   "outputs": [
    {
     "data": {
      "text/plain": [
       "'e4717aaa35097f012e42f64efc11c5468528371764d0fb46ba8295f2b6e1e3697e1502b131317e1aa4789224ca782a76'"
      ]
     },
     "execution_count": 71,
     "metadata": {},
     "output_type": "execute_result"
    }
   ],
   "source": [
    "hashlib.sha3_384(bytes(text, encoding = 'utf-8')).hexdigest()"
   ]
  },
  {
   "cell_type": "code",
   "execution_count": 72,
   "id": "28a78480",
   "metadata": {},
   "outputs": [
    {
     "name": "stdout",
     "output_type": "stream",
     "text": [
      "--- 1.1690800189971924 seconds ---\n",
      "--- 0.0 seconds ---\n"
     ]
    }
   ],
   "source": [
    "import time\n",
    "start_time = time.time()\n",
    "List2Hex(SHA3_384(text))\n",
    "print(\"--- %s seconds ---\" % (time.time() - start_time))\n",
    "start_time = time.time()\n",
    "hashlib.sha3_384(bytes(text, encoding = 'utf-8')).hexdigest()\n",
    "print(\"--- %s seconds ---\" % (time.time() - start_time))"
   ]
  },
  {
   "cell_type": "markdown",
   "id": "bd4d4d28",
   "metadata": {},
   "source": [
    "Сравнение функции SHA3_512 со встроенной:"
   ]
  },
  {
   "cell_type": "code",
   "execution_count": 73,
   "id": "7a22ba33",
   "metadata": {},
   "outputs": [
    {
     "data": {
      "text/plain": [
       "'83196c6465b4e59fdcc0c3418db8e923cb3a68e5445a918c9a4befee4e0071612d1d31effab7e0e58206aab30170bfd25b3ccb1589ad11bac97d97230288da1d'"
      ]
     },
     "execution_count": 73,
     "metadata": {},
     "output_type": "execute_result"
    }
   ],
   "source": [
    "List2Hex(SHA3_512(\"KM\"))"
   ]
  },
  {
   "cell_type": "code",
   "execution_count": 74,
   "id": "66b12c7a",
   "metadata": {},
   "outputs": [
    {
     "data": {
      "text/plain": [
       "'83196c6465b4e59fdcc0c3418db8e923cb3a68e5445a918c9a4befee4e0071612d1d31effab7e0e58206aab30170bfd25b3ccb1589ad11bac97d97230288da1d'"
      ]
     },
     "execution_count": 74,
     "metadata": {},
     "output_type": "execute_result"
    }
   ],
   "source": [
    "import hashlib\n",
    "hashlib.sha3_512(b\"KM\").hexdigest()"
   ]
  },
  {
   "cell_type": "code",
   "execution_count": 75,
   "id": "3181a05b",
   "metadata": {},
   "outputs": [
    {
     "data": {
      "text/plain": [
       "'ca5c9a01a1ce4e3d8547a8370d8e1dccdce5950636f4245de800f16a20381837ec1058ca27d9f13046efb79fc1ec57d7182a7cec02a7b6ea9e08fb869a0af44c'"
      ]
     },
     "execution_count": 75,
     "metadata": {},
     "output_type": "execute_result"
    }
   ],
   "source": [
    "text = \"KM\"*2022\n",
    "List2Hex(SHA3_512(text))"
   ]
  },
  {
   "cell_type": "code",
   "execution_count": 76,
   "id": "66153ca5",
   "metadata": {},
   "outputs": [
    {
     "data": {
      "text/plain": [
       "'ca5c9a01a1ce4e3d8547a8370d8e1dccdce5950636f4245de800f16a20381837ec1058ca27d9f13046efb79fc1ec57d7182a7cec02a7b6ea9e08fb869a0af44c'"
      ]
     },
     "execution_count": 76,
     "metadata": {},
     "output_type": "execute_result"
    }
   ],
   "source": [
    "hashlib.sha3_512(bytes(text, encoding = 'utf-8')).hexdigest()"
   ]
  },
  {
   "cell_type": "code",
   "execution_count": 77,
   "id": "5a2d99dc",
   "metadata": {},
   "outputs": [
    {
     "name": "stdout",
     "output_type": "stream",
     "text": [
      "--- 1.7066092491149902 seconds ---\n",
      "--- 0.0 seconds ---\n"
     ]
    }
   ],
   "source": [
    "import time\n",
    "start_time = time.time()\n",
    "List2Hex(SHA3_512(text))\n",
    "print(\"--- %s seconds ---\" % (time.time() - start_time))\n",
    "start_time = time.time()\n",
    "hashlib.sha3_512(bytes(text, encoding = 'utf-8')).hexdigest()\n",
    "print(\"--- %s seconds ---\" % (time.time() - start_time))"
   ]
  }
 ],
 "metadata": {
  "celltoolbar": "Слайд-шоу",
  "kernelspec": {
   "display_name": "Python 3 (ipykernel)",
   "language": "python",
   "name": "python3"
  },
  "language_info": {
   "codemirror_mode": {
    "name": "ipython",
    "version": 3
   },
   "file_extension": ".py",
   "mimetype": "text/x-python",
   "name": "python",
   "nbconvert_exporter": "python",
   "pygments_lexer": "ipython3",
   "version": "3.9.7"
  }
 },
 "nbformat": 4,
 "nbformat_minor": 5
}
