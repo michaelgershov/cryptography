{
 "cells": [
  {
   "cell_type": "markdown",
   "id": "e4b7f733",
   "metadata": {
    "slideshow": {
     "slide_type": "slide"
    }
   },
   "source": [
    "$$\n",
    "Белорусский\\;государственный\\; университет\n",
    "$$\n",
    "$$\n",
    "Механико-математический\\;факультет\n",
    "$$\n",
    "$$\n",
    "Кафедра\\;дифференциальных\\;уравнений\\; и\\; системного\\; анализа\n",
    "$$\n",
    "$ $\n",
    "\n",
    "$$\n",
    " \\Large\\bf Математические\\; основы\\; защиты\\; информации\n",
    "$$\n",
    "\n",
    "# Тема 7. Применение криптосистемы RSA\n",
    "\n",
    "$ $\n",
    "\n",
    "доцент Чергинец Дмитрий Николаевич"
   ]
  },
  {
   "cell_type": "markdown",
   "id": "cc4118b1",
   "metadata": {
    "slideshow": {
     "slide_type": "slide"
    }
   },
   "source": [
    "# 1. Криптосистема RSA\n",
    "**Генерация ключей в RSA**  \n",
    "Input:  $\\;L\\in\\mathbb{N}\\;$ -- длина простых чисел.  \n",
    "  \n",
    "Output: $\\;k_e\\;$ -- открытый ключ,\n",
    "\t\t\n",
    "$\\qquad\\;\\;$   $\\;k_d\\;$ -- секретный  ключ.\n",
    "\t\t\n",
    "\t\t\n",
    "1. Выбираем два случайных простых числа $\\;p, q,\\;$ состоящие из $\\;L\\;$ бит.\n",
    "\t\t\t\n",
    "2. Вычисляем $\\;n:=p q,\\;$ $\\;\\varphi(n):=(p-1)(q-1).\\;$\n",
    "\t\t\t\n",
    "3. Случайным образом выбираем натуральное число $\\;e,\\;$ удовлетворяющее условиям\n",
    "$$\n",
    "1<e<\\varphi(n),\\qquad \\gcd(e,\\varphi(n))=1.\n",
    "$$\n",
    "4. При помощи расширенного алгоритма Евклида вычисляем \n",
    "$$\n",
    "d:=e^{-1}\\mod\\varphi(n).\n",
    "$$\n",
    "5. Выдаем результат: $\\;k_e:=(e,n),\\;$ $\\;k_d:=(d,n).$\n",
    "\t\t\t"
   ]
  },
  {
   "cell_type": "markdown",
   "id": "469bee9a",
   "metadata": {
    "slideshow": {
     "slide_type": "subslide"
    }
   },
   "source": [
    "## Шифрование и дешифрование в RSA\n",
    "**Шифрование.**  \n",
    "Функция шифрования \t\n",
    "$$\n",
    "\\;E_{k_e}:\\mathbb{Z}_n\\rightarrow\\mathbb{Z}_n\\;\n",
    "$$\n",
    "определяется правилом\n",
    "$$\n",
    " E_{k_e}(m):=m^e\\mod n.\n",
    "$$\n",
    "\n",
    "**Дешифрование.**  \n",
    "Функция дешифрования \t\n",
    "$$\n",
    "  D_{k_d}:\\mathbb{Z}_n\\rightarrow\\mathbb{Z}_n\n",
    "$$\n",
    "задается формулой\n",
    "$$\n",
    "\tD_{k_d}(c):=c^d\\mod n.\n",
    "$$\n",
    "\n",
    "Отметим, что все три приведенных выше алгоритма являются полиномиальными."
   ]
  },
  {
   "cell_type": "markdown",
   "id": "5b29aa5b",
   "metadata": {
    "slideshow": {
     "slide_type": "slide"
    }
   },
   "source": [
    "# 2. PKCS (Public Key Cryptography Standards)\n",
    "\n",
    "- RSA Security  -- компания, основанная авторами криптосистемы RSA: Рональдом Ривестом, Ади Шамиром и Леонардом Адлеманом;\n",
    "\t\n",
    "- RSA Security разработала ряд стандартов под названием PKCS (Public Key Cryptography Standards);\n",
    "\t\n",
    "- Рассмотрим стандарт [PKCS \\#1, версия 2.2,](http://mpqs.free.fr/h11300-pkcs-1v2-2-rsa-cryptography-standard-wp_EMC_Corporation_Public-Key_Cryptography_Standards_(PKCS).pdf)   разработанный в 2012 году."
   ]
  },
  {
   "cell_type": "markdown",
   "id": "bb44e3c9",
   "metadata": {
    "slideshow": {
     "slide_type": "subslide"
    }
   },
   "source": [
    "## Перевод текста в число\n",
    "**OS2IP (Octet String 2 Integer Primitive)**  \n",
    "Input: $\\;X\\;$ - строка, состоящая из $\\;XLen\\;$ байт:\n",
    "$$\n",
    "X=\\{X_{XLen-1}, X_{XLen-2},\\dots,X_0\\},\\qquad 0\\leq X_i<256.\n",
    "$$ \n",
    "Output:  $\\;x\\in\\mathbb{N}\\cup\\{0\\}.$ \n",
    " 1. Выдаем результат:\n",
    "$$\n",
    "  x:=X_{XLen-1}256^{XLen-1}+X_{XLen-2}256^{XLen-2}+\\dots+X_{0}.\n",
    "$$  \n",
    "\t\t"
   ]
  },
  {
   "cell_type": "code",
   "execution_count": 1,
   "id": "d72d8810",
   "metadata": {
    "slideshow": {
     "slide_type": "-"
    }
   },
   "outputs": [
    {
     "name": "stdout",
     "output_type": "stream",
     "text": [
      "341881320659697045299745\n"
     ]
    },
    {
     "data": {
      "text/plain": [
       "True"
      ]
     },
     "execution_count": 1,
     "metadata": {},
     "output_type": "execute_result"
    }
   ],
   "source": [
    "def OS2IP(X: bytes) -> int:\n",
    "    x = 0\n",
    "    for i in range(len(X)):\n",
    "        x += X[i] * 256**(len(X)-1-i)\n",
    "    return x\n",
    "\n",
    "message = b'Hello Bob!'  # Python не знает, как представлять байтовую строку\n",
    "x = OS2IP(message)\n",
    "print(x)\n",
    "\n",
    "OS2IP(message) == int.from_bytes(message, 'big')\n",
    "\n",
    "# возвращает целое число, представленное заданным массивом байтов\n",
    "# eсли byteorder имеет значение 'big', то самый значимый байт находится в начале массива байтов"
   ]
  },
  {
   "cell_type": "markdown",
   "id": "6bd31ba2",
   "metadata": {},
   "source": [
    "При индексации по байтовой строке получаем код соответствующего символа в таблице ASCII."
   ]
  },
  {
   "cell_type": "markdown",
   "id": "cb9d0ac4",
   "metadata": {
    "slideshow": {
     "slide_type": "subslide"
    }
   },
   "source": [
    "## Перевод числа в байты\n",
    "**I2OSP (Integer to Octet String Primitive)**  \n",
    "Input: $x\\in\\mathbb{N}\\cup\\{0\\};$  \n",
    "$\\qquad XLen$ -- длина байтовой строки.  \n",
    "\n",
    "Output: \n",
    "$$X=\\{X_{XLen-1}, X_{XLen-2},\\dots,X_0\\},\\qquad 0\\leq X_i<256.$$ \n",
    "\n",
    "1.  Если $\\;x\\geq 256^{XLen},\\;$ то выдаем результат: \"Число слишком большое\".  \n",
    "\t\n",
    "2. Переводим $\\;x\\;$ в систему счисления по основанию 256:\n",
    "$$\n",
    "  x:=X_{XLen-1}256^{XLen-1}+X_{XLen-2}256^{XLen-2}+\\dots+X_{0}.\n",
    "$$  \n",
    "\t\t\n",
    "3. Выдаем результат:\n",
    "$$\n",
    "  X=\\{X_{XLen-1}, X_{XLen-2},\\dots,X_0\\}.\n",
    "$$\n",
    "\t\t\n",
    "\t\t"
   ]
  },
  {
   "cell_type": "code",
   "execution_count": 2,
   "id": "930bac5e",
   "metadata": {
    "slideshow": {
     "slide_type": "subslide"
    }
   },
   "outputs": [
    {
     "name": "stdout",
     "output_type": "stream",
     "text": [
      "b'Hello Bob!'\n"
     ]
    },
    {
     "data": {
      "text/plain": [
       "True"
      ]
     },
     "execution_count": 2,
     "metadata": {},
     "output_type": "execute_result"
    }
   ],
   "source": [
    "def I2OSP(x: int, XLen: int) -> bytes:\n",
    "    if x >= 256**XLen:\n",
    "        raise ValueError(\"Number %d must be less than %d\" % (x,256**XLen))\n",
    "    b = []\n",
    "    for _ in range(XLen):\n",
    "        b.append(x % 256)\n",
    "        x >>= 8\n",
    "    b.reverse()\n",
    "    return bytes(b)\n",
    "\n",
    "plaintext = I2OSP(x, len(message)) \n",
    "print(plaintext)\n",
    "\n",
    "plaintext == x.to_bytes(len(message), \"big\")"
   ]
  },
  {
   "cell_type": "markdown",
   "id": "ec8122e5",
   "metadata": {
    "slideshow": {
     "slide_type": "subslide"
    }
   },
   "source": [
    "## Необходимость дополнять сообщение\n",
    "Следующие сообщения шифруются плохо.  \n",
    "**Сообщение небольшого размера.**  \n",
    "$$\n",
    "  0^e\\equiv 0 \\mod n;\n",
    "$$ \n",
    "$$\n",
    "  1^e\\equiv 1 \\mod n;\n",
    "$$ \n",
    "$$\n",
    "  2^3\\equiv 8 \\mod n.\n",
    "$$\n",
    "\n",
    "**Дополнение должно быть вероятностным.**\n",
    "\n",
    "Если\n",
    "$$\n",
    "  m\\in\\{m_1, m_2, \\dots, m_s\\},\\qquad s - \\text{невелико},\n",
    "$$\n",
    "тогда зная шифротекст\n",
    "$$\n",
    "   c:= m^e\\mod n\n",
    "$$\n",
    "открытый текст $\\;m\\;$ можно найти перебором.   \n",
    " \t\n",
    " \t"
   ]
  },
  {
   "cell_type": "markdown",
   "id": "f0afcc42",
   "metadata": {
    "slideshow": {
     "slide_type": "subslide"
    }
   },
   "source": [
    "## Message padding\n",
    "В стандарте PKCS имеется два алгоритма дополнения (или можно ещё сказать кодирования) открытого текста: \n",
    "- Алгоритм   PKCS1-v1.5;\n",
    "- Алгоритм OAEP.\n",
    "\n",
    "Слово \"padding\" означает набивка, набивочный материал, ватин. Слово \"дополнение\" не совсем точно отражает суть процесса.\n",
    " "
   ]
  },
  {
   "cell_type": "markdown",
   "id": "990a93a1",
   "metadata": {
    "slideshow": {
     "slide_type": "subslide"
    }
   },
   "source": [
    " ## Алгоритм дополнения сообщения PKCS \n",
    "**Алгоритм   PKCS1-v1.5**   \n",
    "Input: $\\;m\\;$ - сообщение из $\\;mLen\\;$ байт;\n",
    "\n",
    "$\\qquad k$ -- количество байт в модуле $\\;n\\;$  $(mLen\\leq k-11).$\n",
    "\n",
    "Output:  $\\;EM\\;$ (encoded message) - закодированное сообщение, состоящее из $\\;k\\;$  байт. \n",
    "\n",
    "1$.$  Если $\\;mLen>k-11,\\;$ выдаем ошибку: \"сообщение слишком велико\", конец алгоритма.\n",
    "\n",
    "2$.$ Генерируем случайный список $\\;PS\\;$ (Pseudorandom String) из $\\;k-mLen-3\\;$ ненулевых байт.\n",
    "\n",
    "\n",
    "3$.$  Выдаем результат: \n",
    "$$\n",
    "  EM:=0||2||PS||0||m.\n",
    "$$  \n",
    "\n",
    "\n",
    " "
   ]
  },
  {
   "cell_type": "markdown",
   "id": "db0126f3",
   "metadata": {
    "slideshow": {
     "slide_type": "subslide"
    }
   },
   "source": [
    "## Генерация случайных байт\n",
    "Для генерации случайных чисел раньше мы пользовались модулем `ramdom`. Но говорят, что для криптографии он не годится, поэтому случайные байты в алгоритме PKCS мы будем генерировать при помощи метода `urandom` модуля `os`"
   ]
  },
  {
   "cell_type": "code",
   "execution_count": 3,
   "id": "3aee49c1",
   "metadata": {},
   "outputs": [
    {
     "name": "stdout",
     "output_type": "stream",
     "text": [
      "Всё за раз:           --- 0.0 seconds ---\n",
      "По 1 байту много раз: --- 0.03017115592956543 seconds ---\n"
     ]
    }
   ],
   "source": [
    "import os, time\n",
    "retries = 100_000\n",
    "\n",
    "start_time = time.time()\n",
    "rb = os.urandom(retries)  # возвращает объект bytes, содержащий случайные байты, подходящие для криптографического использования\n",
    "print(\"Всё за раз:           --- %s seconds ---\" % (time.time() - start_time))\n",
    "\n",
    "start_time = time.time()\n",
    "for _ in range(retries):\n",
    "    os.urandom(1)\n",
    "\n",
    "print(\"По 1 байту много раз: --- %s seconds ---\" % (time.time() - start_time))"
   ]
  },
  {
   "cell_type": "code",
   "execution_count": 4,
   "id": "25a12375",
   "metadata": {
    "slideshow": {
     "slide_type": "subslide"
    }
   },
   "outputs": [
    {
     "data": {
      "text/plain": [
       "b'\\x00\\x02\\x0cXr\\xc4\\xf8\\t\\xa3\\xf6\\xdd\\xf7\\xae\\x06\\x86js!\\x9c\\x00Hello Bob!'"
      ]
     },
     "execution_count": 4,
     "metadata": {},
     "output_type": "execute_result"
    }
   ],
   "source": [
    "def EncodePKCS(m: bytes, k: int) -> bytes:\n",
    "    mLen = len(m)\n",
    "    if mLen > k - 11:\n",
    "        raise ValueError(\"Message length must be less than k-10\")\n",
    "    PS = b\"\"\n",
    "    while len(PS) < k - mLen - 3:\n",
    "        rb = os.urandom(1)\n",
    "        if not rb == b'\\x00':\n",
    "            PS += rb\n",
    "    return b'\\x00\\x02' + PS + b'\\x00' + m        \n",
    "\n",
    "EM = EncodePKCS(message, 30) \n",
    "EM"
   ]
  },
  {
   "cell_type": "markdown",
   "id": "7b08421a",
   "metadata": {},
   "source": [
    "'\\x00' - представление нулевого байта (байта без информации).\n",
    "\n",
    "Срезы поддерживаются байтовыми строками (возвращается байтовая строка)."
   ]
  },
  {
   "cell_type": "markdown",
   "id": "345664bc",
   "metadata": {
    "slideshow": {
     "slide_type": "subslide"
    }
   },
   "source": [
    "## Зашифруем сообщение с дополнением PKCS\n",
    "Попросим у Боба открытый ключ"
   ]
  },
  {
   "cell_type": "code",
   "execution_count": 5,
   "id": "f9670028",
   "metadata": {
    "slideshow": {
     "slide_type": "-"
    }
   },
   "outputs": [
    {
     "name": "stdout",
     "output_type": "stream",
     "text": [
      "e =  65537\n",
      "n =  7436699190607040911919166270529218998116027006104293859532057010057251532428507157277501825566316612068197244049739674100359625851745183518926017881737219\n"
     ]
    }
   ],
   "source": [
    "import rsa\n",
    "(bob_pub, bob_priv) = rsa.newkeys(512)\n",
    "e = bob_pub.e\n",
    "print('e = ', e)\n",
    "n = bob_pub.n\n",
    "print('n = ', n)"
   ]
  },
  {
   "cell_type": "markdown",
   "id": "4f8c2c62",
   "metadata": {
    "slideshow": {
     "slide_type": "subslide"
    }
   },
   "source": [
    "### Подсчитаем из скольких байт состоит модуль"
   ]
  },
  {
   "cell_type": "code",
   "execution_count": 6,
   "id": "952b76c7",
   "metadata": {
    "slideshow": {
     "slide_type": "-"
    }
   },
   "outputs": [
    {
     "name": "stdout",
     "output_type": "stream",
     "text": [
      "Модуль n состоит из  64  байт\n"
     ]
    }
   ],
   "source": [
    "import math\n",
    "def Len(n: int) -> int:\n",
    "    if type(n) == int:\n",
    "        return math.ceil((len(bin(n)) - 2) / 8)\n",
    "    s = 0\n",
    "    for i in n:\n",
    "        s += Len(i)\n",
    "    return s    \n",
    "\n",
    "k = Len(n)\n",
    "print('Модуль n состоит из  %d  байт' % k)"
   ]
  },
  {
   "cell_type": "markdown",
   "id": "1ddffaff",
   "metadata": {
    "slideshow": {
     "slide_type": "subslide"
    }
   },
   "source": [
    "## Вычисляем шифротекст и отправляем его Бобу"
   ]
  },
  {
   "cell_type": "code",
   "execution_count": 7,
   "id": "a60f4ac2",
   "metadata": {},
   "outputs": [
    {
     "data": {
      "text/plain": [
       "b'\\x8a`M\\xcf\\x07\\xab\\x89B\\x7f\\xb4\\xe2N\\xf6\\xc7\\x04D\\x86\\xae\\xaehh\\x85\\xb3\\xe7kV\\x8d\\x06\\x12\\xd6\\xaa\\x85>}h\\xb8>\\xea^u{\\x8f\\xa5\\xbb\\xe9\\x91\\t\\xab\\x84P\\xff\\x18N\\x7f\\xb1mt\"\\x97\\xd8R\\x96\\xc29'"
      ]
     },
     "execution_count": 7,
     "metadata": {},
     "output_type": "execute_result"
    }
   ],
   "source": [
    "EM = EncodePKCS(message, k)  # набиваем дополнительные байты\n",
    "m = OS2IP(EM)  # преобразуем полученную байтовую строку в число реализованным ранее алгоритмом\n",
    "c = pow(m, e, n)  # шифруем число\n",
    "CipherText = I2OSP(c, k)  # преобразуем полученное число в байтовую строку\n",
    "CipherText"
   ]
  },
  {
   "cell_type": "markdown",
   "id": "bad829b9",
   "metadata": {
    "slideshow": {
     "slide_type": "subslide"
    }
   },
   "source": [
    "## Боб расшифровывает сообщение\n",
    "Боб получает от нас шифротекст и расшифровывает сообщение, используя пакет RSA. "
   ]
  },
  {
   "cell_type": "code",
   "execution_count": 8,
   "id": "fc0a31e5",
   "metadata": {
    "slideshow": {
     "slide_type": "-"
    }
   },
   "outputs": [
    {
     "data": {
      "text/plain": [
       "b'Hello Bob!'"
      ]
     },
     "execution_count": 8,
     "metadata": {},
     "output_type": "execute_result"
    }
   ],
   "source": [
    "PlainText = rsa.decrypt(CipherText, bob_priv)\n",
    "PlainText "
   ]
  },
  {
   "cell_type": "markdown",
   "id": "2adadbd8",
   "metadata": {
    "slideshow": {
     "slide_type": "-"
    }
   },
   "source": [
    "Несмотря на то, что шифротекст CipherText получен без использования пакета RSA, несовместимости програмного обеспечения не произошло и Боб получил открытый текст."
   ]
  },
  {
   "cell_type": "markdown",
   "id": "53aadfb1",
   "metadata": {
    "slideshow": {
     "slide_type": "skip"
    }
   },
   "source": [
    "## <font color='red'>Задание 1.</font>\n",
    "Реализовать алгоритм DecodePKCS, который по дополненной согласно алгоритму PKCS строке байт EM находит открытый текст. Для EM1, EM2, EM3, где это возможно, найти текст m1, m2, m3, закодированный кодировкой 'utf-8'."
   ]
  },
  {
   "cell_type": "code",
   "execution_count": 9,
   "id": "0e0ff120",
   "metadata": {
    "slideshow": {
     "slide_type": "skip"
    }
   },
   "outputs": [],
   "source": [
    "EM1 = b'\\x00\\x02\\xad\\xed\\x08\\xb4\\x95\\xb6c\\xc3\\xb9\\x08\\x81\\xb8\\xd5\\xbb\\r\\x04\\x96\\x00\\xd0\\xa0\\xd0\\xb0\\xd0\\xb1\\xd1\\x96 \\xd0\\xbd\\xd0\\xb5\\xd1\\x87\\xd0\\xb0\\xd0\\xba\\xd0\\xb0\\xd0\\xbd\\xd0\\xb0\\xd0\\xb5, \\xd1\\x80\\xd0\\xb0\\xd0\\xb1\\xd1\\x96, \\xd1\\x8f\\xd0\\xba \\xd0\\xbd\\xd0\\xb5 \\xd0\\xb1\\xd1\\x8b\\xd0\\xb2\\xd0\\xb0\\xd0\\xb5, \\xd1\\x80\\xd0\\xb0\\xd0\\xb1\\xd1\\x96, \\xd1\\x8f\\xd0\\xba \\xd0\\xbd\\xd0\\xb5 \\xd1\\x80\\xd0\\xbe\\xd0\\xb1\\xd1\\x96\\xd1\\x86\\xd1\\x8c \\xd0\\xbd\\xd1\\x96\\xd1\\x85\\xd1\\x82\\xd0\\xbe, \\xe2\\x80\\x94 \\xd1\\x96 \\xd1\\x82\\xd0\\xb0\\xd0\\xb4\\xd1\\x8b \\xd0\\xbf\\xd0\\xb5\\xd1\\x80\\xd0\\xb0\\xd0\\xbc\\xd0\\xbe\\xd0\\xb6\\xd0\\xb0\\xd1\\x88.'\n",
    "EM2 = b'\\x00\\x02r8\\x00\\xd0\\xa7\\xd0\\xb0\\xd0\\xbb\\xd0\\xb0\\xd0\\xb2\\xd0\\xb5\\xd0\\xba \\xd0\\xbd\\xd0\\xbe\\xd1\\x81\\xd1\\x96\\xd1\\x86\\xd1\\x8c \\xd1\\x81\\xd0\\xb2\\xd0\\xb0\\xd1\\x91 \\xd0\\xbd\\xd0\\xb5\\xd0\\xb1\\xd0\\xb0 \\xd0\\xb7 \\xd1\\x81\\xd0\\xb0\\xd0\\xb1\\xd0\\xbe\\xd1\\x8e.'\n",
    "EM3 = b'\\x02\\x02\\xf5\\xb2\\xf2\\xb2LG\\x9b\\r\\xe4\\x00\\xd0\\xa7\\xd0\\xb0\\xd0\\xbb\\xd0\\xb0\\xd0\\xb2\\xd0\\xb5\\xd0\\xba \\xd0\\xbd\\xd0\\xbe\\xd1\\x81\\xd1\\x96\\xd1\\x86\\xd1\\x8c \\xd1\\x81\\xd0\\xb2\\xd0\\xb0\\xd1\\x91 \\xd0\\xbd\\xd0\\xb5\\xd0\\xb1\\xd0\\xb0 \\xd0\\xb7 \\xd1\\x81\\xd0\\xb0\\xd0\\xb1\\xd0\\xbe\\xd1\\x8e.'"
   ]
  },
  {
   "cell_type": "markdown",
   "id": "f5d83d06",
   "metadata": {},
   "source": [
    "Поскольку сообщение закодировано кодировкой 'utf-8', его необходимо только найти и расшифровать, используя метод decode('utf-8')."
   ]
  },
  {
   "cell_type": "code",
   "execution_count": 10,
   "id": "6cd6ae3c",
   "metadata": {},
   "outputs": [],
   "source": [
    "def DecodePKCS(EM: bytes) -> str:\n",
    "    counter = 0\n",
    "    \n",
    "    for i in range(len(EM)):\n",
    "        if EM[i] == 0:\n",
    "            counter += 1\n",
    "        if counter == 2:\n",
    "            cipher_text = EM[i + 1:]  # зашифрованное сообщение в виде байтовой строки\n",
    "            return cipher_text.decode('utf-8')\n",
    "        \n",
    "    return 'The message could not be decrypted'"
   ]
  },
  {
   "cell_type": "code",
   "execution_count": 11,
   "id": "94bd20a0",
   "metadata": {},
   "outputs": [
    {
     "data": {
      "text/plain": [
       "'Рабі нечаканае, рабі, як не бывае, рабі, як не робіць ніхто, — і тады пераможаш.'"
      ]
     },
     "execution_count": 11,
     "metadata": {},
     "output_type": "execute_result"
    }
   ],
   "source": [
    "DecodePKCS(EM1)"
   ]
  },
  {
   "cell_type": "code",
   "execution_count": 12,
   "id": "8c0508e9",
   "metadata": {},
   "outputs": [
    {
     "data": {
      "text/plain": [
       "'Чалавек носіць сваё неба з сабою.'"
      ]
     },
     "execution_count": 12,
     "metadata": {},
     "output_type": "execute_result"
    }
   ],
   "source": [
    "DecodePKCS(EM2)"
   ]
  },
  {
   "cell_type": "code",
   "execution_count": 13,
   "id": "51d6a22b",
   "metadata": {},
   "outputs": [
    {
     "data": {
      "text/plain": [
       "'The message could not be decrypted'"
      ]
     },
     "execution_count": 13,
     "metadata": {},
     "output_type": "execute_result"
    }
   ],
   "source": [
    "DecodePKCS(EM3)"
   ]
  },
  {
   "cell_type": "markdown",
   "id": "067597cc",
   "metadata": {
    "slideshow": {
     "slide_type": "skip"
    }
   },
   "source": [
    "## <font color='red'>Задание 2.</font>\n",
    "Сообщение m зашифровано при помощи модуля RSA. Найти сообщение m, не пользуясь функциями модуля RSA."
   ]
  },
  {
   "cell_type": "code",
   "execution_count": 14,
   "id": "d38e36a9",
   "metadata": {
    "slideshow": {
     "slide_type": "skip"
    }
   },
   "outputs": [],
   "source": [
    "d = 26770772907582938053130151905548181178036083280747414634624384031357480520230808847626726751112707871133365466932082860352116479532095585837114011518890329506258186862891674713345047774452260967801004643838706727945877863169543110385438010586368708217542522729977757884858964820726738896465984173006606967577\n",
    "n = 101632169613871459838266278481950480789257417017340167578600373994269547636816689998662618958910591192172123767961994694948540677697674124370442075073767460922116257699815386922669167387324184470375309591093269335567795836909746438396358314576200234449897268393760086784065030629672726231457824423660894104727\n",
    "CipherText = b\"\\x18\\xf0\\xb1\\x94'\\xfb\\xd2\\xcc\\x0e\\x00\\x08\\xe3\\xf3\\x13T\\xfdE\\x0fE\\x87N\\xc6\\xe0\\xb01X\\x9d!\\xf1\\x06\\x16{\\xd8\\xce+\\xc8\\xbf\\x9e$\\xbb\\xfd\\xdb\\xb1-\\xdf4(v\\x1d\\\\\\x1d\\xe4\\x8cVC=\\xbex\\xf6\\x08\\x95\\rvX\\x92\\xd9#S\\xa7\\xd9-r\\x84q\\x8f\\xe1\\x96[x\\x03\\xc5\\x0f\\xed\\x9f\\x0b\\xd8\\xfb\\x07\\x97\\xef\\xa3\\xfcQ\\xf8\\x98\\x8c\\x89\\x15\\x84\\x90?\\xd4\\xf3\\x96\\x05\\xd1b\\xear\\x84v\\x81m\\x0b\\xcdD\\x14L\\xe1e]\\xc7H\\x99\\x13>E\\xc3\""
   ]
  },
  {
   "cell_type": "markdown",
   "id": "be63e704",
   "metadata": {},
   "source": [
    "Поскольку нам известен приватный ключ, можно преобразовать число $c$ в число $m$, которое будет отображать исходное сообщение. Подействуя функцией I2OSP на число $m$, получим байтовую строку, которая будет по сути являться исходным сообщением. Однако, видим, что исходное сообщение зашифровано с дополнением PKCS, поэтому нужно вызвать функцию DecodePKCS."
   ]
  },
  {
   "cell_type": "code",
   "execution_count": 15,
   "id": "f8de98cd",
   "metadata": {},
   "outputs": [
    {
     "data": {
      "text/plain": [
       "'Вечна тваім застанецца толькі тое, што ты аддаў'"
      ]
     },
     "execution_count": 15,
     "metadata": {},
     "output_type": "execute_result"
    }
   ],
   "source": [
    "c = OS2IP(CipherText)\n",
    "m = pow(c, d, n)\n",
    "EM = I2OSP(m, len(CipherText))\n",
    "DecodePKCS(EM)"
   ]
  },
  {
   "cell_type": "markdown",
   "id": "197e937a",
   "metadata": {
    "slideshow": {
     "slide_type": "slide"
    }
   },
   "source": [
    "# 3. Дешифрование при помощи CRT\n",
    "Функция дешифрования задается формулой\n",
    "$$\n",
    "\tD_{k_d}(c):=c^d\\mod n.\n",
    "$$\n",
    "Заметим, что открытый текст \n",
    "$$\n",
    "   m :=   c^d\\mod n\n",
    "$$\n",
    "удовлетворяет системе уравнений\n",
    "$$\n",
    "  \\left\\{\\begin{array}{ll}\n",
    " m \\equiv c^d \\mod p;\\\\\n",
    " m \\equiv c^d \\mod q.\\\\\n",
    " \\end{array}\\right.\n",
    "$$\n",
    "\n",
    "Поэтому вместо вычисления $\\quad c^d\\mod n\\quad$ можно попробовать вычислять \n",
    "$$\n",
    "  m_p:=c^d\\mod p,\\qquad m_q:=c^d\\mod q,\n",
    "$$\n",
    "после чего находить $\\;m\\;$ из системы\n",
    "$$\n",
    "  \\left\\{\\begin{array}{ll}\n",
    " m \\equiv m_p \\mod p;\\\\\n",
    " m \\equiv m_q \\mod q.\\\\\n",
    " \\end{array}\\right.\\qquad (*)\n",
    "$$"
   ]
  },
  {
   "cell_type": "markdown",
   "id": "ad73d109",
   "metadata": {
    "slideshow": {
     "slide_type": "subslide"
    }
   },
   "source": [
    "## Секретный ключ при дешифровании CRT\n",
    "Так как \n",
    "$$\n",
    "  c^{p-1}\\equiv 1\\mod p,\n",
    "$$\n",
    "то\n",
    "$$\n",
    "  m_p:=c^d\\equiv c^{dP}\\mod p,\\qquad m_q:=c^d\\equiv c^{dQ}\\mod q,\n",
    "$$\n",
    "где \n",
    "$$\n",
    "  dP:=d\\mod p-1,\\qquad dQ:=d \\mod q-1.\n",
    "$$\n",
    "\n",
    "Согласно алгоритму Гарнера решение системы $\\;(*)\\;$ находится по формулам\n",
    "$$\n",
    "  y:=(m_p-m_q)*qInv \\mod p,\\qquad m:=m_q+q*y.\n",
    "$$\n",
    "Здесь \n",
    "$$\n",
    "qInv:=q^{-1}\\mod p.\n",
    "$$\n",
    "\n",
    "Таким образом, секретный ключ при дешифровании Китайской теоремой об остатках имеет вид:\n",
    "\n",
    "$$\n",
    "  PrivateKey:=(p,q,dP,dQ,qInv).\n",
    "$$"
   ]
  },
  {
   "cell_type": "markdown",
   "id": "6d137c56",
   "metadata": {},
   "source": [
    "## <font color='red'>Задание 3.</font>\n",
    "Реализовать функцию генерации ключей криптосистемы RSA. Секретный ключ должен иметь вид\n",
    "$$\n",
    "  PrivateKey:=(p,q,dP,dQ,qInv).\n",
    "$$\n",
    "Можно ли ускорить не только дешифрование, но и шифрование при помощи Китайской теоремы об остатках?"
   ]
  },
  {
   "cell_type": "code",
   "execution_count": 16,
   "id": "753ae73e",
   "metadata": {},
   "outputs": [],
   "source": [
    "from random import randint\n",
    "import math\n",
    "\n",
    "def st(n):\n",
    "    s = 0\n",
    "    t = n - 1\n",
    "    while t % 2 == 0:\n",
    "        s += 1\n",
    "        t = t // 2\n",
    "    return s, t\n",
    "\n",
    "def WitnessQ(a, n, s = 0, t = 0):  \n",
    "    if n % 2 == 0:\n",
    "        return False\n",
    "    if s == 0:\n",
    "        s, t = st(n)    \n",
    "    if math.gcd(a,n) > 1:\n",
    "        return False\n",
    "    b = pow(a,t,n)\n",
    "    if b == 1 or b == n - 1:  # модуль - число положительное\n",
    "        return True\n",
    "    for _ in range(1,s):\n",
    "        b = b**2 % n\n",
    "        if b == n - 1:\n",
    "            return True\n",
    "    return False\n",
    "\n",
    "def MillerRabinTest(n, k = 10):\n",
    "    if n % 2 == 0:\n",
    "        return False\n",
    "    s,t = st(n)\n",
    "    for _ in range(k):\n",
    "        a = randint(2,n - 1)\n",
    "        if not WitnessQ(a,n,s,t):\n",
    "            return False\n",
    "    return True\n",
    "\n",
    "def generates_prime_number(b):\n",
    "    while True:\n",
    "        n = randint(2**(b - 1),2**b - 1)\n",
    "        if MillerRabinTest(n):\n",
    "            return n\n",
    "        else:\n",
    "            continue\n",
    "            \n",
    "def ExtendedGCD(a, b):  # расширенный алгоритм Евклида\n",
    "    m11, m12 = 1, 0\n",
    "    m21, m22 = 0, 1\n",
    "    while b:\n",
    "        q = a // b\n",
    "        r = a % b\n",
    "        a, b = b, r\n",
    "        m11, m12 = m12, m11 - m12*q\n",
    "        m21, m22 = m22, m21 - m22*q \n",
    "    return (m11,m21)\n",
    "\n",
    "def RSA_key_generation(L: int) -> dict:\n",
    "    \n",
    "    \"\"\"\n",
    "    L is the length of the primes\n",
    "    \n",
    "    k_e is the open key\n",
    "    k_d is the close key\n",
    "    \"\"\"\n",
    "    \n",
    "    p, q = generates_prime_number(L), generates_prime_number(L)\n",
    "    n = p * q\n",
    "    phi = (p - 1) * (q - 1)\n",
    "    \n",
    "    while True:\n",
    "        e = randint(1 + 1, phi - 1)  # чтобы обеспечить выполнение неравенства\n",
    "        \n",
    "        if math.gcd(e, phi) == 1:\n",
    "            break\n",
    "        else:\n",
    "            continue\n",
    "            \n",
    "    d, _ = ExtendedGCD(e, phi)  # обосновать через коэффициенты Безу\n",
    "    \n",
    "    return {'k_e': (n, e), 'k_d': (n, d)}\n",
    "\n",
    "def private_key_search_p_q(key_e: tuple, d: int) -> tuple:\n",
    "    \n",
    "    \"\"\" search p and q using a private key \"\"\"\n",
    "    \n",
    "    n, e = key_e\n",
    "    s, t = st(e * d)  # не вычитаем 1, так как это уже сделано в теле функции st\n",
    "    \n",
    "    while True:\n",
    "        a = randint(1 + 1, n - 2)\n",
    "\n",
    "        if math.gcd(a, n) > 1:\n",
    "            p = math.gcd(a, n)\n",
    "            q = n // p\n",
    "\n",
    "            return (p, q)\n",
    "        else:\n",
    "            u = pow(a, t, n)\n",
    "            v = pow(u, 2, n)\n",
    "\n",
    "            if u == 1:\n",
    "                continue\n",
    "            else:\n",
    "                while v != 1:\n",
    "                    u = v\n",
    "                    v = pow(u, 2, n)\n",
    "                \n",
    "                if (u + 1) % n == 0:\n",
    "                    continue\n",
    "                else:\n",
    "                    p = math.gcd(u + 1, n)\n",
    "                    q = math.gcd(u - 1, n)\n",
    "                    \n",
    "                    return (p, q)\n",
    "\n",
    "def RSA_key_generation_CRT(L: int) -> dict:\n",
    "    \n",
    "    \"\"\"\n",
    "    L is the length of the primes\n",
    "    \n",
    "    k_e is the open key\n",
    "    k_d_CRT is the close key for CRT\n",
    "    k_d is the close key\n",
    "    \"\"\"\n",
    "    \n",
    "    keys = RSA_key_generation(L)\n",
    "    \n",
    "    d = keys['k_d'][1]\n",
    "    \n",
    "    (p, q) = private_key_search_p_q(keys['k_e'], d)\n",
    "    \n",
    "    dP = d % (p - 1)\n",
    "    dQ = d % (q - 1)\n",
    "    qInv = pow(q, -1, p)\n",
    "    \n",
    "    return {'k_e': keys['k_e'], 'k_d_CRT': (p, q, dP, dQ, qInv), 'k_d': keys['k_d']}"
   ]
  },
  {
   "cell_type": "code",
   "execution_count": 17,
   "id": "d7c8cd24",
   "metadata": {},
   "outputs": [
    {
     "data": {
      "text/plain": [
       "{'k_e': (794963321865710157453349647558377121886028409631717358244721,\n",
       "  638909607144664735744980479058952738737590329054503727678261),\n",
       " 'k_d_CRT': (1168920117910562290273431885127,\n",
       "  680083531530539772039578668423,\n",
       "  1024984010079902481183595137607,\n",
       "  409254699051121587759972352273,\n",
       "  1079483066891238206058506520189),\n",
       " 'k_d': (794963321865710157453349647558377121886028409631717358244721,\n",
       "  -189105570545063283430199225168214936033547204219285594968095)}"
      ]
     },
     "execution_count": 17,
     "metadata": {},
     "output_type": "execute_result"
    }
   ],
   "source": [
    "RSA_key_generation_CRT(100)"
   ]
  },
  {
   "cell_type": "code",
   "execution_count": 18,
   "id": "f3318cf2",
   "metadata": {},
   "outputs": [],
   "source": [
    "def encryption_E(m: int, k_e: tuple) -> int:\n",
    "    \n",
    "    \"\"\" encryption with method RCA \"\"\"\n",
    "    \n",
    "    return pow(m, k_e[1], k_e[0])\n",
    "\n",
    "def decryption_D(c: int, k_d: tuple) -> int:\n",
    "    \n",
    "    \"\"\" decryption with method RCA \"\"\"\n",
    "    \n",
    "    return pow(c, k_d[1], k_d[0])"
   ]
  },
  {
   "cell_type": "code",
   "execution_count": 19,
   "id": "4bcfc401",
   "metadata": {
    "slideshow": {
     "slide_type": "subslide"
    }
   },
   "outputs": [
    {
     "data": {
      "text/plain": [
       "True"
      ]
     },
     "execution_count": 19,
     "metadata": {},
     "output_type": "execute_result"
    }
   ],
   "source": [
    "def DecryptCRT(c, kd):\n",
    "    (p,q,dP,dQ,qInv) = kd\n",
    "    mp = pow(c,dP,p)\n",
    "    mq = pow(c,dQ,q)\n",
    "    y  = (mp-mq)*qInv % p \n",
    "    return mq + q*y\n",
    "\n",
    "message = 121\n",
    "L = 100\n",
    "\n",
    "keys = RSA_key_generation_CRT(L)\n",
    "\n",
    "ke, kdCRT = keys['k_e'], keys['k_d_CRT']\n",
    "kd = keys['k_d']\n",
    "\n",
    "CipherText = encryption_E(message, ke)\n",
    "PlainText = DecryptCRT(CipherText, kdCRT)\n",
    "\n",
    "PlainText == message"
   ]
  },
  {
   "cell_type": "code",
   "execution_count": 20,
   "id": "0d04aa63",
   "metadata": {
    "slideshow": {
     "slide_type": "-"
    }
   },
   "outputs": [
    {
     "name": "stdout",
     "output_type": "stream",
     "text": [
      "DecryptCRT:--- 0.010765552520751953 seconds ---\n",
      "Decrypt:--- 0.013241052627563477 seconds ---\n"
     ]
    }
   ],
   "source": [
    "import time\n",
    "retries = 80\n",
    "\n",
    "start_time = time.time()\n",
    "for _ in range(retries):\n",
    "    DecryptCRT(CipherText, kdCRT)\n",
    "print(\"DecryptCRT:--- %s seconds ---\" % (time.time() - start_time))\n",
    "\n",
    "start_time = time.time()\n",
    "for _ in range(retries):\n",
    "    decryption_D(CipherText, kd)\n",
    "print(\"Decrypt:--- %s seconds ---\" % (time.time() - start_time))"
   ]
  },
  {
   "cell_type": "markdown",
   "id": "ccb69883",
   "metadata": {},
   "source": [
    "Проверим, можно ли ускорить не только дешифрование, но и шифрование при помощи китайской теоремы об остатках, непосредственно."
   ]
  },
  {
   "cell_type": "code",
   "execution_count": 21,
   "id": "2a0adad7",
   "metadata": {},
   "outputs": [],
   "source": [
    "def encryption_СRT(m: int, k_e_CRT: tuple) -> int:\n",
    "    \n",
    "    \"\"\" encryption with method RCA with help CRT \"\"\"\n",
    "    \n",
    "    (p, q, dP, dQ, qInv) = k_e_CRT\n",
    "    \n",
    "    c_p = pow(m, dP, p)\n",
    "    c_q = pow(m, dQ, q)\n",
    "    y = (c_p - c_q) * qInv % p \n",
    "    \n",
    "    return c_q + q * y"
   ]
  },
  {
   "cell_type": "code",
   "execution_count": 22,
   "id": "7ef86854",
   "metadata": {},
   "outputs": [
    {
     "name": "stdout",
     "output_type": "stream",
     "text": [
      "encryption_СRT:--- 0.009376049041748047 seconds ---\n",
      "encryption_E:--- 0.009509086608886719 seconds ---\n"
     ]
    }
   ],
   "source": [
    "start_time = time.time()\n",
    "for _ in range(retries):\n",
    "    encryption_СRT(message, kdCRT)\n",
    "print(\"encryption_СRT:--- %s seconds ---\" % (time.time() - start_time))\n",
    "\n",
    "start_time = time.time()\n",
    "for _ in range(retries):\n",
    "    encryption_E(message, ke)\n",
    "print(\"encryption_E:--- %s seconds ---\" % (time.time() - start_time))"
   ]
  },
  {
   "cell_type": "markdown",
   "id": "03b7c5bd",
   "metadata": {},
   "source": [
    "Видим, что с помощью Китайской теоремы об остатках можно ускорить и шифрование."
   ]
  },
  {
   "cell_type": "markdown",
   "id": "8706ea63",
   "metadata": {
    "slideshow": {
     "slide_type": "subslide"
    }
   },
   "source": [
    "## Длина секретного ключа\n",
    "Сравним количество байт обычного секретного ключа $\\,(e,n)\\,$ с длиной секретного ключа для дешифрования при помощи Китайской теоремы об остатках $\\;(p,q,dP,dQ,qInv)$"
   ]
  },
  {
   "cell_type": "code",
   "execution_count": 23,
   "id": "1bc3d745",
   "metadata": {
    "slideshow": {
     "slide_type": "-"
    }
   },
   "outputs": [
    {
     "name": "stdout",
     "output_type": "stream",
     "text": [
      "Длина обычного секретного ключа =  512\n",
      "Длина секретного ключа для CRT  =  640\n",
      "Длина обычного секретного ключа =  1024\n",
      "Длина секретного ключа для CRT  =  1279\n"
     ]
    }
   ],
   "source": [
    "keys = RSA_key_generation_CRT(1024)\n",
    "kd, kdCRT = keys['k_d'], keys['k_d_CRT']\n",
    "\n",
    "print('Длина обычного секретного ключа = ', Len(kd))\n",
    "print('Длина секретного ключа для CRT  = ', Len(kdCRT))\n",
    "\n",
    "keys = RSA_key_generation_CRT(2048)\n",
    "kd, kdCRT = keys['k_d'], keys['k_d_CRT']\n",
    "\n",
    "print('Длина обычного секретного ключа = ', Len(kd))\n",
    "print('Длина секретного ключа для CRT  = ', Len(kdCRT))"
   ]
  },
  {
   "cell_type": "markdown",
   "id": "977098b9",
   "metadata": {
    "slideshow": {
     "slide_type": "slide"
    }
   },
   "source": [
    "# 4. Дополнение сообщения алгоритмом OAEP\n",
    "\n",
    "- Optimal Asymmetric Encryption Padding\n",
    "\n",
    "- Оптимальное дополнение асимметричного шифрования;\n",
    "\n",
    "- Авторы Mihir Bellare, Phillip Rogawayy, 1994 год; \n",
    "\n",
    "- Рассмотрим модификацию OAEP, описанную в стандарте PKCS$\\#1.$\n"
   ]
  },
  {
   "cell_type": "markdown",
   "id": "144313d6",
   "metadata": {
    "slideshow": {
     "slide_type": "subslide"
    }
   },
   "source": [
    "## Функция генерации маски\n",
    "**Алгоритм\tMGF1 (Mask generation function)**\n",
    "\t\t\n",
    "Input: \t$\\;seed\\;$ -- строка байт произвольной длины;\n",
    "\t\t\t\n",
    "$\\qquad maskLen$ -- количество байт в значении функции MGF1;\n",
    "\t\t\t\n",
    "$\\qquad Hash$ --  хеш-функция со значением hLen байт.\n",
    "\n",
    "Output: $mask$  -- строка, состоящая из maskLen байт.\n",
    "\n",
    "1$.$  Создаем пустую байтовую строку $\\;T:=\\{\\}.$\n",
    "\t\t\t\n",
    "2$.$  Для $\\;i:=0,\\dots, \\lceil maskLen/hLen)\\rceil-1\\;$ выполняем:\n",
    "\t\t\t\n",
    "$\\qquad$ 2.1.  Представляем $\\;i\\;$  в виде четырех байт: \n",
    "$$\n",
    "  C:=\\text{I2OSP}(i,4).\n",
    "$$\n",
    "$\\qquad$ 2.2.  Вычисляем $\\;  T:=T||Hash(seed||C).$\n",
    "\t\t\t\n",
    "3$.$  Выдаем результат: первые maskLen байт переменной $\\;T$\n",
    "$$\n",
    "\\;mask:=T[0:maskLen].\\;\n",
    "$$"
   ]
  },
  {
   "cell_type": "code",
   "execution_count": 24,
   "id": "daa2116d",
   "metadata": {
    "slideshow": {
     "slide_type": "subslide"
    }
   },
   "outputs": [
    {
     "data": {
      "text/plain": [
       "[51, 111, 40, 160, 34, 25, 57, 57, 88, 90, 27, 78, 220, 152, 159]"
      ]
     },
     "execution_count": 24,
     "metadata": {},
     "output_type": "execute_result"
    }
   ],
   "source": [
    "# дайджест, или хэш-сумма - это значение фиксированной длины, вычисляемое по большому набору данных\n",
    "\n",
    "def MGF1(seed: bytes, maskLen: int, MaskHash) -> bytes:\n",
    "    T = b''\n",
    "    hLen = MaskHash.digest_size\n",
    "    for i in range(int(maskLen / hLen) + 1):  # + 1, чтобы использовать int, а не math.ceil\n",
    "        C = I2OSP(i, 4)\n",
    "        h = MaskHash.copy()  # возвращает копию хешируемого объекта\n",
    "        h.update(seed + C)  # обновляет состояние хэш-объекта с помощью предоставленной строки\n",
    "        T += h.digest()  # возвращает значение дайджеста в виде байтового объекта\n",
    "    return T[:maskLen]    \n",
    "\n",
    "import hashlib    \n",
    "Hash = hashlib.sha256()\n",
    "seed = b'seed'\n",
    "maskLen = 15\n",
    "mask = MGF1(seed, maskLen, Hash)\n",
    "\n",
    "list(mask)"
   ]
  },
  {
   "cell_type": "markdown",
   "id": "7d2dafb4",
   "metadata": {
    "slideshow": {
     "slide_type": "subslide"
    }
   },
   "source": [
    "##  Кодирование сообщения методом OAEP\n",
    "\n",
    "![Для отображения картинки нужен интернет](https://drive.google.com/uc?export=view&id=1c0KMWiCd4p1i_uBMOW0hte_a4qIE9OEg)\n",
    "\n"
   ]
  },
  {
   "cell_type": "markdown",
   "id": "b6c5e891",
   "metadata": {
    "slideshow": {
     "slide_type": "subslide"
    }
   },
   "source": [
    "##  Кодирование сообщения методом OAEP\n",
    "**Encoding  RSAES-OAEP**  \n",
    "Options:  \n",
    "$\\qquad$ $Hash$ --  хеш-функция с длиной дайджеста $\\;hLen\\;$ байт;  \n",
    "$\\qquad$ $MGF$ -- функция генерации маски.\n",
    "\n",
    "Input:   \n",
    "$\\qquad k\\;$ -- количество байт в модуле $\\;n\\;$ шифра RSA.\n",
    "\n",
    "$\\qquad m$ -- сообщение, состоящее из mLen байт, $\\; mLen\\leq k-2hLen-2.$\n",
    "\t\n",
    "$\\qquad L$ -- label, метка, строка байт.  В некотором смысле может выступать дополнительным секретным ключом.   \n",
    "$\\quad\\qquad$ Если $\\;L\\;$ не получена, то $L=\\{\\}.$\n",
    "\t\n",
    "Output:   \n",
    "$\\qquad$ $EM$ -- дополненное сообщение длины $\\;k\\;$  байт."
   ]
  },
  {
   "cell_type": "markdown",
   "id": "a4d658bb",
   "metadata": {
    "slideshow": {
     "slide_type": "subslide"
    }
   },
   "source": [
    "\n",
    "\n",
    "1$.$  Вычисляем хеш от метки $\\;\\;LHash:=Hash(L).$\n",
    "\n",
    "2$.$  Генерируем байтовую строку $\\;PS,\\;$ состоящую из  $\\;k-mLen-2hLen-2\\;$ нулей. \n",
    "Данный список может оказаться пустым.\n",
    "\n",
    "3$.$ Образуем байтовую строку $\\;DB\\;$ (Data Block) длины $\\;k-hLen-1\\;$\n",
    "$$\n",
    "  DB:=LHash||PS||1||m.\n",
    "$$  \n",
    "\n",
    "4$.$  Генерируем случайную байтовую строку $\\;seed\\;$ длины $\\;hLen\\;$  байт.\n",
    "\n",
    "5$.$ Вычисляем маску\n",
    "$$\n",
    "  dbMask:=MGF(seed,k-hLen-1).\n",
    "$$\n",
    "6$.$ Прячем под маской переменную $\\;DB$\n",
    "$$\n",
    "   maskedDB:=DB\\oplus dbMask,\n",
    "$$  \n",
    "где $\\oplus$ -- XOR.\n",
    "            \n",
    "7$.$ Вычисляем маску\n",
    "$\\quad\n",
    "  seedMask:=MGF (maskedDB,hLen).\n",
    "$  \n",
    "8$.$ Прячем seed под маской   \n",
    "$$\n",
    "  maskedSeed:=seed\\oplus seedMask.\n",
    "$$\n",
    "9$.$ Выдаем результат $\\;EM:=0||maskedSeed||maskedDB.$"
   ]
  },
  {
   "cell_type": "code",
   "execution_count": 25,
   "id": "efe085e2",
   "metadata": {
    "slideshow": {
     "slide_type": "subslide"
    }
   },
   "outputs": [],
   "source": [
    "def byte_xor(b1, b2):\n",
    "    return bytes([a ^ b for a, b in zip(b1, b2)])\n",
    "\n",
    "def EncodeOAEP(k, m, L = b'', Hash = hashlib.sha256(), MaskHash = hashlib.sha256()):\n",
    "    Hash.update(L)\n",
    "    LHash = Hash.digest()\n",
    "    mLen = len(m)\n",
    "    hLen = Hash.digest_size\n",
    "    PS = (k - mLen - 2 * hLen - 2) * b'\\x00'\n",
    "    DB = LHash + PS + b'\\x01' + m\n",
    "    seed = os.urandom(hLen)\n",
    "    dbMask = MGF1(seed, k - hLen - 1, MaskHash)\n",
    "    maskedDB = byte_xor(DB, dbMask) \n",
    "    seedMask = MGF1(maskedDB, hLen, MaskHash)\n",
    "    maskedSeed = byte_xor(seed, seedMask)\n",
    "    return b'\\x00' + maskedSeed + maskedDB\n",
    "\n",
    "EM = EncodeOAEP(2048, b'Hello Bob!')"
   ]
  },
  {
   "cell_type": "markdown",
   "id": "279ac9cb",
   "metadata": {
    "slideshow": {
     "slide_type": "subslide"
    }
   },
   "source": [
    "## Методы дополнения в пакете RSA\n",
    "В пакете RSA реализован лишь 1 метод дополнения сообщения из стандарта PKCS"
   ]
  },
  {
   "cell_type": "code",
   "execution_count": 26,
   "id": "9fd4b7d6",
   "metadata": {
    "slideshow": {
     "slide_type": "-"
    }
   },
   "outputs": [
    {
     "name": "stdout",
     "output_type": "stream",
     "text": [
      "Help on function encrypt in module rsa.pkcs1:\n",
      "\n",
      "encrypt(message: bytes, pub_key: rsa.key.PublicKey) -> bytes\n",
      "    Encrypts the given message using PKCS#1 v1.5\n",
      "    \n",
      "    :param message: the message to encrypt. Must be a byte string no longer than\n",
      "        ``k-11`` bytes, where ``k`` is the number of bytes needed to encode\n",
      "        the ``n`` component of the public key.\n",
      "    :param pub_key: the :py:class:`rsa.PublicKey` to encrypt with.\n",
      "    :raise OverflowError: when the message is too large to fit in the padded\n",
      "        block.\n",
      "    \n",
      "    >>> from rsa import key, common\n",
      "    >>> (pub_key, priv_key) = key.newkeys(256)\n",
      "    >>> message = b'hello'\n",
      "    >>> crypto = encrypt(message, pub_key)\n",
      "    \n",
      "    The crypto text should be just as long as the public key 'n' component:\n",
      "    \n",
      "    >>> len(crypto) == common.byte_size(pub_key.n)\n",
      "    True\n",
      "\n"
     ]
    }
   ],
   "source": [
    "help(rsa.encrypt)"
   ]
  },
  {
   "cell_type": "markdown",
   "id": "6df57a2f",
   "metadata": {
    "slideshow": {
     "slide_type": "slide"
    }
   },
   "source": [
    "# 5. Пакет cryptography\n",
    "В пакете cryptography есть реализация стандарта PKCS c двумя способами дополнения:\n",
    "- PKCS#1 v1.5;\n",
    "- OAEP"
   ]
  },
  {
   "cell_type": "code",
   "execution_count": 27,
   "id": "873fc7ee",
   "metadata": {
    "slideshow": {
     "slide_type": "-"
    }
   },
   "outputs": [
    {
     "name": "stdout",
     "output_type": "stream",
     "text": [
      "e =  65537\n",
      "n =  120308445575934149764476393919601332921487584722439375790798406384939668897322716663870307490898720401601321271863809003443477948321926620438852582822318257978508898738889133058499628067502800242230627248829115433916893522631596211206312737162040503362943857934765668987989469497013008992035795171500658756773\n",
      "Модуль n состоит из  128  байт\n"
     ]
    }
   ],
   "source": [
    "import math\n",
    "from cryptography.hazmat.primitives.asymmetric import rsa as rsaHazMat\n",
    "\n",
    "private_key = rsaHazMat.generate_private_key(public_exponent=65537,key_size=1024)\n",
    "\n",
    "public_key = private_key.public_key()\n",
    "pn = public_key.public_numbers()\n",
    "e = pn.e\n",
    "n = pn.n\n",
    "print('e = ', e)\n",
    "print('n = ', n)\n",
    "k = Len(n)\n",
    "print('Модуль n состоит из  %d  байт' % k)"
   ]
  },
  {
   "cell_type": "markdown",
   "id": "a3964d38",
   "metadata": {
    "slideshow": {
     "slide_type": "subslide"
    }
   },
   "source": [
    "## Шифрование с применением дополнения PKCS\n",
    "Зашифруем открытый текст `message` при помощи нашей функции дополнения `EncodePKCS` и открытого ключа Боба"
   ]
  },
  {
   "cell_type": "code",
   "execution_count": 28,
   "id": "07a43e81",
   "metadata": {
    "slideshow": {
     "slide_type": "-"
    }
   },
   "outputs": [],
   "source": [
    "message = b\"Hello Bob!\"\n",
    "EM = EncodePKCS(message, k) \n",
    "m = OS2IP(EM)\n",
    "c = pow(m, e, n) \n",
    "CipherText = I2OSP(c, k)"
   ]
  },
  {
   "cell_type": "markdown",
   "id": "d474e4b5",
   "metadata": {
    "slideshow": {
     "slide_type": "-"
    }
   },
   "source": [
    "#### Боб расшифровывает сообщение при помощи метода `decrypt` класса `private_key` из пакета cryptography"
   ]
  },
  {
   "cell_type": "code",
   "execution_count": 29,
   "id": "6633c206",
   "metadata": {
    "slideshow": {
     "slide_type": "-"
    }
   },
   "outputs": [
    {
     "name": "stdout",
     "output_type": "stream",
     "text": [
      "b'Hello Bob!'\n"
     ]
    },
    {
     "data": {
      "text/plain": [
       "True"
      ]
     },
     "execution_count": 29,
     "metadata": {},
     "output_type": "execute_result"
    }
   ],
   "source": [
    "from cryptography.hazmat.primitives.asymmetric import padding\n",
    "plaintext = private_key.decrypt(\n",
    "    CipherText,\n",
    "    padding.PKCS1v15()\n",
    ")\n",
    "print(plaintext)\n",
    "plaintext == message"
   ]
  },
  {
   "cell_type": "markdown",
   "id": "dc94db8b",
   "metadata": {
    "slideshow": {
     "slide_type": "subslide"
    }
   },
   "source": [
    "## Шифрование с применением дополнения OAEP\n",
    "Зашифруем открытый текст `message` при помощи нашей функции дополнения `EncodeOAEP` и открытого ключа Боба"
   ]
  },
  {
   "cell_type": "code",
   "execution_count": 30,
   "id": "5e055d0b",
   "metadata": {
    "slideshow": {
     "slide_type": "-"
    }
   },
   "outputs": [
    {
     "data": {
      "text/plain": [
       "128"
      ]
     },
     "execution_count": 30,
     "metadata": {},
     "output_type": "execute_result"
    }
   ],
   "source": [
    "import hashlib\n",
    "Hash = hashlib.sha256()\n",
    "MaskHash = hashlib.sha1()\n",
    "message = b\"Hello  KM!\"\n",
    "L = b'seed'\n",
    "EM = EncodeOAEP(k, message, L, Hash, MaskHash)\n",
    "m = OS2IP(EM)\n",
    "c = encryption_E(m, (n, e))\n",
    "CipherText = I2OSP(c, k)\n",
    "len(CipherText)"
   ]
  },
  {
   "cell_type": "markdown",
   "id": "ae515b2a",
   "metadata": {
    "slideshow": {
     "slide_type": "subslide"
    }
   },
   "source": [
    "#### Боб расшифровывает сообщение при помощи пакета `cryptography`\n",
    "Для того чтобы пользоваться дополнением OAEP Бобу необходимо знать параметры дополнения:\n",
    "- Hash - функция хеширования, используемая в алгоритме OAEP;\n",
    "- MaskHash - функция хеширования, используемая в алгоритме OAEP;\n",
    "- Метку L.\n",
    "\n",
    "Отметим, что при дешифровании используются функции хеширования из модуля `hashes`, а при шифровании функции хеширования принадлежали пакету `hashlib`"
   ]
  },
  {
   "cell_type": "code",
   "execution_count": 31,
   "id": "ac8e39f2",
   "metadata": {
    "slideshow": {
     "slide_type": "-"
    }
   },
   "outputs": [
    {
     "name": "stdout",
     "output_type": "stream",
     "text": [
      "b'Hello  KM!'\n"
     ]
    },
    {
     "data": {
      "text/plain": [
       "True"
      ]
     },
     "execution_count": 31,
     "metadata": {},
     "output_type": "execute_result"
    }
   ],
   "source": [
    "from cryptography.hazmat.primitives.asymmetric import padding\n",
    "from cryptography.hazmat.primitives import hashes\n",
    "\n",
    "plaintext = private_key.decrypt(\n",
    "    CipherText,\n",
    "    padding.OAEP(\n",
    "        mgf=padding.MGF1(algorithm = hashes.SHA1()),\n",
    "        algorithm = hashes.SHA256(),\n",
    "        label=L\n",
    "    )\n",
    ")\n",
    "print(plaintext)\n",
    "plaintext == message"
   ]
  },
  {
   "cell_type": "markdown",
   "id": "6a9c04f9",
   "metadata": {
    "slideshow": {
     "slide_type": "subslide"
    }
   },
   "source": [
    "## Пакет `hashes`\n",
    "Вычислять дайджест можно и при помощи пакета `hashes`."
   ]
  },
  {
   "cell_type": "code",
   "execution_count": 32,
   "id": "01979660",
   "metadata": {
    "slideshow": {
     "slide_type": "-"
    }
   },
   "outputs": [
    {
     "name": "stdout",
     "output_type": "stream",
     "text": [
      "['__abstractmethods__', '__class__', '__delattr__', '__dict__', '__dir__', '__doc__', '__eq__', '__format__', '__ge__', '__getattribute__', '__gt__', '__hash__', '__init__', '__init_subclass__', '__le__', '__lt__', '__module__', '__ne__', '__new__', '__reduce__', '__reduce_ex__', '__repr__', '__setattr__', '__sizeof__', '__str__', '__subclasshook__', '__weakref__', '_abc_impl', 'algorithm', 'copy', 'finalize', 'update']\n"
     ]
    }
   ],
   "source": [
    "print(dir(hashes.Hash))"
   ]
  },
  {
   "cell_type": "code",
   "execution_count": 33,
   "id": "4b5fd6e8",
   "metadata": {
    "slideshow": {
     "slide_type": "-"
    }
   },
   "outputs": [
    {
     "name": "stdout",
     "output_type": "stream",
     "text": [
      "b'S.\\xaa\\xbd\\x95t\\x88\\r\\xbfv\\xb9\\xb8\\xcc\\x00\\x83, \\xa6\\xec\\x11=h\"\\x99U\\rzn\\x0f4^%'\n"
     ]
    },
    {
     "data": {
      "text/plain": [
       "True"
      ]
     },
     "execution_count": 33,
     "metadata": {},
     "output_type": "execute_result"
    }
   ],
   "source": [
    "h = hashes.Hash(hashes.SHA256())\n",
    "m = b'Test'\n",
    "h.update(m)\n",
    "digest = h.finalize()\n",
    "print(digest)\n",
    "hashlib.sha256(m).digest() == digest"
   ]
  },
  {
   "cell_type": "markdown",
   "id": "3fd18730",
   "metadata": {
    "slideshow": {
     "slide_type": "slide"
    }
   },
   "source": [
    "#  6. Декодирование сообщения методом OAEP\n",
    "\n",
    "![Для отображения картинки нужен интернет](https://drive.google.com/uc?export=view&id=1c0KMWiCd4p1i_uBMOW0hte_a4qIE9OEg)"
   ]
  },
  {
   "cell_type": "markdown",
   "id": "d5e41c09",
   "metadata": {
    "slideshow": {
     "slide_type": "subslide"
    }
   },
   "source": [
    "##  Дедирование сообщения методом OAEP\n",
    "**Decoding  RSAES-OAEP**  \n",
    "Options:  \n",
    "$\\qquad$ $Hash$ --  хеш-функция с длиной дайджеста $\\;hLen\\;$ байт;  \n",
    "$\\qquad$ $MGF$ -- функция генерации маски.\n",
    "\n",
    "Input:   \n",
    "$\\qquad k\\;$ -- количество байт в модуле $\\;n\\;$ шифра RSA.\n",
    "\n",
    "$\\qquad EM$ -- дополненное сообщение, состоящее из $\\;k\\;$ байт.\n",
    "\t\n",
    "$\\qquad L$ -- label, метка, строка байт.   \n",
    "$\\quad\\qquad$ Если $\\;L\\;$ не получена, то $L=\\{\\}.$\n",
    "\t\n",
    "Output:   \n",
    "$\\qquad$ $m$ --  сообщение."
   ]
  },
  {
   "cell_type": "markdown",
   "id": "d9b01ba9",
   "metadata": {
    "slideshow": {
     "slide_type": "subslide"
    }
   },
   "source": [
    "1$.$ Разделяем $\\;EM\\;$ на три переменные $\\;Y,\\;$  $\\;maskedSeed,\\;$ $\\;maskedDB\\;$ длин $\\;1, hLen, k-hLen-1,\\;$ соответственно\n",
    "$$  (Y, maskedSeed, maskedDB):=EM. $$\n",
    "\n",
    "2$.$ Снимая маску, находим росток\n",
    "$$\n",
    "seed:=maskedSeed\\oplus MGF(maskedDB,hLen).\n",
    "$$\n",
    "\n",
    "3$.$  Снимая маску, находим\n",
    "$$\n",
    "DB=maskedDB\\oplus MGF(seed,k-hLen-1).\n",
    "$$\n",
    "\n",
    "4$.$  Разделяем $\\;DB\\;$ на переменные $\\;LHash, PS, 1, m,\\;$ по правилу\n",
    "$$\n",
    "(LHash, PS, 1, m):=DB,\n",
    "$$\n",
    "$\\quad$ где $\\;LHash\\;$ длины $\\;hLen,\\;$\n",
    "\t\t\t\n",
    "$\\quad 1$ -- первая единица в $\\;DB,\\;$ начиная с позиции $\\;hLen,$ если такой единицы нет, то выдаем ошибку.\n",
    "\t\t\t\n",
    "5$.$ Если не выполнено хотя бы одно из условий:\n",
    "$$Y=0,\\quad LHash=Hash(L),\\quad  PS\\;\\; \\text{ состоит из нулей,}$$\n",
    "    то выдаем ошибку:  $\\;EM\\;$ не получено при помощи Encoding RSAES-OAEP.\n",
    "\t\t\t\n",
    "\t\t\t\n",
    "6$.$   Выдаем результат $\\;m.$"
   ]
  },
  {
   "cell_type": "code",
   "execution_count": 34,
   "id": "2c5d8d82",
   "metadata": {},
   "outputs": [],
   "source": [
    "def DecodeOAEP(k, EM: bytes, L: bytes = b'', Hash = hashlib.sha256(), MaskHash = hashlib.sha256()) -> str:\n",
    "    hLen = Hash.digest_size\n",
    "\n",
    "    Y, maskedSeed, maskedDB = EM[0], EM[1:hLen + 1], EM[hLen + 1:]\n",
    "\n",
    "    seed = byte_xor(maskedSeed, MGF1(maskedDB, hLen, MaskHash))\n",
    "    DB = byte_xor(maskedDB, MGF1(seed, k - hLen - 1, MaskHash))\n",
    "\n",
    "    LHash = DB[0:hLen]\n",
    "\n",
    "    PS = list()\n",
    "    counter = -1\n",
    "\n",
    "    for i in range(hLen, len(DB)):\n",
    "        if DB[i] == 1:\n",
    "            counter = i + 1\n",
    "            break\n",
    "        else:\n",
    "            PS.append(0)\n",
    "\n",
    "    if counter == -1:  # проверка на отсутствие 1 \n",
    "        return 'Error'\n",
    "\n",
    "    Hash.update(L)\n",
    "    HL = Hash.digest()\n",
    "    if Y != 0 or LHash != HL:\n",
    "        return 'Error'\n",
    "\n",
    "    for element in PS:\n",
    "        if element != 0:\n",
    "            return 'Error'\n",
    "        else:\n",
    "            continue\n",
    "\n",
    "    return DB[counter:]"
   ]
  },
  {
   "cell_type": "markdown",
   "id": "1755adeb",
   "metadata": {
    "slideshow": {
     "slide_type": "skip"
    }
   },
   "source": [
    "# 7. Реализация RSA, используя ООП"
   ]
  },
  {
   "cell_type": "markdown",
   "id": "f0b635fd",
   "metadata": {
    "slideshow": {
     "slide_type": "skip"
    }
   },
   "source": [
    "## <font color='red'>Задание 4.</font>\n",
    "Реализовать класс PublicKey с методами шифрования, использующими PKCS и OAEP. Объект класса PublicKey генерируется по открытой экспоненте `e` и модулю `n`."
   ]
  },
  {
   "cell_type": "code",
   "execution_count": 35,
   "id": "15acce8c",
   "metadata": {},
   "outputs": [],
   "source": [
    "class PublicKey:  \n",
    "    def __init__(self, ke: tuple):\n",
    "        self.ke = ke\n",
    "    \n",
    "    def encode_PKCS(self, message: bytes) -> bytes:\n",
    "        \n",
    "        \"\"\" encoding with method PKCS \"\"\"\n",
    "        \n",
    "        k = Len(self.ke[0])\n",
    "        \n",
    "        EM = EncodePKCS(message, k)\n",
    "        m = OS2IP(EM)\n",
    "        c = encryption_E(m, self.ke)\n",
    "        \n",
    "        return I2OSP(c, k)\n",
    "    \n",
    "    def encode_OAEP(self, message: bytes, L: bytes = b'', Hash = hashlib.sha256(), MaskHash = hashlib.sha256()) -> bytes:\n",
    "        \n",
    "        \"\"\" encoding with method OAEP \"\"\"\n",
    "        \n",
    "        k = Len(self.ke[0])\n",
    "        \n",
    "        EM = EncodeOAEP(k, message, L, Hash, MaskHash)\n",
    "        m = OS2IP(EM)\n",
    "        c = encryption_E(m, self.ke)\n",
    "        \n",
    "        return I2OSP(c, k)"
   ]
  },
  {
   "cell_type": "markdown",
   "id": "be748dee",
   "metadata": {
    "slideshow": {
     "slide_type": "skip"
    }
   },
   "source": [
    "## <font color='red'>Задание 5.</font>\n",
    "Реализовать класс PrivateKey с методами дешифрования, использующими PKCS и OAEP, с методом генерации открытого ключа в виде класса PublicKey. Дешифрование должно проходить при помощи Китайской теоремы об остатках. "
   ]
  },
  {
   "cell_type": "code",
   "execution_count": 36,
   "id": "2ad474b9",
   "metadata": {},
   "outputs": [],
   "source": [
    "class PrivateKey:\n",
    "    def __init__(self, kdCRT: tuple, kd: tuple):\n",
    "        self.kdCRT = kdCRT\n",
    "        self.kd = kd\n",
    "        \n",
    "    def decode_PKCS(self, cipher_text: bytes) -> str:\n",
    "        \n",
    "        \"\"\" decoding with method PKCS \"\"\"\n",
    "        \n",
    "        c = OS2IP(cipher_text)\n",
    "        m = DecryptCRT(c, self.kdCRT)\n",
    "        EM = I2OSP(m, len(cipher_text))\n",
    "        \n",
    "        return DecodePKCS(EM)\n",
    "    \n",
    "    def decode_OAEP(self, cipher_text: bytes, L: bytes = b'', Hash = hashlib.sha256(), MaskHash = hashlib.sha256()) -> str:\n",
    "        \n",
    "        \"\"\" decoding with method OAEP \"\"\"\n",
    "        \n",
    "        k = Len(self.kd[0])\n",
    "        \n",
    "        c = OS2IP(cipher_text)\n",
    "        m = DecryptCRT(c, self.kdCRT)\n",
    "        EM = I2OSP(m, len(cipher_text))\n",
    "        \n",
    "        return DecodeOAEP(k, EM, L, Hash, MaskHash)"
   ]
  },
  {
   "cell_type": "code",
   "execution_count": 37,
   "id": "34830240",
   "metadata": {},
   "outputs": [],
   "source": [
    "message = b'The sea and the sky are two symbols of infinity'\n",
    "\n",
    "keys = RSA_key_generation_CRT(1024)\n",
    "ke, kdCRT, kd = keys['k_e'], keys['k_d_CRT'], keys['k_d']"
   ]
  },
  {
   "cell_type": "code",
   "execution_count": 38,
   "id": "d9d45057",
   "metadata": {},
   "outputs": [
    {
     "data": {
      "text/plain": [
       "'The sea and the sky are two symbols of infinity'"
      ]
     },
     "execution_count": 38,
     "metadata": {},
     "output_type": "execute_result"
    }
   ],
   "source": [
    "public_key = PublicKey(ke)\n",
    "private_key = PrivateKey(kdCRT, kd)\n",
    "\n",
    "a = public_key.encode_PKCS(message)\n",
    "private_key.decode_PKCS(a)"
   ]
  },
  {
   "cell_type": "code",
   "execution_count": 39,
   "id": "997e5a4e",
   "metadata": {},
   "outputs": [
    {
     "data": {
      "text/plain": [
       "b'The sea and the sky are two symbols of infinity'"
      ]
     },
     "execution_count": 39,
     "metadata": {},
     "output_type": "execute_result"
    }
   ],
   "source": [
    "b = public_key.encode_OAEP(message)\n",
    "private_key.decode_OAEP(b)"
   ]
  },
  {
   "cell_type": "markdown",
   "id": "9ca853ca",
   "metadata": {},
   "source": [
    "Шифрование чисел, кодировка текста."
   ]
  }
 ],
 "metadata": {
  "celltoolbar": "Необработанный формат ячейки",
  "kernelspec": {
   "display_name": "Python 3 (ipykernel)",
   "language": "python",
   "name": "python3"
  },
  "language_info": {
   "codemirror_mode": {
    "name": "ipython",
    "version": 3
   },
   "file_extension": ".py",
   "mimetype": "text/x-python",
   "name": "python",
   "nbconvert_exporter": "python",
   "pygments_lexer": "ipython3",
   "version": "3.9.7"
  }
 },
 "nbformat": 4,
 "nbformat_minor": 5
}
